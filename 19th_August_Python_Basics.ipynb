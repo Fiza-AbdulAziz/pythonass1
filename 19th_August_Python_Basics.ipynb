{
 "cells": [
  {
   "cell_type": "code",
   "execution_count": null,
   "id": "23ed64aa-faea-47c1-98d8-6333b6a5a7e4",
   "metadata": {},
   "outputs": [],
   "source": [
    "TOPIC: Python Basics Variable\n",
    "1. Declare two variables, `x` and `y`, and assign them integer values. Swap the\n",
    "values of these variables without using any temporary variable.\n",
    "2. Create a program that calculates the area of a rectangle. Take the length and\n",
    "width as inputs from the user and store them in variables. Calculate and\n",
    "display the area.\n",
    "3. Write a Python program that converts temperatures from Celsius to\n",
    "Fahrenheit. Take the temperature in Celsius as input, store it in a variable,\n",
    "convert it to Fahrenheit, and display the result."
   ]
  },
  {
   "cell_type": "raw",
   "id": "2339d73f-bd9e-4009-b36d-3246c9b01bdb",
   "metadata": {},
   "source": [
    "1. Declare two variables, `x` and `y`, and assign them integer values. Swap the\n",
    "values of these variables without using any temporary variable.\n"
   ]
  },
  {
   "cell_type": "code",
   "execution_count": 41,
   "id": "475a4e4c-885b-48ab-83c3-fe9d53eda395",
   "metadata": {},
   "outputs": [
    {
     "name": "stdout",
     "output_type": "stream",
     "text": [
      "7\n",
      "2\n"
     ]
    }
   ],
   "source": [
    "x=2 #Declare and assign 1st integer variable\n",
    "y=7 #Declare and assign  2st variable integer\n",
    "x,y = y,x  #swap\n",
    "print(x)\n",
    "print(y)"
   ]
  },
  {
   "cell_type": "code",
   "execution_count": null,
   "id": "870a7600-97d5-4269-bb67-1706d8f7c4bc",
   "metadata": {},
   "outputs": [],
   "source": [
    "2.Create a program that calculates the area of a rectangle. Take the length and\n",
    "width as inputs from the user and store them in variables. Calculate and\n",
    "display the area."
   ]
  },
  {
   "cell_type": "code",
   "execution_count": 44,
   "id": "a0f25fc7-59bf-4fcf-b111-a4eb3ca10c28",
   "metadata": {},
   "outputs": [
    {
     "name": "stdin",
     "output_type": "stream",
     "text": [
      "Enter the length of rectangle= 6\n",
      "width of rec= 5\n"
     ]
    },
    {
     "name": "stdout",
     "output_type": "stream",
     "text": [
      "The area of rectangle is 30\n"
     ]
    }
   ],
   "source": [
    "#take the length and width from user\n",
    "length = int(input(\"Enter the length of rectangle=\"))\n",
    "width = int(input(\"width of rec=\"))\n",
    "area=length*width #area_of_rectangle = length * width\n",
    "print(\"The area of rectangle is\",area)"
   ]
  },
  {
   "cell_type": "raw",
   "id": "590dd5c9-55d5-4379-a481-13dc5ca2ba4c",
   "metadata": {},
   "source": [
    "3.Write a Python program that converts temperatures from Celsius to\n",
    "Fahrenheit. Take the temperature in Celsius as input, store it in a variable,\n",
    "convert it to Fahrenheit, and display the result.\n",
    "\n",
    "F = °C × (9/5) + 32."
   ]
  },
  {
   "cell_type": "code",
   "execution_count": 12,
   "id": "63498ee2-7fe4-4421-aa0b-6174b3973861",
   "metadata": {},
   "outputs": [
    {
     "name": "stdin",
     "output_type": "stream",
     "text": [
      " 100\n"
     ]
    }
   ],
   "source": [
    "temp_celsius = float(input())"
   ]
  },
  {
   "cell_type": "code",
   "execution_count": 13,
   "id": "55edb6b5-3a3c-4ec0-a2cc-6871db975f1e",
   "metadata": {},
   "outputs": [],
   "source": [
    "temp=temp_celsius"
   ]
  },
  {
   "cell_type": "code",
   "execution_count": 15,
   "id": "ab1bf075-b6be-48da-80a8-6906bf161566",
   "metadata": {},
   "outputs": [],
   "source": [
    "\"\"\"to convert temperatures from Celsius to Fahrenheit\n",
    "F = °C × (9/5) + 32.\"\"\"\n",
    "Fahrenheit =temp *(9/5) + 32"
   ]
  },
  {
   "cell_type": "code",
   "execution_count": 16,
   "id": "12f4fae2-c7d7-4c16-bb4c-6d670791b9a2",
   "metadata": {},
   "outputs": [],
   "source": [
    "result=Fahrenheit"
   ]
  },
  {
   "cell_type": "code",
   "execution_count": 17,
   "id": "3adc4054-1e54-437e-a897-30c49ae9f5cf",
   "metadata": {},
   "outputs": [
    {
     "name": "stdout",
     "output_type": "stream",
     "text": [
      "Display the result 212.0\n"
     ]
    }
   ],
   "source": [
    "print(\"Display the result\",result)"
   ]
  },
  {
   "cell_type": "code",
   "execution_count": null,
   "id": "da9e1498-1774-4bad-8fd4-671b799847a2",
   "metadata": {},
   "outputs": [],
   "source": [
    "TOPIC: String Based Questions\n",
    "1. Write a Python program that takes a string as input and prints the length of\n",
    "the string.\n",
    "2. Create a program that takes a sentence from the user and counts the number\n",
    "of vowels (a, e, i, o, u) in the string.\n",
    "3. Given a string, reverse the order of characters using string slicing and print\n",
    "the reversed string.\n",
    "4. Write a program that takes a string as input and checks if it is a palindrome\n",
    "(reads the same forwards and backwards).\n",
    "5. Create a program that takes a string as input and removes all the spaces from\n",
    "it. Print the modified string without spaces."
   ]
  },
  {
   "cell_type": "code",
   "execution_count": null,
   "id": "0b722c7f-6f5f-4d7c-ac2c-8e8e4aabdbdc",
   "metadata": {},
   "outputs": [],
   "source": [
    "1. Write a Python program that takes a string as input and prints the length of\n",
    "the string."
   ]
  },
  {
   "cell_type": "code",
   "execution_count": 10,
   "id": "79931095-423e-42b6-8dc7-7f05c95255f0",
   "metadata": {},
   "outputs": [
    {
     "name": "stdin",
     "output_type": "stream",
     "text": [
      " ILOVEMYINDIA\n"
     ]
    },
    {
     "name": "stdout",
     "output_type": "stream",
     "text": [
      "12\n"
     ]
    }
   ],
   "source": [
    "#take input string from user\n",
    "s1=input() \n",
    "#to get length of string len() is used\n",
    "# prints the length of the string.\n",
    "print(len(s1))"
   ]
  },
  {
   "cell_type": "raw",
   "id": "c781fd51-4816-4fcb-9a34-0726a053371c",
   "metadata": {},
   "source": [
    "2. Create a program that takes a sentence from the user and counts the number\n",
    "of vowels (a, e, i, o, u) in the string."
   ]
  },
  {
   "cell_type": "code",
   "execution_count": 9,
   "id": "34417201-d448-4493-b127-13abc4426950",
   "metadata": {},
   "outputs": [
    {
     "name": "stdin",
     "output_type": "stream",
     "text": [
      "Enter the sentences: good morning eveyone!\n"
     ]
    },
    {
     "name": "stdout",
     "output_type": "stream",
     "text": [
      "the number of vowels 8\n"
     ]
    }
   ],
   "source": [
    "#take input string from user\n",
    "sen=input(\"Enter the sentences:\") \n",
    "\n",
    "count=0                           #initalize the count to zero\n",
    "for i in sen:                     #run loop to check string is having vowel or not using in \n",
    "if (i == \"a\" or i == \"e\" or i== \"i\" or i == \"o\" or i == \"u\"):\n",
    "    count =count +1  #if vowel is presnt increase the count \n",
    "\n",
    "        \n",
    "print(\"the number of vowels\",count)"
   ]
  },
  {
   "cell_type": "raw",
   "id": "62300a1f-ba7f-491f-bc55-a5b9ea2d9031",
   "metadata": {},
   "source": [
    "3.Given a string, reverse the order of characters using string slicing and print\n",
    "the reversed string."
   ]
  },
  {
   "cell_type": "code",
   "execution_count": 24,
   "id": "783a0e8d-639c-4974-a714-011131e3b9ff",
   "metadata": {},
   "outputs": [
    {
     "name": "stdout",
     "output_type": "stream",
     "text": [
      "tnegilletnI\n",
      ".sdneirF !olleH\n"
     ]
    },
    {
     "name": "stdin",
     "output_type": "stream",
     "text": [
      " pizza\n"
     ]
    },
    {
     "name": "stdout",
     "output_type": "stream",
     "text": [
      "azzip\n"
     ]
    }
   ],
   "source": [
    "str = \"Intelligent\"  #given string\n",
    "print(str[-1:-13:-1]) \n",
    "str1=\"Hello! Friends.\" \n",
    "print(str1[-1:-16:-1])\n",
    "stri=input()  #input string taken from user\n",
    "print(stri[::-1])"
   ]
  },
  {
   "cell_type": "raw",
   "id": "147a3307-8d32-4e86-a0ac-86ba13f6f936",
   "metadata": {},
   "source": [
    " 4.Write a program that takes a string as input and checks if it is a palindrome\n",
    "(reads the same forwards and backwards)."
   ]
  },
  {
   "cell_type": "code",
   "execution_count": 25,
   "id": "4b749cfb-9c17-48d3-b5a3-e21d3cccd1de",
   "metadata": {},
   "outputs": [
    {
     "name": "stdin",
     "output_type": "stream",
     "text": [
      " kkkksadffdaskkkk\n"
     ]
    },
    {
     "name": "stdout",
     "output_type": "stream",
     "text": [
      "yes\n"
     ]
    }
   ],
   "source": [
    "string=input()\n",
    "def isPalindrome(string):    \n",
    "    return string == string[::-1]\n",
    "\n",
    "check =isPalindrome(string)\n",
    "if check:\n",
    "    print(\"yes\")\n",
    "else:\n",
    "    print(\"no\")\n"
   ]
  },
  {
   "cell_type": "raw",
   "id": "64dce6a1-9105-43c4-9bb0-f4a01ed73fcb",
   "metadata": {},
   "source": [
    "5. Create a program that takes a string as input and removes all the spaces from\n",
    "it. Print the modified string without spaces."
   ]
  },
  {
   "cell_type": "code",
   "execution_count": 38,
   "id": "a8906f49-01b3-4ef4-b2ec-47b3a4a2c2c6",
   "metadata": {},
   "outputs": [
    {
     "name": "stdin",
     "output_type": "stream",
     "text": [
      "Enter the input string: \"J O KE OF  THE DA Y\"\n"
     ]
    },
    {
     "name": "stdout",
     "output_type": "stream",
     "text": [
      "\"JOKEOFTHEDAY\"\n"
     ]
    }
   ],
   "source": [
    "#input from user\n",
    "string=input(\"Enter the input string:\")\n",
    "#removes all the spaces from it we use the replace()  \n",
    "print(string.replace(\" \",\"\"))\n",
    "\n",
    "\n"
   ]
  },
  {
   "cell_type": "code",
   "execution_count": 40,
   "id": "c15d4bfb-d3d9-4620-9745-855e4c9ba6a6",
   "metadata": {},
   "outputs": [
    {
     "name": "stdin",
     "output_type": "stream",
     "text": [
      "Enter the input string: \"this is a book\"\n"
     ]
    },
    {
     "name": "stdout",
     "output_type": "stream",
     "text": [
      "\"this is a book\"\n"
     ]
    }
   ],
   "source": [
    "s=input(\"Enter the input string:\")\n",
    "print(s.strip() )#to remove leading and trailing space"
   ]
  }
 ],
 "metadata": {
  "kernelspec": {
   "display_name": "Python 3 (ipykernel)",
   "language": "python",
   "name": "python3"
  },
  "language_info": {
   "codemirror_mode": {
    "name": "ipython",
    "version": 3
   },
   "file_extension": ".py",
   "mimetype": "text/x-python",
   "name": "python",
   "nbconvert_exporter": "python",
   "pygments_lexer": "ipython3",
   "version": "3.10.8"
  }
 },
 "nbformat": 4,
 "nbformat_minor": 5
}
