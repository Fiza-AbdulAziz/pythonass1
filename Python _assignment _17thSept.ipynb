{
 "cells": [
  {
   "cell_type": "markdown",
   "id": "75a266b0-a710-438c-bc85-ffbcdf3febce",
   "metadata": {},
   "source": [
    "Python assignment 17th Sept FSDS Pro"
   ]
  },
  {
   "cell_type": "raw",
   "id": "f15c4f33-bfda-4b88-95bb-9b178f215336",
   "metadata": {},
   "source": [
    "For Loop :-\n",
    "\n",
    "1.Write a Python program to print numbers from 1 to 10 using a for loop.\n",
    "2.Explain the difference between a for loop and a while loop in Python.\n",
    "3.Write a Python program to calculate the sum of all numbers from 1 to 100 using a for loop.\n",
    "4.How do you iterate through a list using a for loop in Python?\n",
    "5.Write a Python program to find the product of all elements in a list using a for loop.\n",
    "6.Create a Python program that prints all even numbers from 1 to 20 using a for loop.\n",
    "7.Write a Python program that calculates the factorial of a number using a for loop.\n",
    "8.How can you iterate through the characters of a string using a for loop in Python?\n",
    "9.Write a Python program to find the largest number in a list using a for loop.\n",
    "10.Create a Python program that prints the Fibonacci sequence up to a specified limit using a for loop.\n",
    "11.Write a Python program to count the number of vowels in a given string using a for loop.\n",
    "12.Create a Python program that generates a multiplication table for a given number using a for loop.\n",
    "13.Write a Python program to reverse a list using a for loop.\n",
    "14.Write a Python program to find the common elements between two lists using a for loop.\n",
    "15.Explain how to use a for loop to iterate through the keys and values of a dictionary in Python.\n",
    "16.Write a Python program to find the GCD (Greatest Common Divisor) of two numbers using a for loop.\n",
    "17.Create a Python program that checks if a string is a palindrome using a for loop.\n",
    "18.Write a Python program to remove duplicates from a list using a for loop.\n",
    "19.Create a Python program that counts the number of words in a sentence using a for loop.\n",
    "20.Write a Python program to find the sum of all odd numbers from 1 to 50 using a for loop.\n",
    "21.Write a Python program that checks if a given year is a leap year using a for loop.\n",
    "22.Create a Python program that calculates the square root of a number using a for loop.\n",
    "23.Write a Python program to find the LCM (Least Common Multiple) of two numbers using a for loop.\n"
   ]
  },
  {
   "cell_type": "code",
   "execution_count": 1,
   "id": "931a8747-33f8-4be6-9fdc-34e70e2ff622",
   "metadata": {},
   "outputs": [
    {
     "name": "stdout",
     "output_type": "stream",
     "text": [
      "PRINTING \n",
      "'The number from 1 to 10:'\n",
      "1\n",
      "2\n",
      "3\n",
      "4\n",
      "5\n",
      "6\n",
      "7\n",
      "8\n",
      "9\n",
      "10\n"
     ]
    }
   ],
   "source": [
    "#1.Write a Python program to print numbers from 1 to 10 using a for loop.\n",
    "def print_num():\n",
    "    for i in range(1,11):\n",
    "        print(i)\n",
    "#driver code:\n",
    "print(\"PRINTING \\n'The number from 1 to 10:'\")\n",
    "print_num()"
   ]
  },
  {
   "cell_type": "raw",
   "id": "a3e43d19-4419-46a0-9b56-8397e256fd49",
   "metadata": {},
   "source": [
    "2.Explain the difference between a for loop and a while loop in Python.\n",
    "\n",
    "In Python, both for and while loops are control flow structures that allow you to execute a block of code repeatedly(i.e is used to execute the statements repeatedly while the program runs)\n",
    "\n",
    "In Python, a ‘for loop‘ is used to iterate over a sequence of items, such as a Python tuple, list, string, or range. The loop will execute a block of statements for each item in the sequence.\n",
    "ex:\n",
    "gifts= [\"watch\", \"chocolate\", \"toy\"]\n",
    "for x in gifts:\n",
    "  print(x)\n",
    "op:\n",
    "watch\n",
    "chocolate \n",
    "toy\n",
    "\n",
    "In Python, a while loop is used to repeatedly execute a block of statements while a condition is true. The loop will continue to run as long as the condition remains true.\n",
    "ex:\n",
    "i = 1\n",
    "while i < 6:\n",
    "  print(i)\n",
    "  i += 1\n",
    "\n",
    "op:\n",
    "1\n",
    "2\n",
    "3\n",
    "4 \n",
    "5\n",
    "\n",
    "The major difference between for loop and the while loop is that for loop is used when the number of iterations is known, whereas execution is done in the while loop until the statement/condition in the program is proved wrong.\n",
    "for loops terminate when the sequence has been exhausted. The loop runs as long as there are items in the sequence.\n",
    "while loops terminate when the specified condition becomes false. The loop runs until the condition is no longer true."
   ]
  },
  {
   "cell_type": "code",
   "execution_count": 2,
   "id": "8b74da19-738c-485c-a93c-aa1cca4981f9",
   "metadata": {},
   "outputs": [
    {
     "name": "stdout",
     "output_type": "stream",
     "text": [
      "Sum of all numbers from 1 to 100 is : 5050\n"
     ]
    }
   ],
   "source": [
    "#3.Write a Python program to calculate the sum of all numbers from 1 to 100 using a for loop.\n",
    "def sum_all_num():\n",
    "    start = 1\n",
    "    end = 100\n",
    "    sum = 0\n",
    "    for i in range(start,end+1):\n",
    "            sum = sum + i\n",
    "    return sum\n",
    "\n",
    "result = sum_all_num()\n",
    "print(\"Sum of all numbers from 1 to 100 is :\",result)\n",
    "\n",
    "n=100\n",
    "res=(lambda a,b:a+b,range(1,n+1))"
   ]
  },
  {
   "cell_type": "code",
   "execution_count": 3,
   "id": "c7e023f3-6f84-454d-9756-c3105ac216fc",
   "metadata": {},
   "outputs": [
    {
     "name": "stdout",
     "output_type": "stream",
     "text": [
      "5050\n"
     ]
    }
   ],
   "source": [
    "n=100\n",
    "from functools import reduce\n",
    "res=reduce(lambda a,b:a+b,range(1,n+1))\n",
    "print(res)"
   ]
  },
  {
   "cell_type": "code",
   "execution_count": 4,
   "id": "95ac826a-e5a0-4e0c-a2f0-dc91a77f3744",
   "metadata": {},
   "outputs": [
    {
     "name": "stdout",
     "output_type": "stream",
     "text": [
      "1\n",
      "2\n",
      "3\n",
      "4\n",
      "5\n",
      "mall\n",
      "fish\n",
      "basket\n",
      "8.04\n"
     ]
    }
   ],
   "source": [
    "#4.How do you iterate through a list using a for loop in Python?\n",
    "list = [1,2,3,4,5,\"mall\",\"fish\",\"basket\",8.04]\n",
    "for i in list:\n",
    "    print(i)"
   ]
  },
  {
   "cell_type": "code",
   "execution_count": 5,
   "id": "9b1411f4-6c62-4dbd-b857-e9b5c99a25e4",
   "metadata": {},
   "outputs": [
    {
     "name": "stdout",
     "output_type": "stream",
     "text": [
      "The product of all elements in a list :[1, 2, 4, 5, 6, 7, 8] is  13440\n"
     ]
    }
   ],
   "source": [
    "#5.Write a Python program to find the product of all elements in a list using a for loop\n",
    "def cal_product(list):\n",
    "    product = 1\n",
    "    for i in list:\n",
    "        product *= i\n",
    "    return product\n",
    "l1 = [1,2,4,5,6,7,8]\n",
    "result = cal_product(l1)\n",
    "print(f\"The product of all elements in a list :{l1} is \",result)\n",
    "        "
   ]
  },
  {
   "cell_type": "code",
   "execution_count": 6,
   "id": "a0044bff-1821-49d2-91d8-c02bc3e1f3b5",
   "metadata": {},
   "outputs": [
    {
     "name": "stdout",
     "output_type": "stream",
     "text": [
      "All even numbers from 1 to 20 are : [2, 4, 6, 8, 10, 12, 14, 16, 18, 20]\n",
      "2\n",
      "4\n",
      "6\n",
      "8\n",
      "10\n",
      "12\n",
      "14\n",
      "16\n",
      "18\n",
      "20\n",
      "All even numbers from 1 to 20 are : None\n"
     ]
    }
   ],
   "source": [
    "#6.Create a Python program that prints all even numbers from 1 to 20 using a for loop.\n",
    "def even_number():\n",
    "    even_num=[]\n",
    "    for i in range(1,21):\n",
    "        if i % 2 == 0:\n",
    "            even_num.append(i)    #without even_num just use print(i)\n",
    "    return even_num\n",
    "\n",
    "result=even_number()\n",
    "print(\"All even numbers from 1 to 20 are :\",result)\n",
    "\n",
    "#another way\n",
    "def even():\n",
    "    for i in range(1,21):\n",
    "        if i % 2 == 0:\n",
    "            print(i)\n",
    "res = even()\n",
    "print(\"All even numbers from 1 to 20 are :\",res)"
   ]
  },
  {
   "cell_type": "code",
   "execution_count": 7,
   "id": "3195c9ed-543e-464c-8f93-8e11f227e512",
   "metadata": {},
   "outputs": [
    {
     "name": "stdout",
     "output_type": "stream",
     "text": [
      "The factorial of 5 is :120\n"
     ]
    }
   ],
   "source": [
    "#7.Write a Python program that calculates the factorial of a number using a for loop.\n",
    "def factorial(num):\n",
    "    if num == 0 or num == 1:\n",
    "            return 1\n",
    "    else:\n",
    "        fact = 1\n",
    "        for i in  range(1,num+1):\n",
    "            fact *= i\n",
    "        return fact\n",
    "\n",
    "number=5\n",
    "\n",
    "if number >=0:\n",
    "    result=factorial(number)\n",
    "    print(f\"The factorial of {number} is :{result}\")\n",
    "else:\n",
    "    print(\"Enter the positive numbers\")\n",
    "\n"
   ]
  },
  {
   "cell_type": "code",
   "execution_count": 8,
   "id": "7a0b123c-a6e6-4315-b386-ca696a110068",
   "metadata": {},
   "outputs": [
    {
     "data": {
      "text/plain": [
       "720"
      ]
     },
     "execution_count": 8,
     "metadata": {},
     "output_type": "execute_result"
    }
   ],
   "source": [
    "def fact(n):\n",
    "    if n==0 or n==1:\n",
    "        return 1\n",
    "    else:\n",
    "        return n*fact(n-1)\n",
    "fact(6) #6*5*4*3*2*1==>\n"
   ]
  },
  {
   "cell_type": "code",
   "execution_count": 9,
   "id": "c859e3e6-bb7f-47df-bdae-9f928b663564",
   "metadata": {},
   "outputs": [
    {
     "name": "stdout",
     "output_type": "stream",
     "text": [
      "this is a jupter note book n\n",
      "o\n",
      "t\n",
      "e\n",
      "b\n",
      "o\n",
      "o\n",
      "k\n"
     ]
    }
   ],
   "source": [
    "#8.How can you iterate through the characters of a string using a for loop in Python?\n",
    "string=\"this is a jupter note book \"\n",
    "for i in string:\n",
    "    print(i,end=\"\")\n",
    "\n",
    "for i in \"notebook\":\n",
    "    print(i)"
   ]
  },
  {
   "cell_type": "code",
   "execution_count": 10,
   "id": "94353cf5-2caf-4ebc-95c9-fd0444b163df",
   "metadata": {},
   "outputs": [
    {
     "name": "stdin",
     "output_type": "stream",
     "text": [
      "How many items in list? 5\n",
      "Enter the items in list 6\n",
      "Enter the items in list 13\n",
      "Enter the items in list 45\n",
      "Enter the items in list 2\n",
      "Enter the items in list 45\n"
     ]
    },
    {
     "name": "stdout",
     "output_type": "stream",
     "text": [
      "45\n"
     ]
    }
   ],
   "source": [
    "#9.Write a Python program to find the largest number in a list using a for loop.\n",
    "num_item = int(input(\"How many items in list?\"))\n",
    "list = []\n",
    "for items in range(num_item):\n",
    "    item = int(input(\"Enter the items in list\"))\n",
    "    list.append(item)\n",
    "    \n",
    "largest_number=0\n",
    "\n",
    "for number in list:\n",
    "    if number > largest_number:  #can use max() function as well larger_number=max(list)\n",
    "        largest_number = number\n",
    "print(largest_number)"
   ]
  },
  {
   "cell_type": "code",
   "execution_count": 11,
   "id": "c1f84c33-64c2-4779-ba71-905698cf9e61",
   "metadata": {},
   "outputs": [
    {
     "name": "stdin",
     "output_type": "stream",
     "text": [
      "Enter the number 5\n"
     ]
    },
    {
     "name": "stdout",
     "output_type": "stream",
     "text": [
      "The Fibonacci sequence of 5 is: 5\n"
     ]
    }
   ],
   "source": [
    "#10.Create a Python program that prints the Fibonacci sequence up to a specified limit using a for loop.\n",
    "def fibonacci(num):\n",
    "    a,b=0,1\n",
    "    for _ in range(1,num):\n",
    "        a,b=b,a+b\n",
    "    return b\n",
    "number=int(input(\"Enter the number\"))\n",
    "\n",
    "if number >=0:\n",
    "    result=fibonacci(number)\n",
    "    print(f\"The Fibonacci sequence of {number} is: {result}\")\n",
    "else:\n",
    "    print(\"The positive number\") "
   ]
  },
  {
   "cell_type": "code",
   "execution_count": 12,
   "id": "ff8cd2b9-127e-452c-9233-5aaaec17c117",
   "metadata": {},
   "outputs": [
    {
     "data": {
      "text/plain": [
       "21"
      ]
     },
     "execution_count": 12,
     "metadata": {},
     "output_type": "execute_result"
    }
   ],
   "source": [
    "def fibonacci(n):\n",
    "    if n==1:\n",
    "        return 1\n",
    "    else:\n",
    "        return n+fibonacci(n-1)\n",
    "fibonacci(6)"
   ]
  },
  {
   "cell_type": "code",
   "execution_count": 13,
   "id": "c7c321c0-db7b-47b8-841b-112d5c1abcc2",
   "metadata": {},
   "outputs": [
    {
     "name": "stdin",
     "output_type": "stream",
     "text": [
      "Enter the input string : liquid\n"
     ]
    },
    {
     "name": "stdout",
     "output_type": "stream",
     "text": [
      "Count the number of vowels in a given string is 3\n"
     ]
    }
   ],
   "source": [
    "#11.Write a Python program to count the number of vowels in a given string using a for loop.\n",
    "def no_of_vowels(string):\n",
    "    count = 0\n",
    "    for vowel in string.lower():\n",
    "        if (vowel == \"a\" or vowel == \"e\" or vowel == \"i\" or vowel == \"o\" or vowel == \"u\"):\n",
    "            count += 1\n",
    "    return count\n",
    "\n",
    "\n",
    "\n",
    "str=input(\"Enter the input string :\")\n",
    "res=no_of_vowels(str)\n",
    "print(\"Count the number of vowels in a given string is\",res)"
   ]
  },
  {
   "cell_type": "code",
   "execution_count": 14,
   "id": "a26c5a07-fa19-45ad-8bfc-4a1c9745f8f2",
   "metadata": {},
   "outputs": [
    {
     "name": "stdin",
     "output_type": "stream",
     "text": [
      "Enter the number 13\n"
     ]
    },
    {
     "name": "stdout",
     "output_type": "stream",
     "text": [
      "13 * 1 = 13\n",
      "13 * 2 = 26\n",
      "13 * 3 = 39\n",
      "13 * 4 = 52\n",
      "13 * 5 = 65\n",
      "13 * 6 = 78\n",
      "13 * 7 = 91\n",
      "13 * 8 = 104\n",
      "13 * 9 = 117\n",
      "13 * 10 = 130\n",
      "The multiplication table for a given number 13 = [13, 26, 39, 52, 65, 78, 91, 104, 117, 130]\n"
     ]
    }
   ],
   "source": [
    "# 12.Create a Python program that generates a multiplication table for a given number using a for loop.\n",
    "def multiplication(num):\n",
    "    table=[]\n",
    "    for j in range(1,11):\n",
    "        result=num*j\n",
    "        table.append(result)\n",
    "        print(f\"{num} * {j} = {result}\")\n",
    "    return table\n",
    "\n",
    "number=int(input(\"Enter the number\"))\n",
    "res=multiplication(number)\n",
    "print(f\"The multiplication table for a given number {number} = {res}\") "
   ]
  },
  {
   "cell_type": "code",
   "execution_count": 15,
   "id": "1eec6bca-8fe7-4e73-9153-520c4c461568",
   "metadata": {},
   "outputs": [
    {
     "name": "stdin",
     "output_type": "stream",
     "text": [
      "How many item to be enterd in list? 5\n",
      "Enter the items of list \"lamp\"\n",
      "Enter the items of list \"kite\"\n",
      "Enter the items of list 'rope'\n",
      "Enter the items of list 12\n",
      "Enter the items of list 48\n"
     ]
    },
    {
     "name": "stdout",
     "output_type": "stream",
     "text": [
      "reverse a list ['48', '12', \"'rope'\", '\"kite\"', '\"lamp\"']\n"
     ]
    }
   ],
   "source": [
    "#13.Write a Python program to reverse a list using a for loop.\n",
    "def reversed_List():\n",
    "    num = int(input(\"How many item to be enterd in list?\"))\n",
    "    list = []\n",
    "    reverse=[]\n",
    "    for items in range(num):\n",
    "        item = input(\"Enter the items of list\")\n",
    "        list.append(item)\n",
    "        \n",
    "    for item in list:\n",
    "        reverse.insert(0, item)\n",
    "    return reverse\n",
    "\n",
    "res = reversed_List()\n",
    "print(\"reverse a list\",res)"
   ]
  },
  {
   "cell_type": "code",
   "execution_count": 16,
   "id": "1a66ae14-c8a2-451b-a9ba-15334c2e06be",
   "metadata": {},
   "outputs": [
    {
     "name": "stdin",
     "output_type": "stream",
     "text": [
      "How many item to be enterd in list? 5\n",
      "Enter the items of list 12\n",
      "Enter the items of list 15\n",
      "Enter the items of list 18\n",
      "Enter the items of list 4\n",
      "Enter the items of list 33\n"
     ]
    },
    {
     "name": "stdout",
     "output_type": "stream",
     "text": [
      "['12', '15', '18', '4', '33']\n"
     ]
    },
    {
     "name": "stdin",
     "output_type": "stream",
     "text": [
      "How many item to be enterd in list? 4\n",
      "Enter the items of list 121\n",
      "Enter the items of list 1\n",
      "Enter the items of list 15\n",
      "Enter the items of list 8\n"
     ]
    },
    {
     "name": "stdout",
     "output_type": "stream",
     "text": [
      "['121', '1', '15', '8']\n",
      "Common elements between two lists  ['15']\n"
     ]
    }
   ],
   "source": [
    "#14.Write a Python program to find the common elements between two lists using a for loop.\n",
    "def common_elemnt(list,list1):\n",
    "    common=[]\n",
    "    for item in list:\n",
    "        if item in list1:\n",
    "            common.append(item)\n",
    "    return common\n",
    "            \n",
    "        \n",
    "\n",
    "num = int(input(\"How many item to be enterd in list?\"))\n",
    "list = []\n",
    "    \n",
    "for items in range(num):\n",
    "    item = input(\"Enter the items of list\")\n",
    "    list.append(item)\n",
    "print(list)\n",
    "\n",
    "numb = int(input(\"How many item to be enterd in list?\"))\n",
    "list1 = []\n",
    "for _ in range(numb):\n",
    "    item_n = input(\"Enter the items of list\")\n",
    "    list1.append(item_n)\n",
    "print(list1)\n",
    "\n",
    "\n",
    "result=common_elemnt(list,list1)\n",
    "print(\"Common elements between two lists \",result)\n",
    "        \n",
    "        \n",
    "        "
   ]
  },
  {
   "cell_type": "code",
   "execution_count": 17,
   "id": "37bd8da1-7501-40bf-9d6d-0bd348a8e718",
   "metadata": {},
   "outputs": [
    {
     "name": "stdout",
     "output_type": "stream",
     "text": [
      "Iterating through keys and values:\n",
      "Key: a, Value: 1\n",
      "Key: b, Value: 2\n",
      "Key: c, Value: 3\n",
      "Key: d, Value: 4\n"
     ]
    }
   ],
   "source": [
    "#15.Explain how to use a for loop to iterate through the keys and values of a dictionary in Python.\n",
    "my_dict = {'a': 1, 'b': 2, 'c': 3, 'd': 4}\n",
    "print(\"Iterating through keys and values:\")\n",
    "for key, value in my_dict.items():\n",
    "    print(f\"Key: {key}, Value: {value}\")"
   ]
  },
  {
   "cell_type": "code",
   "execution_count": 18,
   "id": "a4ab72a8-b5de-4318-a340-ecda38e51755",
   "metadata": {},
   "outputs": [
    {
     "name": "stdout",
     "output_type": "stream",
     "text": [
      "The GCD (Greatest Common Divisor) of two numbers:14,52 is 2\n"
     ]
    }
   ],
   "source": [
    "#16.Write a Python program to find the GCD (Greatest Common Divisor) of two numbers using a for loop.\n",
    "def Gcd_no(a,b):\n",
    "    if a > b:\n",
    "        small = b\n",
    "    else:\n",
    "        small = a\n",
    "    for i in range(1,small+1):\n",
    "        if((a % i == 0) and (b % i ==0)):\n",
    "            gcd=i\n",
    "    return gcd\n",
    "\n",
    "num1=14\n",
    "num2=52\n",
    "res=Gcd_no(num1,num2)\n",
    "print(f\"The GCD (Greatest Common Divisor) of two numbers:{num1},{num2} is {res}\")\n",
    "\n",
    "    "
   ]
  },
  {
   "cell_type": "code",
   "execution_count": 19,
   "id": "4d170f80-1cdf-4bc3-8025-38bbf4905d2c",
   "metadata": {},
   "outputs": [
    {
     "name": "stdin",
     "output_type": "stream",
     "text": [
      "Enter the string: fuzzy\n"
     ]
    },
    {
     "name": "stdout",
     "output_type": "stream",
     "text": [
      " the string is not a palindrome\n"
     ]
    }
   ],
   "source": [
    "#17.Create a Python program that checks if a string is a palindrome using a for loop.\n",
    "def ispalindrome(string):\n",
    "    reverse=\"\"\n",
    "    for i in string:\n",
    "        reverse = i + reverse\n",
    "    return(reverse)\n",
    "        \n",
    "        \n",
    "string=input(\"Enter the string:\")\n",
    "res=ispalindrome(string)\n",
    "if string==res:\n",
    "    print(\"The string is a palindrome\",res)\n",
    "else:\n",
    "    print(\" the string is not a palindrome\")\n",
    "        \n",
    "        "
   ]
  },
  {
   "cell_type": "code",
   "execution_count": 20,
   "id": "69abdfe2-f87d-45c0-86aa-eff21912ce5d",
   "metadata": {},
   "outputs": [
    {
     "name": "stdout",
     "output_type": "stream",
     "text": [
      "To remove duplicates from a list {1, 4, 5, 6, 7, 8, 21}\n"
     ]
    }
   ],
   "source": [
    "#18.Write a Python program to remove duplicates from a list using a for loop.\n",
    "def remove_dup(list):\n",
    "    for i in list:\n",
    "        list = set(list)\n",
    "        duplicate = list\n",
    "    return(duplicate)\n",
    "\n",
    "list = [1,21,5,4,21,8,6,7]  \n",
    "res = remove_dup(list)\n",
    "print(f\"To remove duplicates from a list {res}\")"
   ]
  },
  {
   "cell_type": "code",
   "execution_count": 21,
   "id": "87aca893-0526-42a2-b636-c4358fe12c91",
   "metadata": {},
   "outputs": [
    {
     "name": "stdin",
     "output_type": "stream",
     "text": [
      "Enter the sentence: this is a program to count the numbers\n"
     ]
    },
    {
     "name": "stdout",
     "output_type": "stream",
     "text": [
      "The number of words in a sentence: 8\n"
     ]
    }
   ],
   "source": [
    "#19.Create a Python program that counts the number of words in a sentence using a for loop.\n",
    "def no_words(string):\n",
    "    word = 0\n",
    "    for i in string.split():\n",
    "        word = string.count(\" \")+1\n",
    "    return word\n",
    "        \n",
    "        \n",
    "sentence=input(\"Enter the sentence:\")\n",
    "result=no_words(sentence)\n",
    "\n",
    "print(\"The number of words in a sentence:\",(result))"
   ]
  },
  {
   "cell_type": "code",
   "execution_count": 22,
   "id": "086d24d4-7758-4359-b5a5-6ad7f3a44882",
   "metadata": {},
   "outputs": [
    {
     "name": "stdout",
     "output_type": "stream",
     "text": [
      "Sum of all odd numbers from 1 to 50 are : 625\n"
     ]
    }
   ],
   "source": [
    "\n",
    "#20.Write a Python program to find the sum of all odd numbers from 1 to 50 using a for loop.\n",
    "def odd_number():\n",
    "    odd_num=[]\n",
    "    sum=0\n",
    "    for i in range(1,51):\n",
    "        if i % 2 != 0:\n",
    "            odd_num.append(i)\n",
    "            sum=sum+i\n",
    "    return sum\n",
    "\n",
    "\n",
    "\n",
    "result=odd_number()\n",
    "print(\"Sum of all odd numbers from 1 to 50 are :\",result)"
   ]
  },
  {
   "cell_type": "code",
   "execution_count": 23,
   "id": "9906f43a-d1df-48bd-988f-30bc3bbfcb95",
   "metadata": {},
   "outputs": [
    {
     "name": "stdin",
     "output_type": "stream",
     "text": [
      "Enter the year : 2002\n"
     ]
    },
    {
     "name": "stdout",
     "output_type": "stream",
     "text": [
      "The given year: 2002 is not a leap\n"
     ]
    }
   ],
   "source": [
    "#21.Write a Python program that checks if a given year is a leap year using a for loop.\n",
    "def leap(year):\n",
    "    if(year % 400 == 0) or ((year % 100 != 0) and (year % 4 == 0)):\n",
    "        return True\n",
    "    return False\n",
    "\n",
    "year=int(input(\"Enter the year :\"))\n",
    "res=leap(year)\n",
    "if res:\n",
    "    print(f\"The given year: {year} is a leap\")\n",
    "else:\n",
    "    print(f\"The given year: {year} is not a leap\")\n",
    "    \n",
    "# as the year is an interger we cannot iterate it b"
   ]
  },
  {
   "cell_type": "code",
   "execution_count": 24,
   "id": "531e934c-4591-453a-8d42-73f2b0aecbd2",
   "metadata": {},
   "outputs": [
    {
     "name": "stdin",
     "output_type": "stream",
     "text": [
      "Enter the number 25\n"
     ]
    },
    {
     "name": "stdout",
     "output_type": "stream",
     "text": [
      "The square root of a number 5.0\n"
     ]
    }
   ],
   "source": [
    "#22.Create a Python program that calculates the square root of a number using a for loop.\n",
    "def calculate_root(num,num_iterate = 1000):\n",
    "    for _ in range(num_iterate):\n",
    "         square_root = (num) ** 0.5\n",
    "    return square_root\n",
    "\n",
    "number  = float(input(\"Enter the number\"))\n",
    "res = calculate_root(number)\n",
    "print(\"The square root of a number\",res)"
   ]
  },
  {
   "cell_type": "code",
   "execution_count": 25,
   "id": "3c6cb201-ffd5-47fe-a485-0908c1100d2d",
   "metadata": {},
   "outputs": [
    {
     "name": "stdout",
     "output_type": "stream",
     "text": [
      "10\n"
     ]
    }
   ],
   "source": [
    "#23.Write a Python program to find the LCM (Least Common Multiple) of two numbers using a for loop.\n",
    "def calculate_lcm(a,b):\n",
    "    if a > b :\n",
    "        greatest = a\n",
    "    else :\n",
    "        greatest = b\n",
    "        \n",
    "    lcm = greatest\n",
    "    for i in range(lcm,a * b + 1,lcm):\n",
    "        if (i % a == 0) and (i % b == 0):\n",
    "            lcm = i\n",
    "            break\n",
    "    return lcm\n",
    "        \n",
    "print(calculate_lcm(2,5))      \n",
    "        "
   ]
  },
  {
   "cell_type": "raw",
   "id": "6d12ec14-4f14-43d1-a7b5-ed9d52312a8c",
   "metadata": {},
   "source": [
    "If else :\n",
    "\n",
    "\n",
    "1.Write a Python program to check if a number is positive, negative, or zero using an if-else statement.\n",
    "2.Create a Python program that checks if a given number is even or odd using an if-else statement.\n",
    "3.How can you use nested if-else statements in Python, and provide an example?\n",
    "4.Write a Python program to determine the largest of three numbers using if-else.\n",
    "5.Write a Python program that calculates the absolute value of a number using if-else.\n",
    "6.Create a Python program that checks if a given character is a vowel or consonant using if-else.\n",
    "7.Write a Python program to determine if a user is eligible to vote based on their age using if-else.\n",
    "8.Create a Python program that calculates the discount amount based on the purchase amount using if-else.\n",
    "9.Write a Python program to check if a number is within a specified range using if-else.\n",
    "10.Create a Python program that determines the grade of a student based on their score using if-else.\n",
    "11.Write a Python program to check if a string is empty or not using if-else.\n",
    "12.Create a Python program that identifies the type of a triangle (e.g., equilateral, isosceles, or scalene) based on input values using if-else.\n",
    "13.Write a Python program to determine the day of the week based on a user-provided number using if-else.\n",
    "14.Create a Python program that checks if a given year is a leap year using both if-else and a function.\n",
    "15.How do you use the \"assert\" statement in Python to add debugging checks within if-else blocks?\n",
    "16.Create a Python program that determines the eligibility of a person for a senior citizen discount based on age using if-else.\n",
    "17.Write a Python program to categorize a given character as uppercase, lowercase, or neither using if-else.\n",
    "18.Write a Python program to determine the roots of a quadratic equation using if-else.\n",
    "19.Create a Python program that checks if a given year is a century year or not using if-else.\n",
    "20.Write a Python program to determine if a given number is a perfect square using if-else.\n",
    "21.Explain the purpose of the \"continue\" and \"break\" statements within if-else loops.\n",
    "22.Create a Python program that calculates the BMI (Body Mass Index) of a person based on their weight and height using if-else.\n",
    "23.How can you use the \"filter()\" function with if-else statements to filter elements from a list?\n",
    "24.Write a Python program to determine if a given number is prime or not using if-else."
   ]
  },
  {
   "cell_type": "code",
   "execution_count": 26,
   "id": "f5f7405c-27e3-4c5b-b4d5-3f4735488be8",
   "metadata": {},
   "outputs": [
    {
     "name": "stdin",
     "output_type": "stream",
     "text": [
      "Enter the integer number 5\n"
     ]
    },
    {
     "name": "stdout",
     "output_type": "stream",
     "text": [
      "The number is positive number\n"
     ]
    }
   ],
   "source": [
    "#1.Write a Python program to check if a number is positive, negative, or zero using an if-else statement.\n",
    "def check_num(num):\n",
    "    if num > 0:\n",
    "        return \"The number is positive number\"\n",
    "    elif num<0:\n",
    "        return\"The number is negative number\"\n",
    "    else:\n",
    "        return \"The number is zero number\"\n",
    "\n",
    "n=float(input(\"Enter the integer number\"))\n",
    "res=check_num(n)\n",
    "print(res)"
   ]
  },
  {
   "cell_type": "code",
   "execution_count": 27,
   "id": "e72d4b6f-859d-4472-a22b-462a799598e9",
   "metadata": {},
   "outputs": [
    {
     "name": "stdin",
     "output_type": "stream",
     "text": [
      "Enter the number 89\n"
     ]
    },
    {
     "name": "stdout",
     "output_type": "stream",
     "text": [
      "The number is odd number\n"
     ]
    }
   ],
   "source": [
    "#2.Create a Python program that checks if a given number is even or odd using an if-else statement.\n",
    "def check_num(num):\n",
    "    if num % 2 == 0:\n",
    "        return \"The number is even number\"\n",
    "    else:\n",
    "        return \"The number is odd number\"\n",
    "\n",
    "\n",
    "\n",
    "n=int(input(\"Enter the number\"))\n",
    "res=check_num(n)\n",
    "print(res)"
   ]
  },
  {
   "cell_type": "code",
   "execution_count": 28,
   "id": "707fc148-5cad-4eae-a955-6e48107f2f19",
   "metadata": {},
   "outputs": [
    {
     "name": "stdin",
     "output_type": "stream",
     "text": [
      "Enter name: goli\n",
      "Enter class: 9\n",
      "Enter section: c\n",
      "Enter English mark: 90\n",
      "Enter first_lang mark: 78\n",
      "Enter sec_lang mark: 56\n",
      "Enter Math mark: 74\n",
      "Enter Social mark: 70\n",
      "Enter sci mark: 86\n"
     ]
    },
    {
     "name": "stdout",
     "output_type": "stream",
     "text": [
      "\n",
      "---------Printing result-------------\n",
      "Name: Goli\n",
      "Class: 9\n",
      "Section: c\n",
      "Percentage: 90.8 %\n",
      "Pass!\n",
      "Remark: Excellent!\n"
     ]
    }
   ],
   "source": [
    "#3.How can you use nested if-else statements in Python, and provide an example?\n",
    "\n",
    "#### Using if-else statement within another if statement--->nested if else\n",
    "name = input(\"Enter name:\").title()\n",
    "clas = input(\"Enter class:\")\n",
    "section = input(\"Enter section:\")\n",
    "eng = float(input(\"Enter English mark:\"))\n",
    "first_lang = float(input(\"Enter first_lang mark:\"))\n",
    "sec_lang = float(input(\"Enter sec_lang mark:\"))\n",
    "math = float(input(\"Enter Math mark:\"))\n",
    "social = float(input(\"Enter Social mark:\"))\n",
    "sci = float(input(\"Enter sci mark:\"))\n",
    " \n",
    "total_mark = eng + first_lang + sec_lang + math + social + sci\n",
    "percentage = total_mark / 5\n",
    " \n",
    "print(\"\\n---------Printing result-------------\")\n",
    "print(\"Name:\", name)\n",
    "print(\"Class:\", clas)\n",
    "print(\"Section:\", section)\n",
    "print(\"Percentage:\", percentage,\"%\")\n",
    "if percentage < 0 or percentage > 100:\n",
    "    print(\"Error: percentage should be between 0 and 100 only!\")\n",
    "elif percentage < 45:\n",
    "    print(\"Failed!\")\n",
    "else:\n",
    "    print(\"Pass!\")\n",
    "    if percentage >=45 and percentage < 60:\n",
    "        print(\"Remark: Just passed!\")\n",
    "    elif percentage >= 60 and percentage < 75:\n",
    "        print(\"Remark: Good!\")\n",
    "    elif percentage >= 75 and percentage < 85:\n",
    "        print(\"Remark: Very Good!\")\n",
    "    elif percentage >= 85 and percentage < 100:\n",
    "        print(\"Remark: Excellent!\")"
   ]
  },
  {
   "cell_type": "code",
   "execution_count": 29,
   "id": "48323587-2ecd-4221-9307-ccc06eff918b",
   "metadata": {},
   "outputs": [
    {
     "name": "stdin",
     "output_type": "stream",
     "text": [
      "Enter the 1st number 45\n",
      "Enter the 2nd number 62\n",
      "Enter the 3rd number 82\n"
     ]
    },
    {
     "name": "stdout",
     "output_type": "stream",
     "text": [
      "The largest of three numbers (45.0, 62.0, 82.0) is 82.0\n"
     ]
    }
   ],
   "source": [
    "#4.Write a Python program to determine the largest of three numbers using if-else.\n",
    "def largest(a,b,c):\n",
    "    large=0\n",
    "    if a>b:\n",
    "        if a>c:\n",
    "            large=a\n",
    "        else:\n",
    "            if b>c:\n",
    "                large=b\n",
    "            else:\n",
    "                large=c\n",
    "                \n",
    "    else:\n",
    "        large=c\n",
    "        \n",
    "    return large\n",
    "    \n",
    "    \n",
    "n1=float(input(\"Enter the 1st number\"))\n",
    "n2=float(input(\"Enter the 2nd number\"))\n",
    "n3=float(input(\"Enter the 3rd number\"))\n",
    "res=largest(n1,n2,n3)\n",
    "print(f\"The largest of three numbers {n1,n2,n3} is {res}\")   "
   ]
  },
  {
   "cell_type": "code",
   "execution_count": 30,
   "id": "1595e8f2-c805-48b4-a26c-ccbb86835ca1",
   "metadata": {},
   "outputs": [
    {
     "name": "stdin",
     "output_type": "stream",
     "text": [
      "Enter the number: -9\n"
     ]
    },
    {
     "name": "stdout",
     "output_type": "stream",
     "text": [
      "The absolute of a number ->-9 is 9\n"
     ]
    }
   ],
   "source": [
    "#5.Write a Python program that calculates the absolute of a number using if-else.\n",
    "def cal_absolute(num):\n",
    "    abs=0\n",
    "    if num>0:\n",
    "        abs=num\n",
    "    else:\n",
    "        abs=-num\n",
    "    return abs\n",
    "    \n",
    "\n",
    "    \n",
    "n=int(input(\"Enter the number:\"))\n",
    "res=cal_absolute(n)\n",
    "print(f\"The absolute of a number ->{n} is {res}\")    "
   ]
  },
  {
   "cell_type": "code",
   "execution_count": 32,
   "id": "602af5b5-4541-4bfc-8ad1-deac494b11d8",
   "metadata": {},
   "outputs": [
    {
     "name": "stdin",
     "output_type": "stream",
     "text": [
      "Enter the string y\n"
     ]
    },
    {
     "name": "stdout",
     "output_type": "stream",
     "text": [
      "The given string character are: is a consonant\n"
     ]
    }
   ],
   "source": [
    "#6.Create a Python program that checks if a given character is a vowel or consonant using if-else.\n",
    "def  check_character(str):\n",
    "    if len(str)==1:\n",
    "        strings=str.lower()\n",
    "    for i  in strings:\n",
    "        if (i == \"a\" or  i == \"e\" or i == \"i\" or i == \"o\" or i == \"u\"):\n",
    "            return \"is a vowel\"\n",
    "        else:\n",
    "            return \"is a consonant\"\n",
    "\n",
    "string=input(\"Enter the string\")\n",
    "res=check_character(string)\n",
    "print(f\"The given string character are: {res}\") "
   ]
  },
  {
   "cell_type": "code",
   "execution_count": 33,
   "id": "6176e865-0924-43c3-9f1d-515b7b3c06b9",
   "metadata": {},
   "outputs": [
    {
     "name": "stdin",
     "output_type": "stream",
     "text": [
      "Enter the age of the person: 25\n"
     ]
    },
    {
     "name": "stdout",
     "output_type": "stream",
     "text": [
      "The person is Eligible to vote\n"
     ]
    }
   ],
   "source": [
    "#7.Write a Python program to determine if a user is eligible to vote based on their age using if-else.\n",
    "def eligible_vote(n):\n",
    "    if age>=18:\n",
    "        return \"Eligible to vote\"\n",
    "    else:\n",
    "        return \"not Eligible to vote\"\n",
    "    \n",
    "    \n",
    "    \n",
    "age=int(input(\"Enter the age of the person:\"))\n",
    "res=eligible_vote(age)\n",
    "print(f\"The person is {res}\")    "
   ]
  },
  {
   "cell_type": "code",
   "execution_count": 34,
   "id": "a5b25b76-6986-48e4-9710-2ac9950cf3dd",
   "metadata": {},
   "outputs": [
    {
     "name": "stdin",
     "output_type": "stream",
     "text": [
      "Enter the purchase amount: rupess 125000\n"
     ]
    },
    {
     "name": "stdout",
     "output_type": "stream",
     "text": [
      "Congratulation! you get a rupess 25000.00 discount.\n",
      "Your discounted total is: rupess 100000.00\n"
     ]
    }
   ],
   "source": [
    "#8.Create a Python program that calculates the discount amount based on the purchase amount using if-else.\n",
    "def cal_discount(amount):\n",
    "    dis_rate=0\n",
    "    if amount >10000:\n",
    "        dis_rate=0.2\n",
    "    elif amount >5000:\n",
    "        dis_rate=0.1\n",
    "    else:\n",
    "        if amount>1000:\n",
    "            dis_rate=0.05\n",
    "            \n",
    "    discount_amount = amount * dis_rate\n",
    "    return discount_amount        \n",
    "    \n",
    "            \n",
    "purchase_amount = float(input(\"Enter the purchase amount: rupess\"))\n",
    "discount = cal_discount(purchase_amount)\n",
    "\n",
    "if discount>0:\n",
    "        print(f\"Congratulation! you get a rupess {discount:.2f} discount.\")\n",
    "        discounted_amount = purchase_amount - discount\n",
    "        print(f\"Your discounted total is: rupess {discounted_amount:.2f}\")\n",
    "else:\n",
    "    print(\"Sorry, no discount for this purchase.\")"
   ]
  },
  {
   "cell_type": "code",
   "execution_count": 35,
   "id": "8bfd36b3-d4a1-415c-aede-68d77f64001b",
   "metadata": {},
   "outputs": [
    {
     "name": "stdin",
     "output_type": "stream",
     "text": [
      "Enter the number to be checked: 5\n"
     ]
    },
    {
     "name": "stdout",
     "output_type": "stream",
     "text": [
      "The num is within a specificd range: True\n"
     ]
    }
   ],
   "source": [
    "#9.Write a Python program to check if a number is within a specified range using if-else.\n",
    "def check_specific(num):\n",
    "    if num in range(0,10):\n",
    "        return True\n",
    "    else:\n",
    "        return False\n",
    "\n",
    "n=int(input(\"Enter the number to be checked:\"))\n",
    "checknum=check_specific(n)\n",
    "if checknum:\n",
    "    print(\"The num is within a specificd range:\",checknum)\n",
    "else:\n",
    "    print(\"The num is not within a specificd range:\")"
   ]
  },
  {
   "cell_type": "code",
   "execution_count": 36,
   "id": "73b8797c-b834-4b4d-ab10-164f341cf661",
   "metadata": {},
   "outputs": [
    {
     "name": "stdin",
     "output_type": "stream",
     "text": [
      "Enter the exam score of student  94\n"
     ]
    },
    {
     "name": "stdout",
     "output_type": "stream",
     "text": [
      "The GRADE of student is A+\n"
     ]
    }
   ],
   "source": [
    "#10.Create a Python program that determines the grade of a student based on their score using if-else\n",
    "          \n",
    "examScore=int(input(\"Enter the exam score of student \"))\n",
    "if examScore>= 91 and examScore<= 100:\n",
    "    print(\"The GRADE of student is A+\")\n",
    "elif examScore>=81 and examScore<= 90:\n",
    "    print(\"The GRADE of student is A\")\n",
    "elif examScore>=71  and examScore<=80:\n",
    "    print(\"The GRADE of student is B\")\n",
    "elif examScore>=61 and examScore<= 70:\n",
    "    print(\"The GRADE of student is C\")\n",
    "elif examScore>=51 and examScore<= 60:\n",
    "    print(\"The GRADE of student is D\")\n",
    "elif examScore>=40 and examScore<= 50:\n",
    "    print(\"The GRADE of student is E\")\n",
    "elif 0<=examScore<=39:\n",
    "        print(\"FAIL\")\n",
    "else:\n",
    "        print(\"INVALID\")"
   ]
  },
  {
   "cell_type": "code",
   "execution_count": 37,
   "id": "c72153cb-8ec5-44d0-92cc-38c0a2cd88e6",
   "metadata": {},
   "outputs": [
    {
     "name": "stdin",
     "output_type": "stream",
     "text": [
      "Enter the string \n",
      " popping\n"
     ]
    },
    {
     "name": "stdout",
     "output_type": "stream",
     "text": [
      "The entered String is not empty\n"
     ]
    }
   ],
   "source": [
    "#11.Write a Python program to check if a string is empty or not using if-else.\n",
    "def isstring(string):\n",
    "    if  not string:\n",
    "        return True\n",
    "    else:\n",
    "        return False\n",
    "    \n",
    "str=input(\"Enter the string \\n\")\n",
    "res=isstring(str)\n",
    "if res:\n",
    "    print(\"The entered String is empty\")\n",
    "else:\n",
    "    print(\"The entered String is not empty\")"
   ]
  },
  {
   "cell_type": "code",
   "execution_count": 38,
   "id": "862377c1-c954-4f32-97f0-59ac1d86c05f",
   "metadata": {},
   "outputs": [
    {
     "name": "stdin",
     "output_type": "stream",
     "text": [
      "enter the length of 1st side: 13\n",
      "enter the length of 2nd side: 15\n",
      "enter the length of 3rd side: 14\n"
     ]
    },
    {
     "name": "stdout",
     "output_type": "stream",
     "text": [
      "Identifing the type of triangle: The triangle is an scalene triangle\n"
     ]
    }
   ],
   "source": [
    "# 12.Create a Python program that identifies the type of a triangle (e.g., equilateral, isosceles, or scalene) based on input values using if-else.\n",
    "def type_triangle(a,b,c):\n",
    "    if a==b==c:\n",
    "        return \"The triangle is an Equilateral triangle\"\n",
    "    elif a==b or a==c or b==c:\n",
    "        return \"The triangle is an Isosceles triangle\"\n",
    "    else:\n",
    "        return \"The triangle is an scalene triangle\"\n",
    "    \n",
    "a=int(input(\"enter the length of 1st side:\"))\n",
    "b=int(input(\"enter the length of 2nd side:\"))\n",
    "c=int(input(\"enter the length of 3rd side:\"))\n",
    "res=type_triangle(a,b,c)\n",
    "print(f\"Identifing the type of triangle: {res}\")\n"
   ]
  },
  {
   "cell_type": "code",
   "execution_count": 39,
   "id": "2b852b39-6f34-4a81-85f1-cd9d80c76889",
   "metadata": {},
   "outputs": [
    {
     "name": "stdin",
     "output_type": "stream",
     "text": [
      "Enter the day number between 1 to 7:  6\n"
     ]
    },
    {
     "name": "stdout",
     "output_type": "stream",
     "text": [
      "Saturay\n"
     ]
    }
   ],
   "source": [
    "#13.Write a Python program to determine the day of the week based on a user-provided number using if-else.\n",
    "def get_dayofweek(day_number):\n",
    "    dayofweek=[\"Monday\",\"Tuesday\",\"Wednesday\",\"Thursday\",\"Friday\",\"Saturay\",\"Sunday\"]\n",
    "    \n",
    "    if 1<=day_number<=7:\n",
    "        return dayofweek[day_number-1]\n",
    "    else:\n",
    "        return \"Invalid day number.Please enter number between 1 to 7\"\n",
    "    \n",
    "user_provide=int(input(\"Enter the day number between 1 to 7: \"))\n",
    "result=get_dayofweek(user_provide)\n",
    "print(result)\n",
    "\n",
    "\n"
   ]
  },
  {
   "cell_type": "code",
   "execution_count": 40,
   "id": "ae178c58-8742-4fab-8e63-279c28740908",
   "metadata": {},
   "outputs": [
    {
     "name": "stdin",
     "output_type": "stream",
     "text": [
      "Enter the year :  2500\n"
     ]
    },
    {
     "name": "stdout",
     "output_type": "stream",
     "text": [
      "The year isn't a leap year\n"
     ]
    }
   ],
   "source": [
    "#14.Create a Python program that checks if a given year is a leap year using both if-else and a function.\n",
    "def check_leapyear(year):\n",
    "    if (year % 4 == 0  and year % 100 !=0 or year % 400 == 0):\n",
    "        return True\n",
    "    else:\n",
    "        return False\n",
    "    \n",
    "year=int(input(\"Enter the year : \"))\n",
    "result=check_leapyear(year)\n",
    "if result:\n",
    "    print(\"the year is a leap year\")\n",
    "else:\n",
    "    print(\"The year isn't a leap year\")\n",
    "\n",
    "        "
   ]
  },
  {
   "cell_type": "code",
   "execution_count": 41,
   "id": "ac9f06f3-5f31-45b4-a56b-4b9bea6820a4",
   "metadata": {},
   "outputs": [
    {
     "name": "stdin",
     "output_type": "stream",
     "text": [
      "Enter the first number:  25\n",
      "Enter the second number (non-zero):  4\n"
     ]
    },
    {
     "name": "stdout",
     "output_type": "stream",
     "text": [
      "Result is not greater than 10\n"
     ]
    }
   ],
   "source": [
    "##### 15.How do you use the \"assert\" statement in Python to add debugging checks within if-else blocks?\n",
    "'''In Python, the assert statement is used for debugging purposes. \n",
    "It tests a condition and triggers an error if the condition is False. \n",
    "It is often used during development to catch potential issues early.'''\n",
    "\n",
    "\n",
    "def divide_numbers(a, b):\n",
    "    assert b != 0, \"Division by zero is not allowed\"\n",
    "    \n",
    "    result = a / b\n",
    "    \n",
    "    if result > 10:\n",
    "        print(\"Result is greater than 10\")\n",
    "    else:\n",
    "        print(\"Result is not greater than 10\")\n",
    "\n",
    "num1 = float(input(\"Enter the first number: \"))\n",
    "num2 = float(input(\"Enter the second number (non-zero): \"))\n",
    "\n",
    "divide_numbers(num1, num2)"
   ]
  },
  {
   "cell_type": "code",
   "execution_count": 42,
   "id": "b5c0eda3-38cb-43f7-85c1-a1fc315808ee",
   "metadata": {},
   "outputs": [
    {
     "name": "stdin",
     "output_type": "stream",
     "text": [
      "Enter the age of the person 85\n",
      "Enter the purschase amount 2500\n"
     ]
    },
    {
     "name": "stdout",
     "output_type": "stream",
     "text": [
      "Congratulation! you get a rupess 17.00 discount.\n",
      "Your discounted total is: rupess  2483.00\n"
     ]
    }
   ],
   "source": [
    "# 16.Create a Python program that determines the eligibility of a person for a senior citizen discount based on age using if-else.\n",
    "def discount_basedage(age):\n",
    "    if 71<=age<=100:\n",
    "        discount_rate=0.2\n",
    "    elif 60<=age<=70:\n",
    "        discount_rate=0.1\n",
    "    elif 50<=age<=59:\n",
    "        discount_rate=0.0\n",
    "    else:\n",
    "        return \"Please! Enter the age of person correctly.\"\n",
    "         \n",
    "    return age*discount_rate\n",
    "\n",
    "age=int(input(\"Enter the age of the person\"))\n",
    "discount= discount_basedage(age)\n",
    "\n",
    "    \n",
    "if age>=60 and discount>0:\n",
    "    purchase_amount=float(input(\"Enter the purschase amount\"))\n",
    "    print(f\"Congratulation! you get a rupess {discount:.2f} discount.\")\n",
    "    discounted_amount = purchase_amount - discount\n",
    "    print(f\"Your discounted total is: rupess  {discounted_amount:.2f}\")\n",
    "else:\n",
    "    print(\"Sorry, no discount for this age.\")\n",
    "\n",
    "\n"
   ]
  },
  {
   "cell_type": "code",
   "execution_count": 43,
   "id": "09400525-32f8-4116-8771-8ba9049ee3c8",
   "metadata": {},
   "outputs": [
    {
     "name": "stdin",
     "output_type": "stream",
     "text": [
      "Enter the character of string: A\n"
     ]
    },
    {
     "name": "stdout",
     "output_type": "stream",
     "text": [
      "Categorie of given chatacter is :Uppercase\n"
     ]
    }
   ],
   "source": [
    "#17.Write a Python program to categorize a given character as uppercase, lowercase, or neither using if-else.\n",
    "def categorize(character):\n",
    "    if character.isupper():\n",
    "        return \"Uppercase\"\n",
    "    elif character.islower():\n",
    "        return \"Lowercase\"\n",
    "    else:\n",
    "        return \"neither Uppercase nor Lowercase\"\n",
    "\n",
    "\n",
    "    \n",
    "char=input(\"Enter the character of string:\")\n",
    "if len(char)==1:\n",
    "    result=categorize(char)\n",
    "    print(f\"Categorie of given chatacter is :{result}\") \n",
    "else:\n",
    "    print(\"invalid character\")"
   ]
  },
  {
   "cell_type": "code",
   "execution_count": 44,
   "id": "9443410e-f6e1-4c44-b390-cf7b3bd3f579",
   "metadata": {},
   "outputs": [
    {
     "name": "stdin",
     "output_type": "stream",
     "text": [
      "Enter the values of a: 1\n",
      "Enter the values of b: 3\n",
      "Enter the values of c: 3\n"
     ]
    },
    {
     "name": "stdout",
     "output_type": "stream",
     "text": [
      "the roots are imaginary and unequal\n",
      "root1=-1.5+i0.8660254037844386 and root2 =-1.5-i0.8660254037844386\n",
      "None\n"
     ]
    }
   ],
   "source": [
    "#18.Write a Python program to determine the roots of a quadratic equation using if-else.\n",
    "#x^2-6x-7=0 ;x^2+3x+3=0\n",
    "def quadarticeq_root(a,b,c):\n",
    "    determinant= (b**2)-(4*a*c)\n",
    "    if determinant > 0:\n",
    "        root1 =( (-b +(determinant)**0.5)/(2*a))\n",
    "        root2 =( (-b -(determinant)**0.5)/(2*a))\n",
    "        print(\"the roots are real and distint\")\n",
    "        return root1,root2\n",
    "    elif determinant == 0:\n",
    "        root =(-b/(2*a))\n",
    "        print(\"the roots are real and equal\")\n",
    "        return root\n",
    "    else:\n",
    "        real=(-b/(2*a))\n",
    "        imaginary=(((-determinant)**0.5)/(2*a))\n",
    "        print(\"the roots are imaginary and unequal\")\n",
    "        print(f\"root1={real}+i{imaginary} and root2 ={real}-i{imaginary}\")\n",
    "        \n",
    "a=float(input(\"Enter the values of a:\"))\n",
    "b= float(input(\"Enter the values of b:\"))\n",
    "c= float(input(\"Enter the values of c:\"))\n",
    "res=quadarticeq_root(a,b,c)\n",
    "print(res)"
   ]
  },
  {
   "cell_type": "code",
   "execution_count": 45,
   "id": "d0908055-0a45-432a-8088-b366392f6008",
   "metadata": {},
   "outputs": [
    {
     "name": "stdin",
     "output_type": "stream",
     "text": [
      "Enter the values of a: 1\n",
      "Enter the values of b: 2\n",
      "Enter the values of c: 3\n"
     ]
    },
    {
     "name": "stdout",
     "output_type": "stream",
     "text": [
      "The roots are complex: -1.0 + (-8.659560562354934e-17-1.4142135623730951j)i and -1.0 - (-8.659560562354934e-17-1.4142135623730951j)i\n"
     ]
    }
   ],
   "source": [
    "#quadratic eq:x^2-4x+4 ;-4x^2+12x-9 \n",
    "#coefficient of qe:\n",
    "a= float(input(\"Enter the values of a:\"))\n",
    "b= float(input(\"Enter the values of b:\"))\n",
    "c= float(input(\"Enter the values of c:\"))\n",
    "#discriminant (b^2 - 4ac) to be calculate\n",
    "determinant= (b**2)-(4*a*c)\n",
    "\n",
    "##If discriminant (b^2 - 4ac)> 0,root 1=-b+v(b2-4ac)/2a,root2=+b-v(b2-4ac)/2a\n",
    "if  determinant> 0:\n",
    "    root1 =( (-b +(determinant)**0.5)/(2*a))\n",
    "    root2 =( (-b -(determinant)**0.5)/(2*a))\n",
    "    print(\"root1 real and didtinct is:\",root1)\n",
    "    print(\"root2 is\",root2)\n",
    "##If discriminant (b^2 - 4ac) =0,root1=root2=-b/2a\n",
    "elif determinant==0:\n",
    "    root=(-b/(2*a))\n",
    "    print(\"the roots of quaratic eq is real and repeated\",root)\n",
    "    \n",
    "##If discriminant <0,root 1=(-b /2a)+ i(√ -(b2-4ac)/2a), root2 = (-b /2a)-i(√ -(b2-4ac)/2a)\n",
    "elif determinant<0:\n",
    "\n",
    "    real_part =( -b / (2*a))\n",
    "    imaginary_part = ((-(determinant)**0.5) / (2*a))\n",
    "    print(f\"The roots are complex: {real_part} + {imaginary_part}i and {real_part} - {imaginary_part}i\")\n",
    "        "
   ]
  },
  {
   "cell_type": "code",
   "execution_count": 49,
   "id": "1391fefd-c4cf-4754-b87c-7cb1e681c260",
   "metadata": {},
   "outputs": [
    {
     "name": "stdin",
     "output_type": "stream",
     "text": [
      "Enter the year  2000\n"
     ]
    },
    {
     "name": "stdout",
     "output_type": "stream",
     "text": [
      "The year Is a century year\n"
     ]
    }
   ],
   "source": [
    "#19.Create a Python program that checks if a given year is a century year or not using if-else.\n",
    "def check_centuryyear(year):\n",
    "    if year % 4 == 0 and year % 400 == 0:\n",
    "        return \"Is a century year\"\n",
    "    else:\n",
    "        return \"isn't a century year\"\n",
    "\n",
    "year =int(input(\"Enter the year \"))\n",
    "res=check_centuryyear(year)\n",
    "print(f\"The year {res}\")"
   ]
  },
  {
   "cell_type": "code",
   "execution_count": 50,
   "id": "29c61f84-c1b1-4e70-9d0d-737694a2f216",
   "metadata": {},
   "outputs": [
    {
     "name": "stdin",
     "output_type": "stream",
     "text": [
      "Enter the number: 68\n"
     ]
    },
    {
     "name": "stdout",
     "output_type": "stream",
     "text": [
      "The given number 68 is not a perfect square\n"
     ]
    },
    {
     "data": {
      "text/plain": [
       "'is_integer() method is a built-in method available for floating-point numbers. \\nIt is used to check if a floating-point number has no fractional part, meaning it represents a whole number or an integer '"
      ]
     },
     "execution_count": 50,
     "metadata": {},
     "output_type": "execute_result"
    }
   ],
   "source": [
    "#20.Write a Python program to determine if a given number is a perfect square using if-else.\n",
    "def perfectsquare(num):\n",
    "    sq_root=num**0.5\n",
    "    if sq_root.is_integer(): \n",
    "        #bulit in method is_integer()\n",
    "        return True\n",
    "    else:\n",
    "        return False\n",
    "    \n",
    "n=int(input(\"Enter the number:\"))\n",
    "if n>=0:\n",
    "    res= perfectsquare(n)\n",
    "    if res:\n",
    "        print(f\"The given number {n} is a perfect square\") \n",
    "    else:\n",
    "        print(f\"The given number {n} is not a perfect square\")\n",
    "else:\n",
    "    print(\"Please Enter the positive integer\")\n",
    "    \n",
    "\"\"\"is_integer() method is a built-in method available for floating-point numbers. \n",
    "It is used to check if a floating-point number has no fractional part, meaning it represents a whole number or an integer \"\"\""
   ]
  },
  {
   "cell_type": "code",
   "execution_count": 51,
   "id": "49c5b15d-596c-4af3-86e6-a41314d60e12",
   "metadata": {},
   "outputs": [
    {
     "name": "stdout",
     "output_type": "stream",
     "text": [
      "True\n"
     ]
    }
   ],
   "source": [
    "num=89.3\n",
    "\n",
    "if num.is_integer:\n",
    "    print(\"True\")"
   ]
  },
  {
   "cell_type": "raw",
   "id": "c69889e0-fa87-4dc2-b672-eacea002c861",
   "metadata": {},
   "source": [
    "#21.Explain the purpose of the \"continue\" and \"break\" statements within if-else loops.\n",
    "The \"continue\" and \"break\" statements are control flow statements in Python that are used within loops (including if-else loops) to modify the normal execution flow.\n",
    "\n",
    "1. \"continue\" Statement:\n",
    "   Purpose:The continue statement is used to skip the rest of the code inside a loop for the current iteration and move to the next iteration.\n",
    "   Usage:When a specific condition is met, you can use `continue` to skip the remaining code in the loop and proceed to the next iteration.\n",
    "   Example:\n",
    "\n",
    "     for i in range(5):\n",
    "         if i == 2:\n",
    "             continue\n",
    "         print(i)\n",
    "    \n",
    "In this example, when \"i\" is equal to 2, the continue statement is triggered, skipping the print(i) statement, and the loop continues with the next iteration.\n",
    "\n",
    "2. \"break\" Statement:\n",
    "   Purpose:The \"break\" statement is used to exit a loop prematurely, terminating the loop's execution.\n",
    "   Usage: When a specific condition is met, you can use `break` to exit the loop before it completes all iterations.\n",
    "   Example:\n",
    "     for i in range(5):\n",
    "         if i == 3:\n",
    "             break\n",
    "         print(i)\n",
    "   \n",
    "     In this example, when i is equal to 3, the break statement is triggered, and the loop is terminated, preventing further iterations.\n",
    "\n",
    "Both continue and break statements provide a way to control the flow of execution within loops based on certain conditions. \n",
    "They are particularly useful for creating more flexible and efficient loop structures, \n",
    "especially in situations where you want to skip certain iterations or terminate the loop early based on specific criteria."
   ]
  },
  {
   "cell_type": "code",
   "execution_count": 52,
   "id": "2118626a-2432-4f58-b51a-522055a5a23e",
   "metadata": {},
   "outputs": [
    {
     "name": "stdout",
     "output_type": "stream",
     "text": [
      "0\n",
      "1\n",
      "2\n"
     ]
    }
   ],
   "source": [
    "for i in range(5):\n",
    "    if i == 3:\n",
    "        break\n",
    "    print(i)##break after 3"
   ]
  },
  {
   "cell_type": "code",
   "execution_count": 53,
   "id": "6f6180d1-b079-4151-8887-aa3121d2417b",
   "metadata": {},
   "outputs": [
    {
     "name": "stdout",
     "output_type": "stream",
     "text": [
      "0\n",
      "1\n",
      "3\n",
      "4\n"
     ]
    }
   ],
   "source": [
    "for i in range(5):\n",
    "    if i == 2:\n",
    "        continue #skio 2 and print rest untill condition true\n",
    "    print(i)\n",
    "    \n"
   ]
  },
  {
   "cell_type": "code",
   "execution_count": 54,
   "id": "c2e842e8-2e2e-4052-9ad6-dfe8e513a480",
   "metadata": {},
   "outputs": [
    {
     "name": "stdin",
     "output_type": "stream",
     "text": [
      "Enter the WEIGHT in kg: 65\n",
      "Enter the HEIGHT in cm: 4.5\n"
     ]
    },
    {
     "name": "stdout",
     "output_type": "stream",
     "text": [
      "You are underweight.\n"
     ]
    }
   ],
   "source": [
    "#22.Create a Python program that calculates the BMI (Body Mass Index) of a person based on their weight and height using if-else.\n",
    "#bmi=weight and height 62 and 180\n",
    "def bmi(w ,h):\n",
    "    bmi=round((w / h ** 2),2)\n",
    "    if bmi <= 18.5: \n",
    "        return \"You are underweight.\" \n",
    "    elif 18.5 < bmi <= 24.9: \n",
    "        return \"Your weight is normal.\"\n",
    "     \n",
    "    elif 25 < bmi <= 29.29: \n",
    "        return \"You are overweight.\"\n",
    "     \n",
    "    else: \n",
    "        return \"You are obese.\"\n",
    "        \n",
    "        \n",
    "weight=float(input(\"Enter the WEIGHT in kg:\"))\n",
    "height=float(input(\"Enter the HEIGHT in cm:\"))\n",
    "res=bmi(weight,height)\n",
    "print(res)"
   ]
  },
  {
   "cell_type": "code",
   "execution_count": 55,
   "id": "c1c653b5-3912-4acb-9cb8-365b02272b57",
   "metadata": {},
   "outputs": [
    {
     "name": "stdout",
     "output_type": "stream",
     "text": [
      "Original list: [1, 2, 3, 4, 5, 6, 7, 8, 9, 10]\n",
      "Filtered list (even numbers): (2, 4, 6, 8, 10)\n"
     ]
    }
   ],
   "source": [
    "#23.How can you use the \"filter()\" function with if-else statements to filter elements from a list?\n",
    "''' The filter() function in Python is used to filter elements of a sequence based on a given function. \n",
    "The filter() function takes two arguments: a function and an iterable (e.g., a list) \n",
    "and returns an iterator containing the elements for which the function returns True.'''\n",
    "\n",
    "def is_even(x):\n",
    "    if x % 2 == 0:\n",
    "        return True\n",
    "    else:\n",
    "        return False\n",
    "\n",
    "numbers = [1, 2, 3, 4, 5, 6, 7, 8, 9, 10]\n",
    "\n",
    "filtered_numbers = filter(is_even, numbers)\n",
    "\n",
    "print(\"Original list:\", numbers)\n",
    "print(\"Filtered list (even numbers):\", tuple(filtered_numbers))\n"
   ]
  },
  {
   "cell_type": "code",
   "execution_count": 56,
   "id": "d64b1271-e85f-439c-b376-527d85646c04",
   "metadata": {},
   "outputs": [
    {
     "name": "stdin",
     "output_type": "stream",
     "text": [
      "Enter the non negetive number: 9\n"
     ]
    },
    {
     "name": "stdout",
     "output_type": "stream",
     "text": [
      " Is 'Not a prime number'\n"
     ]
    }
   ],
   "source": [
    "#24.Write a Python program to determine if a given number is prime or not using if-else.\n",
    "def prime(num):\n",
    "    if num<2:\n",
    "        return \" Is 'Not a prime number'\" \n",
    "    for i in range(2,num):\n",
    "        if num%i==0:\n",
    "            return \" Is 'Not a prime number'\" \n",
    "   \n",
    "    return \"Is prime\"\n",
    "    \n",
    "number=int(input(\"Enter the non negetive number:\"))\n",
    "answer=prime(number)\n",
    "print(answer)"
   ]
  },
  {
   "cell_type": "code",
   "execution_count": 58,
   "id": "157856e8-6455-4487-b2ff-d6eaf233a463",
   "metadata": {},
   "outputs": [
    {
     "name": "stdout",
     "output_type": "stream",
     "text": [
      "hello\n",
      "<class 'NoneType'>\n"
     ]
    }
   ],
   "source": [
    "a=eval('print(\"hello\")')\n",
    "print(type(a))"
   ]
  },
  {
   "cell_type": "code",
   "execution_count": 57,
   "id": "41d65dab-57ff-4309-8c57-7ccd5609e496",
   "metadata": {},
   "outputs": [
    {
     "name": "stdout",
     "output_type": "stream",
     "text": [
      "<class 'int'>\n"
     ]
    }
   ],
   "source": [
    "k=eval('1235')\n",
    "print(type(k))"
   ]
  },
  {
   "cell_type": "raw",
   "id": "2456c60a-94bd-46bb-9ef8-8db6be7d73da",
   "metadata": {},
   "source": [
    "Map :-\n",
    "\n",
    "\n",
    "1.Explain the purpose of the `map()` function in Python and provide an example of how it can be used to apply a function to each element of an iterable.\n",
    "2..Write a Python program that uses the `map()` function to square each element of a list of numbers.\n",
    "3.How does the `map()` function differ from a list comprehension in Python, and when would you choose one over the other?\n",
    "4.Create a Python program that uses the `map()` function to convert a list of names to uppercase.\n",
    "5.Write a Python program that uses the `map()` function to calculate the length of each word in a list of strings.\n",
    "6.How can you use the `map()` function to apply a custom function to elements of multiple lists simultaneously in Python?\n",
    "7.Create a Python program that uses `map()` to convert a list of temperatures from Celsius to Fahrenheit.\n",
    "8.Write a Python program that uses the `map()` function to round each element of a list of floating-point numbers to the nearest integer.\n"
   ]
  },
  {
   "cell_type": "raw",
   "id": "f508e98a-ab1c-47a0-aa05-7f09b16ea74c",
   "metadata": {},
   "source": [
    "1.Explain the purpose of the `map()` function in Python and provide an example of how it can be used to apply a function to each element of an iterable.\n",
    "\n",
    "map():  works as an iterator to return a result after applying a function to every item of an iterable (tuple, lists,string ,range etc.). It is used when you want to apply a single transformation function to all the iterable elements. The iterable and function are passed as arguments to the map in Python.\n",
    "or\n",
    "The map() function executes a specified function for each item in an iterable. The item is sent to the function as a parameter.\n",
    "\n",
    "SYNTAX:\n",
    "map(function, iterables)\n",
    "\n",
    "EXAMPLE:\n",
    "def thing(n):\n",
    "   return len(n)\n",
    "\n",
    "\n",
    "n=map( thing,(\"cake\",\"icecream\",\"snacks\",\"chocolates\",\"toy\",\"games\"))\n"
   ]
  },
  {
   "cell_type": "code",
   "execution_count": 59,
   "id": "2d4a6629-fd30-4ed7-b966-12271cb9ee8c",
   "metadata": {},
   "outputs": [
    {
     "name": "stdout",
     "output_type": "stream",
     "text": [
      "<map object at 0x7f7864401180>\n",
      "(4, 8, 6, 10, 3, 5)\n"
     ]
    }
   ],
   "source": [
    "def thing(n):\n",
    "   return len(n)\n",
    "\n",
    "\n",
    "n=map( thing,(\"cake\",\"icecream\",\"snacks\",\"chocolates\",\"toy\",\"games\"))\n",
    "print(n)\n",
    "\n",
    "#convert the map into a list, tuple for readability:\n",
    "print(tuple(n))"
   ]
  },
  {
   "cell_type": "code",
   "execution_count": 60,
   "id": "09ffb54a-fc16-45c1-bc61-3940d1162a99",
   "metadata": {},
   "outputs": [
    {
     "name": "stdout",
     "output_type": "stream",
     "text": [
      "{3, 5, 6, 7}\n"
     ]
    }
   ],
   "source": [
    "def thing(n):\n",
    "   return len(n)\n",
    "\n",
    "l=map(thing,(\"books\",\"kitten\",\"musical\",\"air\",\"map\"))\n",
    "print(set(l))"
   ]
  },
  {
   "cell_type": "code",
   "execution_count": 61,
   "id": "a0b2ff42-214a-4776-b0d0-5ce6871704c0",
   "metadata": {},
   "outputs": [
    {
     "name": "stdout",
     "output_type": "stream",
     "text": [
      "(1, 25, 36, 64, 81, 1024)\n",
      "[625, 144, 16, 0, 36]\n"
     ]
    }
   ],
   "source": [
    "#2..Write a Python program that uses the `map()` function to square each element of a list of numbers.\n",
    "\n",
    "def square(num):\n",
    "    return num*num\n",
    "x=[1,5,6,8,9,32]\n",
    "num=map(square,x)\n",
    "print(tuple(num))  #error is coming up ming when using list so i used tuple here because list is already used..\n",
    " \n",
    "#or by list comphrension\n",
    "x1=[25,12,4,0,6]\n",
    "list1=[i **2 for i in x1]\n",
    "print(list1)"
   ]
  },
  {
   "cell_type": "raw",
   "id": "3c312ad5-8cdc-4f9f-9d9b-2ffba10b102c",
   "metadata": {},
   "source": [
    "3.How does the `map()` function differ from a list comprehension in Python, and when would you choose one over the other?\n",
    "\n",
    "Here's a comparison between the `map()` function and list comprehensions in Python:\n",
    "\n",
    "List comprehension is more concise and easier to read as compared to map. List comprehension are used when a list of results is required as map only returns a map object and does not return any list. Map is faster in case of calling an already defined function (as no lambda is required).\n",
    "\n",
    "Use map() when:\n",
    "  - You want to apply a function to each element of an iterable.\n",
    "  - You want to generate values one at a time and potentially save memory.\n",
    "  - The operation is straightforward and doesn't require additional conditions or expressions.\n",
    "\n",
    "Use list comprehension when:\n",
    "  - You want to create a new list based on existing iterables.\n",
    "  - The operation involves conditions, multiple expressions, or more complex logic.\n",
    "  - You prefer a more readable and concise syntax for simple operations."
   ]
  },
  {
   "cell_type": "code",
   "execution_count": 6,
   "id": "a6f01ff0-7e63-45a8-9ce3-44337a590fca",
   "metadata": {},
   "outputs": [
    {
     "name": "stdout",
     "output_type": "stream",
     "text": [
      "['AUSTRALIA ', 'JAPAN', 'KASHMIR', 'ITALY', 'FRANCE', 'ASIA']\n"
     ]
    }
   ],
   "source": [
    "#4.Create a Python program that uses the `map()` function to convert a list of names to uppercase.\n",
    "l=[\"australia \",\"japan\",\"kashmir\",\"italy\",\"france\",\"asia\"]\n",
    "x=list(map(lambda g:g.upper(),l))\n",
    "print(x)\n"
   ]
  },
  {
   "cell_type": "code",
   "execution_count": null,
   "id": "c88a45ad-5d3e-4003-a72d-5ad0044f6b1e",
   "metadata": {},
   "outputs": [
    {
     "name": "stdout",
     "output_type": "stream",
     "text": [
      "('AUSTRALIA ', 'JAPAN', 'KASHMIR', 'ITALY', 'FRANCE', 'ASIA')\n"
     ]
    }
   ],
   "source": [
    "#4.Create a Python program that uses the `map()` function to convert a list of names to uppercase.\n",
    "\n",
    "l=[\"australia \",\"japan\",\"kashmir\",\"italy\",\"france\",\"asia\"]\n",
    "x=map(lambda g:g.upper(),l)\n",
    "print(tuple(x))"
   ]
  },
  {
   "cell_type": "code",
   "execution_count": 5,
   "id": "2ad4743d-06e8-40db-ac62-274cf3eaa165",
   "metadata": {},
   "outputs": [
    {
     "name": "stdout",
     "output_type": "stream",
     "text": [
      "[10, 7, 5, 8, 6, 4, 5]\n"
     ]
    }
   ],
   "source": [
    "#5.Write a Python program that uses the `map()` function to calculate the length of each word in a list of strings.\n",
    "\n",
    "str=[\"australia \",\"kashmir\",\"italy\",\"panindia\",\"france\",\"asia\",\"japan\"]\n",
    "d=map(len,str)\n",
    "print(list(d))\n"
   ]
  },
  {
   "cell_type": "code",
   "execution_count": 4,
   "id": "0b926bf6-fca9-4850-80da-2a8784e30dec",
   "metadata": {},
   "outputs": [
    {
     "name": "stdout",
     "output_type": "stream",
     "text": [
      "[9, 16, 21, 25, 6, 0]\n"
     ]
    }
   ],
   "source": [
    "#6.How can you use the `map()` function to apply a custom function to elements of multiple lists simultaneously in Python?\n",
    "\n",
    "#By passing multiple iterable arguments to the map() function. \n",
    "#The function you want to apply should take as many arguments as there are iterable arguments passed to map()\n",
    "def multipication(a,b):\n",
    "    return a*b\n",
    "a=[1,2,3,5,6,4]\n",
    "b=[9,8,7,5,1,0]\n",
    "res=map(multipication,a,b)\n",
    "print(list(res))"
   ]
  },
  {
   "cell_type": "code",
   "execution_count": null,
   "id": "c5167ca2-9fc3-423a-99df-b87924931607",
   "metadata": {},
   "outputs": [
    {
     "name": "stdout",
     "output_type": "stream",
     "text": [
      "list of temperatures from Celsius to Fahrenheit (32.0, 41.0, 68.0, 100.03999999999999, 104.0)\n"
     ]
    }
   ],
   "source": [
    "#7.Create a Python program that uses `map()` to convert a list of temperatures from Celsius to Fahrenheit\n",
    "\n",
    "celsius=[0,5,20,37.8,40]\n",
    "fahrenheit=map(lambda x:(x*(9/5))+32,celsius)\n",
    "#list(fahrenheit)\n",
    "print(\"list of temperatures from Celsius to Fahrenheit\",tuple(fahrenheit))\n",
    "\n"
   ]
  },
  {
   "cell_type": "code",
   "execution_count": 3,
   "id": "8d1c5063-b74f-4ca2-ae0c-7812e7a7f728",
   "metadata": {},
   "outputs": [
    {
     "name": "stdout",
     "output_type": "stream",
     "text": [
      "[12, 6, 4, 12]\n"
     ]
    }
   ],
   "source": [
    "#8.Write a Python program that uses the `map()` function to round each element of a list of floating-point numbers to the nearest integer.\n",
    "\"\"\"number=int(input(\"Enter the number to be round off\"))\n",
    "numbers=[]\n",
    "for i in range(number):\n",
    "    element=float(input(\"Enter the numbers:\"))\n",
    "    numbers.append(element)\"\"\"\n",
    "    \n",
    "numbers=[12.3,5.6,4.2,12.5]    \n",
    "x=map(lambda num:round(num),numbers)\n",
    "print(list(x))\n"
   ]
  },
  {
   "cell_type": "raw",
   "id": "403ce5d6-13a1-48e7-9b52-ba7f1e94590f",
   "metadata": {},
   "source": [
    "Reduce :-\n",
    "\n",
    "\n",
    "1.What is the `reduce()` function in Python, and what module should you import to use it? Provide an example of its basic usage.\n",
    "2.Write a Python program that uses the `reduce()` function to find the product of all elements in a list.\n",
    "3.Create a Python program that uses `reduce()` to find the maximum element in a list of numbers.\n",
    "4.How can you use the `reduce()` function to concatenate a list of strings into a single string?\n",
    "5.Write a Python program that calculates the factorial of a number using the `reduce()` function.\n",
    "6.Create a Python program that uses `reduce()` to find the GCD (Greatest Common Divisor) of a list of numbers.\n",
    "7.Write a Python program that uses the `reduce()` function to find the sum of the digits of a given number."
   ]
  },
  {
   "cell_type": "raw",
   "id": "040467cf-33e8-4f92-b6a4-83d963f74b6c",
   "metadata": {},
   "source": [
    "1.What is the `reduce()` function in Python, and what module should you import to use it? Provide an example of its basic usage.\n",
    " \n",
    " \n",
    "What is the `reduce()`:\n",
    "The reduce(fun,seq) function is used to apply a particular function passed in its argument to all of the list elements mentioned in the sequence passed along.This function is defined in “functools” module.\n",
    "\n",
    "Working :  \n",
    "\n",
    "At first step, first two elements of sequence are picked and the result is obtained.\n",
    "Next step is to apply the same function to the previously attained result and the number just succeeding the second element and the result is again stored.\n",
    "This process continues till no more elements are left in the container.\n",
    "The final returned result is returned and printed on console.\n",
    "example:"
   ]
  },
  {
   "cell_type": "code",
   "execution_count": 80,
   "id": "4fb2163e-7b19-47e8-8da8-7da9bdb264c8",
   "metadata": {},
   "outputs": [
    {
     "data": {
      "text/plain": [
       "29"
      ]
     },
     "execution_count": 80,
     "metadata": {},
     "output_type": "execute_result"
    }
   ],
   "source": [
    "from functools import reduce\n",
    "def adder(a,b):\n",
    "    return a+b\n",
    "\n",
    "num=[4,5,8,1,2,3,6,0]\n",
    "reduce(adder,num)"
   ]
  },
  {
   "cell_type": "code",
   "execution_count": 81,
   "id": "2aed4157-c3ca-4428-8213-cec3f8fb4e87",
   "metadata": {},
   "outputs": [
    {
     "data": {
      "text/plain": [
       "'htmL is a'"
      ]
     },
     "execution_count": 81,
     "metadata": {},
     "output_type": "execute_result"
    }
   ],
   "source": [
    "from functools import reduce\n",
    "num=[\"h\",\"t\",\"m\",\"L\",\" \",\"is a\"]\n",
    "reduce(lambda a,b :a+b,num)"
   ]
  },
  {
   "cell_type": "code",
   "execution_count": 82,
   "id": "f5532c40-fea0-4eaf-a685-975e218ec776",
   "metadata": {},
   "outputs": [
    {
     "name": "stdout",
     "output_type": "stream",
     "text": [
      "23.1\n"
     ]
    }
   ],
   "source": [
    "#2.Write a Python program that uses the `reduce()` function to find the product of all elements in a list.\n",
    "from operator import mul\n",
    "from functools import reduce\n",
    "\n",
    "mul(1.1,2.10)\n",
    "\n",
    "list_item=[1.1,2.10,1,2,1,5]\n",
    "res=round(reduce(mul,list_item),2)\n",
    "print(res)"
   ]
  },
  {
   "cell_type": "code",
   "execution_count": 83,
   "id": "2f2be56d-f544-4a42-acdb-49a0c8440640",
   "metadata": {},
   "outputs": [
    {
     "data": {
      "text/plain": [
       "5"
      ]
     },
     "execution_count": 83,
     "metadata": {},
     "output_type": "execute_result"
    }
   ],
   "source": [
    "#3.Create a Python program that uses `reduce()` to find the maximum element in a list of numbers.\n",
    "from functools import reduce\n",
    "list_item=[1.1,2.10,1,2,1,5]\n",
    "reduce((lambda a,b : a if a>b else b),list_item)    "
   ]
  },
  {
   "cell_type": "code",
   "execution_count": 84,
   "id": "9691cd33-ad40-4308-9232-7d2e60e16cad",
   "metadata": {},
   "outputs": [
    {
     "data": {
      "text/plain": [
       "5226"
      ]
     },
     "execution_count": 84,
     "metadata": {},
     "output_type": "execute_result"
    }
   ],
   "source": [
    "from functools import reduce\n",
    "def max(a,b):\n",
    "        if a>b:\n",
    "            return a\n",
    "        else:\n",
    "            return b\n",
    "list_item=[19.1,212.10,10,2,1021,5226]\n",
    "reduce(max,list_item)"
   ]
  },
  {
   "cell_type": "code",
   "execution_count": 85,
   "id": "a190f9e3-01e7-496b-a828-fa2c9e30471d",
   "metadata": {},
   "outputs": [
    {
     "data": {
      "text/plain": [
       "'python is not a snake its a  planguage map worldhuman humanity'"
      ]
     },
     "execution_count": 85,
     "metadata": {},
     "output_type": "execute_result"
    }
   ],
   "source": [
    "#4.How can you use the `reduce()` function to concatenate a list of strings into a single string?\n",
    "from functools import reduce\n",
    "list_string=[\"python is not a snake its a  planguage \",\"map\",\"\",\" world\",\"human \",\"humanity\"]\n",
    "reduce(lambda a,b:a+b,list_string)"
   ]
  },
  {
   "cell_type": "code",
   "execution_count": 88,
   "id": "2a7ab109-eb41-4736-8603-ae1e07f624dd",
   "metadata": {},
   "outputs": [
    {
     "name": "stdin",
     "output_type": "stream",
     "text": [
      "Enter the positive integer: 6\n"
     ]
    },
    {
     "name": "stdout",
     "output_type": "stream",
     "text": [
      "720\n"
     ]
    }
   ],
   "source": [
    "#5.Write a Python program that calculates the factorial of a number using the `reduce()` function.\n",
    "from functools import reduce\n",
    "\n",
    "def factorial(n):\n",
    "    if n<=1:\n",
    "        return 1\n",
    "    else:\n",
    "        return reduce(lambda x,y :x*y ,range(1,n+1))\n",
    "number=int(input(\"Enter the positive integer:\"))\n",
    "res=factorial(number)\n",
    "print(res)"
   ]
  },
  {
   "cell_type": "code",
   "execution_count": 89,
   "id": "a096cb01-5127-47b0-a1d4-dd188bc86183",
   "metadata": {},
   "outputs": [
    {
     "name": "stdout",
     "output_type": "stream",
     "text": [
      "GCD of the list: 11\n"
     ]
    }
   ],
   "source": [
    "#6.Create a Python program that uses `reduce()` to find the GCD (Greatest Common Divisor) of a list of numbers.\n",
    "from functools import reduce\n",
    "\n",
    "def gcd(x, y):\n",
    "    if(y == 0):\n",
    "        return x\n",
    "    else:\n",
    "        return gcd(y, x % y)\n",
    "\n",
    "list=[22,66,44,55]\n",
    "\n",
    "result = reduce(gcd,list)\n",
    "\n",
    "print(\"GCD of the list:\", result)"
   ]
  },
  {
   "cell_type": "code",
   "execution_count": 90,
   "id": "60103199-c464-4fb5-9fd1-1d370ff3d31d",
   "metadata": {},
   "outputs": [
    {
     "data": {
      "text/plain": [
       "4"
      ]
     },
     "execution_count": 90,
     "metadata": {},
     "output_type": "execute_result"
    }
   ],
   "source": [
    "def gcd(x, y):\n",
    "    while y != 0:\n",
    "        x, y = y, x % y\n",
    "    return x\n",
    "\n",
    "def find_gcd_of_list(numbers):\n",
    "    return reduce(gcd, numbers)\n",
    "numbers=[24,36,44,60]\n",
    "find_gcd_of_list(numbers)"
   ]
  },
  {
   "cell_type": "code",
   "execution_count": 2,
   "id": "6f6877f3-828a-4c73-a934-5a8189ced5a2",
   "metadata": {},
   "outputs": [
    {
     "data": {
      "text/plain": [
       "20"
      ]
     },
     "execution_count": 2,
     "metadata": {},
     "output_type": "execute_result"
    }
   ],
   "source": [
    "#7.Write a Python program that uses the `reduce()` function to find the sum of the digits of a given number.\n",
    "from functools import reduce\n",
    "def sum_all_numbers(n):\n",
    "    return reduce(lambda x,y :int(x)+int(y),str(n))\n",
    "number=15482\n",
    "sum_all_numbers(number)\n"
   ]
  },
  {
   "cell_type": "raw",
   "id": "6a5cd9d1-d704-49ec-b6c1-064d3c5a8b30",
   "metadata": {},
   "source": [
    "Filter :-\n",
    "\n",
    "\n",
    "1.Explain the purpose of the `filter()` function in Python and provide an example of how it can be used to filter elements from an iterable.\n",
    "2.Write a Python program that uses the `filter()` function to select even numbers from a list of integers.\n",
    "3.Create a Python program that uses the `filter()` function to select names that start with a specific letter from a list of strings.\n",
    "4.Write a Python program that uses the `filter()` function to select prime numbers from a list of integers.\n",
    "5.How can you use the `filter()` function to remove None values from a list in Python?\n",
    "6.Create a Python program that uses `filter()` to select words longer than a certain length from a list of strings.\n",
    "7.Write a Python program that uses the `filter()` function to select elements greater than a specified threshold from a list of values."
   ]
  },
  {
   "cell_type": "raw",
   "id": "76f0cbd6-cb81-463f-9c43-e1ce250a88ca",
   "metadata": {},
   "source": [
    "1.Explain the purpose of the `filter()` function in Python and provide an example of how it can be used to filter elements from an iterable.\n",
    "The filter() method filters the given sequence with the help of a function that tests each element in the sequence to be true or not. \n",
    "\n",
    "Syntax: filter(function, sequence)\n",
    "function: function that tests if each element of a sequence is true or not.\n",
    "sequence: sequence which needs to be filtered, it can be sets, lists, tuples, or containers of any iterators.\n",
    "Returns: an iterator that is already filtered.\n",
    "Example:\n",
    "ages = [5, 12, 17, 18, 24, 32]\n",
    "\n",
    "def myFunc(x):\n",
    "  if x < 18:\n",
    "    return False\n",
    "  else:\n",
    "    return True\n",
    "\n",
    "adults = filter(myFunc, ages)\n",
    "\n",
    "for x in adults:\n",
    "  print(x)"
   ]
  },
  {
   "cell_type": "code",
   "execution_count": 96,
   "id": "4938d0fe-4a27-4d11-88ab-9c92192bd8fe",
   "metadata": {},
   "outputs": [
    {
     "name": "stdout",
     "output_type": "stream",
     "text": [
      "18\n",
      "24\n",
      "32\n"
     ]
    }
   ],
   "source": [
    "ages = [5, 12, 17, 18, 24, 32]\n",
    "\n",
    "def myFunc(x):\n",
    "    if x < 18:\n",
    "        return False\n",
    "    else:\n",
    "        return True\n",
    "\n",
    "adults = filter(myFunc, ages)\n",
    "\n",
    "for x in adults:\n",
    "    print(x)"
   ]
  },
  {
   "cell_type": "code",
   "execution_count": 1,
   "id": "1cac188c-13a8-4748-a662-df86d64fc9a6",
   "metadata": {},
   "outputs": [
    {
     "name": "stdout",
     "output_type": "stream",
     "text": [
      "the even number in list : [12, 4, 98, 0]\n"
     ]
    }
   ],
   "source": [
    "#2.Write a Python program that uses the `filter()` function to select even numbers from a list of integers.\n",
    "number_listitem=[12,4,5,7,3,61,89,98,33,0]\n",
    "\n",
    "even=filter(lambda a:a%2==0,number_listitem)\n",
    "\n",
    "print(\"the even number in list :\",list(even))"
   ]
  },
  {
   "cell_type": "code",
   "execution_count": 7,
   "id": "ff3cacd4-9f2f-492f-8688-8216ffc78cd3",
   "metadata": {},
   "outputs": [
    {
     "name": "stdout",
     "output_type": "stream",
     "text": [
      " Select names that start with a specific letter: ['skill', 'simbha', 'stick', 'sparrow']\n"
     ]
    }
   ],
   "source": [
    "#3.Create a Python program that uses the `filter()` function to select names that start with a specific letter from a list of strings.\n",
    "string_list=[\"puppy\",\"skill\",'lion','king',\"simbha\",\"pop\",\"jump\",\"stick\",\"sparrow\"]\n",
    "\n",
    "specificletter=filter(lambda a:a[0]==\"s\",string_list)\n",
    "\n",
    "print(\" Select names that start with a specific letter:\",list(specificletter))"
   ]
  },
  {
   "cell_type": "code",
   "execution_count": 8,
   "id": "2ebda5f8-7f1e-492b-baa7-af017b2d5de4",
   "metadata": {},
   "outputs": [
    {
     "name": "stdout",
     "output_type": "stream",
     "text": [
      "[3, 5, 7, 17, 79, 41, 67]\n"
     ]
    }
   ],
   "source": [
    "#4.Write a Python program that uses the `filter()` function to select prime numbers from a list of integers.\n",
    "def is_prime(num):\n",
    "    if num < 2:\n",
    "        return False\n",
    "    for i in range(2, int(num**0.5) + 1):\n",
    "        if num % i == 0:\n",
    "            return False\n",
    "    return True\n",
    "\n",
    "li_integer=[1,12,6,3,5,8,7,17,45,95,91,57,79,41,88,67]\n",
    "\n",
    "prime_num=filter(is_prime,li_integer)\n",
    "\n",
    "print(list(prime_num))"
   ]
  },
  {
   "cell_type": "code",
   "execution_count": 9,
   "id": "30106ed2-380a-4f51-b75f-cebce66699f1",
   "metadata": {},
   "outputs": [
    {
     "name": "stdout",
     "output_type": "stream",
     "text": [
      "[21, 90, 56, 43, 23, 0]\n"
     ]
    }
   ],
   "source": [
    "#5.How can you use the `filter()` function to remove None values from a list in Python?\n",
    "goods=[21,None,90,56,43,None,23,0,None]\n",
    "\n",
    "filter_list=filter(lambda a:a is not None,goods)\n",
    "\n",
    "print(list(filter_list))"
   ]
  },
  {
   "cell_type": "code",
   "execution_count": 10,
   "id": "648c8827-4ec1-4673-bb08-f275bd4ea0e1",
   "metadata": {},
   "outputs": [
    {
     "name": "stdout",
     "output_type": "stream",
     "text": [
      "Words shorter than or equal to 4 characters: ['lion', 'king', 'pop', 'jump']\n",
      "Words longer than 4 characters: ['lion', 'king', 'pop', 'jump']\n"
     ]
    }
   ],
   "source": [
    "#6.Create a Python program that uses `filter()` to select words longer than a certain length from a list of strings.\n",
    "string_list=[\"puppy\",\"skill\",'lion','king',\"simbha\",\"pop\",\"jump\",\"stick\",\"sparrow\",\"chicken\",\"pillow\"]\n",
    "\n",
    "filtered_string=list(filter(lambda a:len(a)<=4,string_list))\n",
    "filtering=tuple(filter(lambda d:len(d)>4,string_list))\n",
    "\n",
    "print(\"Words shorter than or equal to 4 characters:\", filtered_string)\n",
    "print(\"Words longer than 4 characters:\", filtered_string)"
   ]
  },
  {
   "cell_type": "code",
   "execution_count": 11,
   "id": "6d530e80-4dc6-428d-bf14-7569ad839c14",
   "metadata": {},
   "outputs": [
    {
     "name": "stdout",
     "output_type": "stream",
     "text": [
      "[89, 75, 42, 55]\n"
     ]
    }
   ],
   "source": [
    "#7.Write a Python program that uses the `filter()` function to select elements greater than a specified threshold from a list of values.\n",
    "customer_list=[40,15,16,89,75,36,42,13,55,16]\n",
    "threshold=40\n",
    "value_elem=filter(lambda a:a>threshold,customer_list)\n",
    "print(list(value_elem))"
   ]
  },
  {
   "cell_type": "raw",
   "id": "191c00e1-0aa5-4b8a-99cd-312f3d0c0858",
   "metadata": {},
   "source": [
    "Recursion:-\n",
    "\n",
    "1.Explain the concept of recursion in Python. How does it differ from iteration?\n",
    "2.Write a Python program to calculate the factorial of a number using recursion.\n",
    "3.Create a recursive Python function to find the nth Fibonacci number.\n",
    "4.Write a recursive Python function to calculate the sum of all elements in a list.\n",
    "5.How can you prevent a recursive function from running indefinitely, causing a stack overflow error?\n",
    "6.Create a recursive Python function to find the greatest common divisor (GCD) of two numbers using the Euclidean algorithm.\n",
    "7.Write a recursive Python function to reverse a string.\n",
    "8.Create a recursive Python function to calculate the power of a number (x^n).\n",
    "9.Write a recursive Python function to find all permutations of a given string.\n",
    "10.Write a recursive Python function to check if a string is a palindrome.\n",
    "11.Create a recursive Python function to generate all possible combinations of a list of elements."
   ]
  },
  {
   "cell_type": "raw",
   "id": "3ea0941a-9439-446d-b1c2-9fa042db4db3",
   "metadata": {},
   "source": [
    "#1.Explain the concept of recursion in Python. How does it differ from iteration?\n",
    "\n",
    "Recursion is when a function calls itself within its code, thus repeatedly executing the instructions present inside it,\n",
    "typically breaking into smaller and more manageable sub-problems.\n",
    "\n",
    "def factorial(n):\n",
    "    if n==0 or n==1:\n",
    "        return 1\n",
    "    return n*factorial(n-1)\n",
    "[factorial(i) for i in range(10)]\n",
    "\n",
    "Iteration is when a loop repeatedly executes the set of instructions like \"for\" loops and \"while\" loops."
   ]
  },
  {
   "cell_type": "code",
   "execution_count": 13,
   "id": "83752356-b92a-4bbd-ba47-5a2bd0bbab15",
   "metadata": {},
   "outputs": [
    {
     "data": {
      "text/plain": [
       "[1, 1, 2, 6, 24, 120, 720, 5040, 40320, 362880]"
      ]
     },
     "execution_count": 13,
     "metadata": {},
     "output_type": "execute_result"
    }
   ],
   "source": [
    "#2.Write a Python program to calculate the factorial of a number using recursion.\n",
    "def factorial(n):\n",
    "    if n==0 or n==1:\n",
    "        return 1\n",
    "    return n*factorial(n-1)\n",
    "[factorial(i) for i in range(10)]"
   ]
  },
  {
   "cell_type": "code",
   "execution_count": 14,
   "id": "dbfcc95e-064e-48dc-9d3c-c94cab100190",
   "metadata": {},
   "outputs": [
    {
     "data": {
      "text/plain": [
       "[0, 1, 1, 2, 3, 5, 8, 13, 21, 34, 55, 89, 144, 233, 377]"
      ]
     },
     "execution_count": 14,
     "metadata": {},
     "output_type": "execute_result"
    }
   ],
   "source": [
    "#3.Create a recursive Python function to find the nth Fibonacci number.\n",
    "def fibonacci(n):\n",
    "    if n in {0, 1}:  # Base case\n",
    "        return n\n",
    "    else:\n",
    "        return fibonacci(n-1)+fibonacci(n-2)\n",
    "[fibonacci(i) for i in range(15)]"
   ]
  },
  {
   "cell_type": "code",
   "execution_count": 15,
   "id": "430ad47d-06d7-4d49-8d07-178c5ec541c0",
   "metadata": {},
   "outputs": [
    {
     "name": "stdout",
     "output_type": "stream",
     "text": [
      "27\n"
     ]
    }
   ],
   "source": [
    "#4.Write a recursive Python function to calculate the sum of all elements in a list.\n",
    "def sum(n):\n",
    "    if not n:\n",
    "        return 0\n",
    "    return n[0] + sum(n[1:])\n",
    "list_number=[0,1,2,5,4,8,7]\n",
    "\n",
    "res=sum(list_number)\n",
    "print(res)"
   ]
  },
  {
   "cell_type": "raw",
   "id": "d4d8ac70-2a19-41a9-9111-b953c8b7061d",
   "metadata": {},
   "source": [
    "#5.How can you prevent a recursive function from running indefinitely, causing a stack overflow error?\n",
    "\n",
    "The best way to be sure that the recursive functions will end, is to put one, or more conditions.\n",
    "1.Base condition\n",
    "2.Ensure Progress Toward the Base Case\n",
    "3.Check Inputs and Parameters\n",
    "4.Test with Small Inputs\n",
    "5.Use Tail Recursion (if available)"
   ]
  },
  {
   "cell_type": "code",
   "execution_count": 16,
   "id": "ceb3d1f6-6577-47b3-a74f-34a47bba3bca",
   "metadata": {},
   "outputs": [
    {
     "name": "stdout",
     "output_type": "stream",
     "text": [
      "The greatest common divisor (GCD) of two numbers using the Euclidean algorithm is 15\n"
     ]
    }
   ],
   "source": [
    "#6.Create a recursive Python function to find the greatest common divisor (GCD) of two numbers using the Euclidean algorithm.\n",
    "def gcd(a,b):\n",
    "    if a==0: \n",
    "        return b\n",
    "    if b==0:\n",
    "        return a\n",
    " \n",
    "\n",
    "    if a==b:\n",
    "        return a\n",
    "    \n",
    "    if a>b:\n",
    "        return gcd(a-b,b)\n",
    "    return gcd(a,a-b)\n",
    "        \n",
    "print(f\"The greatest common divisor (GCD) of two numbers using the Euclidean algorithm is {gcd(45,15)}\")"
   ]
  },
  {
   "cell_type": "code",
   "execution_count": 17,
   "id": "da7ade5d-c33b-47f1-8a23-5616ac12f7c8",
   "metadata": {},
   "outputs": [
    {
     "data": {
      "text/plain": [
       "'gorp a si siht'"
      ]
     },
     "execution_count": 17,
     "metadata": {},
     "output_type": "execute_result"
    }
   ],
   "source": [
    "#7.Write a recursive Python function to reverse a string.\n",
    "def reverse(str):\n",
    "    if len(str)<=1:\n",
    "        return str\n",
    "    return reverse(str[1:])+str[0]\n",
    "str=(\"this is a prog\")\n",
    "reverse(str)"
   ]
  },
  {
   "cell_type": "code",
   "execution_count": 18,
   "id": "3e1bece4-7992-4c4f-9d2e-360c4c241cc5",
   "metadata": {},
   "outputs": [
    {
     "name": "stdin",
     "output_type": "stream",
     "text": [
      "Enter base:  2\n",
      "Enter exponential value:  6\n"
     ]
    },
    {
     "name": "stdout",
     "output_type": "stream",
     "text": [
      "Result: 64\n"
     ]
    }
   ],
   "source": [
    "#8.Create a recursive Python function to calculate the power of a number (x^n).\n",
    "def power(base,exp):\n",
    "    if(exp==1):\n",
    "        return(base)\n",
    "    if(exp!=1):\n",
    "        return(base*power(base,exp-1))\n",
    "base=int(input(\"Enter base: \"))\n",
    "exp=int(input(\"Enter exponential value: \"))\n",
    "print(\"Result:\",power(base,exp))"
   ]
  },
  {
   "cell_type": "code",
   "execution_count": 19,
   "id": "a957d38a-9caa-486a-b68a-a6384af49175",
   "metadata": {},
   "outputs": [
    {
     "name": "stdout",
     "output_type": "stream",
     "text": [
      "ABC\n",
      "ACB\n",
      "BAC\n",
      "BCA\n",
      "CBA\n",
      "CAB\n"
     ]
    }
   ],
   "source": [
    "#9.Write a recursive Python function to find all permutations of a given string.\n",
    "# Python3 program to print all permutations with \n",
    "# duplicates allowed  \n",
    "def toString(List): \n",
    "    return ''.join(List)   \n",
    "# Function to print permutations of string \n",
    "# This function takes three parameters: \n",
    "# 1. String \n",
    "# 2. Starting index of the string \n",
    "# 3. Ending index of the string. \n",
    "def permute(a, l, r): \n",
    "    if l == r: \n",
    "        print(toString(a)) \n",
    "    else: \n",
    "        for i in range(l, r): \n",
    "            a[l], a[i] = a[i], a[l] \n",
    "            permute(a, l+1, r) \n",
    "            a[l], a[i] = a[i], a[l]  # backtrack \n",
    "  \n",
    "# Driver code \n",
    "string = \"ABC\"\n",
    "n = len(string) \n",
    "a = list(string) \n",
    "  \n",
    "# Function call \n",
    "permute(a, 0, n) \n",
    "  "
   ]
  },
  {
   "cell_type": "code",
   "execution_count": 20,
   "id": "5f460042-9ca6-45e9-b5ed-7a4feb90ff0f",
   "metadata": {},
   "outputs": [
    {
     "name": "stdout",
     "output_type": "stream",
     "text": [
      "is a palindrome--> radar\n"
     ]
    }
   ],
   "source": [
    "#10.Write a recursive Python function to check if a string is a palindrome.\n",
    "def palindrome(str):\n",
    "    if len(str)<=1:\n",
    "        return True\n",
    "    elif str[0]==str[-1]:\n",
    "        return palindrome(str[1:-1])\n",
    "    else:\n",
    "        return False\n",
    "\n",
    "string=\"radar\"\n",
    "\n",
    "res=palindrome(string)\n",
    "if res:\n",
    "    print(f\"is a palindrome--> {string}\")\n",
    "else:\n",
    "    print(\"is not  a palindrome\")\n",
    "    \n",
    "        \n",
    "    \n",
    "    "
   ]
  },
  {
   "cell_type": "code",
   "execution_count": 4,
   "id": "58d53e02-178d-4a14-a4a9-755d9e33849e",
   "metadata": {},
   "outputs": [
    {
     "name": "stdout",
     "output_type": "stream",
     "text": [
      "ada\n"
     ]
    }
   ],
   "source": [
    "str=\"radar\"\n",
    "if str[0]==str[-1]:\n",
    "    print(str[1:-1])"
   ]
  },
  {
   "cell_type": "code",
   "execution_count": 9,
   "id": "a376b66d-23e3-4d4d-965c-450e7e5ff682",
   "metadata": {},
   "outputs": [
    {
     "name": "stdout",
     "output_type": "stream",
     "text": [
      "All combinations of 2 elements from [1, 2, 3, 4]:\n",
      "[[1, 2], [1, 3], [1, 4], [2, 3], [2, 4], [3, 4]]\n"
     ]
    }
   ],
   "source": [
    "#11.Create a recursive Python function to generate all possible combinations of a list of elements\n",
    "def generate_combinations(elements, k):\n",
    "    # Base case: when k is 0, return a list with an empty combination\n",
    "    if k == 0:\n",
    "        return [[]]\n",
    "    # Base case: when the list is empty, return an empty list\n",
    "    elif not elements:\n",
    "        return []\n",
    "    else:\n",
    "        # Recursive case: generate combinations with the first element and without the first element\n",
    "        with_first = [[elements[0]] + combo for combo in generate_combinations(elements[1:], k - 1)]\n",
    "        without_first = generate_combinations(elements[1:], k)\n",
    "        # Combine the results\n",
    "        return with_first + without_first\n",
    "\n",
    "# Example usage\n",
    "elements_list = [1, 2, 3, 4]\n",
    "k = 2\n",
    "\n",
    "result = generate_combinations(elements_list, k)\n",
    "\n",
    "print(f\"All combinations of {k} elements from {elements_list}:\")\n",
    "print(result)\n"
   ]
  },
  {
   "cell_type": "raw",
   "id": "8f1f42a6-364f-4191-9dbd-ab959ba31b04",
   "metadata": {},
   "source": [
    "Basics of Functions:\n",
    "\n",
    "1.What is a function in Python, and why is it used?\n",
    "2.How do you define a function in Python? Provide an example.\n",
    "3.Explain the difference between a function definition and a function call.\n",
    "4.Write a Python program that defines a function to calculate the sum of two numbers and then calls the function.\n",
    "5.What is a function signature, and what information does it typically include?\n",
    "6.Create a Python function that takes two arguments and returns their product.\n"
   ]
  },
  {
   "cell_type": "raw",
   "id": "750054b2-33df-46d6-858d-3d3d62a6ec55",
   "metadata": {},
   "source": [
    "1.What is a function in Python, and why is it used?\n",
    "Python Functions is a block of statements that return the specific task.You can pass data, known as parameters, into a function.\n",
    "The idea is to put some commonly or repeatedly done tasks together and make a function so that instead of writing the same code again and again for different inputs, we can do the function calls to reuse code contained in it over and over again.\n",
    "\n",
    "Some Benefits of Using Functions\n",
    "\n",
    "Increase Code Readability \n",
    "Increase Code Reusability"
   ]
  },
  {
   "cell_type": "raw",
   "id": "81650d83-5e60-423d-acbc-13077d7e8305",
   "metadata": {},
   "source": [
    "2.How do you define a function in Python? Provide an example.\n",
    "The four steps to defining a function in Python are the following:\n",
    "\n",
    "Use the keyword def to declare the function and follow this up with the function name.\n",
    "Add parameters to the function: they should be within the parentheses of the function. End your line with a colon.\n",
    "Add statements that the functions should execute.\n",
    "End your function with a return statement if the function should output something. Without the return statement, your function will return an object None.\n",
    "\n",
    "sybtax \n",
    "def function_name(parameters):\n",
    "    \n",
    "    statement # body of statement \n",
    "    \n",
    "    return expression"
   ]
  },
  {
   "cell_type": "code",
   "execution_count": 22,
   "id": "7aecc053-a282-4cd6-81cf-dcbaf371c9f4",
   "metadata": {},
   "outputs": [
    {
     "name": "stdout",
     "output_type": "stream",
     "text": [
      "hello\n"
     ]
    },
    {
     "data": {
      "text/plain": [
       "9"
      ]
     },
     "execution_count": 22,
     "metadata": {},
     "output_type": "execute_result"
    }
   ],
   "source": [
    "#definition of function\n",
    "def my_fun(n):   #n is argument or parameter\n",
    "    print(\"hello\")\n",
    "    return n\n",
    "#functon call \n",
    "my_fun(9)"
   ]
  },
  {
   "cell_type": "raw",
   "id": "be4c232b-cd0e-4241-840d-121db4ee9c88",
   "metadata": {},
   "source": [
    "3.Explain the difference between a function definition and a function call.\n",
    "\n",
    "A function is a block of code that performs a specific task, \n",
    "while a function call is an expression that invokes a function and executes the code in the function"
   ]
  },
  {
   "cell_type": "code",
   "execution_count": 23,
   "id": "4261eb81-a662-4d6f-8652-f8abb972c645",
   "metadata": {},
   "outputs": [
    {
     "data": {
      "text/plain": [
       "15"
      ]
     },
     "execution_count": 23,
     "metadata": {},
     "output_type": "execute_result"
    }
   ],
   "source": [
    "#4.Write a Python program that defines a function to calculate the sum of two numbers and then calls the function.\n",
    "def sum(a,b): #function definition\n",
    "    return a+b\n",
    "sum(8,7)   #function call"
   ]
  },
  {
   "cell_type": "raw",
   "id": "1dc3d3d1-23b9-4ddb-a2fa-3bcfb7be45f0",
   "metadata": {},
   "source": [
    "5.What is a function signature, and what information does it typically include?\n",
    "\n",
    "A function signature is its declaration, parameters, and return type.\n",
    "Function Name:\n",
    "\n",
    "The name of the function that identifies it within the program. This is the identifier used to call the function.\n",
    "Return Type:\n",
    "\n",
    "The type of the value that the function returns. It specifies the type of data that the function will produce as output.\n",
    "Parameters/Arguments:\n",
    "\n",
    "The list of input parameters or arguments that the function accepts. It includes the names and types of the input values the function expects."
   ]
  },
  {
   "cell_type": "code",
   "execution_count": 24,
   "id": "80ce6e37-eaf3-4066-a9bc-7c2deaff65cb",
   "metadata": {},
   "outputs": [
    {
     "data": {
      "text/plain": [
       "63"
      ]
     },
     "execution_count": 24,
     "metadata": {},
     "output_type": "execute_result"
    }
   ],
   "source": [
    "#6.Create a Python function that takes two arguments and returns their product.\n",
    "def product(a,b):\n",
    "    return a*b\n",
    "a=9\n",
    "b=7\n",
    "product(a,b)"
   ]
  },
  {
   "cell_type": "code",
   "execution_count": null,
   "id": "1503fd88-2fbe-44a4-a47f-e2ba69363cf9",
   "metadata": {},
   "outputs": [],
   "source": [
    "Function Parameters and Arguments:\n",
    "\n",
    "1.Explain the concepts of formal parameters and actual arguments in Python functions.\n",
    "2.Write a Python program that defines a function with default argument values.\n",
    "3.How do you use keyword arguments in Python function calls? Provide an example.\n",
    "4.Create a Python function that accepts a variable number of arguments and calculates their sum.\n",
    "5.What is the purpose of the `*args` and `**kwargs` syntax in function parameter lists?"
   ]
  },
  {
   "cell_type": "code",
   "execution_count": null,
   "id": "b5580241-a20b-40cb-8388-5956319df13f",
   "metadata": {},
   "outputs": [],
   "source": [
    "1.Explain the concepts of formal parameters and actual arguments in Python functions.\n",
    "Actual Parameters are values supplied to the function when it is invoked, whereas\n",
    "Formal Parameters are variables declared by the function that get values when the function is called.\n",
    "def sum(a, b):\n",
    "   c = a + b            # a and b are formal arguments\n",
    "   print(c)\n",
    "# call the function\n",
    "x = 10\n",
    "y = 15\n",
    "sum(x, y) # x and y are actual arguments\n",
    "Output: 25\n",
    "\n"
   ]
  },
  {
   "cell_type": "code",
   "execution_count": null,
   "id": "6a7d0070-9d60-4e54-b744-88373ba67ef8",
   "metadata": {},
   "outputs": [],
   "source": [
    "#2.Write a Python program that defines a function with default argument values.\n",
    "The arguments that take default values when no explicit values are supplied to them \n",
    "from the function call are known as default arguments in Python functions.\n",
    "def greet(name=\"world\"):\n",
    "   print(\"Hello,\", name)\n",
    "greet()\n"
   ]
  },
  {
   "cell_type": "code",
   "execution_count": 25,
   "id": "3c38e0bf-9238-4d62-be83-82a949d2ae89",
   "metadata": {},
   "outputs": [
    {
     "name": "stdout",
     "output_type": "stream",
     "text": [
      "Hello, world\n"
     ]
    }
   ],
   "source": [
    "def greet(name=\"world\"):#world is default value\n",
    "   print(\"Hello,\", name)\n",
    "greet()\n"
   ]
  },
  {
   "cell_type": "code",
   "execution_count": 26,
   "id": "7f1ff90b-c06d-4505-97c0-4705a665e265",
   "metadata": {},
   "outputs": [
    {
     "data": {
      "text/plain": [
       "('arisha', 'fatima', 'riza')"
      ]
     },
     "execution_count": 26,
     "metadata": {},
     "output_type": "execute_result"
    }
   ],
   "source": [
    "#3.How do you use keyword arguments in Python function calls? Provide an example.\n",
    "def function_key(name1,name2,name3):\n",
    "    return name1,name2,name3\n",
    "function_key(name1=\"arisha\",name2=\"fatima\",name3=\"riza\")"
   ]
  },
  {
   "cell_type": "code",
   "execution_count": 4,
   "id": "b1a694dd-fb2a-4a81-abd7-66b1fdc7208a",
   "metadata": {},
   "outputs": [
    {
     "name": "stdout",
     "output_type": "stream",
     "text": [
      "<function sum at 0x7fc8c417d750>\n"
     ]
    }
   ],
   "source": [
    "#4.Create a Python function that accepts a variable number of arguments and calculates their sum.\n",
    "def sum(*a):\n",
    "    return sum\n",
    "\n",
    "a=5,9\n",
    "final=sum(a)\n",
    "\n",
    "print(final)\n",
    "\n"
   ]
  },
  {
   "cell_type": "code",
   "execution_count": 5,
   "id": "50415063-395b-4b35-9573-573a0479980b",
   "metadata": {},
   "outputs": [
    {
     "name": "stdout",
     "output_type": "stream",
     "text": [
      "The youngest child is Linus\n"
     ]
    }
   ],
   "source": [
    "def my_function(*kids):\n",
    "  print(\"The youngest child is \" + kids[2])\n",
    "\n",
    "my_function(\"Emil\", \"Tobias\", \"Linus\")"
   ]
  },
  {
   "cell_type": "raw",
   "id": "78b4fff4-6f45-485d-876e-4d1e5ca407b1",
   "metadata": {},
   "source": [
    "5.What is the purpose of the `*args` and `**kwargs` syntax in function parameter lists?\n",
    "Arbitrary Arguments, *args\n",
    "\n",
    "If you do not know how many arguments that will be passed into your function, add a * before the parameter name in the function definition.\n",
    "\n",
    "This way the function will receive a tuple of arguments, and can access the items accordingly\n",
    "\n",
    "Arbitrary Keyword Arguments, **kwargs\n",
    "\n",
    "If you do not know how many keyword arguments that will be passed into your function, add two asterisk: ** before the parameter name in the function definition.\n",
    "\n",
    "This way the function will receive a dictionary of arguments, and can access the items accordingly"
   ]
  },
  {
   "cell_type": "raw",
   "id": "89400ee5-31a2-496b-b46a-66d8ca1c4a3b",
   "metadata": {},
   "source": [
    "Return Values and Scoping:\n",
    "\n",
    "1.Describe the role of the `return` statement in Python functions and provide examples.\n",
    "2.Explain the concept of variable scope in Python, including local and global variables.\n",
    "3.Write a Python program that demonstrates the use of global variables within functions.\n",
    "4.Create a Python function that calculates the factorial of a number and returns it.\n",
    "5.How can you access variables defined outside a function from within the function?"
   ]
  },
  {
   "cell_type": "raw",
   "id": "8ecce091-45fd-4e18-bb5a-6f30f58893a1",
   "metadata": {},
   "source": [
    "#1.Describe the role of the `return` statement in Python functions and provide examples.\n",
    "The return statement in Python functions is used to send a value back from the function to the caller. It marks the end of the function's execution, and the specified value is returned to the point where the function was called."
   ]
  },
  {
   "cell_type": "code",
   "execution_count": 6,
   "id": "16802a9c-169e-4f12-b7c4-138b3813dc8c",
   "metadata": {},
   "outputs": [
    {
     "name": "stdout",
     "output_type": "stream",
     "text": [
      "8\n"
     ]
    }
   ],
   "source": [
    "def add_numbers(a, b):\n",
    "    result = a + b\n",
    "    return result\n",
    "\n",
    "sum_result = add_numbers(3, 5)\n",
    "print(sum_result)  # Output: 8\n"
   ]
  },
  {
   "cell_type": "raw",
   "id": "0f879ac3-0113-4355-8fad-ce8c7e2c794f",
   "metadata": {},
   "source": [
    "#2.Explain the concept of variable scope in Python, including local and global variables.\n",
    "Variable Scope in Python:\n",
    "Local Variables: Variables defined within a function are local to that function. They are only accessible within the function and not visible outside of it.\n",
    "\n",
    "Global Variables: Variables defined outside of any function or at the module level are considered global. They are accessible throughout the entire program."
   ]
  },
  {
   "cell_type": "code",
   "execution_count": 8,
   "id": "84d6ae79-94ed-48ba-adac-c7ce526918fa",
   "metadata": {},
   "outputs": [
    {
     "name": "stdout",
     "output_type": "stream",
     "text": [
      "10\n",
      "5\n",
      "10\n"
     ]
    },
    {
     "ename": "NameError",
     "evalue": "name 'local_var' is not defined",
     "output_type": "error",
     "traceback": [
      "\u001b[0;31m---------------------------------------------------------------------------\u001b[0m",
      "\u001b[0;31mNameError\u001b[0m                                 Traceback (most recent call last)",
      "Cell \u001b[0;32mIn[8], line 13\u001b[0m\n\u001b[1;32m     11\u001b[0m \u001b[38;5;28mprint\u001b[39m(global_var)  \u001b[38;5;66;03m# Accessible outside the function\u001b[39;00m\n\u001b[1;32m     12\u001b[0m \u001b[38;5;66;03m# print(local_var)  # This would result in an error since local_var is not defined outside the function\u001b[39;00m\n\u001b[0;32m---> 13\u001b[0m \u001b[38;5;28mprint\u001b[39m(\u001b[43mlocal_var\u001b[49m)\n",
      "\u001b[0;31mNameError\u001b[0m: name 'local_var' is not defined"
     ]
    }
   ],
   "source": [
    "# Global variable\n",
    "global_var = 10\n",
    "\n",
    "def example_function():\n",
    "    # Local variable\n",
    "    local_var = 5\n",
    "    print(global_var)  # Accessible from within the function\n",
    "    print(local_var)   # Accessible only within the function\n",
    "\n",
    "example_function()\n",
    "print(global_var)  # Accessible outside the function\n",
    "# print(local_var)  # This would result in an error since local_var is not defined outside the function\n",
    "print(local_var)  #not accessible outside the function             "
   ]
  },
  {
   "cell_type": "code",
   "execution_count": 10,
   "id": "bc9c9b26-772a-4840-bf2e-a0d5e0de599d",
   "metadata": {},
   "outputs": [
    {
     "name": "stdout",
     "output_type": "stream",
     "text": [
      "15\n"
     ]
    }
   ],
   "source": [
    "#3.Write a Python program that demonstrates the use of global variables within functions.\n",
    "# Global variable\n",
    "global_var = 10\n",
    "\n",
    "def modify_global():\n",
    "    # Accessing and modifying the global variable within the function\n",
    "    global global_var\n",
    "    global_var += 5\n",
    "\n",
    "modify_global()\n",
    "print(global_var)  # Output: 15\n"
   ]
  },
  {
   "cell_type": "code",
   "execution_count": 11,
   "id": "3f9dd493-b182-4e32-9868-81cc5473dec7",
   "metadata": {},
   "outputs": [
    {
     "name": "stdout",
     "output_type": "stream",
     "text": [
      "120\n"
     ]
    }
   ],
   "source": [
    "#4.Create a Python function that takes a list of numbers and a function as arguments, applying the function to each element in the list.\n",
    "\n",
    "def factorial(n):\n",
    "    if n == 0:\n",
    "        return 1\n",
    "    else:\n",
    "        return n * factorial(n - 1)\n",
    "\n",
    "result = factorial(5)\n",
    "print(result)  # Output: 120\n"
   ]
  },
  {
   "cell_type": "raw",
   "id": "70f4eb3b-83d4-44d5-a033-add20fdaa3aa",
   "metadata": {},
   "source": [
    "Lambda Functions and Higher-Order Functions:\n",
    "\n",
    "1.What are lambda functions in Python, and when are they typically used?\n",
    "2.Write a Python program that uses lambda functions to sort a list of tuples based on the second element.\n",
    "3.Explain the concept of higher-order functions in Python, and provide an example.\n",
    "4.Create a Python function that takes a list of numbers and a function as arguments, applying the function to each element in the list."
   ]
  },
  {
   "cell_type": "markdown",
   "id": "b0542bf6-7950-40ce-965e-471b1ffdeb6b",
   "metadata": {},
   "source": [
    "1.What are lambda functions in Python, and when are they typically used?\n",
    "\n",
    "A lambda function is a small anonymous function.\n",
    "A lambda function can take any number of arguments, but can only have one expression.\n",
    "\n",
    "syntax:\n",
    "lambda arguments : expression\n"
   ]
  },
  {
   "cell_type": "code",
   "execution_count": 1,
   "id": "c525b20e-f731-48d3-9790-ff50c0f2fa68",
   "metadata": {},
   "outputs": [
    {
     "name": "stdout",
     "output_type": "stream",
     "text": [
      "15\n"
     ]
    }
   ],
   "source": [
    "x = lambda a : a + 10\n",
    "print(x(5))"
   ]
  },
  {
   "cell_type": "code",
   "execution_count": 2,
   "id": "ac11c4ab-9c05-4c7a-bd54-54b5520fbc0d",
   "metadata": {},
   "outputs": [
    {
     "name": "stdout",
     "output_type": "stream",
     "text": [
      "13\n"
     ]
    }
   ],
   "source": [
    "x = lambda a, b, c : a + b + c\n",
    "print(x(5, 6, 2))"
   ]
  },
  {
   "cell_type": "markdown",
   "id": "5a75021c-7b49-4e83-aa68-6a834a182b14",
   "metadata": {},
   "source": [
    "2.Write a Python program that uses lambda functions to sort a list of tuples based on the second element.\n",
    "\n",
    "The \"sort() method\" takes two parameters – key and reverse. You can use a function as the key, but the reverse parameter can only take a Boolean.\n",
    "\n",
    "If you specify the value of the reverse parameter as True, the sort() method will perform the sorting in descending order. And if you specify false as the value of the reverse, the sorting will be in ascending order. You don’t even need to specify false as the value because it’s the default.\n",
    "\n",
    "But both parameters are optional, so the method still works fine without them.\n",
    "\n",
    "The \"sorted() function\", on the other hand, also works like sort(). It takes the optional key and reverse parameters too, but it takes a compulsory parameter of the iterable you want to sort – making it ideal for sorting other iterables apart from a list.\n",
    "    "
   ]
  },
  {
   "cell_type": "code",
   "execution_count": 10,
   "id": "6c670567-1c66-4e41-b2c4-9af629e82261",
   "metadata": {},
   "outputs": [
    {
     "name": "stdout",
     "output_type": "stream",
     "text": [
      "original list ['virat', 'rahul', 'shami', 'iyer', 'kapil']\n",
      "sorted list ['iyer', 'kapil', 'rahul', 'shami', 'virat']\n"
     ]
    }
   ],
   "source": [
    "name_list=[\"virat\",\"rahul\",\"shami\",\"iyer\",\"kapil\"]\n",
    "print(\"original list\",name_list)\n",
    "name_list.sort()\n",
    "print(\"sorted list\",name_list)"
   ]
  },
  {
   "cell_type": "code",
   "execution_count": 13,
   "id": "1683f5d1-e726-43dd-9225-babb24dbe0e4",
   "metadata": {},
   "outputs": [
    {
     "name": "stdout",
     "output_type": "stream",
     "text": [
      "original list [1, 1000, 9, 13, 7, 56, 41]\n",
      "sorted list [1, 7, 9, 13, 41, 56, 1000]\n"
     ]
    }
   ],
   "source": [
    "num_list=[1,1000,9,13,7,56,41]\n",
    "print(\"original list\",num_list)\n",
    "e=sorted(num_list)\n",
    "print(\"sorted list\",e)"
   ]
  },
  {
   "cell_type": "markdown",
   "id": "5024dc32-265d-4170-9b5c-47f759e0371b",
   "metadata": {},
   "source": [
    "3.Explain the concept of higher-order functions in Python, and provide an example.\n",
    "\n",
    "A function is called Higher Order Function if it contains other functions as a parameter or\n",
    "returns a function as an output i.e, the functions that operate with another function are known as Higher order\n",
    "Functions.\n",
    "Properties of higher-order functions:\n",
    "\n",
    "A function is an instance of the Object type.\n",
    "You can store the function in a variable.\n",
    "You can pass the function as a parameter to another function.\n",
    "You can return the function from a function.\n",
    "You can store them in data structures such as hash tables, lists, …"
   ]
  },
  {
   "cell_type": "code",
   "execution_count": 14,
   "id": "9aec8d97-b3ea-4aad-b1eb-5f67ae2e468a",
   "metadata": {},
   "outputs": [
    {
     "name": "stdout",
     "output_type": "stream",
     "text": [
      "[1, 4, 9, 16, 25]\n"
     ]
    }
   ],
   "source": [
    "#4.Create a Python function that takes a list of numbers and a function as arguments, applying the function to each element in the list.\n",
    "def apply_function_to_list(numbers, func):\n",
    "    result = [func(num) for num in numbers]\n",
    "    return result\n",
    "numbers_list = [1, 2, 3, 4, 5]\n",
    "def square(x):\n",
    "    return x**2\n",
    "squared_numbers = apply_function_to_list(numbers_list, square)\n",
    "\n",
    "print(squared_numbers)"
   ]
  },
  {
   "cell_type": "raw",
   "id": "603bf87a-83c3-4f45-9406-28a586270a4a",
   "metadata": {},
   "source": [
    "Built-in Functions:\n",
    "\n",
    "1.Describe the role of built-in functions like `len()`, `max()`, and `min()` in Python.\n",
    "2.Write a Python program that uses the `map()` function to apply a function to each element of a list.\n",
    "3.How does the `filter()` function work in Python, and when would you use it?\n",
    "4.Create a Python program that uses the `reduce()` function to find the product of all elements in a list.\n"
   ]
  },
  {
   "cell_type": "raw",
   "id": "3b3da2fd-74d8-4301-b99c-3e7d43d249be",
   "metadata": {},
   "source": [
    "1.Role of Built-in Functions:\n",
    "len(): Returns the number of items in an object (e.g., the length of a list, the number of characters in a string).\n",
    "\n",
    "python\n",
    "Copy code\n",
    "my_list = [1, 2, 3, 4, 5]\n",
    "length = len(my_list)  # Returns 5\n",
    "\n",
    "max(): Returns the largest item in an iterable or the largest of two or more arguments.\n",
    "\n",
    "python\n",
    "Copy code\n",
    "numbers = [5, 2, 8, 1, 9]\n",
    "max_number = max(numbers)  # Returns 9\n",
    "\n",
    "min(): Returns the smallest item in an iterable or the smallest of two or more arguments.\n",
    "\n",
    "python\n",
    "Copy code\n",
    "numbers = [5, 2, 8, 1, 9]\n",
    "min_number = min(numbers)  # Returns 1"
   ]
  },
  {
   "cell_type": "markdown",
   "id": "978687ac-0f47-44fe-9f9f-c199f1f187d5",
   "metadata": {},
   "source": [
    "2. Python Program using map():\n",
    "The map() function applies a given function to all items in an input list (or any iterable) and returns an iterable map object."
   ]
  },
  {
   "cell_type": "code",
   "execution_count": 15,
   "id": "c991c3fa-a6fc-492d-b950-20f491d1abfe",
   "metadata": {},
   "outputs": [
    {
     "name": "stdout",
     "output_type": "stream",
     "text": [
      "[1, 4, 9, 16, 25]\n"
     ]
    }
   ],
   "source": [
    "def square(x):\n",
    "    return x**2\n",
    "\n",
    "numbers = [1, 2, 3, 4, 5]\n",
    "squared_numbers = map(square, numbers)\n",
    "\n",
    "# Convert the map object to a list for display\n",
    "result_list = list(squared_numbers)\n",
    "print(result_list)  # Output: [1, 4, 9, 16, 25]\n"
   ]
  },
  {
   "cell_type": "markdown",
   "id": "baaf8396-b249-4849-891c-d55193b2b107",
   "metadata": {},
   "source": [
    "filter() Function in Python:\n",
    "The filter() function is used to filter elements of an iterable based on a given function (a condition).\n",
    "It returns an iterable filter object containing only the elements that satisfy the condition."
   ]
  },
  {
   "cell_type": "code",
   "execution_count": null,
   "id": "6d4e1722-c177-42f1-a6d8-9820a2b5a172",
   "metadata": {},
   "outputs": [],
   "source": [
    "def is_even(x):\n",
    "    return x % 2 == 0\n",
    "\n",
    "numbers = [1, 2, 3, 4, 5, 6, 7, 8, 9]\n",
    "filtered_numbers = filter(is_even, numbers)\n",
    "\n",
    "# Convert the filter object to a list for display\n",
    "result_list = list(filtered_numbers)\n",
    "print(result_list)  # Output: [2, 4, 6, 8]\n"
   ]
  },
  {
   "cell_type": "markdown",
   "id": "d0e3c419-0f67-4eea-8320-eda95f38fcd7",
   "metadata": {},
   "source": [
    "Python Program using reduce():\n",
    "The reduce() function performs a binary operation on the items of an iterable, cumulatively applying the function to the items in a left-to-right order."
   ]
  },
  {
   "cell_type": "code",
   "execution_count": 14,
   "id": "bafd642c-f6d9-45fd-b5dd-28a8ffc665c1",
   "metadata": {},
   "outputs": [
    {
     "name": "stdout",
     "output_type": "stream",
     "text": [
      "120\n"
     ]
    }
   ],
   "source": [
    "from functools import reduce\n",
    "\n",
    "def multiply(x, y):\n",
    "    return x * y\n",
    "\n",
    "numbers = [2, 3, 4, 5]\n",
    "product = reduce(multiply, numbers)\n",
    "\n",
    "print(product)  # Output: 120\n"
   ]
  },
  {
   "cell_type": "raw",
   "id": "0dae3406-93b8-4cdf-9c1d-3424cf0577b7",
   "metadata": {},
   "source": [
    "Function Documentation and Best Practices:\n",
    "\n",
    "1.Explain the purpose of docstrings in Python functions and how to write them.\n",
    "2.Describe some best practices for naming functions and variables in Python, including naming conventions and guidelines.\n"
   ]
  },
  {
   "cell_type": "code",
   "execution_count": null,
   "id": "d5c63124-3747-4faa-a270-c43cc744c89c",
   "metadata": {},
   "outputs": [],
   "source": [
    "Docstrings (Documentation Strings) in Python functions serve the purpose of providing documentation or information about the function.\n",
    "They are used to describe the purpose, usage, parameters, return values, and any additional information that helps developers understand \n",
    "and use the function correctly.\n",
    "\n",
    "Place a triple-quoted string immediately after the function definition.\n",
    "Include information about the function, parameters, return values, and any relevant details."
   ]
  },
  {
   "cell_type": "code",
   "execution_count": 13,
   "id": "cebf0f8b-fc1e-42d2-82fb-1f737123f5ba",
   "metadata": {},
   "outputs": [],
   "source": [
    "def calculate_square(n):\n",
    "    \"\"\"Calculate the square of a number.\n",
    "\n",
    "    Parameters:\n",
    "    - n (int): The number to be squared.\n",
    "\n",
    "    Returns:\n",
    "    int: The square of the input number.\n",
    "    \"\"\"\n",
    "    return n**2\n"
   ]
  },
  {
   "cell_type": "code",
   "execution_count": null,
   "id": "26226a74-b2d2-484b-8174-9f2819280eb6",
   "metadata": {},
   "outputs": [],
   "source": [
    "Functions:\n",
    "\n",
    "Use lowercase with words separated by underscores (snake_case).\n",
    "Choose descriptive and concise names that reflect the function's purpose.\n",
    "Follow PEP 8 guidelines for naming conventions.\n",
    "\n"
   ]
  },
  {
   "cell_type": "code",
   "execution_count": null,
   "id": "06c3282c-bb18-4444-8f08-62291141df66",
   "metadata": {},
   "outputs": [],
   "source": [
    "def calculate_square(number):\n",
    "    \"\"\"Calculate the square of a number.\"\"\"\n",
    "    return number**2"
   ]
  },
  {
   "cell_type": "code",
   "execution_count": null,
   "id": "acf13e52-a7d9-4bef-8cd8-2402c4e72a02",
   "metadata": {},
   "outputs": [],
   "source": [
    "Variables:\n",
    "\n",
    "Use lowercase with words separated by underscores (snake_case) for most variables.\n",
    "Use uppercase for constants.\n",
    "Choose meaningful and descriptive names.\n",
    "Avoid single-letter variable names unless used as iterators in short loops."
   ]
  },
  {
   "cell_type": "code",
   "execution_count": null,
   "id": "8b02af5d-9abb-465c-84cb-4e3d1ede0c76",
   "metadata": {},
   "outputs": [],
   "source": [
    "total_amount = 1000\n",
    "max_iterations = 10\n",
    "a=\"string\""
   ]
  },
  {
   "cell_type": "code",
   "execution_count": null,
   "id": "7a1de442-5816-4dd5-8487-7039af26a522",
   "metadata": {},
   "outputs": [],
   "source": [
    "General Naming Practices:\n",
    "\n",
    "Be consistent throughout your codebase.\n",
    "Follow PEP 8 guidelines for naming conventions.\n",
    "Use names that convey the purpose and meaning of the entity they represent.\n",
    "Use clear and meaningful names, avoiding ambiguous or confusing terms."
   ]
  }
 ],
 "metadata": {
  "kernelspec": {
   "display_name": "Python 3 (ipykernel)",
   "language": "python",
   "name": "python3"
  },
  "language_info": {
   "codemirror_mode": {
    "name": "ipython",
    "version": 3
   },
   "file_extension": ".py",
   "mimetype": "text/x-python",
   "name": "python",
   "nbconvert_exporter": "python",
   "pygments_lexer": "ipython3",
   "version": "3.10.8"
  }
 },
 "nbformat": 4,
 "nbformat_minor": 5
}
