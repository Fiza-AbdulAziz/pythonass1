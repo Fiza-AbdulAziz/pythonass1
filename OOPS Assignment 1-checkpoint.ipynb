{
 "cells": [
  {
   "cell_type": "raw",
   "id": "0f5ea6cd-0139-4550-9420-eb208024228a",
   "metadata": {},
   "source": [
    "Problem 1: Bank Account Create a class representing a bank account with attributes like account number, account holder name, and balance. Implement methods to deposit and withdraw money from the account.\n",
    "\n",
    "Problem 2: Employee Management Create a class representing an employee with attributes like employee ID, name, and salary. Implement methods to calculate the yearly bonus and display employee details.\n",
    "\n",
    "Problem 3: Vehicle Rental Create a class representing a vehicle rental system. Implement methods to rent a vehicle, return a vehicle, and display available vehicles.\n",
    "\n",
    "Problem 4: Library Catalog Create classes representing a library and a book. Implement methods to add books to the library, borrow books, and display available books.\n",
    "\n",
    "Problem 5: Product Inventory Create classes representing a product and an inventory system. Implement methods to add products to the inventory, update product quantity, and display available products.\n",
    "\n",
    "Problem 6: Shape Calculation Create a class representing a shape with attributes like length, width, and height. Implement methods to calculate the area and perimeter of the shape.\n",
    "\n",
    "Problem 7: Student Management Create a class representing a student with attributes like student ID, name, and grades. Implement methods to calculate the average grade and display student details.\n",
    "\n",
    "Problem 8: Email Management Create a class representing an email with attributes like sender, recipient, and subject. Implement methods to send an email and display email details.\n",
    "\n",
    "Problem 9: Social Media Profile Create a class representing a social media profile with attributes like username and posts. Implement methods to add posts, display posts, and search for posts by keyword.\n",
    "\n",
    "Problem 10: ToDo List Create a class representing a ToDo list with attributes like tasks and due dates. Implement methods to add tasks, mark tasks as completed, and display pending tasks."
   ]
  },
  {
   "cell_type": "code",
   "execution_count": 1,
   "id": "bb541d1f-27fb-435f-a8b2-583830b7c0dd",
   "metadata": {},
   "outputs": [
    {
     "name": "stdout",
     "output_type": "stream",
     "text": [
      "Account holder name: John Doe\n"
     ]
    }
   ],
   "source": [
    "#Problem# 1: Bank Account Create a class representing a bank account with attributes like account number, account holder name, and balance. Implement methods to deposit and withdraw money from the account.\n",
    "class BankAccount:\n",
    "    def __init__(self,account_number,account_holder_name,balance=0):\n",
    "       self.account_number=account_number\n",
    "       self.account_holder_name =account_holder_name\n",
    "       self.balance=balance\n",
    "\n",
    "    def deposit(self,amount):\n",
    "        if amount>0:\n",
    "            self.balance +=amount\n",
    "            return True\n",
    "        return False\n",
    "\n",
    "    def withdraw(self,amount):\n",
    "        if 0<amount<=self.balance:\n",
    "            self.balance -=amount\n",
    "            return True\n",
    "        return False\n",
    "\n",
    "    def get_balance(self):\n",
    "        return self.balance\n",
    "\n",
    "    def get_account_holder_name(self):\n",
    "        return self.account_holder_name\n",
    "\n",
    "# Test case \n",
    "account = BankAccount('123456', 'John Doe', 500) \n",
    "print(f\"Account holder name: {account.get_account_holder_name()}\")"
   ]
  },
  {
   "cell_type": "code",
   "execution_count": 2,
   "id": "c69e91f7-80bc-4907-9fcc-39577c6f9021",
   "metadata": {},
   "outputs": [
    {
     "name": "stdout",
     "output_type": "stream",
     "text": [
      "Balance:91440\n",
      "Balance:91240\n",
      "Account holder name:rohan\n"
     ]
    }
   ],
   "source": [
    "account1=BankAccount(112,\"rohan\",89000)\n",
    "account1.deposit(2440)\n",
    "print(f\"Balance:{account1.get_balance()}\")\n",
    "account1.withdraw(200)\n",
    "print(f\"Balance:{account1.get_balance()}\")\n",
    "print(f\"Account holder name:{account1.get_account_holder_name()}\")"
   ]
  },
  {
   "cell_type": "code",
   "execution_count": 3,
   "id": "da43b45d-4b7e-4ea5-ac24-8030b1410c5d",
   "metadata": {},
   "outputs": [
    {
     "name": "stdout",
     "output_type": "stream",
     "text": [
      "20000.0\n",
      "ID :1231, Name:kriti ,Salary:100000\n",
      "311.3\n",
      "ID :121, Name:gorge ,Salary:1556.5\n"
     ]
    }
   ],
   "source": [
    "#Problem 2: Employee Management Create a class representing an employee with attributes like employee ID, name, and salary. Implement methods to calculate the yearly bonus and display employee details.\n",
    "class Employee:\n",
    "    def __init__(self,employee_ID,name,salary=0):\n",
    "        self.employee_ID=employee_ID\n",
    "        self.name=name\n",
    "        self.salary=salary\n",
    "    def calculate_yearly_bonus(self):\n",
    "        return self.salary *0.20 \n",
    "    \n",
    "    def display_employee_details(self):\n",
    "        return f\"ID :{self.employee_ID}, Name:{self.name} ,Salary:{self.salary}\"\n",
    "\n",
    "#test case0:\n",
    "employee=Employee(1231,\"kriti\",100000)\n",
    "print(employee.calculate_yearly_bonus())\n",
    "print(employee.display_employee_details())\n",
    "\n",
    "#test case1:\n",
    "employee=Employee(121,\"gorge\",1556.50)\n",
    "print(employee.calculate_yearly_bonus())\n",
    "print(employee.display_employee_details())"
   ]
  },
  {
   "cell_type": "code",
   "execution_count": 4,
   "id": "35de2085-b85d-430f-a292-2f470068e246",
   "metadata": {},
   "outputs": [
    {
     "name": "stdout",
     "output_type": "stream",
     "text": [
      "Available Vehicles:\n",
      "Car: 5\n",
      "Bike: 10\n",
      "Van: 3\n",
      "2 Car(s) rented successfully.\n",
      "Available Vehicles:\n",
      "Car: 3\n",
      "Bike: 10\n",
      "Van: 3\n",
      "1 Car(s) returned successfully.\n",
      "Available Vehicles:\n",
      "Car: 4\n",
      "Bike: 10\n",
      "Van: 3\n",
      "3 Bike(s) rented successfully.\n",
      "Available Vehicles:\n",
      "Car: 4\n",
      "Bike: 7\n",
      "Van: 3\n"
     ]
    }
   ],
   "source": [
    "#Problem 3: Vehicle Rental Create a class representing a vehicle rental system. Implement methods to rent a vehicle, return a vehicle, and display available vehicles.\n",
    "class VehicleRentalSystem:\n",
    "    def __init__(self):\n",
    "        self.available_vehicles = {\n",
    "            'Car': 5,\n",
    "            'Bike': 10,\n",
    "            'Van': 3\n",
    "        }\n",
    "        self.rented_vehicles = {}\n",
    "\n",
    "    def rent_vehicle(self, vehicle_type, quantity):\n",
    "        if vehicle_type in self.available_vehicles and self.available_vehicles[vehicle_type] >= quantity:\n",
    "            self.available_vehicles[vehicle_type] -= quantity\n",
    "            if vehicle_type in self.rented_vehicles:\n",
    "                self.rented_vehicles[vehicle_type] += quantity\n",
    "            else:\n",
    "                self.rented_vehicles[vehicle_type] = quantity\n",
    "            print(f\"{quantity} {vehicle_type}(s) rented successfully.\")\n",
    "        else:\n",
    "            print(f\"Sorry, we don't have enough {vehicle_type}s available.\")\n",
    "\n",
    "    def return_vehicle(self, vehicle_type, quantity):\n",
    "        if vehicle_type in self.rented_vehicles and self.rented_vehicles[vehicle_type] >= quantity:\n",
    "            self.rented_vehicles[vehicle_type] -= quantity\n",
    "            self.available_vehicles[vehicle_type] += quantity\n",
    "            print(f\"{quantity} {vehicle_type}(s) returned successfully.\")\n",
    "        else:\n",
    "            print(f\"You didn't rent that many {vehicle_type}s.\")\n",
    "\n",
    "    def display_available_vehicles(self):\n",
    "        print(\"Available Vehicles:\")\n",
    "        for vehicle, quantity in self.available_vehicles.items():\n",
    "            print(f\"{vehicle}: {quantity}\")\n",
    "        \n",
    "# Example usage\n",
    "rental_system = VehicleRentalSystem()\n",
    "rental_system.display_available_vehicles()\n",
    "rental_system.rent_vehicle('Car', 2)\n",
    "rental_system.display_available_vehicles()\n",
    "rental_system.return_vehicle('Car', 1)\n",
    "rental_system.display_available_vehicles()\n",
    "rental_system.rent_vehicle('Bike',3)\n",
    "rental_system.display_available_vehicles()"
   ]
  },
  {
   "cell_type": "code",
   "execution_count": 5,
   "id": "98eab915-a514-4787-8fcf-1f00c3a1c8c5",
   "metadata": {},
   "outputs": [
    {
     "name": "stdout",
     "output_type": "stream",
     "text": [
      "Book 1984 by George Orwell added to the library.\n",
      "Book To Kill a Mockingbird by Harper Lee added to the library.\n",
      "Book 30 Days To Better English by Lewis Norman added to the library.\n",
      "Available books in the library:\n",
      "1984 by George Orwell\n",
      "To Kill a Mockingbird by Harper Lee\n",
      "30 Days To Better English by Lewis Norman\n",
      "You have borrowed '{book}'.\n",
      "Available books in the library:\n",
      "To Kill a Mockingbird by Harper Lee\n",
      "30 Days To Better English by Lewis Norman\n",
      "Sorry '1984' is not available or already borrowed.\n"
     ]
    }
   ],
   "source": [
    "#Problem 4: Library Catalog Create classes representing a library and a book. Implement methods to add books to the library, borrow books, and display available books.\n",
    "class Book:\n",
    "    def __init__(self,title,author):\n",
    "        self.title =title\n",
    "        self.author=author\n",
    "        self.is_borrowed=False\n",
    "\n",
    "    def __str__(self):\n",
    "        return f\"{self.title} by {self.author}\"\n",
    "\n",
    "class Library:\n",
    "    def __init__(self):\n",
    "        self.books=[]\n",
    "\n",
    "    def add_book(self,book):\n",
    "        self.books.append(book)\n",
    "        print(f\"Book {book} added to the library.\")\n",
    "\n",
    "    def borrow_book(self,title):\n",
    "        for book in self.books:\n",
    "            if book.title ==title and not book.is_borrowed:\n",
    "                book.is_borrowed =True\n",
    "                print(\"You have borrowed '{book}'.\")\n",
    "                return\n",
    "        print(f\"Sorry '{title}' is not available or already borrowed.\")\n",
    "\n",
    "    def display_available_books(self):\n",
    "        available_books =[book for book in self.books if not book.is_borrowed]\n",
    "        if available_books:\n",
    "            print(\"Available books in the library:\")\n",
    "            for book in available_books:\n",
    "                print(book)\n",
    "\n",
    "        else:\n",
    "            print(\"No books are currently available in the library.\")\n",
    "\n",
    "library = Library() \n",
    "book1 = Book(\"1984\", \"George Orwell\")\n",
    "book2 = Book(\"To Kill a Mockingbird\", \"Harper Lee\")\n",
    "book3 = Book(\"30 Days To Better English\",\"Lewis Norman\")\n",
    "library.add_book(book1) \n",
    "library.add_book(book2) \n",
    "library.add_book(book3)\n",
    "library.display_available_books() \n",
    "library.borrow_book(\"1984\")\n",
    "library.display_available_books() \n",
    "library.borrow_book(\"1984\") # Trying to borrow an already borrowed book"
   ]
  },
  {
   "cell_type": "code",
   "execution_count": 6,
   "id": "af740ed4-a1c2-4130-8b91-003b7ccf2a17",
   "metadata": {},
   "outputs": [
    {
     "name": "stdout",
     "output_type": "stream",
     "text": [
      "Product Laptop added to the inventory.\n",
      "Product Smartphone added to the inventory.\n",
      "Available products in the inventory:\n",
      "Laptop: $1000 (Quantity :5)\n",
      "Smartphone: $500 (Quantity :10)\n",
      " Product Laptop quantity updated to 8.\n",
      "Available products in the inventory:\n",
      "Laptop: $1000 (Quantity :8)\n",
      "Smartphone: $500 (Quantity :10)\n"
     ]
    }
   ],
   "source": [
    "#Problem 5: Product Inventory Create classes representing a product and an inventory system. Implement methods to add products to the inventory, update product quantity, and display available products.\n",
    "class Product:\n",
    "    def __init__(self,name,price,quantity):\n",
    "        self.name =name\n",
    "        self.price=price\n",
    "        self.quantity=quantity\n",
    "\n",
    "\n",
    "    def __str__(self):\n",
    "        return f\"{self.name}: ${self.price} (Quantity :{self.quantity})\"\n",
    "\n",
    "class Inventory:\n",
    "     def __init__(self):\n",
    "         self.product = []\n",
    "\n",
    "     def add_product(self,product):\n",
    "         self.product.append(product)\n",
    "         print(f\"Product {product.name} added to the inventory.\")\n",
    "\n",
    "     def update_product_quantity(self,product_name,quantity):\n",
    "         for product in self.product:\n",
    "             if product.name == product_name:\n",
    "               product.quantity += quantity\n",
    "               print(f\" Product {product.name} quantity updated to {product.quantity}.\")\n",
    "               return\n",
    "               print(f\"Product '{product_name}' not found in the inventory.\")\n",
    "     def display_available_products(self):\n",
    "        if self.product:\n",
    "            print(\"Available products in the inventory:\")\n",
    "            for product in self.product:\n",
    "                print(product)\n",
    "        else:\n",
    "            print(\"No products available in the inventory.\")\n",
    "\n",
    "\n",
    "# Example usage \n",
    "inventory = Inventory() \n",
    "product1 = Product(\"Laptop\", 1000, 5) \n",
    "product2 = Product(\"Smartphone\", 500, 10) \n",
    "inventory.add_product(product1) \n",
    "inventory.add_product(product2) \n",
    "inventory.display_available_products() \n",
    "inventory.update_product_quantity(\"Laptop\", 3) \n",
    "inventory.display_available_products() \n",
    "inventory.update_product_quantity(\"Tablet\", 5)"
   ]
  },
  {
   "cell_type": "code",
   "execution_count": 7,
   "id": "beaed579-2076-46d8-9dcd-c2a4427bacb4",
   "metadata": {},
   "outputs": [
    {
     "name": "stdout",
     "output_type": "stream",
     "text": [
      "THE Area of the shape is: 24\n",
      "The perimeter of the shape:20\n",
      "THE Area of the shape is: 14\n",
      "The perimeter of the shape:18\n"
     ]
    }
   ],
   "source": [
    "#Problem 6: Shape Calculation Create a class representing a shape with attributes like length, width, and height. Implement methods to calculate the area and perimeter of the shape.\n",
    "class Shape:\n",
    "    def __init__(self,length,width,height):\n",
    "        self.length=length\n",
    "        self.width=width\n",
    "        self.height=height\n",
    "        \n",
    "    def calculate_area(self):\n",
    "        self.area=self.length*self.width\n",
    "        return f\"THE Area of the shape is: {self.area}\"\n",
    "    \n",
    "    def perimeter_of_shape(self):\n",
    "        self.perimeter= 2*(self.length +self.width)\n",
    "        return f\"The perimeter of the shape:{self.perimeter}\"\n",
    "\n",
    "#example usage\n",
    "shape=Shape(4,6,3)\n",
    "shape1=Shape(7,2,4)\n",
    "print(shape.calculate_area())\n",
    "print(shape.perimeter_of_shape())\n",
    "print(shape1.calculate_area())\n",
    "print(shape1.perimeter_of_shape())"
   ]
  },
  {
   "cell_type": "code",
   "execution_count": 8,
   "id": "275d6f7f-ad84-4d44-9249-e306ac9333da",
   "metadata": {},
   "outputs": [
    {
     "name": "stdout",
     "output_type": "stream",
     "text": [
      "Average grade 106 is 85.4\n",
      "Student Id: 106, Name:Fiza ,Grades=[90, 87, 76, 92, 82]\n",
      "Average grade 112 is 65.4\n",
      "Student Id: 112, Name:radihka ,Grades=[56, 89, 45, 92, 45]\n",
      "0\n",
      "Student Id: 102, Name:ram ,Grades=[]\n"
     ]
    }
   ],
   "source": [
    "#Problem 7: Student Management Create a class representing a student with attributes like student ID, name, and grades. Implement methods to calculate the average grade and display student details.\n",
    "class Student:\n",
    "    def __init__(self,student_ID,name,grades):\n",
    "        self.student_ID=student_ID\n",
    "        self.name=name\n",
    "        self.grades=grades\n",
    "        \n",
    "    def calculate_average_grade(self):\n",
    "        if self.grades:\n",
    "            self.average_grade=sum(self.grades)/len(self.grades)\n",
    "            return f\"Average grade {self.student_ID} is {self.average_grade}\"\n",
    "        return 0\n",
    "\n",
    "    def display_student_details(self):\n",
    "        return f\"Student Id: {self.student_ID}, Name:{self.name} ,Grades={self.grades}\"\n",
    "\n",
    "#Example usage:\n",
    "student=Student(106,\"Fiza\",[90,87,76,92,82])\n",
    "student1=Student(112,\"radihka\",[56,89,45,92,45])\n",
    "student2=Student(102,\"ram\",[])\n",
    "print(student.calculate_average_grade())\n",
    "print(student.display_student_details())\n",
    "print(student1.calculate_average_grade())\n",
    "print(student1.display_student_details())\n",
    "print(student2.calculate_average_grade())\n",
    "print(student2.display_student_details())\n"
   ]
  },
  {
   "cell_type": "code",
   "execution_count": 9,
   "id": "16bcd48a-31b3-4adb-bad7-beecda72242f",
   "metadata": {},
   "outputs": [
    {
     "name": "stdout",
     "output_type": "stream",
     "text": [
      "Email is sent to ['rohit@gamil.com'] with subject ['Meeting Reminder at 1:00 pm.'].\n",
      "From : rohan@gamil.com \n",
      "To: rohit@gamil.com \n",
      "Subject: Meeting Reminder at 1:00 pm.\n"
     ]
    }
   ],
   "source": [
    "#Problem 8: Email Management Create a class representing an email with attributes like sender, recipient, and subject. Implement methods to send an email and display email details.\n",
    "class Email:\n",
    "    def __init__(self,sender,recipient,subject):\n",
    "        self.sender=sender\n",
    "        self.recipient=recipient\n",
    "        self.subject=subject\n",
    "\n",
    "    def send_email(self):\n",
    "        return f\"Email is sent to {[self.recipient]} with subject {[self.subject]}.\"\n",
    "\n",
    "\n",
    "    def display_email(self):\n",
    "        return f\"From : {self.sender} \\nTo: {self.recipient} \\nSubject: {self.subject}\"\n",
    "\n",
    "email=Email(\"rohan@gamil.com\",\"rohit@gamil.com\",\"Meeting Reminder at 1:00 pm.\")\n",
    "email1=Email(\"alice@yahoo.com\",\"dolly@yahoo.com\",\"Follow -up on [prententation on power bi]\")\n",
    "email2=Email(\"xyz@example.com\",\"abc@example.com\",\"seminar topic on web development.\")\n",
    "print(email.send_email())\n",
    "print(email.display_email())\n"
   ]
  },
  {
   "cell_type": "code",
   "execution_count": 10,
   "id": "99059d60-b461-4baf-8dd8-c62b36563e72",
   "metadata": {},
   "outputs": [
    {
     "name": "stdout",
     "output_type": "stream",
     "text": [
      "From : xyz@example.com \n",
      "To: abc@example.com \n",
      "Subject: seminar topic on web development.\n",
      "Email is sent to ['dolly@yahoo.com'] with subject ['Follow -up on [prententation on power bi]'].\n"
     ]
    }
   ],
   "source": [
    "print(email2.display_email())\n",
    "print(email1.send_email())"
   ]
  },
  {
   "cell_type": "code",
   "execution_count": 12,
   "id": "b46466aa-5e5a-412c-9218-548865985d32",
   "metadata": {},
   "outputs": [
    {
     "name": "stdout",
     "output_type": "stream",
     "text": [
      "Posts by alian123\n",
      "Had a great day at the park!\n",
      "Loving the new book I'm reading.\n",
      "posts containing 'park :\n",
      "Had a great day at the park!\n"
     ]
    }
   ],
   "source": [
    "#Problem 9: Social Media Profile Create a class representing a social media profile with attributes like username and posts. Implement methods to add posts, display posts, and search for posts by keyword.\n",
    "class SocialMedia:\n",
    "    def __init__(self,username):\n",
    "        self.username=username\n",
    "        self.posts=[]\n",
    "\n",
    "    def add_post(self,post):\n",
    "        self.posts.append(post)\n",
    "        return f\"Post added:{post}\"\n",
    "\n",
    "    def display_posts(self):\n",
    "        print(f\"Posts by {self.username}\")\n",
    "        for post in self.posts:\n",
    "            print(post)\n",
    "\n",
    "    def search_posts(self,keyword):\n",
    "        print(f\"posts containing '{keyword} :\")\n",
    "        for post in self.posts: \n",
    "            if keyword in post: \n",
    "                print(post)\n",
    "\n",
    "#exampl usage:\n",
    "profile=SocialMedia(\"alian123\")\n",
    "profile.add_post(\"Had a great day at the park!\")\n",
    "profile.add_post(\"Loving the new book I'm reading.\") \n",
    "profile.display_posts() \n",
    "profile.search_posts(\"park\")"
   ]
  },
  {
   "cell_type": "code",
   "execution_count": 19,
   "id": "c095bc05-876c-4d86-926f-ad3dbcd233c2",
   "metadata": {},
   "outputs": [
    {
     "name": "stdout",
     "output_type": "stream",
     "text": [
      "Task 'Finish homework' added with due date 2024-12-10.\n",
      "Task 'Buy groceries' added with due date 2024-12-07.\n",
      "Pending_task:\n",
      "Task: Finish homework, Due Date: 2024-12-10\n",
      "Task: Buy groceries, Due Date: 2024-12-07\n",
      "Task 'Finish homework' marked as completed.\n",
      "Pending_task:\n",
      "Task: Buy groceries, Due Date: 2024-12-07\n"
     ]
    }
   ],
   "source": [
    "#Problem 10: ToDo List Create a class representing a ToDo list with attributes like tasks and due dates. Implement methods to add tasks, mark tasks as completed, and display pending tasks.\n",
    "class ToDo_list:\n",
    "    def __init__(self):\n",
    "        self.tasks={}\n",
    "\n",
    "    def add_tasks(self,task,due_dates):\n",
    "        self.tasks[task]={'due_date' :due_dates,'completed':False}\n",
    "        print(f\"Task '{task}' added with due date {due_dates}.\")\n",
    "\n",
    "    def mark_task_as_completed(self ,task):\n",
    "        if task in self.tasks:\n",
    "            self.tasks[task]['completed'] =True\n",
    "            print(f\"Task '{task}' marked as completed.\") \n",
    "        else:\n",
    "            print(f\"Task '{task}' not found.\")\n",
    "            \n",
    "    def display_pending_tasks(self):\n",
    "        print(\"Pending_task:\")\n",
    "        for task,details in self.tasks.items():\n",
    "           if not details['completed']:\n",
    "               print(f\"Task: {task}, Due Date: {details['due_date']}\") \n",
    "# Example usage \n",
    "todo_list = ToDo_list() \n",
    "todo_list.add_tasks(\"Finish homework\", \"2024-12-10\") \n",
    "todo_list.add_tasks(\"Buy groceries\", \"2024-12-07\") \n",
    "todo_list.display_pending_tasks() \n",
    "todo_list.mark_task_as_completed(\"Finish homework\") \n",
    "todo_list.display_pending_tasks()"
   ]
  },
  {
   "cell_type": "code",
   "execution_count": null,
   "id": "2ef20de5-7e4d-4b24-bd51-b3272f530ced",
   "metadata": {},
   "outputs": [],
   "source": []
  }
 ],
 "metadata": {
  "kernelspec": {
   "display_name": "Python 3 (ipykernel)",
   "language": "python",
   "name": "python3"
  },
  "language_info": {
   "codemirror_mode": {
    "name": "ipython",
    "version": 3
   },
   "file_extension": ".py",
   "mimetype": "text/x-python",
   "name": "python",
   "nbconvert_exporter": "python",
   "pygments_lexer": "ipython3",
   "version": "3.11.7"
  }
 },
 "nbformat": 4,
 "nbformat_minor": 5
}
