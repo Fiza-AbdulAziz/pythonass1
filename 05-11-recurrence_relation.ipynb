{
 "cells": [
  {
   "cell_type": "markdown",
   "id": "6ee73a38-61c9-4a4d-ba50-00f6fdc6af3d",
   "metadata": {},
   "source": [
    "Recurssion Relation\n",
    "\n",
    "Assignment Questions\n",
    "1.Find the value of T(2) for the recurrence relation\n",
    "T(n) = 3T(n-1) + 12n , given that T(0)=5.\n",
    "2. Given a recurrence relation, solve it Using the substitution method:\n",
    "a. T(n) = T(n-1) + c\n",
    "b. T(n) = 2T(n/2) + n\n",
    "c. T(n) = 2T(n/2) + c\n",
    "d. T(n) = T(n/2) + c\n",
    "3. Given a recurrence relation, solve it using the recursive tree approach:\n",
    "a. T(n) = 2T(n-1) +1\n",
    "b. T(n) = 2T(n/2) + n"
   ]
  },
  {
   "cell_type": "raw",
   "id": "1775fa15-13ec-457d-bedb-5437eff02f0a",
   "metadata": {},
   "source": [
    "1.Find the value of T(2) for the recurrence relation\n",
    "T(n) = 3T(n-1) + 12n , given that T(0)=5.\n",
    "\n",
    "\n",
    "T(n) = 3T(n-1) + 12n\n",
    "\n",
    "T(2) = 3T(n-1) + 12n #substitution\n",
    "#n=2\n",
    "T(2) = 3T(2-1) + 12*2 \n",
    "T(2) = 3T(1)   + 24\n",
    "\n",
    "#n=1\n",
    "\n",
    "T(1) = 3T(1-1) + 12*1\n",
    "T(1) = 3T(0) + 12\n",
    "\n",
    "#given T(0)=5\n",
    "T(1) = 3T(0) + 12\n",
    "T(1) = 3*5 + 12\n",
    "T(1) = 15 +12\n",
    "T(1) = 27\n",
    "\n",
    "then T(1) = 27 substitute in T(2) = 3T(1)  + 24\n",
    "T(2) = 3T(1) + 24\n",
    "T(2) = 3*27 + 24\n",
    "T(2) = 81 + 24\n",
    "T(2) = 105\n"
   ]
  },
  {
   "cell_type": "raw",
   "id": "03616090-ac02-4fe5-b360-b00fd02e4f5c",
   "metadata": {},
   "source": [
    "2. Given a recurrence relation, solve it Using the substitution method:\n",
    "a. T(n) = T(n-1) + c\n",
    "b. T(n) = 2T(n/2) + n\n",
    "c. T(n) = 2T(n/2) + c\n",
    "d. T(n) = T(n/2) + c"
   ]
  },
  {
   "cell_type": "raw",
   "id": "3603c878-09e0-4f6e-a089-933f90ba9f52",
   "metadata": {},
   "source": [
    "2. Given a recurrence relation, solve it Using the substitution method:\n",
    "a. T(n) = T(n-1) + c \n",
    " is big O(n)\n",
    "    "
   ]
  },
  {
   "cell_type": "raw",
   "id": "047da76b-9b1c-4c30-9d74-aca543edf30a",
   "metadata": {},
   "source": [
    "b. T(n) = 2T(n/2) + n\n",
    "\n",
    "is big  O(n log n) "
   ]
  },
  {
   "cell_type": "raw",
   "id": "582fe546-63d0-4f6b-b901-3ce87ef86893",
   "metadata": {},
   "source": [
    "c. T(n) = 2T(n/2) + c\n",
    "is big  O(log n) "
   ]
  },
  {
   "cell_type": "raw",
   "id": "6e4b097b-5977-4d61-83d8-1ac7b90e84ea",
   "metadata": {},
   "source": [
    "d. T(n) = T(n/2) + c\n",
    "is big  O(log n) "
   ]
  },
  {
   "cell_type": "raw",
   "id": "42f12f6e-bf6f-485c-bbdf-b1fecc0b7ab8",
   "metadata": {},
   "source": [
    "3. Given a recurrence relation, solve it using the recursive tree approach:\n"
   ]
  },
  {
   "cell_type": "raw",
   "id": "3a9a5706-cb7f-4fd1-91c4-8b41e165ee6e",
   "metadata": {},
   "source": [
    "a. T(n) = 2T(n-1) +1\n",
    "is big O(2 ^n)"
   ]
  },
  {
   "cell_type": "raw",
   "id": "72afd23c-c08d-42d8-908c-6ed1323a7f40",
   "metadata": {},
   "source": [
    "b. T(n) = 2T(n/2) + n\n",
    "is big O(nlogn)"
   ]
  }
 ],
 "metadata": {
  "kernelspec": {
   "display_name": "Python 3 (ipykernel)",
   "language": "python",
   "name": "python3"
  },
  "language_info": {
   "codemirror_mode": {
    "name": "ipython",
    "version": 3
   },
   "file_extension": ".py",
   "mimetype": "text/x-python",
   "name": "python",
   "nbconvert_exporter": "python",
   "pygments_lexer": "ipython3",
   "version": "3.10.8"
  }
 },
 "nbformat": 4,
 "nbformat_minor": 5
}
