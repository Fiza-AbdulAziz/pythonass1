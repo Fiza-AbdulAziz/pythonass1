{
 "cells": [
  {
   "cell_type": "code",
   "execution_count": null,
   "id": "190f1a26-d2b9-4723-a9e4-d26e096d1160",
   "metadata": {},
   "outputs": [],
   "source": [
    "oops assignment- 2"
   ]
  },
  {
   "cell_type": "raw",
   "id": "a805dbae-0de0-46c7-b55a-b419af937ac6",
   "metadata": {},
   "source": [
    "1. What is a constructor in Python? Explain its purpose and usage.\n",
    "A constructor in python is a special method called \"__init__\" that is automatically invoked when an object of a class is created.It's purpose is to initialize the object's attributes and perform any setup required for the object.\n",
    "\n",
    "2. Differentiate between a parameterless constructor and a parameterized constructor in Python.\n",
    "Parameterless constructor: A constructor that does not take any parameter other than self .It initalized the object with default values.\n",
    "\n",
    "Parameterized Constructor : A constructor that takes parameters additional to self.It initalizes the object with value provided as arguments."
   ]
  },
  {
   "cell_type": "code",
   "execution_count": 4,
   "id": "cc9c1d09-1434-4b6b-8294-ad7cd683265c",
   "metadata": {},
   "outputs": [
    {
     "name": "stdout",
     "output_type": "stream",
     "text": [
      "Value: 10\n"
     ]
    }
   ],
   "source": [
    "class Example:  #parameterless constructor\n",
    "    def __init__(self): \n",
    "        self.value =10 # Default value\n",
    "    \n",
    "    def display_value(self): \n",
    "        print(f\"Value: {self.value}\")\n",
    "# Example usage \n",
    "obj = Example() \n",
    "obj.display_value() # Output: Value: 10"
   ]
  },
  {
   "cell_type": "code",
   "execution_count": 6,
   "id": "26e642ec-24ee-4bab-98d2-93396320b4bf",
   "metadata": {},
   "outputs": [
    {
     "name": "stdout",
     "output_type": "stream",
     "text": [
      "Length: 30\n"
     ]
    }
   ],
   "source": [
    "class Example: #parameterized constructor\n",
    "    def __init__(self,length):\n",
    "        self.length=length\n",
    "        \n",
    "    def display_length(self):\n",
    "        print(f\"Length: {self.length}\")\n",
    "\n",
    "obj=Example(30)\n",
    "obj.display_length()"
   ]
  },
  {
   "cell_type": "code",
   "execution_count": 13,
   "id": "f2eb7771-7614-4b53-9e83-d50a4a521a1d",
   "metadata": {},
   "outputs": [
    {
     "name": "stdout",
     "output_type": "stream",
     "text": [
      "10\n"
     ]
    }
   ],
   "source": [
    "#3. How do you define a constructor in a Python class? Provide an example.\n",
    "#A constructor is defined using the\"__init__\"method:\n",
    "class Example:\n",
    "    def __init__(self,value):\n",
    "        self.value =value\n",
    "obj=Example(10)\n",
    "print(obj.value)"
   ]
  },
  {
   "cell_type": "raw",
   "id": "ef159c74-71cf-4b85-85ee-81478ad70552",
   "metadata": {},
   "source": [
    "4. Explain the `__init__` method in Python and its role in constructors.\n",
    "\n",
    "The __init__ method is a special method in Python that acts as a constructor. It is called automatically when an object of a class is created. \n",
    "Its role is to initialize the object's attributes and perform any necessary setup.\n"
   ]
  },
  {
   "cell_type": "code",
   "execution_count": 7,
   "id": "b4c89718-6cea-43a2-9647-bb90fdd2c5b4",
   "metadata": {},
   "outputs": [
    {
     "name": "stdout",
     "output_type": "stream",
     "text": [
      "fareeda\n",
      "44\n",
      "name: ramaya,\n",
      "age :24 \n"
     ]
    }
   ],
   "source": [
    "#5. In a class named `Person`, create a constructor that initializes the `name` and `age` attributes. Provide an\n",
    "#example of creating an object of this class.\n",
    "class Person:\n",
    "    def __init__(self,name,age):\n",
    "        self.name =name\n",
    "        self.age=age\n",
    "\n",
    "#example\n",
    "person=Person(\"fareeda\",44)\n",
    "print(person.name)\n",
    "print(person.age)\n",
    "person1=Person(\"ramaya\",24)\n",
    "print(f\"name: {person1.name},\\nage :{person1.age} \")"
   ]
  },
  {
   "cell_type": "code",
   "execution_count": 1,
   "id": "358efd98-84f8-4c47-9d27-199583cc2f7f",
   "metadata": {},
   "outputs": [
    {
     "name": "stdout",
     "output_type": "stream",
     "text": [
      "10\n"
     ]
    }
   ],
   "source": [
    "#6.How can you call a constructor explicitly in Python? Give an example.\n",
    "#In python, constructor are called implcitly when an object is created.\n",
    "#However,you can call a constructor explicity by creating a new instance of the class:\n",
    "class Example:\n",
    "    def __init__(self,value):\n",
    "        self.value = value\n",
    "\n",
    "#Example usage:#explicitly calling the constructor\n",
    "obj =Example.__new__(Example)\n",
    "obj.__init__(10)\n",
    "print(obj.value)"
   ]
  },
  {
   "cell_type": "code",
   "execution_count": 10,
   "id": "a7761881-99f4-44ee-899b-68ba17680902",
   "metadata": {},
   "outputs": [
    {
     "name": "stdout",
     "output_type": "stream",
     "text": [
      "10\n"
     ]
    }
   ],
   "source": [
    "#7. What is the significance of the self parameter in Python constructors? Explain with an example.\n",
    "#The \"self\" parameter refer to the instance of the class itself.\n",
    "#It is used to access the attributes and method of the class within the constructor and other method.\n",
    "class Example:\n",
    "    def __init__(self,value): #value ->attribute\n",
    "        self.value =value\n",
    "\n",
    "    def display_value(self): #display_value ->method\n",
    "       print(self.value)\n",
    "#Example\n",
    "obj =Example(10)\n",
    "obj.display_value() "
   ]
  },
  {
   "cell_type": "raw",
   "id": "363b324f-ff7e-4368-bca5-b7d5b9d75119",
   "metadata": {},
   "source": [
    "8.Discuss the concept of default constructors in Python. When are they used?\n",
    "A default constructor is a constructor that does not take any parameter other than self.It is used when no specific initalization is required and the object can be created with default values.\n",
    "\n",
    "class Example: \n",
    "    def __init__(self): \n",
    "        self.value = 0 # Default value \n",
    "\n",
    "    def display_value(self): \n",
    "        print(f\"Value: {self.value}\") \n",
    "# Example usage \n",
    "obj = Example() \n",
    "obj.display_value()\n",
    "\n",
    "In this example, the __init__ method is a default constructor because it does not take any parameters other than self. It initializes the value attribute to a default value of 0. When an object of the Example class is created, the default constructor is called implicitly, and the object is initialized with the default value."
   ]
  },
  {
   "cell_type": "code",
   "execution_count": 13,
   "id": "2dfef638-a0ca-467c-9f73-076ba9742d0c",
   "metadata": {},
   "outputs": [
    {
     "name": "stdout",
     "output_type": "stream",
     "text": [
      "The area of the rectangle is:32\n",
      "The area of the rectangle is:18\n"
     ]
    }
   ],
   "source": [
    "#9..Create a Python class called Rectangle with a constructor that initializes the width and height attributes. Provide a method to calculate the area of the rectangle.\n",
    "class Rectangle:\n",
    "    def __init__(self,width,height):\n",
    "        self.width=width\n",
    "        self.height=height\n",
    "\n",
    "    def calculate_area(self): \n",
    "        self.area = self.width * self.height\n",
    "        return self.area\n",
    "\n",
    "shape=Rectangle(4,8)\n",
    "shape1=Rectangle(3,6)\n",
    "print(f\"The area of the rectangle is:{shape.calculate_area()}\")\n",
    "print(f\"The area of the rectangle is:{shape1.calculate_area()}\")"
   ]
  },
  {
   "cell_type": "code",
   "execution_count": 16,
   "id": "b8db9f71-24d9-473e-acaa-f64339bfcc0f",
   "metadata": {
    "scrolled": true
   },
   "outputs": [
    {
     "name": "stdout",
     "output_type": "stream",
     "text": [
      "the object value is 8\n",
      "10\n"
     ]
    }
   ],
   "source": [
    "#10.How can you have multiple constructors in a Python class? Explain with an example.\n",
    "#Python does not support multiple constructors directly. \n",
    "#However, you can achieve similar functionality using default arguments or class methods.\n",
    "class Example:\n",
    "    def __init__(self,value1,value2=None):\n",
    "        if value2 is None:\n",
    "            self.value =value1\n",
    "        else :\n",
    "            self.value=value1 +value2\n",
    "\n",
    "#example usage\n",
    "obj=Example(1,7) #provided both value 1 and value2\n",
    "obj1=Example(10) ) # Uses default value for value2\n",
    "print(f\"the object value is {obj.value}\")\n",
    "print(obj1.value)"
   ]
  },
  {
   "cell_type": "code",
   "execution_count": 17,
   "id": "2b1a1512-fae0-40cf-9ead-37174c3cc336",
   "metadata": {},
   "outputs": [
    {
     "name": "stdout",
     "output_type": "stream",
     "text": [
      "10\n",
      "30\n"
     ]
    }
   ],
   "source": [
    "class Example: \n",
    "    def __init__(self, value): \n",
    "        self.value = value \n",
    "        \n",
    "    @classmethod \n",
    "    def from_sum(cls, value1, value2): \n",
    "        return cls(value1 + value2) \n",
    "# Example usage \n",
    "obj1 = Example(10) # Uses the regular constructor \n",
    "obj2 = Example.from_sum(10, 20) # Uses the alternative constructor \n",
    "print(obj1.value) # Output: 10 \n",
    "print(obj2.value) # Output: 30"
   ]
  },
  {
   "cell_type": "raw",
   "id": "bb7c2c02-c9b4-428e-baa4-fe1606a2b094",
   "metadata": {},
   "source": [
    "#11.What is method overloading, and how is it related to constructors in Python?\n",
    "Method overloading is the ability to define multiple methods with the same name but different parameters. Python does not support method overloading directly, but you can achieve similar functionality using default arguments. Constructors can use default arguments to simulate multiple constructors."
   ]
  },
  {
   "cell_type": "code",
   "execution_count": 26,
   "id": "5f6850ae-bba7-4b5c-9a93-57bb70081ae4",
   "metadata": {},
   "outputs": [
    {
     "name": "stdout",
     "output_type": "stream",
     "text": [
      "12\n",
      "56\n",
      "67\n"
     ]
    }
   ],
   "source": [
    "#12.Explain the use of the super() function in Python constructors. Provide an example.\n",
    "'''The super() function is used to call the constructor of the parent class. \n",
    "It allows you to initialize the parent class's attributes and methods in a subclass.'''\n",
    "class Parent():\n",
    "    def __init__(self,value,value2):\n",
    "        self.value =value\n",
    "        self.value2=value2\n",
    "\n",
    "class Child(Parent):\n",
    "    def __init__(self,value,value2,extra_value):\n",
    "        super().__init__(value,value2)\n",
    "        self.extra_value =extra_value\n",
    "        \n",
    "\n",
    "child =Child(12,67,56)\n",
    "print(child.value)\n",
    "print(child.extra_value)\n",
    "print(child.value2)"
   ]
  },
  {
   "cell_type": "code",
   "execution_count": 30,
   "id": "eb3a9334-86e3-40ed-804c-37feb43e51ab",
   "metadata": {},
   "outputs": [
    {
     "name": "stdout",
     "output_type": "stream",
     "text": [
      "Title :1984 \n",
      "Author :George orwell \n",
      "Published_year :1949\n"
     ]
    }
   ],
   "source": [
    "#13.Create a class called Book with a constructor that initializes the title, author, and published_year attributes. Provide a method to display book details.\n",
    "class Book:\n",
    "    def __init__(self,title,author,published_year):\n",
    "        self.title =title\n",
    "        self.author =author\n",
    "        self.published_year=published_year\n",
    "        \n",
    "    def display_details(self):\n",
    "        return f\"Title :{self.title} \\nAuthor :{self.author} \\nPublished_year :{self.published_year}\"\n",
    "\n",
    "book =Book(\"1984\" ,\"George orwell\",\"1949\")\n",
    "print(book.display_details())"
   ]
  },
  {
   "cell_type": "code",
   "execution_count": null,
   "id": "36536f72-2460-4189-89b3-d942868610f6",
   "metadata": {},
   "outputs": [],
   "source": [
    "14. Discuss the differences between constructors and regular methods in Python classes.\n",
    "\n",
    "Constructors\n",
    "Purpose: Constructors are special methods used to initialize the attributes of an object when it is created.\n",
    "\n",
    "Naming: The constructor method in Python is always named __init__.\n",
    "\n",
    "Invocation: Constructors are called implicitly when an object is created.\n",
    "\n",
    "Regular Methods\n",
    "Purpose: Regular methods are used to define the behavior of an object. \n",
    "They can perform actions, modify attributes, or return values.\n",
    "\n",
    "Naming: Regular methods can have any name that follows Python's naming conventions.\n",
    "\n",
    "Invocation: Regular methods are called explicitly on an object.\n",
    "\n",
    "Example\n",
    "Let's create a class Person to illustrate the differences between constructors and regular methods:\n",
    "\n",
    "class Person:\n",
    "    def __init__(self, name, age):\n",
    "        # Constructor: Initializes the attributes\n",
    "        self.name = name\n",
    "        self.age = age\n",
    "\n",
    "    def display_details(self):\n",
    "        # Regular method: Displays the details of the person\n",
    "        print(f\"Name: {self.name}, Age: {self.age}\")\n",
    "\n",
    "    def have_birthday(self):\n",
    "        # Regular method: Increases the age by 1\n",
    "        self.age += 1\n",
    "        print(f\"Happy Birthday, {self.name}! You are now {self.age} years old.\")\n",
    "\n",
    "# Example usage\n",
    "person = Person(\"Alice\", 30)  # Constructor is called implicitly\n",
    "person.display_details()      # Output: Name: Alice, Age: 30\n",
    "person.have_birthday()        # Output: Happy Birthday, Alice! You are now 31 years old.\n",
    "person.display_details()      # Output: Name: Alice, Age: 31\n",
    "In this example:\n",
    "\n",
    "The __init__ method is the constructor. It initializes the name and age attributes when a Person object is created.\n",
    "\n",
    "The display_details and have_birthday methods are regular methods. They define the behavior of the Person object and are called explicitly on the object."
   ]
  },
  {
   "cell_type": "code",
   "execution_count": null,
   "id": "11764665-f140-4b02-b883-ed067fa4d65c",
   "metadata": {},
   "outputs": [],
   "source": [
    "#15.Explain the role of self parameter in instance variable initalization within a constructor.\n",
    "\n",
    "The self parameter refers to the instance of the class itself.It is used to access the attributes and methods of the class within the constructor and other methods.\n",
    "When initializing instance variables within a constructor, self allows you to assign values to the instance's attributes."
   ]
  },
  {
   "cell_type": "code",
   "execution_count": 2,
   "id": "759b5358-f075-4e5c-9405-79a9dc1fdcaf",
   "metadata": {},
   "outputs": [
    {
     "name": "stdout",
     "output_type": "stream",
     "text": [
      "False\n"
     ]
    }
   ],
   "source": [
    "#16.How do you prevent a class from having multiple instances by using constructors in python?\n",
    "#You can use the Singleton pattern to ensure that a class has only one instance. This can be achieved by overriding the __new__ method.\n",
    "class Singleton:\n",
    "    _instance = None\n",
    "    \n",
    "    def __new__(cls, *args, **kwargs):\n",
    "        if not cls._instance:\n",
    "            cls._instance = super(Singleton, cls).__new__(cls, *args, **kwargs) \n",
    "            return cls._instance\n",
    "# Example usage\n",
    "obj1 = Singleton() \n",
    "obj2 = Singleton() \n",
    "print(obj1 is obj2)"
   ]
  },
  {
   "cell_type": "code",
   "execution_count": 3,
   "id": "6a2f0f76-169f-4d3e-bc53-2b547f19c774",
   "metadata": {},
   "outputs": [
    {
     "name": "stdout",
     "output_type": "stream",
     "text": [
      "['Math', 'Science', 'Social', 'Computers']\n"
     ]
    }
   ],
   "source": [
    "#17.Create a python class called 'Student' with a constructor that takes a list of subjects as a parameter and initalizes the 'subjects' attributes.\n",
    "class Student:\n",
    "    def __init__(self,subjects):\n",
    "        self.subjects =subjects\n",
    "#example usage\n",
    "student =Student([\"Math\",\"Science\",\"Social\",\"Computers\"])\n",
    "print(student.subjects)"
   ]
  },
  {
   "cell_type": "raw",
   "id": "6185340f-bf56-4fb7-b281-ef67b7315c16",
   "metadata": {},
   "source": [
    "#18.What is the purpose of '__del__' method in python classes,and how does it relate to constructors?\n",
    "\n",
    "The __del__ method is a special method called a destructor.It is called when an object is about to be destroyed. \n",
    "It allows you to perform cleanup actions, such as closing files or releasing resources.\n",
    "It is related to constructors as it provides a way to clean up resources that were initialized in the constructor."
   ]
  },
  {
   "cell_type": "raw",
   "id": "d5890dd7-7c24-4c89-9bb7-6d97ac62d723",
   "metadata": {},
   "source": [
    "19. Explain the use of constructor chaining in Python. Provide a practical example.\n",
    "Constructor chaining refers to calling one constructor from another constructor within the same class or from a parent class. This can be achieved using the super() function.\n",
    "example\n"
   ]
  },
  {
   "cell_type": "code",
   "execution_count": 6,
   "id": "274a93d5-45a2-46c7-9907-35884b355346",
   "metadata": {},
   "outputs": [
    {
     "name": "stdout",
     "output_type": "stream",
     "text": [
      "10\n",
      "20\n"
     ]
    }
   ],
   "source": [
    "class Base:\n",
    "    def __init__(self,value):\n",
    "        self.value =value\n",
    "\n",
    "class Derived(Base):\n",
    "    def __init__(self,value,extra_value):\n",
    "        super().__init__(value)\n",
    "        self.extra_value=extra_value\n",
    "\n",
    "#example usage:\n",
    "obj =Derived(10,20)\n",
    "print(obj.value)\n",
    "print(obj.extra_value)"
   ]
  },
  {
   "cell_type": "code",
   "execution_count": 8,
   "id": "8b5824a0-649c-4c99-8c80-eb65d565a0d4",
   "metadata": {},
   "outputs": [
    {
     "name": "stdout",
     "output_type": "stream",
     "text": [
      "Make: unknown ,Model: Unknown\n"
     ]
    }
   ],
   "source": [
    "#20.Create a Python class called Car with a default constructor that initializes the make and model attributes. Provide a method to display car information.\n",
    "\n",
    "class Car:\n",
    "    def __init__(self):\n",
    "        self.make=\"unknown\"\n",
    "        self.model=\"Unknown\"\n",
    "\n",
    "    def display_info(self):\n",
    "        return f\"Make: {self.make} ,Model: {self.model}\"\n",
    "\n",
    "#example \n",
    "car=Car()\n",
    "print(car.display_info())"
   ]
  },
  {
   "cell_type": "code",
   "execution_count": 2,
   "id": "feb7562b-1c4e-4aed-b89f-540ab018d865",
   "metadata": {},
   "outputs": [
    {
     "name": "stdout",
     "output_type": "stream",
     "text": [
      "This is a function in parent class.\n",
      "This is a function in child class.\n"
     ]
    }
   ],
   "source": [
    "#Inheritance \n",
    "#1.what is inheritance in python?Explain its significance in object-oriented programming.\n",
    "#Inheritance allows a child class to inherit attributes and methods from a parent class,promoting code reuse and extensibility.\n",
    "\n",
    "class Parent:\n",
    "    def func1(self):\n",
    "        print(\"This is a function in parent class.\")\n",
    "\n",
    "class Child(Parent):\n",
    "    def func2(self):\n",
    "        print(\"This is a function in child class.\")\n",
    "\n",
    "obj =Child()\n",
    "obj.func1()  #Inherited from Parent\n",
    "obj.func2()"
   ]
  },
  {
   "cell_type": "code",
   "execution_count": 3,
   "id": "6fcf9581-9fdc-450d-8fd4-22d3a83c4f0f",
   "metadata": {},
   "outputs": [
    {
     "name": "stdout",
     "output_type": "stream",
     "text": [
      "Single Inheritance:Parent Class\n",
      "Multiple Inheritance : Parent1 class \n",
      "Multiple Inheritance : Parent2 class\n"
     ]
    }
   ],
   "source": [
    "#2.Differentiate between Single Inheritance and multiple Inheritance in python.Provide Example for each.\n",
    "#Single Inheritance: A child inherits from one parent class.\n",
    "#Multiple Inheritance: A child inherits from multiple parent classes.\n",
    "\n",
    "#Single Inheritance:\n",
    "class Parent:\n",
    "    def show(self):\n",
    "        print(\"Single Inheritance:Parent Class\")\n",
    "\n",
    "class Child(Parent):\n",
    "    pass\n",
    "\n",
    "obj =Child()\n",
    "obj.show()\n",
    "\n",
    "#Multiple Inheritance\n",
    "class Parent1:\n",
    "    def show1(self):\n",
    "        print(\"Multiple Inheritance : Parent1 class \")\n",
    "\n",
    "class Parent2:\n",
    "    def show2(self):\n",
    "        print(\"Multiple Inheritance : Parent2 class\")\n",
    "        pass\n",
    "\n",
    "class Child(Parent1, Parent2):\n",
    "    pass\n",
    "\n",
    "obj=Child()\n",
    "obj.show1()\n",
    "obj.show2()"
   ]
  },
  {
   "cell_type": "code",
   "execution_count": 26,
   "id": "fa31299a-f8fe-4e05-9947-d202c8ad5296",
   "metadata": {},
   "outputs": [
    {
     "name": "stdout",
     "output_type": "stream",
     "text": [
      "Car Details: Color=Red ,Speed =120 \n",
      "Car Details: Color=Blue ,Speed =80 \n",
      "Car Details: Color=Red ,Speed =120 ,Brand=Toyota\n"
     ]
    }
   ],
   "source": [
    "#3.Create a python class called Vehicle with attributes color and speeed .Then create a child class called Car that inherits from Vehicle and adds a  brand attributes .Provide an example of creating a 'car' object.\n",
    "class Vehicle:\n",
    "    def __init__(self,color,speed):\n",
    "        self.color = color\n",
    "        self.speed = speed\n",
    "        \n",
    "    def show(self):\n",
    "        print(f\"Car Details: Color={my_car.color} ,Speed ={my_car.speed} \")\n",
    "        print(f\"Car Details: Color={my_car1.color} ,Speed ={my_car1.speed} \")\n",
    "\n",
    "class Car(Vehicle):\n",
    "    def __init__(self,color,speed,brand):\n",
    "        super().__init__(color,speed)\n",
    "        self.brand = brand\n",
    "\n",
    "    def show1(self):\n",
    "        print(f\"Car Details: Color={my_car.color} ,Speed ={my_car.speed} ,Brand={my_car.brand}\")\n",
    "        \n",
    "my_car =Car(\"Red\",120 ,\"Toyota\")\n",
    "my_car1 =Car(\"Blue\",80,\"Suzuki\")\n",
    "my_car.show()\n",
    "my_car.show1()"
   ]
  },
  {
   "cell_type": "code",
   "execution_count": 9,
   "id": "553be8ee-7b27-4601-ac09-4303dbdf9d98",
   "metadata": {},
   "outputs": [
    {
     "name": "stdout",
     "output_type": "stream",
     "text": [
      "This is the Overridden method on the Child class.\n"
     ]
    }
   ],
   "source": [
    "#4.Explain the copent of method overriding in inheritace.Provide a practical example.\n",
    "class Parent:\n",
    "    def show(self):\n",
    "        print(\"This is the Parents class method.\")\n",
    "\n",
    "class Child(Parent):\n",
    "    def show(self):\n",
    "        print(\"This is the Overridden method on the Child class.\")\n",
    "\n",
    "#Test\n",
    "obj =Child()\n",
    "obj.show()"
   ]
  },
  {
   "cell_type": "code",
   "execution_count": 11,
   "id": "77500e75-1b23-4316-bb30-303708d51c26",
   "metadata": {},
   "outputs": [
    {
     "name": "stdout",
     "output_type": "stream",
     "text": [
      "This is the parent class method.\n",
      "This is the child class method.\n"
     ]
    }
   ],
   "source": [
    "#5.How can you access the method and attributes of a parent class from child class in python? Give an example.\n",
    "class Parent:\n",
    "    def show(self):\n",
    "        print(\"This is the parent class method.\")\n",
    "    \n",
    "\n",
    "class Child(Parent):\n",
    "    def show(self):\n",
    "        super().show()\n",
    "        print(\"This is the child class method.\")\n",
    "\n",
    "obj=Child()\n",
    "obj.show()"
   ]
  },
  {
   "cell_type": "code",
   "execution_count": 28,
   "id": "eb47213a-6966-4251-9881-9285228f83ce",
   "metadata": {},
   "outputs": [
    {
     "name": "stdout",
     "output_type": "stream",
     "text": [
      "Name: John, Age: 25\n",
      "Name: apple, Age: 28\n"
     ]
    }
   ],
   "source": [
    "#6.Discuss the use of the super() function in python inheritance.When and why is it used?Provided an example.\n",
    "#super() is used to call parent class methods or constructors.\n",
    "\n",
    "class Parent:\n",
    "    def __init__(self, name):\n",
    "        self.name = name\n",
    "\n",
    "class Child(Parent):\n",
    "    def __init__(self, name, age):\n",
    "        super().__init__(name)  # Call Parent constructor\n",
    "        self.age = age\n",
    "\n",
    "obj = Child(\"John\", 25)\n",
    "obj1=Child(\"apple\",28)\n",
    "print(f\"Name: {obj.name}, Age: {obj.age}\")\n",
    "print(f\"Name: {obj1.name}, Age: {obj1.age}\")"
   ]
  },
  {
   "cell_type": "code",
   "execution_count": 15,
   "id": "0d12a977-4cab-4257-bcf7-caa0dd5c3a56",
   "metadata": {},
   "outputs": [
    {
     "name": "stdout",
     "output_type": "stream",
     "text": [
      "Woof! Woof!\n",
      "Meow! Meow!\n"
     ]
    }
   ],
   "source": [
    "#7.Create a python class called\"Animal\" with a method speak() then create child class Dog and cat that inherit from Animal and override the speak method.Provide an example of using these classes.\n",
    "\n",
    "class Animal:\n",
    "    def speak(self):\n",
    "        print(\"Animals make sounds\")\n",
    "\n",
    "class Dog(Animal):\n",
    "    def speak(self):\n",
    "        print(\"Woof! Woof!\")\n",
    "\n",
    "class Cat(Animal):\n",
    "    def speak(self):\n",
    "        print(\"Meow! Meow!\")\n",
    "\n",
    "# Test\n",
    "dog = Dog()\n",
    "cat = Cat()\n",
    "dog.speak()\n",
    "cat.speak()"
   ]
  },
  {
   "cell_type": "raw",
   "id": "7bbacdb3-b38b-4d8d-9533-2a93f0b821c4",
   "metadata": {},
   "source": [
    "#8.Explain the role of isinstance() function in python and how it relates to inheritance.\n",
    "\n",
    "The isinstance() function in Python is a built-in function used to check if an object is an instance or subclass instance of a particular class or a tuple of classes. \n",
    "\n",
    "This function is especially useful when working with inheritance in object-oriented programming.\n",
    "\n",
    "#isinstance(object, classinfo)\n",
    "object: The object to be checked.\n",
    "classinfo: A class, type, or a tuple of classes and types.\n",
    "\n",
    "Role in Inheritance:\n",
    "When dealing with inheritance, the isinstance() function helps determine whether an object is an instance of a particular class or any of its subclasses. This can be particularly useful for:\n",
    "\n",
    "Ensuring type safety in functions and methods.\n",
    "\n",
    "Implementing polymorphism by checking the object type before performing specific operations.\n",
    "\n",
    "Validating input data in class methods or functions."
   ]
  },
  {
   "cell_type": "code",
   "execution_count": 2,
   "id": "936d559c-92f5-4d65-a77b-139582b1901d",
   "metadata": {},
   "outputs": [
    {
     "name": "stdout",
     "output_type": "stream",
     "text": [
      "True\n",
      "True\n",
      "True\n",
      "True\n",
      "False\n"
     ]
    }
   ],
   "source": [
    "class Animal:\n",
    "    pass\n",
    "\n",
    "class Dog(Animal):\n",
    "    pass\n",
    "\n",
    "class Cat(Animal):\n",
    "    pass\n",
    "\n",
    "dog=Dog()\n",
    "cat=Cat()\n",
    "\n",
    "print(isinstance(dog, Dog))\n",
    "print(isinstance(cat,Cat))\n",
    "print(isinstance(dog,Animal))\n",
    "print(isinstance(cat,Animal))\n",
    "print(isinstance(dog,Cat))"
   ]
  },
  {
   "cell_type": "code",
   "execution_count": 8,
   "id": "f0e93c44-dec2-419f-a8b9-540712143b15",
   "metadata": {},
   "outputs": [
    {
     "name": "stdout",
     "output_type": "stream",
     "text": [
      "True\n",
      "True\n",
      "True\n",
      "True\n",
      "False\n"
     ]
    }
   ],
   "source": [
    "#9.What is the purpose of the issubclass() function in python? Provide an example.\n",
    "#The issubclass() function in Python. checks if a class is a subclass of another class or atuple of classes. \n",
    "#It returns True if the class inherits directly or indirectly from the specified class(es); otherwise, it returns False.\n",
    "\n",
    "#issubclass(class,classinfo)\n",
    "class Animal:\n",
    "    pass\n",
    "\n",
    "class Mammal(Animal):\n",
    "    pass\n",
    "    \n",
    "class Dog(Mammal):\n",
    "    pass\n",
    "\n",
    "print(issubclass(Mammal,Animal))\n",
    "print(issubclass(Dog,Mammal))\n",
    "print(issubclass(Dog,Animal))\n",
    "print(issubclass(Dog,(Mammal,int)))\n",
    "print(issubclass(Dog,int))"
   ]
  },
  {
   "cell_type": "code",
   "execution_count": 14,
   "id": "a46dad0f-3e41-40fb-8332-05cd8ef86c62",
   "metadata": {},
   "outputs": [
    {
     "name": "stdout",
     "output_type": "stream",
     "text": [
      "Alice 10\n"
     ]
    }
   ],
   "source": [
    "#10. Discuss the concept of constructor inheritance in Python. How are constructors inherited in child classes?\n",
    "#In Python,constructors(__init__ methods) are not automatically inherited.Howeever a child class can explicitly call parent class constructor using the super()\n",
    "class Parent:\n",
    "    def __init__(self,name):\n",
    "        self.name=name\n",
    "\n",
    "\n",
    "class Child(Parent):\n",
    "    def __init__(self,name,age):\n",
    "        super().__init__(name)\n",
    "        self.age =age\n",
    "\n",
    "child =Child(\"Alice\",10)\n",
    "print(child.name ,child.age)"
   ]
  },
  {
   "cell_type": "code",
   "execution_count": 13,
   "id": "e2a9fa44-1950-403e-a2bc-9fe1bff918be",
   "metadata": {},
   "outputs": [
    {
     "name": "stdout",
     "output_type": "stream",
     "text": [
      "George 21\n"
     ]
    }
   ],
   "source": [
    "child1 =Child(\"George\",21)\n",
    "print(child1.name,child1.age)\n"
   ]
  },
  {
   "cell_type": "code",
   "execution_count": 21,
   "id": "1dd1ee3f-5228-42b3-ad88-6d59540d02e1",
   "metadata": {},
   "outputs": [
    {
     "name": "stdout",
     "output_type": "stream",
     "text": [
      "Length of Rectangle: 12\n",
      "Width of Rectangle: 8\n",
      "Radius of Circle: 4\n",
      "Area of Rectangle: 96\n",
      "Area of Circle: 50.24\n"
     ]
    }
   ],
   "source": [
    "#11. Create a Python class called `Shape` with a method `area()` that calculates the area of a shape. Then, create child classes `Circle` and `Rectangle` that inherit from `Shape` and implement the `area()` method\n",
    "#accordingly. Provide an example.\n",
    "    \n",
    "class Shape:\n",
    "    def Area(self):\n",
    "        pass\n",
    "    \n",
    "class Circle(Shape):\n",
    "    def __init__(self,radius):\n",
    "        self.radius=radius\n",
    "\n",
    "    def Area(self):\n",
    "        pi=3.14\n",
    "        return pi*self.radius*self.radius \n",
    "\n",
    "    def get_radius(self):\n",
    "        return self.radius\n",
    "\n",
    "        \n",
    "class Rectangle(Shape):\n",
    "    def __init__(self,length,width):\n",
    "        self.length=length\n",
    "        self.width=width\n",
    "        \n",
    "    def get_length(self):\n",
    "        return self.length\n",
    "\n",
    "    def get_width(self):\n",
    "        return self.width\n",
    "        \n",
    "    def Area(self):\n",
    "        return self.length*self.width\n",
    "             \n",
    "C=Circle(4)\n",
    "R=Rectangle(12,8)\n",
    "\n",
    "#retrive the length and width of rectangle,radius of circle\n",
    "length=R.get_length()\n",
    "width=R.get_width()\n",
    "radius=C.get_radius()\n",
    "print(f\"Length of Rectangle: {length}\") \n",
    "print(f\"Width of Rectangle: {width}\")\n",
    "print(f\"Radius of Circle: {radius}\") \n",
    "\n",
    "# Calculate and print areas \n",
    "print(f\"Area of Rectangle: {R.Area()}\") \n",
    "print(f\"Area of Circle: {C.Area()}\")"
   ]
  },
  {
   "cell_type": "raw",
   "id": "c7433ecb-58e9-4852-96d1-965aa416fb32",
   "metadata": {},
   "source": [
    "12. Explain the use of abstract base classes (ABCs) in Python and how they relate to inheritance. Provide an\n",
    "example using the `abc` module.\n",
    "\n",
    "1.Abstract Base Classes (ABCs) in Python are a way to define a common interface for a group of related objects.\n",
    "2.They allow you to define methods that must be implemented by any subclass, ensuring that a consistent interface is followed.\n",
    "3.This is especially useful in large projects where you want to enforce a certain structure and behavior in your code.\n",
    "\n",
    "Use of Abstract Base Classes (ABCs) and Their Relation to Inheritance\n",
    "\n",
    "Defining Interfaces: ABCs allow you to define methods that must be implemented by subclasses, effectively creating an interface.\n",
    "\n",
    "Enforcing Method Implementation: By using ABCs, you ensure that all subclasses implement specific methods, promoting a consistent and predictable structure.\n",
    "\n",
    "Type Checking: ABCs can be used to perform type checking, allowing you to verify that an object adheres to a particular interface.\n",
    "\n",
    "Inheritance: Subclasses inherit from ABCs and must implement the abstract methods defined in the ABC."
   ]
  },
  {
   "cell_type": "code",
   "execution_count": 29,
   "id": "0939b820-e653-4935-8529-0e573e32409b",
   "metadata": {},
   "outputs": [
    {
     "name": "stdout",
     "output_type": "stream",
     "text": [
      "Area of circle :15\n",
      "Area of Rectangle :706.5\n",
      "Perimeter of circle:30\n",
      "Perimeter of rectangle:94.2\n"
     ]
    }
   ],
   "source": [
    "from abc import ABC,abstractmethod\n",
    "\n",
    "class Shape(ABC):\n",
    "    @abstractmethod\n",
    "    def area(self):\n",
    "        pass\n",
    "\n",
    "    @abstractmethod\n",
    "    def perimeter(self):\n",
    "        pass\n",
    "\n",
    "class Rectangle(Shape):\n",
    "    def __init__(self,length,width):\n",
    "        self.length =length\n",
    "        self.width=width\n",
    "\n",
    "    def area(self):\n",
    "        return self.length * self.width\n",
    "\n",
    "    def perimeter(self):\n",
    "        return 2*(self.length *self.width)\n",
    "\n",
    "class Circle(Shape):\n",
    "    def __init__(self,radius):\n",
    "        self.radius=radius\n",
    "\n",
    "    def area(self):\n",
    "        pi=3.14\n",
    "        return pi * self.radius *self.radius\n",
    "\n",
    "    def perimeter(self):\n",
    "        pi=3.14\n",
    "        return 2 *(pi * self.radius)\n",
    "\n",
    "r=Rectangle(5,3)\n",
    "c=Circle(15)\n",
    "print(f\"Area of circle :{r.area()}\")\n",
    "print(f\"Area of Rectangle :{c.area()}\")\n",
    "print(f\"Perimeter of circle:{r.perimeter()}\")\n",
    "print(f\"Perimeter of rectangle:{c.perimeter()}\")"
   ]
  },
  {
   "cell_type": "raw",
   "id": "3cd517f8-bfee-4534-b898-66e8b87710ad",
   "metadata": {},
   "source": [
    "#13. How can you prevent a child class from modifying certain attributes or methods inherited from a parent\n",
    "#class in Python?\n",
    "\n",
    "'''1.Use the @final Decorator(python 3.8+)\n",
    "The @final decorator from the typing module marks methods or classes as final, \n",
    "which means they cannot be overridden or extended in subclasses.'''\n",
    "\n",
    "\n",
    "from typing import final\n",
    "\n",
    "class Parent:\n",
    "    @final\n",
    "    def important_method(self):\n",
    "        print(\"Cannot override this method\")\n",
    "\n",
    "class Child(Parent):\n",
    "    pass\n",
    "# Attempting to override `important_method` in `Child` raises an error.\n",
    "\n",
    "\n",
    "'''2. Convention with Leading Underscores\n",
    "Prefix the attribute or method name with a single underscore (_) to indicate it \n",
    "is intended for internal use. While not strictly enforced, this signals that it should \n",
    "not be modified.'''\n",
    "\n",
    "class Parent:\n",
    "    def _internal_method(self):\n",
    "        print(\"Not intended for modification\")\n",
    "\n",
    "class Child(Parent):\n",
    "    pass  # Modification is discouraged but not strictly prevented\n",
    "\n",
    "\n",
    "'''3. Private Attributes with Double Underscores\n",
    "Prefix the attribute or method name with double underscores (__) to invoke name mangling.\n",
    "This makes it harder (but not impossible) for subclasses to access or modify them.'''\n",
    "\n",
    "class Parent:\n",
    "    def __init__(self):\n",
    "        self.__private_attribute = \"Hidden\"\n",
    "\n",
    "    def get_private_attribute(self):\n",
    "        return self.__private_attribute\n",
    "\n",
    "class Child(Parent):\n",
    "    pass\n",
    "\n",
    "child = Child()\n",
    "print(child.get_private_attribute())  # Access is controlled via a method\n",
    "\n",
    "\n",
    "'''4. Custom Logic to Restrict Modification\n",
    "Implement getter and setter methods (or use the @property decorator) to control access \n",
    "and modification of attributes.'''\n",
    "class Parent:\n",
    "    def __init__(self):\n",
    "        self._value = 0\n",
    "\n",
    "    @property\n",
    "    def value(self):\n",
    "        return self._value\n",
    "\n",
    "    @value.setter\n",
    "    def value(self, val):\n",
    "        raise AttributeError(\"Modification of value is not allowed\")\n",
    "\n",
    "class Child(Parent):\n",
    "    pass\n",
    "\n",
    "parent = Parent()\n",
    "print(parent.value)  # Output: 0\n",
    "# parent.value = 10  # Raises AttributeError\n",
    "\n",
    "\n",
    "'''Use @final for strict prevention of method overriding.\n",
    "Use leading underscores or double underscores for signaling or limiting access.\n",
    "Employ properties or custom logic to restrict attribute modification.\n",
    "Rely on conventions and clear documentation for better maintainability.'''"
   ]
  },
  {
   "cell_type": "code",
   "execution_count": 35,
   "id": "6e6eda8a-5272-4b4d-9e47-ddc29377ef7f",
   "metadata": {},
   "outputs": [
    {
     "name": "stdout",
     "output_type": "stream",
     "text": [
      "Komal 65000 IT\n",
      "Fiza 45000\n"
     ]
    }
   ],
   "source": [
    "#14. Create a Python class called `Employee` with attributes `name` and `salary`. Then, create a child class\n",
    "#`Manager` that inherits from `Employee` and adds an attribute `department`. Provide an example.\n",
    "\n",
    "class Employee:\n",
    "    def __init__(self,name,salary):\n",
    "        self.name=name\n",
    "        self.salary=salary\n",
    "\n",
    "\n",
    "class Manager(Employee):\n",
    "    def __init__(self,name,salary,department):\n",
    "        super().__init__(name,salary)\n",
    "        self.department=department\n",
    "\n",
    "manager=Manager(\"Komal\",65000,\"IT\")\n",
    "employee=Employee(\"Fiza\",45000)\n",
    "print(manager.name,manager.salary,manager.department)\n",
    "print(employee.name,employee.salary)"
   ]
  },
  {
   "cell_type": "code",
   "execution_count": 36,
   "id": "5f23ece0-2df5-48cf-99bd-bae1d674e30f",
   "metadata": {},
   "outputs": [
    {
     "name": "stdout",
     "output_type": "stream",
     "text": [
      "Hello!\n",
      "Hello, Alice!\n"
     ]
    }
   ],
   "source": [
    "'''15. Discuss the concept of method overloading in Python inheritance. How does it differ from method\n",
    "overriding?\n",
    "\n",
    "1. Method Overloading\n",
    "Definition: Method overloading refers to defining multiple methods with the same name but different parameters.\n",
    "Python's Approach: Python does not directly support method overloading like other languages (e.g., Java or C++). Instead, it uses default arguments, *args, or **kwargs to achieve similar functionality.\n",
    "'''\n",
    "\n",
    "class Example:\n",
    "    def greet(self, name=None):\n",
    "        if name:\n",
    "            print(f\"Hello, {name}!\")\n",
    "        else:\n",
    "            print(\"Hello!\")\n",
    "\n",
    "obj = Example()\n",
    "obj.greet()         # Output: Hello!\n",
    "obj.greet(\"Alice\")  # Output: Hello, Alice!\n",
    "\n",
    "\n"
   ]
  },
  {
   "cell_type": "code",
   "execution_count": 39,
   "id": "a223ffb1-9db9-421d-b7b7-cba1480cd650",
   "metadata": {},
   "outputs": [
    {
     "name": "stdout",
     "output_type": "stream",
     "text": [
      "Hello!I'm a student.\n"
     ]
    }
   ],
   "source": [
    "'''2. Method Overriding\n",
    "Definition: Method overriding occurs when a child class provides a specific implementation for a method already defined in the parent class.\n",
    "Purpose: Overriding is used to change or extend the behavior of inherited methods.\n",
    "Rules: The method in the child class must have the same name, parameters, and signature as the method in the parent class.\n",
    "Example:'''\n",
    "class Teacher:\n",
    "    def greet(self):\n",
    "        print(\"Hello!I'm a teacher.\")\n",
    "\n",
    "class Student(Teacher):\n",
    "    def greet(self):\n",
    "        print(\"Hello!I'm a student.\") # Overrides Parent's method\n",
    "\n",
    "\n",
    "st=Student()\n",
    "st.greet()"
   ]
  },
  {
   "cell_type": "code",
   "execution_count": 48,
   "id": "1825f526-2db6-4d3b-8a5e-5bfbdf084856",
   "metadata": {},
   "outputs": [
    {
     "data": {
      "text/html": [
       "<div>\n",
       "<style scoped>\n",
       "    .dataframe tbody tr th:only-of-type {\n",
       "        vertical-align: middle;\n",
       "    }\n",
       "\n",
       "    .dataframe tbody tr th {\n",
       "        vertical-align: top;\n",
       "    }\n",
       "\n",
       "    .dataframe thead th {\n",
       "        text-align: right;\n",
       "    }\n",
       "</style>\n",
       "<table border=\"1\" class=\"dataframe\">\n",
       "  <thead>\n",
       "    <tr style=\"text-align: right;\">\n",
       "      <th></th>\n",
       "      <th>Aspect</th>\n",
       "      <th>Definition</th>\n",
       "      <th>Support in Python</th>\n",
       "      <th>Inheritance Context</th>\n",
       "      <th>Purpose</th>\n",
       "    </tr>\n",
       "  </thead>\n",
       "  <tbody>\n",
       "    <tr>\n",
       "      <th>0</th>\n",
       "      <td>Method Overloading</td>\n",
       "      <td>Same method name, different parameter lists.</td>\n",
       "      <td>Achieved using default arguments or *args.</td>\n",
       "      <td>Not specific to inheritance.</td>\n",
       "      <td>Adds flexibility to a method for varying argum...</td>\n",
       "    </tr>\n",
       "    <tr>\n",
       "      <th>1</th>\n",
       "      <td>Method Overriding</td>\n",
       "      <td>Same method name, same parameters redefined in...</td>\n",
       "      <td>Fully supported; common in inheritance.</td>\n",
       "      <td>Specific to inheritance; modifies parent class...</td>\n",
       "      <td>Customizes behavior in subclasses.</td>\n",
       "    </tr>\n",
       "  </tbody>\n",
       "</table>\n",
       "</div>"
      ],
      "text/plain": [
       "               Aspect                                         Definition  \\\n",
       "0  Method Overloading       Same method name, different parameter lists.   \n",
       "1   Method Overriding  Same method name, same parameters redefined in...   \n",
       "\n",
       "                            Support in Python  \\\n",
       "0  Achieved using default arguments or *args.   \n",
       "1     Fully supported; common in inheritance.   \n",
       "\n",
       "                                 Inheritance Context  \\\n",
       "0                       Not specific to inheritance.   \n",
       "1  Specific to inheritance; modifies parent class...   \n",
       "\n",
       "                                             Purpose  \n",
       "0  Adds flexibility to a method for varying argum...  \n",
       "1                 Customizes behavior in subclasses.  "
      ]
     },
     "execution_count": 48,
     "metadata": {},
     "output_type": "execute_result"
    }
   ],
   "source": [
    "import pandas as pd\n",
    "\n",
    "data={\"Aspect\":[\"Method Overloading\",\"Method Overriding\"],\n",
    "\"Definition\":[\"Same method name, different parameter lists.\",\"Same method name, same parameters redefined in child class.\"],\n",
    "\"Support in Python\":[\"Achieved using default arguments or *args.\",\"Fully supported; common in inheritance.\"],\n",
    "\"Inheritance Context\":[\"Not specific to inheritance.\",\"Specific to inheritance; modifies parent class behavior.\"],\n",
    "\"Purpose\":[\"Adds flexibility to a method for varying arguments.\",\"Customizes behavior in subclasses.\"]}\n",
    "df = pd.DataFrame(data)\n",
    "\n",
    "# Display the table\n",
    "df"
   ]
  },
  {
   "cell_type": "code",
   "execution_count": 50,
   "id": "cd571511-1be2-4e4e-ba9b-a2daae263b9c",
   "metadata": {},
   "outputs": [
    {
     "name": "stdout",
     "output_type": "stream",
     "text": [
      "Alice 10\n"
     ]
    }
   ],
   "source": [
    "'''16. Explain the purpose of the `__init__()` method in Python inheritance and how it is utilized in child classes.\n",
    "The __init__() method in Python is a special constructor method used to initialize an object's \n",
    "attributes when the object is created.\n",
    "In inheritance, the __init__() method plays an important role in ensuring that both the parent class and child class are properly initialized.\n",
    "\n",
    "\n",
    "Initialization of Attributes:\n",
    "The __init__() method initializes instance attributes for the object.\n",
    "In inheritance, the child class can inherit the parent’s attributes and optionally extend or override them.\n",
    "Calling the Parent's __init__() Method:\n",
    "\n",
    "The child class can explicitly call the parent class's __init__() method using super(). \n",
    "This ensures that the parent class's initialization logic is executed before adding the child class's specific attributes.\n",
    "Customization:\n",
    "\n",
    "Child classes can define their own __init__() method to customize initialization for their specific needs while still reusing the parent's __init__() logic.'''\n",
    "class Parent:\n",
    "    def __init__(self, name):\n",
    "        self.name = name\n",
    "\n",
    "class Child(Parent):\n",
    "    def __init__(self, name, age):\n",
    "        super().__init__(name)\n",
    "        self.age = age\n",
    "\n",
    "child = Child(\"Alice\", 10)\n",
    "print(child.name, child.age)  # Output: Alice 10\n"
   ]
  },
  {
   "cell_type": "code",
   "execution_count": 52,
   "id": "e29db98c-6a3e-44d8-8475-409aa1f6145e",
   "metadata": {},
   "outputs": [
    {
     "name": "stdout",
     "output_type": "stream",
     "text": [
      "Eagle flies high\n",
      "Sparrow flies low\n"
     ]
    }
   ],
   "source": [
    "#17. Create a Python class called `Bird` with a method `fly()`. Then, create child classes `Eagle` and `Sparrow` that inherit from `Bird` and implement the `fly()` method differently. Provide an example of using these\n",
    "#classes.\n",
    "class Bird:\n",
    "    def fly(self):\n",
    "        return \"i can fly!\"\n",
    "\n",
    "class Eagle(Bird):\n",
    "    def fly(self):\n",
    "        return \"Eagle flies high\"\n",
    "        \n",
    "class Sparrow(Bird):\n",
    "    def fly(self):\n",
    "        return \"Sparrow flies low\"\n",
    "\n",
    "eagle = Eagle()\n",
    "sparrow = Sparrow()\n",
    "\n",
    "print(eagle.fly())  \n",
    "print(sparrow.fly())  "
   ]
  },
  {
   "cell_type": "code",
   "execution_count": 53,
   "id": "31c3cc6d-7a6b-467a-bb87-1699e327d42a",
   "metadata": {},
   "outputs": [
    {
     "name": "stdout",
     "output_type": "stream",
     "text": [
      "Eagle flies high\n",
      "Sparrow flies low\n"
     ]
    }
   ],
   "source": [
    "#17. Create a Python class called `Bird` with a method `fly()`. Then, create child classes `Eagle` and `Sparrow` that inherit from `Bird` and implement the `fly()` method differently. Provide an example of using these\n",
    "#classes.\n",
    "class Bird:\n",
    "    def fly(self):\n",
    "        raise NotImplementedError\n",
    "\n",
    "class Eagle(Bird):\n",
    "    def fly(self):\n",
    "        return \"Eagle flies high\"\n",
    "        \n",
    "class Sparrow(Bird):\n",
    "    def fly(self):\n",
    "        return \"Sparrow flies low\"\n",
    "\n",
    "eagle = Eagle()\n",
    "sparrow = Sparrow()\n",
    "\n",
    "print(eagle.fly())  \n",
    "print(sparrow.fly()) "
   ]
  },
  {
   "cell_type": "code",
   "execution_count": 55,
   "id": "d90d601d-9279-4431-a747-c89b70ef2f01",
   "metadata": {},
   "outputs": [
    {
     "data": {
      "text/html": [
       "<div>\n",
       "<style scoped>\n",
       "    .dataframe tbody tr th:only-of-type {\n",
       "        vertical-align: middle;\n",
       "    }\n",
       "\n",
       "    .dataframe tbody tr th {\n",
       "        vertical-align: top;\n",
       "    }\n",
       "\n",
       "    .dataframe thead th {\n",
       "        text-align: right;\n",
       "    }\n",
       "</style>\n",
       "<table border=\"1\" class=\"dataframe\">\n",
       "  <thead>\n",
       "    <tr style=\"text-align: right;\">\n",
       "      <th></th>\n",
       "      <th>Aspect</th>\n",
       "      <th>First Code</th>\n",
       "      <th>Second Code</th>\n",
       "    </tr>\n",
       "  </thead>\n",
       "  <tbody>\n",
       "    <tr>\n",
       "      <th>0</th>\n",
       "      <td>Base Class Method</td>\n",
       "      <td>Provides a default implementation.</td>\n",
       "      <td>Enforces implementation via error.</td>\n",
       "    </tr>\n",
       "    <tr>\n",
       "      <th>1</th>\n",
       "      <td>Flexibility</td>\n",
       "      <td>Allows optional overriding.</td>\n",
       "      <td>Requires mandatory overriding.</td>\n",
       "    </tr>\n",
       "    <tr>\n",
       "      <th>2</th>\n",
       "      <td>Abstract Behavior</td>\n",
       "      <td>No enforced abstraction.</td>\n",
       "      <td>Mimics abstraction without abc.</td>\n",
       "    </tr>\n",
       "    <tr>\n",
       "      <th>3</th>\n",
       "      <td>Best Suited For</td>\n",
       "      <td>Generalized behavior with exceptions.</td>\n",
       "      <td>Strict enforcement of specific behavior.</td>\n",
       "    </tr>\n",
       "  </tbody>\n",
       "</table>\n",
       "</div>"
      ],
      "text/plain": [
       "              Aspect                             First Code  \\\n",
       "0  Base Class Method     Provides a default implementation.   \n",
       "1        Flexibility            Allows optional overriding.   \n",
       "2  Abstract Behavior               No enforced abstraction.   \n",
       "3    Best Suited For  Generalized behavior with exceptions.   \n",
       "\n",
       "                                Second Code  \n",
       "0        Enforces implementation via error.  \n",
       "1            Requires mandatory overriding.  \n",
       "2           Mimics abstraction without abc.  \n",
       "3  Strict enforcement of specific behavior.  "
      ]
     },
     "execution_count": 55,
     "metadata": {},
     "output_type": "execute_result"
    }
   ],
   "source": [
    "import pandas as pd\n",
    "\n",
    "# Data for the table\n",
    "data = {\n",
    "    \"Aspect\": [\n",
    "        \"Base Class Method\",\n",
    "        \"Flexibility\",\n",
    "        \"Abstract Behavior\",\n",
    "        \"Best Suited For\"\n",
    "    ],\n",
    "    \"First Code\": [\n",
    "        \"Provides a default implementation.\",\n",
    "        \"Allows optional overriding.\",\n",
    "        \"No enforced abstraction.\",\n",
    "        \"Generalized behavior with exceptions.\"\n",
    "    ],\n",
    "    \"Second Code\": [\n",
    "        \"Enforces implementation via error.\",\n",
    "        \"Requires mandatory overriding.\",\n",
    "        \"Mimics abstraction without abc.\",\n",
    "        \"Strict enforcement of specific behavior.\"\n",
    "    ]\n",
    "}\n",
    "\n",
    "# Create the DataFrame\n",
    "df = pd.DataFrame(data)\n",
    "\n",
    "# Display the DataFrame\n",
    "df"
   ]
  },
  {
   "cell_type": "code",
   "execution_count": 59,
   "id": "1e0279a5-fd9a-4e25-905f-160dfd9b350a",
   "metadata": {},
   "outputs": [
    {
     "name": "stdout",
     "output_type": "stream",
     "text": [
      "Hello! from B\n",
      "[<class '__main__.D'>, <class '__main__.B'>, <class '__main__.C'>, <class '__main__.A'>, <class 'object'>]\n"
     ]
    }
   ],
   "source": [
    "'''18. What is the \"diamond problem\" in multiple inheritance, and how does Python address it?\n",
    "Occurs in multiple inheritance when a class inherits from two classes with the same base.\n",
    "Python resolves it using the Method Resolution Order (MRO).'''\n",
    "\n",
    "class A: \n",
    "    def greet(self):\n",
    "        print(\"Hello! from A\")\n",
    "\n",
    "class B(A):\n",
    "    def greet(self):\n",
    "        print(\"Hello! from B\")\n",
    "class C(A):\n",
    "    def greet(self):\n",
    "        print(\"Hello! from C\")\n",
    "class D(B, C):\n",
    "    pass\n",
    "\n",
    "\n",
    "d = D() \n",
    "d.greet()\n",
    "\n",
    "print(D.mro())  # MRO ensures a consistent resolution path\n"
   ]
  },
  {
   "cell_type": "raw",
   "id": "ea993685-e969-42ea-b92a-58ea667619f9",
   "metadata": {},
   "source": [
    "19. Discuss the concept of \"is-a\" and \"has-a\" relationships in inheritance, and provide examples of each.\n",
    "\"Is-a\" Relationship (Inheritance):\n",
    "The \"is-a\" relationship is a concept in object-oriented programming where a subclass inherits from a superclass. \n",
    "It denotes that the subclass is a type of the superclass.\n",
    "\n",
    "Example: A Dog class inherits from an Animal class. This means a Dog is an Animal"
   ]
  },
  {
   "cell_type": "code",
   "execution_count": null,
   "id": "b4987442-db9e-42e9-b735-c5b77401f5b9",
   "metadata": {},
   "outputs": [],
   "source": [
    "class Animal:\n",
    "    def __init__(self, name):\n",
    "        self.name = name\n",
    "\n",
    "    def make_sound(self):\n",
    "        return \"Some sound\"\n",
    "\n",
    "class Dog(Animal):\n",
    "    def make_sound(self):\n",
    "        return \"Bark\"\n",
    "\n",
    "# Usage\n",
    "dog = Dog(\"Buddy\")\n",
    "print(dog.name)          # Output: Buddy\n",
    "print(dog.make_sound())  # Output: Bark\n"
   ]
  },
  {
   "cell_type": "code",
   "execution_count": null,
   "id": "744a70bd-d439-44c2-898d-04c3d722691b",
   "metadata": {},
   "outputs": [],
   "source": [
    "Has-a\" Relationship (Composition/Aggregation):\n",
    "The \"has-a\" relationship is a concept where one class contains a reference to another class as a part of its state.\n",
    "It denotes that one class uses or contains another class.\n",
    "\n",
    "Example: A Car class has an Engine class. This means a Car has an Engine.\n",
    "\n",
    "Python Example:"
   ]
  },
  {
   "cell_type": "code",
   "execution_count": 60,
   "id": "c2334a39-dc88-4622-8e2c-b11694adefbc",
   "metadata": {},
   "outputs": [
    {
     "name": "stdout",
     "output_type": "stream",
     "text": [
      "Toyota\n",
      "Camry\n",
      "300\n"
     ]
    }
   ],
   "source": [
    "class Engine:\n",
    "    def __init__(self, horsepower):\n",
    "        self.horsepower = horsepower\n",
    "\n",
    "class Car:\n",
    "    def __init__(self, make, model, engine):\n",
    "        self.make = make\n",
    "        self.model = model\n",
    "        self.engine = engine\n",
    "\n",
    "# Usage\n",
    "engine = Engine(300)\n",
    "car = Car(\"Toyota\", \"Camry\", engine)\n",
    "print(car.make)              # Output: Toyota\n",
    "print(car.model)             # Output: Camry\n",
    "print(car.engine.horsepower) # Output: 300\n"
   ]
  },
  {
   "cell_type": "raw",
   "id": "8dfa93d0-466c-41f2-9324-859f60696e3e",
   "metadata": {},
   "source": [
    "20. Create a Python class hierarchy for a university system. Start with a base class `Person` and create child\n",
    "classes `Student` and `Professor`, each with their own attributes and methods. Provide an example of using\n",
    "these classes in a university context."
   ]
  },
  {
   "cell_type": "code",
   "execution_count": 7,
   "id": "7216fe97-8736-4694-a985-c7a26b55465f",
   "metadata": {},
   "outputs": [
    {
     "name": "stdout",
     "output_type": "stream",
     "text": [
      "Name :Amruta Agarwal , Age:20, Student_id: CS50877, Course:CSE\n",
      "Name :Dr. Smith , Age:45, Employee_id: P67890, Department:Physics\n"
     ]
    }
   ],
   "source": [
    "class Person:\n",
    "    def __init__(self,name,age):\n",
    "        self.name =name\n",
    "        self.age=age\n",
    "        \n",
    "    def get_details(self):\n",
    "        return f\"Name :{self.name} , Age:{self.age}\"\n",
    "\n",
    "class Student(Person):\n",
    "     def __init__(self,name,age,roll_no,course):\n",
    "         super().__init__(name,age)\n",
    "         self.roll_no =roll_no\n",
    "         self.course =course\n",
    "\n",
    "     def get_details(self):\n",
    "        return f\"{super().get_details()}, Student_id: {self.roll_no}, Course:{self.course}\"\n",
    "        \n",
    "\n",
    "class Professor(Person):\n",
    "    def __init__(self,name,age,employee_id,dept):\n",
    "         super().__init__(name,age)\n",
    "         self.employee_id=employee_id\n",
    "         self.dept=dept\n",
    "         \n",
    "    def get_details(self):\n",
    "        return f\"{super().get_details()}, Employee_id: {self.employee_id}, Department:{self.dept}\"\n",
    "\n",
    "Prof=Professor(\"Abhishek Kumar\",50,\"CS50666\",\"CSE\")\n",
    "Prof = Professor(\"Dr. Smith\", 45, \"P67890\", \"Physics\")\n",
    "stu=Student(\"Amruta Agarwal\",20,\"CS50877\",\"CSE\")\n",
    "print(stu.get_details())\n",
    "print(Prof.get_details())"
   ]
  },
  {
   "cell_type": "raw",
   "id": "6595db3e-7783-4c13-95c3-b30d914a8e2d",
   "metadata": {},
   "source": [
    "Encapsulation:\n",
    "1. Explain the concept of encapsulation in Python. What is its role in object-oriented programming?\n",
    "2. Describe the key principles of encapsulation, including access control and data hiding.\n",
    "3. How can you achieve encapsulation in Python classes? Provide an example.\n",
    "4. Discuss the difference between public, private, and protected access modifiers in Python.\n",
    "5. Create a Python class called `Person` with a private attribute `__name`. Provide methods to get and set the\n",
    "name attribute.\n",
    "6. Explain the purpose of getter and setter methods in encapsulation. Provide examples.\n",
    "7. What is name mangling in Python, and how does it affect encapsulation?\n",
    "8. Create a Python class called `BankAccount` with private attributes for the account balance (`__balance`) and account number (`__account_number`). Provide methods for depositing and withdrawing money.\n",
    "9. Discuss the advantages of encapsulation in terms of code maintainability and security.\n",
    "10. How can you access private attributes in Python? Provide an example demonstrating the use of name\n",
    "mangling.\n",
    "11. Create a Python class hierarchy for a school system, including classes for students, teachers, and courses,\n",
    "and implement encapsulation principles to protect sensitive information.\n",
    "12. Explain the concept of property decorators in Python and how they relate to encapsulation.\n",
    "13. What is data hiding, and why is it important in encapsulation? Provide examples.\n",
    "14. Create a Python class called `Employee` with private attributes for salary (`__salary`) and employee ID (`__employee_id`). Provide a method to calculate yearly bonuses.\n",
    "15. Discuss the use of accessors and mutators in encapsulation. How do they help maintain control over\n",
    "attribute access?\n",
    "16. What are the potential drawbacks or disadvantages of using encapsulation in Python?\n",
    "17. Create a Python class for a library system that encapsulates book information, including titles, authors,\n",
    "and availability status.\n",
    "18. Explain how encapsulation enhances code reusability and modularity in Python programs.\n",
    "19. Describe the concept of information hiding in encapsulation. Why is it essential in software development?\n",
    "20. Create a Python class called `Customer` with private attributes for customer details like name, address,\n",
    "and contact information. Implement encapsulation to ensure data integrity and security."
   ]
  },
  {
   "cell_type": "raw",
   "id": "a300d9de-7b3b-4c6b-9ef0-50d65414245e",
   "metadata": {},
   "source": [
    "1. Explain the concept of encapsulation in Python. What is its role in object-oriented programming?\n",
    "Encapsulation is a principal of object-oriented programming(OOP) where the internal details of an object(its data and methods)ae hidden from the outside world.\n",
    "It allows controlled access to the attributrs and methods via public interfaces\n",
    "\n",
    "Role in OOP:It helps protect data from unauthorized access,ensures modularity, and suppoert abstractin by exposing only the relevant details.\n",
    "2. Describe the key principles of encapsulation, including access control and data hiding.\n",
    "Access Control:Encapsulation enforces rules to control how data is accessed or mordified using modifiers(Public,protected,private).\n",
    "Data Handling:Internal details of objects are hideen from the external code,reducing complexity and potential misuse.\n"
   ]
  },
  {
   "cell_type": "code",
   "execution_count": 13,
   "id": "bbad4651-1c93-477c-8ffa-bb30419985d8",
   "metadata": {},
   "outputs": [
    {
     "name": "stdout",
     "output_type": "stream",
     "text": [
      "10\n",
      "12\n",
      "9\n",
      "Invalid Value. Must be non-negative.\n",
      "9\n"
     ]
    }
   ],
   "source": [
    "#3. How can you achieve encapsulation in Python classes? Provide an example.\n",
    "\n",
    "class EncapsulationExample:\n",
    "    def __init__(self,value):\n",
    "        self.__hidden_value =value #private attribute\n",
    "\n",
    "    def get_value(self):  #getter\n",
    "        return self.__hidden_value\n",
    "\n",
    "    def set_value(self,value):\n",
    "        if value>=0:\n",
    "            self.__hidden_value =value\n",
    "        else:\n",
    "            print(\"Invalid Value. Must be non-negative.\")\n",
    "enc=EncapsulationExample(10)\n",
    "print(enc.get_value())\n",
    "enc.set_value(12)\n",
    "print(enc.get_value())\n",
    "enc.set_value(+9)\n",
    "print(enc.get_value())\n",
    "enc.set_value(-10)\n",
    "print(enc.get_value())"
   ]
  },
  {
   "cell_type": "raw",
   "id": "27251fe1-98db-4c4c-bd01-1ff2498275a5",
   "metadata": {},
   "source": [
    "4. Discuss the difference between public, private, and protected access modifiers in Python.\n",
    "Public:Accessible anywhere (variable)\n",
    "Protected:Accessible within the class and its subclasses(_variable)\n",
    "Private:Accessible only within class (__variable)"
   ]
  },
  {
   "cell_type": "code",
   "execution_count": 18,
   "id": "4037cf5d-d1c3-43d5-8075-ed50773fa111",
   "metadata": {},
   "outputs": [
    {
     "name": "stdout",
     "output_type": "stream",
     "text": [
      "James watt\n",
      "Ruby Bombay\n",
      "Invalid name.\n",
      "Ruby Bombay\n"
     ]
    }
   ],
   "source": [
    "#5. Create a Python class called `Person` with a private attribute `__name`. Provide methods to get and set then ame attribute.\n",
    "\n",
    "class Person:\n",
    "    def __init__(self,name):\n",
    "        self.__hidden_name =name\n",
    "\n",
    "\n",
    "    def get_name(self):\n",
    "        return self.__hidden_name\n",
    "    \n",
    "    def set_name(self,name):\n",
    "        if isinstance(name,str):\n",
    "            self.__hidden_name =name\n",
    "        else:\n",
    "            return print(\"Invalid name.\")\n",
    "person=Person(\"James watt\")\n",
    "print(person.get_name())\n",
    "person.set_name(\"Ruby Bombay\")\n",
    "print(person.get_name())\n",
    "person.set_name(123)\n",
    "print(person.get_name())"
   ]
  },
  {
   "cell_type": "code",
   "execution_count": 44,
   "id": "44c6eec1-504a-4b63-8c7a-1ac0c6874ad5",
   "metadata": {},
   "outputs": [
    {
     "name": "stdout",
     "output_type": "stream",
     "text": [
      "initial Balance: 2580\n",
      "50007\n"
     ]
    }
   ],
   "source": [
    "'''6. Explain the purpose of getter and setter methods in encapsulation. Provide examples.\n",
    "Getter and setter methods allow controlled access and modification of private attributes, ensuring data integrity.'''\n",
    "#example\n",
    "class Account:\n",
    "    def __init__(self,balance):\n",
    "        self.__balance=balance\n",
    "\n",
    "    def get_balance(self):\n",
    "        return self.__balance\n",
    "\n",
    "    def set_balance(self,amount):\n",
    "        if amount >=0:\n",
    "            self.__balance =amount\n",
    "        else:\n",
    "            print(\"Invalid balance amount.\")\n",
    "\n",
    "acc1=Account(2580)\n",
    "print(\"initial Balance:\", acc1.get_balance())\n",
    "acc1.set_balance(50007)\n",
    "print(acc1.get_balance())"
   ]
  },
  {
   "cell_type": "code",
   "execution_count": 24,
   "id": "ec1b49d3-efd2-4b49-bc6a-1c119281f26d",
   "metadata": {},
   "outputs": [
    {
     "name": "stdout",
     "output_type": "stream",
     "text": [
      "56\n"
     ]
    }
   ],
   "source": [
    "'''7. What is name mangling in Python, and how does it affect encapsulation?\n",
    "Name Mangling: is the process by which python modifies the name of private attributes by prefixing them with _ClassName .\n",
    "This ensure unique identifier and restrict direct access.'''\n",
    "class Example:\n",
    "    def __init__(self):\n",
    "        self.__private =56\n",
    "\n",
    "e=Example()\n",
    "print(e._Example__private)"
   ]
  },
  {
   "cell_type": "code",
   "execution_count": 49,
   "id": "da94fdeb-944d-4223-9507-4bf02752c550",
   "metadata": {},
   "outputs": [
    {
     "name": "stdout",
     "output_type": "stream",
     "text": [
      "Initial_balance: 5000\n",
      "Amount deposited is:800\n",
      "Amount withdrawn: 120\n",
      "Updated Balance : 5680\n",
      "Balance updated.\n",
      "Updated Balance : 1000\n"
     ]
    }
   ],
   "source": [
    "'''8. Create a Python class called `BankAccount` with private attributes for the account balance (`__balance`) and account number (`__account_number`). Provide methods for depositing and withdrawing money.'''\n",
    "class BankAccount:\n",
    "    def __init__(self,balance,account_number):\n",
    "        self.__balance =balance\n",
    "        self.__account_number=account_number\n",
    "\n",
    "    def deposit(self,amt):\n",
    "        self._amt=amt\n",
    "        if amt >0:\n",
    "            self.__balance +=amt\n",
    "            return f\"Amount deposited is:{amt}\"\n",
    "        else:\n",
    "            return print(\"Invalid amount deposited.\")\n",
    "\n",
    "    def withdraw(self,amt):\n",
    "        if 0 < amt<=self.__balance:\n",
    "            self.__balance -= amt\n",
    "            return f\"Amount withdrawn: {amt}\"\n",
    "        else:\n",
    "            print(\"Insufficient balance or invalid amount.\")\n",
    "        \n",
    "    def get_balance(self):\n",
    "        return self.__balance\n",
    "\n",
    "    def set_balance(self,amt):\n",
    "        if amt>= 0:\n",
    "            self.__balance = amt\n",
    "            return \"Balance updated.\"\n",
    "        else:\n",
    "            return \"Invalid balance amount.\"\n",
    "            \n",
    "BA=BankAccount(5000,\"qwe2158963478\")\n",
    "print(\"Initial_balance:\",BA.get_balance())\n",
    "print(BA.deposit(800))\n",
    "print(BA.withdraw(120))\n",
    "print(\"Updated Balance :\",BA.get_balance())\n",
    "print(BA.set_balance(1000))\n",
    "print(\"Updated Balance :\",BA.get_balance())"
   ]
  },
  {
   "cell_type": "code",
   "execution_count": null,
   "id": "55ffbc67-2562-46b1-832e-9cbf85327cb6",
   "metadata": {},
   "outputs": [],
   "source": [
    "'''9. Discuss the advantages of encapsulation in terms of code maintainability and security.'''\n",
    "Code Maintainability: Changes to internal implementation don’t affect external code.\n",
    "Data Security: Prevents unauthorized access or unintended modification of data."
   ]
  },
  {
   "cell_type": "code",
   "execution_count": 52,
   "id": "334621a4-d5b5-4cf6-9ac9-932f9fb0eedd",
   "metadata": {},
   "outputs": [
    {
     "name": "stdout",
     "output_type": "stream",
     "text": [
      "Hidden\n"
     ]
    }
   ],
   "source": [
    "'''10. How can you access private attributes in Python? Provide an example demonstrating the use of name\n",
    "mangling.'''\n",
    "#Access Private Attributes: Private attributes can be accessed using name mangling.\n",
    "class Example:\n",
    "    def __init__(self):\n",
    "        self.__private =\"Hidden\"\n",
    "\n",
    "e=Example()\n",
    "print(e._Example__private)"
   ]
  },
  {
   "cell_type": "code",
   "execution_count": 73,
   "id": "9d77cfcc-c09d-4027-b560-41a8ad388abf",
   "metadata": {},
   "outputs": [
    {
     "name": "stdout",
     "output_type": "stream",
     "text": [
      "Student Name: Alice, Age: 20, Contact Info: alice@domain.com, Student ID: S101, Course: Data Structures enrolled in Data Structures.\n",
      "Student Name: Bob, Age: 21, Contact Info: bob@domain.com, Student ID: S102, Course: Data Structures enrolled in Data Structures.\n",
      "Course: Data Structures, Teacher: Name: Dr. John, Age: 45, Contact Info: john@school.com, Teacher ID: T001, Department: CSE, Enrolled Students: ['Name: Alice, Age: 20, Contact Info: alice@domain.com, Student ID: S101, Course: Data Structures', 'Name: Bob, Age: 21, Contact Info: bob@domain.com, Student ID: S102, Course: Data Structures']\n",
      "Detais of teacher:Name: Dr. John, Age: 45, Contact Info: john@school.com, Teacher ID: T001, Department: CSE\n"
     ]
    }
   ],
   "source": [
    "#11. Create a Python class hierarchy for a school system, including classes for students, teachers, and courses,\n",
    "#and implement encapsulation principles to protect sensitive information.\n",
    "\n",
    "class Person:\n",
    "    def __init__(self, name, age, contact_info):\n",
    "        self.__name = name  # Private attribute\n",
    "        self.__age = age  # Private attribute\n",
    "        self.__contact_info = contact_info  # Private attribute\n",
    "\n",
    "    def get_details(self):\n",
    "        return f\"Name: {self.__name}, Age: {self.__age}, Contact Info: {self.__contact_info}\"\n",
    "\n",
    "    def set_contact_info(self, new_contact):\n",
    "        self.__contact_info = new_contact\n",
    "        return \"Contact information updated.\"\n",
    "\n",
    "\n",
    "class Student(Person):\n",
    "    def __init__(self, name, age, contact_info, student_id, course):\n",
    "        super().__init__(name, age, contact_info)\n",
    "        self.__student_id = student_id  # Private attribute\n",
    "        self.__course = course  # Private attribute\n",
    "        self.__grades = {}  # Private attribute\n",
    "\n",
    "    def add_grade(self, course, grade):\n",
    "        self.__grades[course] = grade\n",
    "        return f\"Grade added for {course}: {grade}\"\n",
    "\n",
    "    def get_grades(self):\n",
    "        return self.__grades\n",
    "\n",
    "    def get_details(self):\n",
    "        return f\"{super().get_details()}, Student ID: {self.__student_id}, Course: {self.__course}\"\n",
    "\n",
    "\n",
    "class Teacher(Person):\n",
    "    def __init__(self, name, age, contact_info, teacher_id, salary, dept):\n",
    "        super().__init__(name, age, contact_info)\n",
    "        self.__teacher_id = teacher_id  # Private attribute\n",
    "        self.__salary = salary  # Private attribute\n",
    "        self.__dept = dept  # Private attribute\n",
    "\n",
    "    def get_details(self):\n",
    "        return f\"{super().get_details()}, Teacher ID: {self.__teacher_id}, Department: {self.__dept}\"\n",
    "\n",
    "    def get_salary(self):\n",
    "        return f\"Salary: {self.__salary}\"\n",
    "\n",
    "\n",
    "class Course:\n",
    "    def __init__(self, course_name, teacher):\n",
    "        self.__course_name = course_name  # Private attribute\n",
    "        self.__teacher = teacher  # Private attribute\n",
    "        self.__students = []  # Private list of enrolled students\n",
    "\n",
    "    def enroll_student(self, student):\n",
    "        self.__students.append(student)\n",
    "        return f\"Student {student.get_details()} enrolled in {self.__course_name}.\"\n",
    "\n",
    "    def get_course_details(self):\n",
    "        student_details = [student.get_details() for student in self.__students]\n",
    "        return (f\"Course: {self.__course_name}, \"\n",
    "                f\"Teacher: {self.__teacher.get_details()}, \"\n",
    "                f\"Enrolled Students: {student_details}\")\n",
    "\n",
    "\n",
    "# Example usage\n",
    "teacher = Teacher(\"Dr. John\", 45, \"john@school.com\", \"T001\", 55000, \"CSE\")\n",
    "student1 = Student(\"Alice\", 20, \"alice@domain.com\", \"S101\", \"Data Structures\")\n",
    "student2 = Student(\"Bob\", 21, \"bob@domain.com\", \"S102\", \"Data Structures\")\n",
    "\n",
    "# Create a course\n",
    "course = Course(\"Data Structures\", teacher)\n",
    "\n",
    "# Enroll students\n",
    "print(course.enroll_student(student1))\n",
    "print(course.enroll_student(student2))\n",
    "\n",
    "# Display course details\n",
    "print(course.get_course_details())\n",
    "print(f\"Detais of teacher:{teacher.get_details()}\",end=\"\\n\")\n"
   ]
  },
  {
   "cell_type": "code",
   "execution_count": null,
   "id": "64426b02-1868-430f-b124-f343ad49430c",
   "metadata": {},
   "outputs": [],
   "source": [
    "#12. Explain the concept of property decorators in Python and how they relate to encapsulation.\n",
    "Property decorators in Python provide a way to use getter and setter methods in a more Pythonic way. They allow you to define methods in a class that can be accessed like attributes. This helps encapsulate class attributes by controlling access and updates, while maintaining a clean interface.\n",
    "\n",
    "Using @property and @<attribute>.setter\n",
    "@property: Defines a method that can be accessed like an attribute. It acts as a getter.\n",
    "\n",
    "@<attribute>.setter: Defines the corresponding setter method to set the value of the property."
   ]
  },
  {
   "cell_type": "code",
   "execution_count": 78,
   "id": "c46c0bc7-362e-4916-8782-5704ee05f3c1",
   "metadata": {},
   "outputs": [
    {
     "name": "stdout",
     "output_type": "stream",
     "text": [
      "The value is: 1530\n",
      "The new value is: 2000\n",
      "Invalid value. Must be non-negative.\n"
     ]
    }
   ],
   "source": [
    "class Example:\n",
    "    def __init__(self, value):\n",
    "        self.__value = value  # Private attribute\n",
    "\n",
    "    @property\n",
    "    def value(self):\n",
    "        return self.__value\n",
    "\n",
    "    @value.setter\n",
    "    def value(self, new_value):\n",
    "        if new_value >= 0:\n",
    "            self.__value = new_value\n",
    "        else:\n",
    "            print(\"Invalid value. Must be non-negative.\")\n",
    "\n",
    "# Example usage\n",
    "ex = Example(1530)\n",
    "print(f\"The value is: {ex.value}\")  # Accessing the value using the getter\n",
    "\n",
    "# Setting a new value using the setter\n",
    "ex.value = 2000\n",
    "print(f\"The new value is: {ex.value}\")\n",
    "\n",
    "# Trying to set a negative value\n",
    "ex.value = -5  # This will print \"Invalid value. Must be non-negative.\"\n"
   ]
  },
  {
   "cell_type": "code",
   "execution_count": null,
   "id": "389f9cdf-fa31-44ce-b61c-c953c35d274b",
   "metadata": {},
   "outputs": [],
   "source": [
    "#13. What is data hiding, and why is it important in encapsulation? Provide examples.\n",
    "Data Hiding is the practice of restricting access to certain details of an object's implementation, preventing the outside world from accessing them directly. This is usually achieved by making attributes private (using a leading double underscore __), ensuring they can only be accessed or modified through methods.\n",
    "\n",
    "Importance in Encapsulation:\n",
    "\n",
    "Data Integrity: Prevents external code from modifying the internal state of an object directly, ensuring data remains consistent and valid.\n",
    "\n",
    "Security: Restricts access to sensitive data, providing a layer of security.\n",
    "\n",
    "Maintenance: Simplifies code maintenance by allowing internal changes without affecting external code.\n",
    "\n",
    "class BankAccount:\n",
    "    def __init__(self,balance):\n",
    "        self.__balance=balance\n",
    "\n",
    "    def deposit(self,amount):\n",
    "        if amount >0:\n",
    "            self.__balance +=amount\n",
    "            \n",
    "    def withdraw(self,amount):\n",
    "        if amount <0:\n",
    "            self.__balance -=amount\n",
    "            \n",
    "    def get_balance(self):\n",
    "        return self.__balance\n",
    "\n",
    "account = BankAccount(100) \n",
    "account.deposit(50) \n",
    "account.withdraw(30) \n",
    "print(account.get_balance())"
   ]
  },
  {
   "cell_type": "code",
   "execution_count": 92,
   "id": "bc279998-959a-45cc-b8df-ea22f85c68cf",
   "metadata": {},
   "outputs": [
    {
     "name": "stdout",
     "output_type": "stream",
     "text": [
      "John Doe\n",
      "5000.0\n",
      "6000.0\n"
     ]
    }
   ],
   "source": [
    "#14. Create a Python class called `Employee` with private attributes for salary (`__salary`) and employee ID (`__employee_id`). Provide a method to calculate yearly bonuses.\n",
    "class Employee:\n",
    "    def __init__(self,name,salary,employee_id):\n",
    "        self.name=name\n",
    "        self.__salary=salary\n",
    "        self.__employee_id=employee_id\n",
    "\n",
    "    def calculate_yearly_bonus(self):\n",
    "        bonus =self.__salary *0.1\n",
    "        return bonus\n",
    "        \n",
    "    @property\n",
    "    def salary(self):\n",
    "        return self.__salary\n",
    "        \n",
    "    @salary.setter\n",
    "    def salary(self,new_salary):\n",
    "        if new_salary >= 0:\n",
    "            self.__salary =new_salary\n",
    "        else:\n",
    "            print(\"Invalid salary.Must be non-negative\")\n",
    "            \n",
    "    @property\n",
    "    def employee_id(self):\n",
    "        return self.__employee_id\n",
    "\n",
    "employee = Employee(\"John Doe\", 50000, \"E12345\")\n",
    "print(employee.name)\n",
    "print(employee.calculate_yearly_bonus())\n",
    "employee.salary=60000\n",
    "print(employee.calculate_yearly_bonus())  "
   ]
  },
  {
   "cell_type": "code",
   "execution_count": 99,
   "id": "6d113443-7810-4bc0-a3e9-d636b999825a",
   "metadata": {},
   "outputs": [
    {
     "name": "stdout",
     "output_type": "stream",
     "text": [
      "30\n",
      "35\n"
     ]
    }
   ],
   "source": [
    "'''15. Discuss the use of accessors and mutators in encapsulation. How do they help maintain control over\n",
    "attribute access?\n",
    "Accessors (Getters) and Mutators (Setters) are methods used to access and modify the private attributes of a class. They help maintain control over attribute access by:\n",
    "\n",
    "Controlled Access: Ensuring that attributes are accessed and modified in a controlled manner.\n",
    "\n",
    "Validation: Allowing validation of data before modification.\n",
    "\n",
    "Encapsulation: Maintaining the principle of encapsulation by keeping attributes private and exposing them through methods.'''\n",
    "class Person:\n",
    "    def __init__(self,name,age):\n",
    "        self.__name =name\n",
    "        self.__age=age\n",
    "        \n",
    "    @property\n",
    "    def age(self):\n",
    "        return self.__age\n",
    "\n",
    "    @age.setter\n",
    "    def age(self,new_age):\n",
    "        if new_age >=0:\n",
    "            self.__age= new_age\n",
    "        else:\n",
    "            return f\"Invalid age enterd.\"\n",
    "person = Person(\"Lisa\", 30) \n",
    "print(person.age)\n",
    "person.age=35\n",
    "print(person.age)"
   ]
  },
  {
   "cell_type": "code",
   "execution_count": null,
   "id": "aa0bc846-dec8-4f14-83d0-eb2c8d50e907",
   "metadata": {},
   "outputs": [],
   "source": [
    "16. What are the potential drawbacks or disadvantages of using encapsulation in Python?\n",
    "\n",
    "Overhead: Introducing getter and setter methods can add extra code and complexity.\n",
    "\n",
    "Performance: Accessing attributes through methods can be slightly slower than direct access.\n",
    "\n",
    "Flexibility: Overly strict encapsulation can reduce flexibility and make it harder to extend or modify the code.\n",
    "\n",
    "Simplicity: In some cases, using encapsulation may make the code less readable and harder to understand.\n",
    "17. Create a Python class for a library system that encapsulates book information, including titles, authors,\n",
    "and availability status.\n",
    "18. Explain how encapsulation enhances code reusability and modularity in Python programs.\n",
    "19. Describe the concept of information hiding in encapsulation. Why is it essential in software development?\n",
    "20. Create a Python class called `Customer` with private attributes for customer details like name, address,\n",
    "and contact information. Implement encapsulation to ensure data integrity and security."
   ]
  },
  {
   "cell_type": "code",
   "execution_count": 110,
   "id": "66e72380-2150-4856-a7ce-083fcae2f43a",
   "metadata": {},
   "outputs": [
    {
     "name": "stdout",
     "output_type": "stream",
     "text": [
      "1984\n",
      "George Orwell\n",
      "True\n",
      "False\n"
     ]
    }
   ],
   "source": [
    "'''17. Create a Python class for a library system that encapsulates book information, including titles, authors,\n",
    "and availability status.'''\n",
    "class Book:\n",
    "    def __init__(self, title, author, availability=True):\n",
    "        self.title = title\n",
    "        self.author = author\n",
    "        self.__availability = availability  # Private attribute\n",
    "\n",
    "    @property\n",
    "    def availability(self):\n",
    "        return self.__availability\n",
    "\n",
    "    @availability.setter\n",
    "    def availability(self, status):\n",
    "        self.__availability = status\n",
    "\n",
    "# Example usage\n",
    "book = Book(\"1984\", \"George Orwell\")\n",
    "print(book.title)  \n",
    "print(book.author)  \n",
    "print(book.availability)  \n",
    "book.availability = False\n",
    "print(book.availability)  "
   ]
  },
  {
   "cell_type": "code",
   "execution_count": null,
   "id": "e6276b86-9ae8-4b78-b3f2-5505e9ba5ed1",
   "metadata": {},
   "outputs": [],
   "source": [
    "18. Explain how encapsulation enhances code reusability and modularity in Python programs.\n",
    "    \n",
    "Encapsulation enhances code reusability and modularity by:\n",
    "\n",
    "Encapsulation: Hides the internal implementation details, allowing developers to change the internal workings without affecting external code.\n",
    "\n",
    "Modularity: Breaks down the program into self-contained modules, making it easier to manage and maintain.\n",
    "\n",
    "Reusability: Encourages the reuse of code by providing well-defined interfaces for interaction.\n",
    "\n",
    "19. Describe the concept of information hiding in encapsulation. Why is it essential in software development?\n",
    "Information Hiding is the principle of restricting access to certain details of an object, making those details invisible to the outside world. It is essential in software development because:\n",
    "\n",
    "Maintains Integrity: Protects the integrity of data by preventing unintended or harmful modifications.\n",
    "\n",
    "Reduces Complexity: Simplifies the understanding and use of an object by hiding its complexity.\n",
    "\n",
    "Enhances Security: Protects sensitive information from unauthorized access.\n"
   ]
  },
  {
   "cell_type": "code",
   "execution_count": 112,
   "id": "45b3c21b-9c9c-4abe-ac17-36430145fb50",
   "metadata": {},
   "outputs": [
    {
     "name": "stdout",
     "output_type": "stream",
     "text": [
      "Jane Doe\n",
      "123 Main St\n",
      "555-1234\n"
     ]
    }
   ],
   "source": [
    "#20.\n",
    "class Customer:\n",
    "    def __init__(self, name, address, contact_info):\n",
    "        self.__name = name  # Private attribute\n",
    "        self.__address = address  # Private attribute\n",
    "        self.__contact_info = contact_info  # Private attribute\n",
    "\n",
    "    def get_name(self):\n",
    "        return self.__name\n",
    "\n",
    "    def get_address(self):\n",
    "        return self.__address\n",
    "\n",
    "    def get_contact_info(self):\n",
    "        return self.__contact_info\n",
    "\n",
    "    def set_address(self, address):\n",
    "        self.__address = address\n",
    "\n",
    "    def set_contact_info(self, contact_info):\n",
    "        self.__contact_info = contact_info\n",
    "\n",
    "# Example usage\n",
    "customer = Customer(\"Jane Doe\", \"123 Main St\", \"555-1234\")\n",
    "print(customer.get_name())  # Output: Jane Doe\n",
    "print(customer.get_address())  # Output: 123 Main St\n",
    "print(customer.get_contact_info())  # Output: 555-1234\n"
   ]
  },
  {
   "cell_type": "code",
   "execution_count": null,
   "id": "4f72968b-2a55-40b4-af5a-7afafccdb247",
   "metadata": {},
   "outputs": [],
   "source": [
    "Polymorphism:\n",
    "1. What is polymorphism in Python? Explain how it is related to object-oriented programming.\n",
    "2. Describe the difference between compile-time polymorphism and runtime polymorphism in Python.\n",
    "3. Create a Python class hierarchy for shapes (e.g., circle, square, triangle) and demonstrate polymorphism\n",
    "through a common method, such as `calculate_area()`.\n",
    "4. Explain the concept of method overriding in polymorphism. Provide an example.\n",
    "5. How is polymorphism different from method overloading in Python? Provide examples for both.\n",
    "6. Create a Python class called `Animal` with a method `speak()`. Then, create child classes like `Dog`, `Cat`, and `Bird`, each with their own `speak()` method. Demonstrate polymorphism by calling the `speak()` method\n",
    "on objects of different subclasses.\n",
    "7. Discuss the use of abstract methods and classes in achieving polymorphism in Python. Provide an example\n",
    "using the `abc` module.\n",
    "8. Create a Python class hierarchy for a vehicle system (e.g., car, bicycle, boat) and implement a polymorphic `start()` method that prints a message specific to each vehicle type.\n",
    "9. Explain the significance of the `isinstance()` and `issubclass()` functions in Python polymorphism."
   ]
  },
  {
   "cell_type": "raw",
   "id": "e607de5d-d71a-40e0-9e5a-f1f0f941b0f8",
   "metadata": {},
   "source": [
    "1. What is polymorphism in Python? Explain how it is related to object-oriented programming.\n",
    "Polymorphism means \"many forms.\" In Python, it allows the same interface or function to operate on different types of objects. \n",
    "In object-oriented programming (OOP), polymorphism is achieved when a method in different classes has the same name but\n",
    "behaves differently depending on the calling object's class.\n",
    "This is closely related to object-oriented programming (OOP), where classes and objects represent real-world entities, and\n",
    "polymorphism allows different classes to be treated as instances of a parent class.\n",
    "\n",
    "2. Describe the difference between compile-time polymorphism and runtime polymorphism in Python.\n",
    "    \n",
    "Compile-time polymorphism (also known as static polymorphism)\n",
    "occurs when the method to be invoked is determined at compile time.\n",
    "Python does not support compile-time polymorphism directly, as it is dynamically typed.\n",
    "    \n",
    "Runtime polymorphism (also known as dynamic polymorphism) happens when the method to be invoked is determined at runtime. \n",
    "In Python, runtime polymorphism is achieved through method overriding, where a subclass provides a specific implementation of a method that is already defined in its superclass."
   ]
  },
  {
   "cell_type": "code",
   "execution_count": 4,
   "id": "3a6a1b35-47d8-4758-bb07-47c0f49adc56",
   "metadata": {},
   "outputs": [
    {
     "name": "stdout",
     "output_type": "stream",
     "text": [
      "Area: 78.5\n",
      "Area: 1600\n",
      "Area: 26.099999999999998\n"
     ]
    }
   ],
   "source": [
    "'''3. Create a Python class hierarchy for shapes (e.g., circle, square, triangle) and demonstrate polymorphism\n",
    "through a common method, such as `calculate_area()`.\n",
    "'''\n",
    "from abc import ABC,abstractmethod\n",
    "\n",
    "class Shape(ABC):\n",
    "    @abstractmethod\n",
    "    def calculate_area(self):\n",
    "        pass\n",
    "\n",
    "class Circle(Shape):\n",
    "    def __init__(self,radius):\n",
    "        self.radius =radius\n",
    "    def calculate_area(self):\n",
    "        return 3.14 *self.radius *self.radius\n",
    "\n",
    "class Square(Shape):\n",
    "    def __init__(self,side):\n",
    "        self.side=side\n",
    "\n",
    "    def calculate_area(self):\n",
    "        return self.side *self.side\n",
    "\n",
    "class Triangle(Shape):\n",
    "    def __init__(self,base,height):\n",
    "        self.base=base\n",
    "        self.height=height\n",
    "\n",
    "    def calculate_area(self):\n",
    "        return 0.58 * self.base *self.height\n",
    "\n",
    "shapes =[Circle(5),Square(40),Triangle(5,9)]\n",
    "for shape in shapes: \n",
    "    print(f\"Area: {shape.calculate_area()}\")\n"
   ]
  },
  {
   "cell_type": "code",
   "execution_count": 5,
   "id": "cab9289f-8343-41a4-8bde-ef17c28c5bc9",
   "metadata": {},
   "outputs": [
    {
     "name": "stdout",
     "output_type": "stream",
     "text": [
      "Woof!\n",
      "Meow!\n",
      "chrip,chrip!\n"
     ]
    }
   ],
   "source": [
    "'''4.Explain the concept of method overriding in polymorphism. Provide an example.\n",
    "\n",
    "Method overriding occurs when a subclass provides a specific implementation of a method that\n",
    "is already defined in its superclass. This allows the subclass to provide a different behavior for the method.'''\n",
    "\n",
    "class Animal:\n",
    "    def speak(self):\n",
    "        pass\n",
    "\n",
    "class Dog(Animal):\n",
    "    def speak(self):\n",
    "        return \"Woof!\"\n",
    "\n",
    "class Cat(Animal):\n",
    "    def speak(self):\n",
    "        return \"Meow!\"\n",
    "\n",
    "class Birds(Animal):\n",
    "    def speak(self):\n",
    "        return \"chrip,chrip!\"\n",
    "\n",
    "animals=[Dog(),Cat(),Birds()]\n",
    "for animal in animals:\n",
    "    print(animal.speak())"
   ]
  },
  {
   "cell_type": "raw",
   "id": "55107d91-da13-4280-8ba0-27fd978df7fe",
   "metadata": {},
   "source": [
    "5. How is polymorphism different from method overloading in Python? Provide examples for both.\n",
    "\n",
    "Polymorphism vs. Method Overloading\n",
    "Polymorphism: Achieved through method overriding, allowing methods to behave differently based on the object type.\n",
    "\n",
    "Method Overloading: Not natively supported in Python. Achievable by default arguments or variable-length arguments."
   ]
  },
  {
   "cell_type": "code",
   "execution_count": 11,
   "id": "7562ebab-05e7-468a-a5f3-88d357d344c5",
   "metadata": {},
   "outputs": [
    {
     "name": "stdout",
     "output_type": "stream",
     "text": [
      "Flashy and sporty!\n",
      "Diverse and calming!\n",
      "Cool and Sleek!\n"
     ]
    }
   ],
   "source": [
    "class CAR:  #polymorphism example (method overridding)\n",
    "    def COLOR(self):\n",
    "        pass\n",
    "\n",
    "class Blue(CAR):\n",
    "    def COLOR(self):\n",
    "        return \"Diverse and calming!\"\n",
    "\n",
    "class  Black(CAR):\n",
    "    def COLOR(self):\n",
    "        return \"Cool and Sleek!\"\n",
    "\n",
    "class Red(CAR):\n",
    "    def COLOR(self):\n",
    "        return \"Flashy and sporty!\"\n",
    "\n",
    "CARS=[Red(),Blue(),Black()]\n",
    "for CAR in CARS:\n",
    "    print(CAR.COLOR())\n",
    "    "
   ]
  },
  {
   "cell_type": "code",
   "execution_count": 8,
   "id": "7a697fdc-c5ce-4335-9bc4-da3582c099ea",
   "metadata": {},
   "outputs": [
    {
     "name": "stdout",
     "output_type": "stream",
     "text": [
      "13\n",
      "6\n",
      "57\n"
     ]
    }
   ],
   "source": [
    "class Example:\n",
    "    def add(self,a,b=0,c=3):\n",
    "        return a+b+c\n",
    "\n",
    "# Method Overloading example using default arguments\n",
    "example =Example()\n",
    "print(example.add(10))\n",
    "print(example.add(1,2))\n",
    "print(example.add(12,45,0))"
   ]
  },
  {
   "cell_type": "code",
   "execution_count": 15,
   "id": "07eb4eaa-cb2a-4890-a2e7-aed2798493a5",
   "metadata": {},
   "outputs": [
    {
     "name": "stdout",
     "output_type": "stream",
     "text": [
      "Woof!\n",
      "Meow!\n",
      "chrip,chrip!\n"
     ]
    }
   ],
   "source": [
    "#6.Create a Python class called `Animal` with a method `speak()`. Then, create child classes like `Dog`, `Cat`, and `Bird`, each with their own `speak()` method. Demonstrate polymorphism by calling the `speak()` method\n",
    "#on objects of different subclasses.\n",
    "class Animal:\n",
    "    def speak(self):\n",
    "        pass\n",
    "\n",
    "class Dog(Animal):\n",
    "    def speak(self):\n",
    "        return \"Woof!\"\n",
    "\n",
    "class Cat(Animal):\n",
    "    def speak(self):\n",
    "        return \"Meow!\"\n",
    "\n",
    "class Birds(Animal):\n",
    "    def speak(self):\n",
    "        return \"chrip,chrip!\"\n",
    "\n",
    "animals=[Dog(),Cat(),Birds()]\n",
    "for animal in animals:\n",
    "    print(animal.speak())\n"
   ]
  },
  {
   "cell_type": "code",
   "execution_count": 24,
   "id": "0670ad65-4195-44ba-864f-95985d5be91c",
   "metadata": {},
   "outputs": [
    {
     "name": "stdout",
     "output_type": "stream",
     "text": [
      "speed of car :200 km/h\n",
      "speed of bike :80 km/h\n"
     ]
    }
   ],
   "source": [
    "#7. Discuss the use of abstract methods and classes in achieving polymorphism in Python. Provide an example\n",
    "#using the `abc` module.\n",
    "from abc import ABC, abstractmethod\n",
    "\n",
    "class Vehicle(ABC):\n",
    "    @abstractmethod\n",
    "    def max_speed(self):\n",
    "         pass\n",
    "\n",
    "class Car(Vehicle):\n",
    "    def max_speed(self):\n",
    "        return \"speed of car :200 km/h\"\n",
    "        \n",
    "class Bike(Vehicle):\n",
    "    def max_speed(self):\n",
    "        return \"speed of bike :80 km/h\"\n",
    "        \n",
    "Vehicles=[Car(),Bike()]\n",
    "for Vehicle in Vehicles:\n",
    "    print(Vehicle.max_speed())\n",
    "    "
   ]
  },
  {
   "cell_type": "code",
   "execution_count": 30,
   "id": "7a6ac0ab-6c43-4b9a-9470-1444e0b7ed4f",
   "metadata": {},
   "outputs": [
    {
     "name": "stdout",
     "output_type": "stream",
     "text": [
      "Car start with a roar sound.\n",
      "Bicycle start with  pedaling!\n",
      "Boat is starting with a splash!\n"
     ]
    }
   ],
   "source": [
    "#8. Create a Python class hierarchy for a vehicle system (e.g., car, bicycle, boat) and implement a polymorphic `start()` method that prints a message specific to each vehicle type.\n",
    "class VehilceSystem:\n",
    "    def start(self):\n",
    "        raise NotImplementedError(\"Subclass must implement abstract method\")\n",
    "\n",
    "class Car(Vehicle):\n",
    "    def start(self):\n",
    "        return \"Car start with a roar sound.\"\n",
    "\n",
    "class Bicycle(Vehicle):\n",
    "    def start(self):\n",
    "        return \"Bicycle start with  pedaling!\"\n",
    "class Boat(Vehicle):\n",
    "    def start(self):\n",
    "        return \"Boat is starting with a splash!\"\n",
    "\n",
    "Vehicles =[Car(),Bicycle(),Boat()]\n",
    "for vehicle in Vehicles:\n",
    "    print(vehicle.start())"
   ]
  },
  {
   "cell_type": "raw",
   "id": "eaa8e881-25b7-45f3-a8d9-d333a2dd916e",
   "metadata": {},
   "source": [
    "9. Explain the significance of the `isinstance()` and `issubclass()` functions in Python polymorphism.\n",
    "\n",
    "isinstance(object, classinfo):\n",
    "\n",
    "Checks if the given object is an instance of the specified class or a subclass thereof.\n",
    "\n",
    "Useful in polymorphism to ensure that an object is of a certain type before performing operations on it.\n",
    "\n",
    "issubclass(class, classinfo):\n",
    "\n",
    "Checks if the specified class is a subclass of the given class or a tuple of classes.\n",
    "\n",
    "Useful in polymorphism to ensure that a class inherits from another class before instantiating it."
   ]
  },
  {
   "cell_type": "code",
   "execution_count": 31,
   "id": "a9862f74-4916-4443-a0ed-a8aa9e9b59fa",
   "metadata": {},
   "outputs": [
    {
     "name": "stdout",
     "output_type": "stream",
     "text": [
      "True\n",
      "True\n"
     ]
    }
   ],
   "source": [
    "class Animal:\n",
    "    pass \n",
    "class Dog(Animal): \n",
    "    pass \n",
    "dog = Dog()\n",
    "print(isinstance(dog,Animal)) \n",
    "print(issubclass(Dog, Animal))"
   ]
  },
  {
   "cell_type": "code",
   "execution_count": 33,
   "id": "1dd399d5-020f-478a-8b94-d004f4d3c86b",
   "metadata": {},
   "outputs": [
    {
     "name": "stdout",
     "output_type": "stream",
     "text": [
      "Woof!\n",
      "Meow!\n"
     ]
    }
   ],
   "source": [
    "#10. What is the role of the `@abstractmethod` decorator in achieving polymorphism in \n",
    "#Python? Provide an example.\n",
    "'''The @abstractmethod decorator from the abc module is used to declare abstract methods in abstract base classes. These methods must be overridden in any concrete subclass, enforcing polymorphism.\n",
    "'''\n",
    "from abc import ABC, abstractmethod\n",
    "\n",
    "class Animal(ABC):\n",
    "    @abstractmethod\n",
    "    def speak(self):\n",
    "        pass\n",
    "\n",
    "class Dog(Animal):\n",
    "    def speak(self):\n",
    "        return \"Woof!\"\n",
    "\n",
    "class Cat(Animal):\n",
    "    def speak(self):\n",
    "        return \"Meow!\"\n",
    "\n",
    "animals = [Dog(), Cat()]\n",
    "for animal in animals:\n",
    "    print(animal.speak())\n",
    "\n"
   ]
  },
  {
   "cell_type": "code",
   "execution_count": 40,
   "id": "3f213e76-4792-4bb9-8ca9-5ce0f0e50b1d",
   "metadata": {},
   "outputs": [
    {
     "name": "stdout",
     "output_type": "stream",
     "text": [
      "Area:113.03999999999999\n",
      "Area:40\n",
      "Area:14.0\n"
     ]
    }
   ],
   "source": [
    "#11. Create a Python class called `Shape` with a polymorphic method `area()` that calculates the area of different shapes (e.g., circle, rectangle, triangle).\n",
    "\n",
    "from abc import ABC,abstractmethod\n",
    "\n",
    "class Shape(ABC):\n",
    "    @abstractmethod\n",
    "    def area(self):\n",
    "        pass\n",
    "        \n",
    "class circle(Shape):\n",
    "     def __init__(self,radius):\n",
    "        self.radius=radius\n",
    "         \n",
    "     def area(self):\n",
    "        return 3.14 * self.radius *self.radius\n",
    "class rectangle(Shape):\n",
    "     def __init__(self,length,breadth):\n",
    "        self.length=length\n",
    "        self.breadth=breadth\n",
    "\n",
    "     def area(self):\n",
    "         return self.length * self.breadth\n",
    "         \n",
    "class triangle(Shape):\n",
    "     def __init__(self,base,height):\n",
    "        self.base =base\n",
    "        self.height=height\n",
    "         \n",
    "     def area(self):\n",
    "         return 0.5 *self.base*self.height\n",
    "shapes=[circle(6),rectangle(8,5),triangle(4,7)]\n",
    "for shape in shapes:\n",
    "    print(f\"Area:{shape.area()}\")"
   ]
  },
  {
   "cell_type": "raw",
   "id": "bcf9c0f6-0026-49b7-a064-a52dfb4b38ae",
   "metadata": {},
   "source": [
    "12. Discuss the benefits of polymorphism in terms of code reusability and flexibility in Python programs.\n",
    "Code Reusability: Polymorphism allows the same interface to be used for different underlying forms (data types), reducing code duplication.\n",
    "\n",
    "Flexibility: Methods can be written to work with objects of various types, making the code more flexible and adaptable to future changes.\n",
    "\n",
    "Maintainability: Polymorphism promotes cleaner and more manageable code by encapsulating behaviors specific to subclasses."
   ]
  },
  {
   "cell_type": "code",
   "execution_count": 42,
   "id": "7811a178-e0c3-4e63-8dae-00b8f1867e03",
   "metadata": {},
   "outputs": [
    {
     "name": "stdout",
     "output_type": "stream",
     "text": [
      "Some generic sound and Woof!\n"
     ]
    }
   ],
   "source": [
    "'''13. Explain the use of the `super()` function in Python polymorphism. How does it help call methods of parent\n",
    "classes?\n",
    "The super() function is used to call a method from the parent class.\n",
    "It helps in extending or modifying the behavior of inherited methods in subclasses.\n",
    "'''\n",
    "class Animal:\n",
    "    def speak(self): \n",
    "        return \"Some generic sound\"\n",
    "        \n",
    "class Dog(Animal):\n",
    "    def speak(self): \n",
    "        original_sound = super().speak() \n",
    "        return f\"{original_sound} and Woof!\" \n",
    "dog = Dog() \n",
    "print(dog.speak()) "
   ]
  },
  {
   "cell_type": "code",
   "execution_count": 45,
   "id": "454290cc-f4cc-4e64-a8d7-9de773246994",
   "metadata": {},
   "outputs": [
    {
     "name": "stdout",
     "output_type": "stream",
     "text": [
      "Withdrawing 1000 from Saving account\n",
      "Withdrawing 1000 from Checking account\n",
      "Withdrawing 1000 from CreditCard account\n"
     ]
    }
   ],
   "source": [
    "'''14. Create a Python class hierarchy for a banking system with various account types (e.g., savings, checking, credit card) and demonstrate polymorphism by implementing a common `withdraw()` method.\n",
    "fom abc import ABC,abstractmethod'''\n",
    "\n",
    "class BankingSystem(ABC):\n",
    "    @abstractmethod\n",
    "    def withdraw(self,amount):\n",
    "        pass\n",
    "\n",
    "class Saving(BankingSystem):\n",
    "    def withdraw(self,amount):\n",
    "        return f\"Withdrawing {amount} from Saving account\"\n",
    "\n",
    "class Checking(BankingSystem):\n",
    "     def withdraw(self,amount):\n",
    "        return f\"Withdrawing {amount} from Checking account\"\n",
    "\n",
    "class CreditCard(BankingSystem):\n",
    "     def withdraw(self,amount):\n",
    "        return f\"Withdrawing {amount} from CreditCard account\"\n",
    "\n",
    "accounts=[Saving(),Checking(),CreditCard()]\n",
    "for account in accounts:\n",
    "    print(account.withdraw(1000))"
   ]
  },
  {
   "cell_type": "code",
   "execution_count": 57,
   "id": "7604ad84-381b-4d6b-b66c-e35a10a45502",
   "metadata": {},
   "outputs": [
    {
     "name": "stdout",
     "output_type": "stream",
     "text": [
      "Point(4,6)\n"
     ]
    }
   ],
   "source": [
    "'''15.Describe the concept of operator overloading in Python and how it relates to polymorphism. Provide\n",
    "examples using operators like `+` and `*`.\n",
    "Operator overloading allows custom behavior to be defined for operators when they are used with user-defined classes.\n",
    "\n",
    "Example:'''\n",
    "class Point:\n",
    "    def __init__(self,x,y):\n",
    "        self.x=x\n",
    "        self.y=y\n",
    "\n",
    "    def __add__(self,other):\n",
    "        return Point(self.x + other.x,self.y + other.y)\n",
    "\n",
    "    def __mul__(self,scaler):\n",
    "        return Point(self.x * scaler,self.y * scaler)\n",
    "\n",
    "    def __str__(self):\n",
    "        return f\"Point({self.x},{self.y})\"\n",
    "p1=Point(1,2)\n",
    "p2=Point(3,4)\n",
    "print(p1 + p2)"
   ]
  },
  {
   "cell_type": "raw",
   "id": "3244fe9b-925f-4299-b7fa-325718aa03b8",
   "metadata": {},
   "source": [
    "16. What is dynamic polymorphism, and how is it achieved in Python?\n",
    "Dynamic polymorphism is achieved through method overriding, where the method to be invoked is determined at runtime based on the object's type."
   ]
  },
  {
   "cell_type": "code",
   "execution_count": 60,
   "id": "c35c8208-2e1a-4796-8b32-8e802146de1d",
   "metadata": {},
   "outputs": [
    {
     "name": "stdout",
     "output_type": "stream",
     "text": [
      "Calculating salary for Manager.\n",
      "Calculating salary for Developer.\n",
      "Calculate salary for Designer\n"
     ]
    }
   ],
   "source": [
    "'''17. Create a Python class hierarchy for employees in a company (e.g., manager, developer, designer) and implement polymorphism through a common `calculate_salary()` method.\n",
    "from abc import ABC,abstractmethod'''\n",
    "class Employees(ABC):\n",
    "    @abstractmethod\n",
    "    def calculate_salary(self):\n",
    "        pass\n",
    "class Manager(Employees):\n",
    "    def calculate_salary(self):\n",
    "        return \"Calculating salary for Manager.\"\n",
    "\n",
    "class Developer(Employees):\n",
    "    def calculate_salary(self):\n",
    "        return \"Calculating salary for Developer.\"\n",
    "\n",
    "class Designer(Employees):\n",
    "    def calculate_salary(self):\n",
    "        return \"Calculate salary for Designer\"\n",
    "em=[Manager(), Developer(), Designer()]\n",
    "for emp in em:\n",
    "    print(emp.calculate_salary())"
   ]
  },
  {
   "cell_type": "code",
   "execution_count": 66,
   "id": "e6dfbbea-b7c8-4cba-bdf7-4696c48c2f63",
   "metadata": {},
   "outputs": [
    {
     "name": "stdout",
     "output_type": "stream",
     "text": [
      "114\n",
      "392\n"
     ]
    }
   ],
   "source": [
    "'''18. Discuss the concept of function pointers and how they can be used to achieve polymorphism in Python.\n",
    "Python does not have function pointers like C/C++, but functions can be passed as arguments to achieve similar behavior.\n",
    "\n",
    "Example:'''\n",
    "def add(a,b):\n",
    "    return a+b\n",
    "\n",
    "def mul(a,b):\n",
    "    return a*b\n",
    "def oper(fun,a,b):\n",
    "    return fun(a,b)\n",
    "\n",
    "print(oper(add,45,69))\n",
    "print(oper(mul,56,7))"
   ]
  },
  {
   "cell_type": "raw",
   "id": "4deb1d91-0127-4ada-894c-9d84837e3458",
   "metadata": {},
   "source": [
    "19. Explain the role of interfaces and abstract classes in polymorphism, drawing comparisons between them.\n",
    "Abstract Classes\n",
    "Definition: Abstract classes are defined using the abc module and can include both abstract methods (methods without implementation) and concrete methods (methods with implementation).\n",
    "Use in Polymorphism: They enforce that derived classes implement the abstract methods, ensuring a consistent interface for polymorphic behavior.\n",
    "Example:\n",
    "Interfaces\n",
    "Definition: In Python, interfaces can be implemented as abstract classes with only abstract methods.\n",
    "Key Difference: Interfaces are purely abstract, while abstract classes can include some implemented methods.\n",
    "Example of Interface Mimicking:"
   ]
  },
  {
   "cell_type": "code",
   "execution_count": null,
   "id": "4ceded62-73e5-4f4e-b320-4c8b07d37bf7",
   "metadata": {},
   "outputs": [],
   "source": [
    "from abc import ABC, abstractmethod\n",
    "\n",
    "class Animal(ABC):\n",
    "    @abstractmethod\n",
    "    def speak(self):\n",
    "        pass\n",
    "\n",
    "class Dog(Animal):\n",
    "    def speak(self):\n",
    "        return \"Bark\"\n",
    "\n",
    "class Cat(Animal):\n",
    "    def speak(self):\n",
    "        return \"Meow\"\n",
    "\n",
    "# Polymorphism\n",
    "animals = [Dog(), Cat()]\n",
    "for animal in animals:\n",
    "    print(animal.speak())\n"
   ]
  },
  {
   "cell_type": "code",
   "execution_count": 67,
   "id": "282cd88e-bdd6-4ac7-9082-214ea9822430",
   "metadata": {},
   "outputs": [],
   "source": [
    "from abc import ABC,abstractmethod\n",
    "class IAnimal(ABC):\n",
    "    @abstractmethod\n",
    "    def speak(self):\n",
    "        pass\n",
    "\n",
    "    @abstractmethod\n",
    "    def move(self):\n",
    "        pass"
   ]
  },
  {
   "cell_type": "code",
   "execution_count": 81,
   "id": "47aa501f-565e-4673-82d4-86bac834d519",
   "metadata": {},
   "outputs": [
    {
     "name": "stdout",
     "output_type": "stream",
     "text": [
      "mammals:\n",
      "\n",
      "Eating: Mammal eats plants and meat!\n",
      "Sleeping: Mammal sleep lying down.\n",
      "Sounds:Mammal make a varitey of sound based on their moods.\n",
      "\n",
      "birds:\n",
      "\n",
      "Eating: Birds eats seeds and insects!\n",
      "Sleeping: Birds sleep in a nest.\n",
      "Sounds:Birds make chrips!chrips! sound\n",
      "\n",
      "reptiles:\n",
      "\n",
      "Eating: reptiles eats small animals and insects!\n",
      "Sleeping: reptiles sleep under rocks and burrows or on walls\n",
      "Sounds:reptiles make hisses! sound\n",
      "\n"
     ]
    }
   ],
   "source": [
    "#20. Create a Python class for a zoo simulation, demonstrating polymorphism with different animal types (e.g., mammals, birds, reptiles) and their behavior (e.g., eating, sleeping, making sounds).\n",
    "from abc import ABC,abstractmethod\n",
    "class Animal:\n",
    "    @abstractmethod\n",
    "    def eat(self):\n",
    "        pass\n",
    "    @abstractmethod   \n",
    "    def sleep(self):\n",
    "        pass\n",
    "    @abstractmethod\n",
    "    def make_sound(self):\n",
    "        pass\n",
    "        \n",
    "class mammals(Animal):\n",
    "    def eat(self):\n",
    "        return \"Mammal eats plants and meat!\"\n",
    "        \n",
    "    def sleep(self):\n",
    "        return \"Mammal sleep lying down.\"\n",
    "\n",
    "    def make_sound(self):\n",
    "        return \"Mammal make a varitey of sound based on their moods.\"\n",
    "        \n",
    "class birds(Animal):\n",
    "    def eat(self):\n",
    "        return \"Birds eats seeds and insects!\"\n",
    "        \n",
    "    def sleep(self):\n",
    "        return \"Birds sleep in a nest.\"\n",
    "\n",
    "    def make_sound(self):\n",
    "        return \"Birds make chrips!chrips! sound\"\n",
    "    \n",
    "class reptiles(Animal):\n",
    "    def eat(self):\n",
    "        return \"reptiles eats small animals and insects!\"\n",
    "        \n",
    "    def sleep(self):\n",
    "        return \"reptiles sleep under rocks and burrows or on walls\"\n",
    "\n",
    "    def make_sound(self):\n",
    "        return \"reptiles make hisses! sound\"\n",
    "\n",
    "animals=[mammals(),birds(),reptiles()]\n",
    "for animal in animals:\n",
    "    print(f\"{animal.__class__.__name__}:\\n\")\n",
    "    print(f\"Eating: {animal.eat()}\")\n",
    "    print(f\"Sleeping: {animal.sleep()}\")\n",
    "    print(f\"Sounds:{animal.make_sound()}\\n\")\n"
   ]
  },
  {
   "cell_type": "code",
   "execution_count": null,
   "id": "88cd31fb-f443-4684-bc31-c3afb8abf32d",
   "metadata": {},
   "outputs": [],
   "source": [
    "Abstraction:\n",
    "1. What is abstraction in Python, and how does it relate to object-oriented programming?\n",
    "2. Describe the benefits of abstraction in terms of code organization and complexity reduction.\n",
    "3. Create a Python class called `Shape` with an abstract method `calculate_area()`. Then, create child classes (e.g., `Circle`, `Rectangle`) that implement the `calculate_area()` method. Provide an example of\n",
    "using these classes.\n",
    "4. Explain the concept of abstract classes in Python and how they are defined using the `abc` module. Provide\n",
    "an example.\n",
    "5. How do abstract classes differ from regular classes in Python? Discuss their use cases.\n",
    "6. Create a Python class for a bank account and demonstrate abstraction by hiding the account balance and\n",
    "providing methods to deposit and withdraw funds.\n",
    "7. Discuss the concept of interface classes in Python and their role in achieving abstraction.\n",
    "8. Create a Python class hierarchy for animals and implement abstraction by defining common methods (e.g., `eat()`, `sleep()`) in an abstract base class.\n",
    "9. Explain the significance of encapsulation in achieving abstraction. Provide examples.\n",
    "10. What is the purpose of abstract methods, and how do they enforce abstraction in Python classes?\n",
    "11. Create a Python class for a vehicle system and demonstrate abstraction by defining common methods (e.g., `start()`, `stop()`) in an abstract base class.\n",
    "12. Describe the use of abstract properties in Python and how they can be employed in abstract classes.\n",
    "13. Create a Python class hierarchy for employees in a company (e.g., manager, developer, designer) and implement abstraction by defining a common `get_salary()` method.\n",
    "14. Discuss the differences between abstract classes and concrete classes in Python, including their\n",
    "instantiation.\n",
    "15. Explain the concept of abstract data types (ADTs) and their role in achieving abstraction in Python.\n",
    "16. Create a Python class for a computer system, demonstrating abstraction by defining common methods (e.g., `power_on()`, `shutdown()`) in an abstract base class.\n",
    "17. Discuss the benefits of using abstraction in large-scale software development projects.\n",
    "18. Explain how abstraction enhances code reusability and modularity in Python programs.\n",
    "19. Create a Python class for a library system, implementing abstraction by defining common methods (e.g., `add_book()`, `borrow_book()`) in an abstract base class.\n",
    "20. Describe the concept of method abstraction in Python and how it relates to polymorphism."
   ]
  },
  {
   "cell_type": "code",
   "execution_count": 92,
   "id": "51f2f13f-5ea7-45d0-9504-d2199c2f85e3",
   "metadata": {},
   "outputs": [
    {
     "name": "stdout",
     "output_type": "stream",
     "text": [
      "81\n",
      "40\n",
      "Area of cicle :25\n",
      "Area of Rectangle: 24\n"
     ]
    }
   ],
   "source": [
    "#Abstraction:\n",
    "'''1. What is abstraction in Python, and how does it relate to object-oriented programming?\n",
    "Abstraction in Python is a process of hiding the implementation details and showing only the essential features of an object. \n",
    "It relates to object-oriented programming (OOP) by allowing objects to expose a simple interface to interact with while keeping their complex internals hidden. \n",
    "Abstraction helps to reduce complexity and increase efficiency.\n",
    "2. Describe the benefits of abstraction in terms of code organization and complexity reduction.\n",
    "Benefits of abstraction :\n",
    "Code Organization: Abstraction allows you to organize code in a more structured manner by hiding complex implementation details.\n",
    "\n",
    "Complexity Reduction: It simplifies the design of systems by focusing on high-level interactions.\n",
    "\n",
    "Code Reusability: Abstract classes and methods can be reused across different parts of a program.\n",
    "\n",
    "Maintenance: Easier to maintain and update code when implementation details are hidden.\n",
    "\n",
    "3. Create a Python class called `Shape` with an abstract method `calculate_area()`. Then, create child classes (e.g., `Circle`, `Rectangle`) that implement the `calculate_area()` method. Provide an example of\n",
    "using these classes.'''\n",
    "from abc import ABC,abstractmethod\n",
    "class Shape(ABC):\n",
    "    @abstractmethod \n",
    "    def calculate_area(self):\n",
    "        pass\n",
    "\n",
    "class Circle(Shape):\n",
    "    def __init__(self,radius):\n",
    "        self.radius=radius\n",
    "    def calculate_area(self):\n",
    "        return self.radius* self.radius\n",
    "    \n",
    "class Rectangle(Shape):\n",
    "    def __init__(self,length,height):\n",
    "        self.length=length\n",
    "        self.height=height\n",
    "        \n",
    "    def calculate_area(self):\n",
    "        return self.length* self.height\n",
    "\n",
    "shapes=[Circle(9),Rectangle(8,5)]\n",
    "for shape in shapes:\n",
    "    print(shape.calculate_area())\n",
    "\n",
    "circle = Circle(5) \n",
    "rectangle = Rectangle(4, 6) \n",
    "print(f\"Area of cicle :{circle.calculate_area()}\") \n",
    "print(f\"Area of Rectangle: {rectangle.calculate_area()}\")"
   ]
  },
  {
   "cell_type": "raw",
   "id": "f928dcc9-ffab-41ca-a216-6b5aca7d27b0",
   "metadata": {},
   "source": [
    "'''4. Explain the concept of abstract classes in Python and how they are defined using the `abc` module. Provide\n",
    "an example.\n",
    "Abstract classes in Python are defined using the abc module and the ABC class.\n",
    "They can contain abstract methods that must be implemented by subclasses.\n",
    "'''"
   ]
  },
  {
   "cell_type": "code",
   "execution_count": 93,
   "id": "b9531271-cc87-46cf-ba54-ea0be1e73be8",
   "metadata": {},
   "outputs": [],
   "source": [
    "from abc import ABC, abstractmethod\n",
    "\n",
    "class Animal(ABC):\n",
    "    @abstractmethod\n",
    "    def make_sound(self):\n",
    "        pass\n",
    "\n",
    "class Dog(Animal):\n",
    "    def make_sound(self):\n",
    "        return \"Woof!\"\n",
    "\n",
    "class Cat(Animal):\n",
    "    def make_sound(self):\n",
    "        return \"Meow!\""
   ]
  },
  {
   "cell_type": "code",
   "execution_count": null,
   "id": "056ce0fb-0a3c-46f7-8e20-08107a6d4f1a",
   "metadata": {},
   "outputs": [],
   "source": [
    "5. How do abstract classes differ from regular classes in Python? Discuss their use cases.\n",
    "Features       Abstract Class                                          Regular class\n",
    "Defination     Cannot be instantiated diectly.                         Can be instantiated directly\n",
    "Purpose        Define a blueprint for subclasses                       Used for implementing logic.\n",
    "Contains       Abstract and concrete method                            Only Concrete methods.\n",
    "Use Cases      Enforce method implementation in derived classes.       Implement functionality directly.\n"
   ]
  },
  {
   "cell_type": "code",
   "execution_count": 104,
   "id": "2b3b6373-a704-4272-a1d2-f9e164ede947",
   "metadata": {},
   "outputs": [
    {
     "name": "stdout",
     "output_type": "stream",
     "text": [
      "Withdraw :1000. New_balance:14000\n"
     ]
    },
    {
     "data": {
      "text/plain": [
       "14000"
      ]
     },
     "execution_count": 104,
     "metadata": {},
     "output_type": "execute_result"
    }
   ],
   "source": [
    "'''6. Create a Python class for a bank account and demonstrate abstraction by hiding the account balance and\n",
    "providing methods to deposit and withdraw funds.\n",
    "'''\n",
    "class Account:\n",
    "    def __init__(self,account_number,balance):\n",
    "        self.__account_number=account_number\n",
    "        self.__balance=balance\n",
    "\n",
    "    def deposite(self,amount):\n",
    "        if amount <0:\n",
    "            self._balance +=amount\n",
    "            print(f\"Deposited:{amount}. New Balance :{self.__balance}.\")\n",
    "\n",
    "    def withdraw(self,amount):\n",
    "        if 0 < amount<=self.__balance:\n",
    "            self.__balance -=amount\n",
    "            print(f\"Withdraw :{amount}. New_balance:{self.__balance}\")\n",
    "        else:\n",
    "            print(\"Insufficient balance or invalid amount.\")\n",
    "\n",
    "    def get_balance(self):\n",
    "        return self.__balance\n",
    "\n",
    "account =Account(\"123589\",15000)\n",
    "account.deposite(500)\n",
    "account.withdraw(1000)\n",
    "account.get_balance()"
   ]
  },
  {
   "cell_type": "code",
   "execution_count": 105,
   "id": "0ce395d8-7767-4e2c-8427-3a394d487050",
   "metadata": {},
   "outputs": [
    {
     "name": "stdout",
     "output_type": "stream",
     "text": [
      "Drawing a circle \n",
      "Drawing a rectangle!\n"
     ]
    }
   ],
   "source": [
    "'''7. Discuss the concept of interface classes in Python and their role in achieving abstraction.\n",
    "Interface classes in Python are implemented using abstract base classes (ABCs) with only abstract methods, enforcing specific method signatures in subclasses.\n",
    "'''\n",
    "from abc import ABC,abstractmethod\n",
    "class IShape(ABC):\n",
    "    \n",
    "    @abstractmethod\n",
    "    def draw(self):\n",
    "        pass\n",
    "\n",
    "class circle(IShape):\n",
    "    def draw(self):\n",
    "        return \"Drawing a circle \"\n",
    "\n",
    "class rectangle(IShape):\n",
    "    def draw(self):\n",
    "        return \"Drawing a rectangle!\"\n",
    "\n",
    "shapes=[circle(),rectangle()]\n",
    "for shape in shapes:\n",
    "    print(shape.draw())"
   ]
  },
  {
   "cell_type": "code",
   "execution_count": 113,
   "id": "69ec0fa3-db5a-4ea4-9277-0498d99c1109",
   "metadata": {},
   "outputs": [
    {
     "name": "stdout",
     "output_type": "stream",
     "text": [
      "Dog\n",
      "sleep on ground\n",
      "Dog eats comercial dog food,animal protein!\n",
      "Cat\n",
      "sleep on ground\n",
      "Cat eats comercial cat food and meat!\n"
     ]
    }
   ],
   "source": [
    "'''8. Create a Python class hierarchy for animals and implement abstraction by defining common methods (e.g., `eat()`, `sleep()`) in an abstract base class.\n",
    "'''\n",
    "from abc import ABC,abstractmethod\n",
    "class Animal(ABC):\n",
    "    @abstractmethod\n",
    "    def eat(self):\n",
    "        pass\n",
    "    @abstractmethod\n",
    "    def sleep(self):\n",
    "        pass\n",
    "\n",
    "class Dog(Animal):\n",
    "    def eat(self):\n",
    "        return \"Dog eats comercial dog food,animal protein!\"\n",
    "\n",
    "    def sleep(self):\n",
    "        return \"sleep on ground\"\n",
    "    \n",
    "class Cat(Animal):\n",
    "    def eat(self):\n",
    "        return \"Cat eats comercial cat food and meat!\"\n",
    "\n",
    "    def sleep(self):\n",
    "        return \"sleep on ground\"\n",
    "    \n",
    "animals=[Dog(),Cat()]\n",
    "for animal in animals:\n",
    "    print(animal.__class__.__name__)\n",
    "    print(animal.sleep())\n",
    "    print(animal.eat())"
   ]
  },
  {
   "cell_type": "code",
   "execution_count": 116,
   "id": "ff1912d5-b06f-43cb-83d4-3675a489743a",
   "metadata": {},
   "outputs": [
    {
     "name": "stdout",
     "output_type": "stream",
     "text": [
      "70\n"
     ]
    }
   ],
   "source": [
    "'''9. Explain the significance of encapsulation in achieving abstraction. Provide examples.\n",
    "Encapsulation is a mechanism of restricting direct access to some of an object's components, which is a means of achieving abstraction.\n",
    "It protects an object's internal state and ensures that any changes to the state can only be done through well-defined methods.'''\n",
    "class Car:\n",
    "    def __init__(self,speed):\n",
    "        self.__speed =speed\n",
    "    def accelerate(self,increase):\n",
    "        self.__speed += increase\n",
    "    def get_speed(self):\n",
    "        return self.__speed\n",
    "\n",
    "car=Car(50)\n",
    "car.accelerate(20)\n",
    "print(car.get_speed())"
   ]
  },
  {
   "cell_type": "code",
   "execution_count": 118,
   "id": "f4cbba24-5ee5-46ae-bd6d-12f65301d720",
   "metadata": {},
   "outputs": [
    {
     "name": "stdout",
     "output_type": "stream",
     "text": [
      "Woof!\n",
      "Meow!\n"
     ]
    }
   ],
   "source": [
    "'''10. What is the purpose of abstract methods, and how do they enforce abstraction in Python classes?\n",
    "Abstract methods in Python classes are used to enforce that subclasses provide specific implementations for those methods.\n",
    "They help achieve abstraction by defining a common interface for all subclasses.\n",
    "'''\n",
    "from abc import ABC, abstractmethod\n",
    "\n",
    "class Animal(ABC):\n",
    "    @abstractmethod\n",
    "    def speak(self):\n",
    "        pass\n",
    "\n",
    "class Dog(Animal):\n",
    "    def speak(self):\n",
    "        return \"Woof!\"\n",
    "\n",
    "class Cat(Animal):\n",
    "    def speak(self):\n",
    "        return \"Meow!\"\n",
    "\n",
    "# Using the classes\n",
    "animals = [Dog(), Cat()]\n",
    "for animal in animals:\n",
    "    print(animal.speak())\n",
    "                                                  "
   ]
  },
  {
   "cell_type": "code",
   "execution_count": 122,
   "id": "74814116-6dce-4910-8892-e28c3938a0cf",
   "metadata": {},
   "outputs": [
    {
     "name": "stdout",
     "output_type": "stream",
     "text": [
      "Starting of the bike.\n",
      "Stoping of the bike\n"
     ]
    }
   ],
   "source": [
    "'''11. Create a Python class for a vehicle system and demonstrate abstraction by defining common methods (e.g., `start()`, `stop()`) in an abstract base class.\n",
    "'''\n",
    "from abc import ABC,abstractmethod\n",
    "class Vechile(ABC):\n",
    "    @abstractmethod\n",
    "    def start(self):\n",
    "        pass\n",
    "\n",
    "    @abstractmethod\n",
    "    def stop(self):\n",
    "        pass\n",
    "\n",
    "class Bike(Vechile):\n",
    "    \n",
    "    def start(self):\n",
    "        return \"Starting of the bike.\"\n",
    "\n",
    "    def stop(self):\n",
    "        return \"Stoping of the bike\"\n",
    "\n",
    "vehs=[Bike()]\n",
    "for veh in vehs:\n",
    "    print(veh.start())\n",
    "    print(veh.stop())"
   ]
  },
  {
   "cell_type": "code",
   "execution_count": 132,
   "id": "ead225ab-8720-49b3-9b71-ec29f46cdbf8",
   "metadata": {},
   "outputs": [
    {
     "name": "stdout",
     "output_type": "stream",
     "text": [
      "113.03999999999999\n"
     ]
    }
   ],
   "source": [
    "'''12. Describe the use of abstract properties in Python and how they can be employed in abstract classes.\n",
    "Abstract properties in Python can be used in abstract classes to enforce the presence of certain properties in subclasses.'''\n",
    "\n",
    "from abc import ABC,abstractmethod\n",
    "class Shape(ABC):\n",
    "    @property\n",
    "    @abstractmethod\n",
    "    def area(self):\n",
    "        pass\n",
    "\n",
    "class Circle(Shape):\n",
    "    def __init__(self,radius):\n",
    "        self.radius=radius\n",
    "        \n",
    "    @property\n",
    "    def area(self):\n",
    "        return 3.14 * self.radius *self.radius\n",
    "\n",
    "shapes=[Circle(6)]\n",
    "for shape in shapes:\n",
    "    print(shape.area)"
   ]
  },
  {
   "cell_type": "code",
   "execution_count": 136,
   "id": "38da0c90-cfe1-4cb7-80d5-91d8b160b4b5",
   "metadata": {},
   "outputs": [
    {
     "name": "stdout",
     "output_type": "stream",
     "text": [
      "Salary for Manager:120,000 per month.\n",
      "Salary for Developer: 80,000 per month.\n",
      "Salary for Designer: 70,000 per month.\n"
     ]
    }
   ],
   "source": [
    "'''13. Create a Python class hierarchy for employees in a company (e.g., manager, developer, designer) and implement abstraction by defining a common `get_salary()` method.\n",
    "'''\n",
    "class Employees(ABC):\n",
    "    @abstractmethod\n",
    "    def get_salary(self):\n",
    "        pass\n",
    "class Manager(Employees):\n",
    "    def get_salary(self):\n",
    "        return \"Salary for Manager:120,000 per month.\"\n",
    "\n",
    "class Developer(Employees):\n",
    "    def get_salary(self):\n",
    "        return \"Salary for Developer: 80,000 per month.\"\n",
    "\n",
    "class Designer(Employees):\n",
    "    def get_salary(self):\n",
    "        return \"Salary for Designer: 70,000 per month.\"\n",
    "em=[Manager(), Developer(), Designer()]\n",
    "for emp in em:\n",
    "    print(emp.get_salary())"
   ]
  },
  {
   "cell_type": "code",
   "execution_count": null,
   "id": "9fa7bfa3-698c-4896-90e8-caf0e8487c78",
   "metadata": {},
   "outputs": [],
   "source": [
    "14. Discuss the differences between abstract classes and concrete classes in Python, including their\n",
    "instantiation.\n",
    "    Feature           Abstract Classes              \t                                                 Concrete Classes\n",
    "Definition\t    Declared using the abc module; cannot be instantiated directly.\t                        Normal classes; can be instantiated.\n",
    "Contains\t    Abstract methods (must be implemented by subclasses) and optionally concrete methods. \tFully implemented methods.\n",
    "Purpose\t        Serves as a blueprint to enforce method implementation in subclasses.\t                Implements functionality directly.\n",
    "Instantiation\tCannot create objects directly from abstract classes.\t                                Can create objects directly.\n",
    "Use Cases    \tUsed to enforce a structure or interface.                                           \tUsed to implement business logic."
   ]
  },
  {
   "cell_type": "code",
   "execution_count": null,
   "id": "bddb1eca-e097-4cac-a75c-8d16f79997d6",
   "metadata": {},
   "outputs": [],
   "source": [
    "15. Explain the concept of abstract data types (ADTs) and their role in achieving abstraction in Python.\n",
    "\n",
    "Concept: An Abstract Data Type (ADT) defines a data structure's behavior (e.g., stack, queue) without specifying the implementation.\n",
    "Role in Abstraction: ADTs focus on what operations are performed, not how they are performed. For example:\n",
    "A stack supports push, pop, and peek operations regardless of whether it's implemented using an array or linked list.\n",
    "class Stack:\n",
    "    def __init__(self):\n",
    "        self._data = []\n",
    "\n",
    "    def push(self, value):\n",
    "        self._data.append(value)\n",
    "\n",
    "    def pop(self):\n",
    "        if self.is_empty():\n",
    "            raise IndexError(\"Pop from an empty stack\")\n",
    "        return self._data.pop()\n",
    "\n",
    "    def peek(self):\n",
    "        if self.is_empty():\n",
    "            raise IndexError(\"Peek from an empty stack\")\n",
    "        return self._data[-1]\n",
    "\n",
    "    def is_empty(self):\n",
    "        return len(self._data) == 0\n"
   ]
  },
  {
   "cell_type": "code",
   "execution_count": 139,
   "id": "1e0a9eef-5092-41bc-9a5b-e8804c9557d9",
   "metadata": {},
   "outputs": [
    {
     "name": "stdout",
     "output_type": "stream",
     "text": [
      "Laptop is powering on.\n",
      "Laptop is shutting down.\n",
      "Desktop is powering on.\n",
      "Desktop is shutting down.\n"
     ]
    }
   ],
   "source": [
    "'''16. Create a Python class for a computer system, demonstrating abstraction by defining common methods (e.g., `power_on()`, `shutdown()`) in an abstract base class.\n",
    "'''\n",
    "from abc import ABC,abstractmethod\n",
    "class Computer(ABC):\n",
    "    @abstractmethod\n",
    "    def power_on():\n",
    "        pass\n",
    "    @abstractmethod\n",
    "    def shutdown():\n",
    "        pass\n",
    "\n",
    "class Laptop(Computer):\n",
    "    def power_on(self):\n",
    "        return \"Laptop is powering on.\"\n",
    "\n",
    "    def shutdown(self):\n",
    "        return \"Laptop is shutting down.\"\n",
    "\n",
    "class Desktop(Computer):\n",
    "    def power_on(self):\n",
    "        return \"Desktop is powering on.\"\n",
    "\n",
    "    def shutdown(self):\n",
    "        return \"Desktop is shutting down.\"\n",
    "\n",
    "# Example usage\n",
    "systems = [Laptop(), Desktop()]\n",
    "for system in systems:\n",
    "    print(system.power_on())\n",
    "    print(system.shutdown())\n"
   ]
  },
  {
   "cell_type": "code",
   "execution_count": null,
   "id": "cbce06b2-9482-4e12-bbc9-5eb160b03e92",
   "metadata": {},
   "outputs": [],
   "source": [
    "17. Discuss the benefits of using abstraction in large-scale software development projects.\n",
    "Scalability: Promotes modularity, enabling teams to work on different parts of the system independently.\n",
    "Flexibility: Allows switching implementations without altering the client code.\n",
    "Maintainability: Simplifies updates and bug fixes by isolating changes to specific modules.\n",
    "Standardization: Enforces a consistent interface across different components.\n",
    "Reusability: Encourages the reuse of generalized, abstract classes across multiple projects.\n",
    "\n",
    "18. Explain how abstraction enhances code reusability and modularity in Python programs.\n",
    "Abstraction allows developers to create reusable and modular code by defining common interfaces and hiding implementation details.\n"
   ]
  },
  {
   "cell_type": "code",
   "execution_count": 141,
   "id": "92c7cb35-4cdc-4a86-be81-48a24c0cce13",
   "metadata": {},
   "outputs": [
    {
     "name": "stdout",
     "output_type": "stream",
     "text": [
      "Added book: Python Basics by John Doe\n",
      "Borrowed book: Python Basics\n",
      "Returned book: Python Basics\n"
     ]
    }
   ],
   "source": [
    "#19. Create a Python class for a library system, implementing abstraction by defining common methods (e.g., `add_book()`, `borrow_book()`) in an abstract base class.\n",
    "\n",
    "from abc import ABC, abstractmethod\n",
    "\n",
    "class LibrarySystem(ABC):\n",
    "    @abstractmethod\n",
    "    def add_book(self, title, author):\n",
    "        pass\n",
    "\n",
    "    @abstractmethod\n",
    "    def borrow_book(self, title):\n",
    "        pass\n",
    "\n",
    "    @abstractmethod\n",
    "    def return_book(self, title):\n",
    "        pass\n",
    "\n",
    "class Library(LibrarySystem):\n",
    "    def __init__(self):\n",
    "        self.books = {}\n",
    "\n",
    "    def add_book(self, title, author):\n",
    "        self.books[title] = author\n",
    "        print(f\"Added book: {title} by {author}\")\n",
    "\n",
    "    def borrow_book(self, title):\n",
    "        if title in self.books:\n",
    "            print(f\"Borrowed book: {title}\")\n",
    "            del self.books[title]\n",
    "        else:\n",
    "            print(f\"Book not available: {title}\")\n",
    "\n",
    "    def return_book(self, title):\n",
    "        self.books[title] = \"Unknown Author\"\n",
    "        print(f\"Returned book: {title}\")\n",
    "\n",
    "# Example usage\n",
    "library = Library()\n",
    "library.add_book(\"Python Basics\", \"John Doe\")\n",
    "library.borrow_book(\"Python Basics\")\n",
    "library.return_book(\"Python Basics\")"
   ]
  },
  {
   "cell_type": "code",
   "execution_count": 142,
   "id": "7ef5f1cb-8c32-47b3-9241-6c4f939b88cd",
   "metadata": {},
   "outputs": [
    {
     "name": "stdout",
     "output_type": "stream",
     "text": [
      "Drawing a Circle\n",
      "Drawing a Square\n"
     ]
    }
   ],
   "source": [
    "'''20. Describe the concept of method abstraction in Python and how it relates to polymorphism.\n",
    "Method Abstraction: Hides the method's implementation details while exposing its behavior. Achieved via abstract methods in Python.\n",
    "Relation to Polymorphism:\n",
    "Abstract methods enforce subclasses to provide specific implementations.\n",
    "Polymorphism allows using these methods interchangeably on objects of different subclasses.\n",
    "Example:'''\n",
    "\n",
    "from abc import ABC, abstractmethod\n",
    "\n",
    "class Shape(ABC):\n",
    "    @abstractmethod\n",
    "    def draw(self):\n",
    "        pass\n",
    "\n",
    "class Circle(Shape):\n",
    "    def draw(self):\n",
    "        return \"Drawing a Circle\"\n",
    "\n",
    "class Square(Shape):\n",
    "    def draw(self):\n",
    "        return \"Drawing a Square\"\n",
    "\n",
    "# Polymorphism with method abstraction\n",
    "shapes = [Circle(), Square()]\n",
    "for shape in shapes:\n",
    "    print(shape.draw())"
   ]
  },
  {
   "cell_type": "code",
   "execution_count": null,
   "id": "728dce7f-0d3a-4f80-a979-e38924207130",
   "metadata": {},
   "outputs": [],
   "source": [
    "#Composition:\n",
    "'''1. Explain the concept of composition in Python and how it is used to build complex objects from simpler ones.\n",
    "Definition: Composition is a design principle where objects are built by containing instances of other objects. It models a \"has-a\" relationship (e.g., a car has-a engine).\n",
    "Usage: Composition is used to break down complex systems into smaller, manageable parts. For example, a Book object might contain an Author object to represent the author of the book.\n",
    "\n",
    "2. Describe the difference between composition and inheritance in object-oriented programming.\n",
    "    Feature               composition                                                   inheritance \n",
    "Relationship             \"Has-a\"relationship ex: playlist has-a song             \"Is-a\" relationship ex:Dog is a Animal\n",
    "code reuse            Reuses function buy containing objects                    Reuses functionality by extending classes\n",
    "flexiblity            More flexible components can be replace                    less flexiable ;tightly couples parent and child\n",
    "coupling              Looser coupling between objects                               Tightly coupling between parent and child\n",
    "usecase               When object need to work together.                                 When objects share common behavior \n",
    "\n",
    "3. Create a Python class called `Author` with attributes for name and birthdate. Then, create a `Book` class\n",
    "that contains an instance of `Author` as a composition. Provide an example of creating a `Book` object.\n",
    "'''"
   ]
  },
  {
   "cell_type": "code",
   "execution_count": 3,
   "id": "ab8b9171-faf0-4baa-9e00-5512bf185342",
   "metadata": {},
   "outputs": [
    {
     "name": "stdout",
     "output_type": "stream",
     "text": [
      "1984 by Gerorge Orwell (born :1903-06-25)\n"
     ]
    }
   ],
   "source": [
    "class Author:\n",
    "    def __init__(self,name,birthdate):\n",
    "        self.name=name\n",
    "        self.birthdate=birthdate\n",
    "    def __str__(self):\n",
    "        return  f\"{self.name} (born :{self.birthdate})\"\n",
    "class Book:\n",
    "    def __init__(self,title,author):\n",
    "        self.title=title\n",
    "        self.author=author\n",
    "        \n",
    "    def __str__(self):\n",
    "        return f\"{self.title} by {self.author}\"\n",
    "\n",
    "#example usage\n",
    "author =Author(\"Gerorge Orwell\",\"1903-06-25\")\n",
    "book =Book(\"1984\",author)\n",
    "print(book)"
   ]
  },
  {
   "cell_type": "code",
   "execution_count": 5,
   "id": "dbfef540-fe57-4de3-a7f1-fc39ab5f3b0d",
   "metadata": {},
   "outputs": [
    {
     "name": "stdout",
     "output_type": "stream",
     "text": [
      "Engine starting\n"
     ]
    }
   ],
   "source": [
    "'''4. Discuss the benefits of using composition over inheritance in Python, especially in terms of code flexibility\n",
    "and reusability.\n",
    "\n",
    "Code Reusability: Components can be reused across unrelated classes.\n",
    "Flexibility: Composed objects can be replaced or modified at runtime without affecting the main class.\n",
    "Loose Coupling: Changes to one class have minimal impact on others.\n",
    "Avoids Inheritance Issues: Prevents the complexity of deep inheritance hierarchies.\n",
    "'''\n",
    "#5. How can you implement composition in Python classes? Provide examples of using composition to create\n",
    "#complex objects.\n",
    "\n",
    "class Engine:\n",
    "    def start(self):\n",
    "        return \"Engine starting\"\n",
    "\n",
    "class Car:\n",
    "    def __init__(self):\n",
    "        self.engine =Engine()\n",
    "\n",
    "    def start(self):\n",
    "        return self.engine.start()\n",
    "\n",
    "car=Car()\n",
    "print(car.start())                                                                         "
   ]
  },
  {
   "cell_type": "code",
   "execution_count": 17,
   "id": "69b7d94b-8ad7-4513-a442-8e3963ec754c",
   "metadata": {},
   "outputs": [
    {
     "name": "stdout",
     "output_type": "stream",
     "text": [
      "Playlist:Favorites\n",
      "Tera yarr hoon main by Arijit Singh\n",
      "Jane nahine denge tujhe by Sonu Niagam\n",
      "Ye dosti hum nahin todenge by Kishore Kumar & Mann Dey\n"
     ]
    }
   ],
   "source": [
    "'''6. Create a Python class hierarchy for a music player system, using composition to represent playlists and\n",
    "songs.'''\n",
    "\n",
    "class Song:\n",
    "    def __init__(self,title,artist):\n",
    "        self.title=title\n",
    "        self.artist=artist\n",
    "\n",
    "    def __str__(self):\n",
    "        return f\"{self.title} by {self.artist}\"\n",
    "\n",
    "class playlists:\n",
    "    def __init__(self,name):\n",
    "        self.name=name\n",
    "        self.songs=[]\n",
    "\n",
    "    def add_song(self,song):\n",
    "        self.songs.append(song)\n",
    "\n",
    "    def show_playlist(self):\n",
    "        print(f\"Playlist:{self.name}\")\n",
    "        for song in self.songs:\n",
    "            print(song)\n",
    "song1=Song(\"Tera yarr hoon main\",\"Arijit Singh\")  \n",
    "song2=Song(\"Jane nahine denge tujhe\",\"Sonu Niagam\")\n",
    "song=Song(\"Ye dosti hum nahin todenge\",\"Kishore Kumar & Mann Dey\")\n",
    "playlist = playlists(\"Favorites\")\n",
    "playlist.add_song(song1)\n",
    "playlist.add_song(song2)\n",
    "playlist.add_song(song)\n",
    "playlist.show_playlist()"
   ]
  },
  {
   "cell_type": "code",
   "execution_count": 20,
   "id": "0aba4486-6a20-4f63-90e8-497c2387248e",
   "metadata": {},
   "outputs": [
    {
     "name": "stdout",
     "output_type": "stream",
     "text": [
      "Employee John has task: Complete project report\n"
     ]
    }
   ],
   "source": [
    "'''7. Explain the concept of \"has-a\" relationships in composition and how it helps design software systems.\n",
    "A \"has-a\" relationship means that an object contains another object as part of its definition.\n",
    "Example: A Car has-a Engine.\n",
    "A Song has-a playlist\n",
    "A Employee has-a Task\n",
    "'''\n",
    "#Example\n",
    "class Employee:\n",
    "    def __init__(self,e_id,task):\n",
    "        self.e_id=e_id\n",
    "        self.task=task\n",
    "\n",
    "class Task:\n",
    "    def __init__(self,description):\n",
    "        self.description=description\n",
    "        \n",
    "task = Task(\"Complete project report\") \n",
    "employee = Employee(\"John\", task) \n",
    "print(f\"Employee {employee.e_id} has task: {employee.task.description}\")"
   ]
  },
  {
   "cell_type": "code",
   "execution_count": 10,
   "id": "af49bd2d-29ed-457c-8013-180d2cc736d2",
   "metadata": {},
   "outputs": [
    {
     "name": "stdout",
     "output_type": "stream",
     "text": [
      "Computer with Cpu Intel ,Storage SSD and Ram 16GB\n"
     ]
    }
   ],
   "source": [
    "'''8. Create a Python class for a computer system, using composition to represent components like CPU, RAM,\n",
    "and storage devices.'''\n",
    "\n",
    "class Cpu:\n",
    "    def __init__(self,brand,corses):\n",
    "        self.brand=brand\n",
    "        self.corses=corses\n",
    "    \n",
    "class Ram:\n",
    "    def __init__(self,capacity):\n",
    "        self.capacity=capacity\n",
    "\n",
    "class Storage:\n",
    "    def __init__(self,type,capacity):\n",
    "        self.type=type\n",
    "        self.capacity=capacity\n",
    "\n",
    "class Computer_sys:\n",
    "    def __init__(self,Cpu,Ram,Storage):\n",
    "        self.Cpu=Cpu\n",
    "        self.Ram=Ram\n",
    "        self.Storage=Storage\n",
    "        \n",
    "cpu = Cpu(\"Intel\", 8)\n",
    "ram = Ram(\"16GB\")\n",
    "storage = Storage(\"SSD\", \"1TB\")\n",
    "\n",
    "computer = Computer_sys(cpu, ram, storage)    \n",
    "print(f\"Computer with Cpu {computer.Cpu.brand} ,Storage {computer.Storage.type} and Ram {computer.Ram.capacity}\")"
   ]
  },
  {
   "cell_type": "code",
   "execution_count": null,
   "id": "28f086a3-cab7-4526-ab2c-369a2be41e34",
   "metadata": {},
   "outputs": [],
   "source": [
    "9. Describe the concept of \"delegation\" in composition and how it simplifies the design of complex systems.\n",
    "10. Create a Python class for a car, using composition to represent components like the engine, wheels, and\n",
    "transmission.\n",
    "11. How can you encapsulate and hide the details of composed objects in Python classes to maintain\n",
    "abstraction?\n",
    "12. Create a Python class for a university course, using composition to represent students, instructors, and\n",
    "course materials.\n",
    "13. Discuss the challenges and drawbacks of composition, such as increased complexity and potential for\n",
    "tight coupling between objects.\n",
    "14. Create a Python class hierarchy for a restaurant system, using composition to represent menus, dishes,\n",
    "and ingredients.\n",
    "15. Explain how composition enhances code maintainability and modularity in Python programs.\n",
    "16. Create a Python class for a computer game character, using composition to represent attributes like\n",
    "weapons, armor, and inventory.\n",
    "17. Describe the concept of \"aggregation\" in composition and how it differs from simple composition.\n",
    "18. Create a Python class for a house, using composition to represent rooms, furniture, and appliances.\n",
    "19. How can you achieve flexibility in composed objects by allowing them to be replaced or modified\n",
    "dynamically at runtime?\n",
    "20. Create a Python class for a social media application, using composition to represent users, posts, and\n",
    "comments.\n"
   ]
  },
  {
   "cell_type": "code",
   "execution_count": null,
   "id": "d427f470-6ac0-420c-8bb1-963b35a4b6dd",
   "metadata": {},
   "outputs": [],
   "source": [
    "9. Describe the concept of \"delegation\" in composition and how it simplifies the design of complex systems.\n",
    "Concept of Delegation in Composition\n",
    "Delegation in composition involves one object relying on another to provide a specific piece of functionality. \n",
    "This simplifies complex systems by distributing responsibilities among various objects.\n",
    "\n",
    "10. Create a Python class for a car, using composition to represent components like the engine, wheels, and\n",
    "transmission.\n",
    "Class for a Car\n",
    "Here's an example:\n",
    "\n",
    "class Engine:\n",
    "    def __init__(self, horsepower):\n",
    "        self.horsepower = horsepower\n",
    "\n",
    "class Wheels:\n",
    "    def __init__(self, count):\n",
    "        self.count = count\n",
    "\n",
    "class Transmission:\n",
    "    def __init__(self, type):\n",
    "        self.type = type\n",
    "\n",
    "class Car:\n",
    "    def __init__(self, engine, wheels, transmission):\n",
    "        self.engine = engine\n",
    "        self.wheels = wheels\n",
    "        self.transmission = transmission\n",
    "\n",
    "engine = Engine(150)\n",
    "wheels = Wheels(4)\n",
    "transmission = Transmission(\"Automatic\")\n",
    "\n",
    "car = Car(engine, wheels, transmission)\n",
    "print(f\"Car with {car.engine.horsepower} HP engine, {car.wheels.count} wheels, {car.transmission.type} transmission\")\n",
    "\n",
    "11. How can you encapsulate and hide the details of composed objects in Python classes to maintain\n",
    "abstraction?\n",
    "Encapsulation and Hiding Details\n",
    "In Python, you can use private variables and methods (prefixing names with _ or __) to encapsulate and hide details of composed objects, thereby maintaining abstraction.\n",
    "\n",
    "12.Python Class for a University Course\n",
    "Here's an example:python\n",
    "class Student:\n",
    "    def __init__(self, name):\n",
    "        self.name = name\n",
    "\n",
    "class Instructor:\n",
    "    def __init__(self, name):\n",
    "        self.name = name\n",
    "\n",
    "class CourseMaterial:\n",
    "    def __init__(self, title):\n",
    "        self.title = title\n",
    "\n",
    "class UniversityCourse:\n",
    "    def __init__(self, students, instructor, materials):\n",
    "        self.students = students\n",
    "        self.instructor = instructor\n",
    "        self.materials = materials\n",
    "\n",
    "students = [Student(\"Alice\"), Student(\"Bob\")]\n",
    "instructor = Instructor(\"Dr. Smith\")\n",
    "materials = [CourseMaterial(\"Math 101\")]\n",
    "\n",
    "course = UniversityCourse(students, instructor, materials)\n",
    "print(f\"Course with instructor {course.instructor.name}, students {[student.name for student in course.students]}, and materials {[material.title for material in course.materials]}\")\n",
    "\n",
    "13. Challenges and Drawbacks of Composition\n",
    "Composition can introduce complexity and potential tight coupling between objects.\n",
    "It requires careful design to ensure components are properly isolated and maintainable.\n",
    "\n",
    "14. Python Class Hierarchy for a Restaurant System\n",
    "Here's an example:\n",
    "\n",
    "python\n",
    "class Ingredient:\n",
    "    def __init__(self, name):\n",
    "        self.name = name\n",
    "\n",
    "class Dish:\n",
    "    def __init__(self, name, ingredients):\n",
    "        self.name = name\n",
    "        self.ingredients = ingredients\n",
    "\n",
    "class Menu:\n",
    "    def __init__(self, dishes):\n",
    "        self.dishes = dishes\n",
    "\n",
    "ingredients1 = [Ingredient(\"Chicken\"), Ingredient(\"Spices\")]\n",
    "dish1 = Dish(\"Grilled Chicken\", ingredients1)\n",
    "\n",
    "ingredients2 = [Ingredient(\"Tomato\"), Ingredient(\"Cheese\")]\n",
    "dish2 = Dish(\"Pizza\", ingredients2)\n",
    "\n",
    "menu = Menu([dish1, dish2])\n",
    "print(f\"Menu with dishes {[dish.name for dish in menu.dishes]}\")\n",
    "15. Enhancing Code Maintainability and Modularity\n",
    "Composition enhances maintainability and modularity by breaking down a system into smaller, self-contained components that are easier to manage and modify.\n",
    "\n",
    "16. Python Class for a Computer Game Character\n",
    "Here's an example:\n",
    "\n",
    "python\n",
    "class Weapon:\n",
    "    def __init__(self, name):\n",
    "        self.name = name\n",
    "\n",
    "class Armor:\n",
    "    def __init__(self, name):\n",
    "        self.name = name\n",
    "\n",
    "class Inventory:\n",
    "    def __init__(self, items):\n",
    "        self.items = items\n",
    "\n",
    "class GameCharacter:\n",
    "    def __init__(self, name, weapon, armor, inventory):\n",
    "        self.name = name\n",
    "        self.weapon = weapon\n",
    "        self.armor = armor\n",
    "        self.inventory = inventory\n",
    "\n",
    "weapon = Weapon(\"Sword\")\n",
    "armor = Armor(\"Shield\")\n",
    "inventory = Inventory([\"Potion\", \"Gold\"])\n",
    "\n",
    "character = GameCharacter(\"Hero\", weapon, armor, inventory)\n",
    "print(f\"Character {character.name} with weapon {character.weapon.name}, armor {character.armor.name}, and inventory {character.inventory.items}\")\n",
    "17. Aggregation in Composition\n",
    "Aggregation is a form of composition where the lifetime of the part is independent of the whole. For instance, a team has players, but players can exist independently of the team.\n",
    "\n",
    "18. Python Class for a House\n",
    "Here's an example:\n",
    "\n",
    "python\n",
    "class Room:\n",
    "    def __init__(self, name):\n",
    "        self.name = name\n",
    "\n",
    "class Furniture:\n",
    "    def __init__(self, name):\n",
    "        self.name = name\n",
    "\n",
    "class Appliance:\n",
    "    def __init__(self, name):\n",
    "        self.name = name\n",
    "\n",
    "class House:\n",
    "    def __init__(self, rooms, furniture, appliances):\n",
    "        self.rooms = rooms\n",
    "        self.furniture = furniture\n",
    "        self.appliances = appliances\n",
    "\n",
    "rooms = [Room(\"Living Room\"), Room(\"Bedroom\")]\n",
    "furniture = [Furniture(\"Sofa\"), Furniture(\"Bed\")]\n",
    "appliances = [Appliance(\"TV\"), Appliance(\"Refrigerator\")]\n",
    "\n",
    "house = House(rooms, furniture, appliances)\n",
    "print(f\"House with rooms {[room.name for room in house.rooms]}, furniture {[furn.name for furn in house.furniture]}, and appliances {[appl.name for appl in house.appliances]}\")\n",
    "19. Achieving Flexibility in Composed Objects\n",
    "You can achieve flexibility in composed objects by using interfaces or base classes to allow different implementations and by providing setters or factory methods to replace or modify components at runtime.\n",
    "\n",
    "20. Python Class for a Social Media Application\n",
    "Here's an example:\n",
    "\n",
    "\n",
    "class User:\n",
    "    def __init__(self, username):\n",
    "        self.username = username\n",
    "\n",
    "class Post:\n",
    "    def __init__(self, content):\n",
    "        self.content = content\n",
    "\n",
    "class Comment:\n",
    "    def __init__(self, text):\n",
    "        self.text = text\n",
    "\n",
    "class SocialMediaApp:\n",
    "    def __init__(self, users, posts, comments):\n",
    "        self.users = users\n",
    "        self.posts = posts\n",
    "        self.comments = comments\n",
    "\n",
    "users = [User(\"user1\"), User(\"user2\")]\n",
    "posts = [Post(\"Hello World!\"), Post(\"My first post\")]\n",
    "comments = [Comment(\"Nice post\"), Comment(\"Welcome!\")]\n",
    "\n",
    "app = SocialMediaApp(users, posts, comments)\n",
    "print(f\"Social Media App with users {[user.username for user in app.users]}, posts {[post.content for post in app.posts]}, and comments {[comment.text for comment in app.comments]}\")"
   ]
  }
 ],
 "metadata": {
  "kernelspec": {
   "display_name": "Python 3 (ipykernel)",
   "language": "python",
   "name": "python3"
  },
  "language_info": {
   "codemirror_mode": {
    "name": "ipython",
    "version": 3
   },
   "file_extension": ".py",
   "mimetype": "text/x-python",
   "name": "python",
   "nbconvert_exporter": "python",
   "pygments_lexer": "ipython3",
   "version": "3.11.7"
  }
 },
 "nbformat": 4,
 "nbformat_minor": 5
}
