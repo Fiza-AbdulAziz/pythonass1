{
 "cells": [
  {
   "cell_type": "raw",
   "id": "eba9458b-8ed1-407d-8404-2139ab37df29",
   "metadata": {},
   "source": [
    "https://docs.google.com/document/d/1C9ZdzLpRzHbdIkPSMudQDiFVdlyQGn6dk86zecch9WI/edit\n"
   ]
  },
  {
   "cell_type": "raw",
   "id": "da9caaa0-c996-435c-84d5-b8785008a9ac",
   "metadata": {},
   "source": [
    "Assignment Questions \n",
    "Basic If-Else Statements: \n",
    "  \n",
    "1. Write a Python program to check if a given number is positive or negative. \n",
    "2. Create a program that determines if a person is eligible to vote based on their age.\n",
    "3. Develop a program to find the maximum of two numbers using if-else statements. \n",
    "4. Write a Python script to classify a given year as a leap year or not. \n",
    "5. Create a program that checks whether a character is a vowel or a consonant. \n",
    "6. Implement a program to determine whether a given number is even or odd. \n",
    "7. Write a Python function to calculate the absolute value of a number without using the `abs()` function. \n",
    "8. Develop a program that determines the largest of three given numbers using if-else statements. \n",
    "9. Create a program that checks if a given string is a palindrome. \n",
    "10. Write a Python program to calculate the grade based on a student's score. \n"
   ]
  },
  {
   "cell_type": "code",
   "execution_count": 1,
   "id": "555c4421-7bcb-42e8-8079-8a43254ca5a9",
   "metadata": {},
   "outputs": [
    {
     "name": "stdin",
     "output_type": "stream",
     "text": [
      "Enter the given number 15\n"
     ]
    },
    {
     "name": "stdout",
     "output_type": "stream",
     "text": [
      "Number is positive 15\n"
     ]
    }
   ],
   "source": [
    "#1. Write a Python program that checks if a given number is positive, negative, or zero.\n",
    "num=int(input(\"Enter the given number\"))\n",
    "#postive num--> num greaterthan or equal to zero\n",
    "if num>=0:  \n",
    "    print(\"Number is positive\",num)\n",
    "#negative num--> num lesser than zero\n",
    "    if num<0:\n",
    "         print(\"Number is negative\",num)\n",
    "else:\n",
    "    print(\"Number is zero\",num) # if num == 0"
   ]
  },
  {
   "cell_type": "code",
   "execution_count": 2,
   "id": "32e74adb-a7b4-4d9d-b4ae-444cc11a364f",
   "metadata": {},
   "outputs": [
    {
     "name": "stdin",
     "output_type": "stream",
     "text": [
      "Enter the age of person 19\n"
     ]
    },
    {
     "name": "stdout",
     "output_type": "stream",
     "text": [
      "Person is eligible to vote\n"
     ]
    }
   ],
   "source": [
    "#2. Create a program to determine if a person is eligible to vote based on their age. \n",
    "age=int(input(\"Enter the age of person\"))\n",
    "if age>=18:\n",
    "    print(\"Person is eligible to vote\")\n",
    "else:\n",
    "    print(\"Person is not eligible to vote\")"
   ]
  },
  {
   "cell_type": "code",
   "execution_count": 3,
   "id": "0f176e3d-463e-4a95-9588-e099f1ceecdb",
   "metadata": {},
   "outputs": [
    {
     "name": "stdin",
     "output_type": "stream",
     "text": [
      "Enter the 1st element: 51\n",
      "Enter the 2nd element: 8\n"
     ]
    },
    {
     "name": "stdout",
     "output_type": "stream",
     "text": [
      "The maximum of two given numbers is 51\n"
     ]
    }
   ],
   "source": [
    "#3. Write a program to find the maximum of two given numbers using conditional statements.\n",
    "num1=int(input(\"Enter the 1st element:\"))\n",
    "num2=int(input(\"Enter the 2nd element:\"))\n",
    "if num1>num2:\n",
    "         print(\"The maximum of two given numbers is\",num1)\n",
    "else:\n",
    "         print(\"The maximum of two given numbers is\",num2)"
   ]
  },
  {
   "cell_type": "code",
   "execution_count": 5,
   "id": "1f35a579-0a36-4228-b536-219aad9cd62e",
   "metadata": {},
   "outputs": [
    {
     "name": "stdin",
     "output_type": "stream",
     "text": [
      "Enter the year : 2000\n"
     ]
    },
    {
     "name": "stdout",
     "output_type": "stream",
     "text": [
      "the year is a leap year\n"
     ]
    }
   ],
   "source": [
    "#4. Write a Python script to classify a given year as a leap year or not. \n",
    "#leapyear-->366 days in a year-->The year is multiple of 400.\n",
    "## The year is a multiple of 4 and not a multiple of 100.\n",
    "year=int(input(\"Enter the year :\"))\n",
    "if ((year%400==0) or ((year%4==0) and year%100!=0)):\n",
    "        print(\"the year is a leap year\")\n",
    "else:\n",
    "     print(\"the year is not a leap year\")"
   ]
  },
  {
   "cell_type": "code",
   "execution_count": 6,
   "id": "6b9ed0a4-ac7d-45f5-b68e-1915de32d33c",
   "metadata": {},
   "outputs": [
    {
     "name": "stdin",
     "output_type": "stream",
     "text": [
      "Enter the input string: liquid gas\n"
     ]
    },
    {
     "name": "stdout",
     "output_type": "stream",
     "text": [
      "character l is a cosonant\n",
      "character i is a vowel\n",
      "character q is a cosonant\n",
      "character u is a vowel\n",
      "character i is a vowel\n",
      "character d is a cosonant\n",
      "character   is a cosonant\n",
      "character g is a cosonant\n",
      "character a is a vowel\n",
      "character s is a cosonant\n"
     ]
    }
   ],
   "source": [
    "#5. Create a program that checks whether a character is a vowel or a consonant.\n",
    "string=input(\"Enter the input string:\")\n",
    "for i in string:\n",
    "    if i =='a' or i =='e' or i =='i' or i =='o' or i =='u':\n",
    "        print(f\"character {i} is a vowel\")\n",
    "        if i==\" \":\n",
    "            print(\"\")\n",
    "    else:\n",
    "        print(f\"character {i} is a cosonant\") "
   ]
  },
  {
   "cell_type": "code",
   "execution_count": 7,
   "id": "c8be5da0-1e37-4deb-99a8-601ee785a97b",
   "metadata": {},
   "outputs": [
    {
     "name": "stdin",
     "output_type": "stream",
     "text": [
      "Enter the number 80\n"
     ]
    },
    {
     "name": "stdout",
     "output_type": "stream",
     "text": [
      "Given number is even\n"
     ]
    }
   ],
   "source": [
    "#6. Implement a program to determine whether a given number is even or odd. \n",
    "num=int(input(\"Enter the number\"))\n",
    "if num%2==0:\n",
    "    print(\"Given number is even\")\n",
    "else:\n",
    "     print(\"Given number is odd\")"
   ]
  },
  {
   "cell_type": "code",
   "execution_count": 8,
   "id": "67cdb328-5203-49a4-83d9-327b42eb0a5a",
   "metadata": {},
   "outputs": [
    {
     "name": "stdin",
     "output_type": "stream",
     "text": [
      "Enter the number -36\n"
     ]
    },
    {
     "name": "stdout",
     "output_type": "stream",
     "text": [
      "The absolute value {num} is: 36\n"
     ]
    }
   ],
   "source": [
    "#7. Write a Python function to calculate the absolute value of a number without using the `abs()` function.\n",
    "## the absolute value of 5 is 5, and the absolute value of −5 is also 5\n",
    "abs=None\n",
    "def absolutevalue(num):\n",
    "    if num<=0:\n",
    "        abs=-num\n",
    "        print(\"The absolute value {num} is:\",abs)\n",
    "    else:\n",
    "        abs=num\n",
    "        print(\"The absolute value {num} is:\",abs)\n",
    "        \n",
    "num=int(input(\"Enter the number\"))\n",
    "absolutevalue(num)\n",
    "    "
   ]
  },
  {
   "cell_type": "code",
   "execution_count": 9,
   "id": "51151b94-7b6c-41a1-bb6d-3ca7212aab5a",
   "metadata": {},
   "outputs": [
    {
     "name": "stdin",
     "output_type": "stream",
     "text": [
      "Enter the 1st number: 45\n",
      "Enter the 2nd number: 35\n",
      "Enter the 3rd number: 89\n"
     ]
    },
    {
     "name": "stdout",
     "output_type": "stream",
     "text": [
      "The largest of three given numbers is 89\n"
     ]
    }
   ],
   "source": [
    "#8. Develop a program that determines the largest of three given numbers using if-else statements. \n",
    "num1=int(input(\"Enter the 1st number:\"))\n",
    "num2=int(input(\"Enter the 2nd number:\"))\n",
    "num3=int(input(\"Enter the 3rd number:\"))\n",
    "if num1>num2 and num1>num3:\n",
    "    print(\"The largest of three given numbers is\",num1)\n",
    "if num2>num1 and num2>num3:\n",
    "        print(\"The largest of three given numbers is\",num2)\n",
    "                \n",
    "else:\n",
    "    print(\"The largest of three given numbers is\",num3)\n",
    "    "
   ]
  },
  {
   "cell_type": "code",
   "execution_count": 10,
   "id": "1f36ecce-cf21-4ea4-ba59-8831b57042f8",
   "metadata": {},
   "outputs": [
    {
     "name": "stdin",
     "output_type": "stream",
     "text": [
      "Enter the input string popopopo\n"
     ]
    },
    {
     "name": "stdout",
     "output_type": "stream",
     "text": [
      "The given string is not a palindrome\n"
     ]
    }
   ],
   "source": [
    "#9. Create a program that checks if a given string is a palindrome\n",
    "def printisPalindrome(string):\n",
    "    if string==string[::-1]:\n",
    "        print(\"The given string is a palindrome\")\n",
    "    else:\n",
    "        print(\"The given string is not a palindrome\")\n",
    "\n",
    "string=input(\"Enter the input string\")\n",
    "printisPalindrome(string)"
   ]
  },
  {
   "cell_type": "code",
   "execution_count": 12,
   "id": "1eb45e46-c881-4293-b47d-bdc9b994bb02",
   "metadata": {},
   "outputs": [
    {
     "name": "stdin",
     "output_type": "stream",
     "text": [
      "Enter the exam score of student  87\n"
     ]
    },
    {
     "name": "stdout",
     "output_type": "stream",
     "text": [
      "The GRADE of student is A\n",
      "INVALID\n"
     ]
    }
   ],
   "source": [
    "#10. Write a Python program to calculate the grade based on a student's score. \n",
    "examScore=int(input(\"Enter the exam score of student \"))\n",
    "if examScore>= 91 and examScore<= 100:\n",
    "    print(\"The GRADE of student is A+\")\n",
    "if examScore>=81 and examScore<= 90:\n",
    "    print(\"The GRADE of student is A\")\n",
    "if examScore>=71  and examScore<=80:\n",
    "    print(\"The GRADE of student is B\")\n",
    "if examScore>=61 and examScore<= 70:\n",
    "    print(\"The GRADE of student is C\")\n",
    "if examScore>=51 and examScore<= 60:\n",
    "    print(\"The GRADE of student is D\")\n",
    "if examScore>=40 and examScore<= 50:\n",
    "    print(\"The GRADE of student is E\")\n",
    "if examScore>=0 and examScore<= 42:\n",
    "    print(\"FAIL\")\n",
    "else:\n",
    "    print(\"INVALID\")"
   ]
  },
  {
   "cell_type": "raw",
   "id": "da86ddd2-7d3a-4b16-a129-9c37c1057527",
   "metadata": {},
   "source": [
    "Nested If-Else Statements: \n",
    "  \n",
    "11. Write a program to find the largest among three numbers using nested if-else statements. \n",
    "12. Implement a program to determine if a triangle is equilateral, isosceles, or scalene. \n",
    "13. Develop a program that checks if a year is a leap year and also if it is a century year. \n",
    "14. Write a Python script to determine if a number is positive, negative, or zero. \n",
    "15. Create a program to check if a person is a teenager (between 13 and 19 years old). \n",
    "16. Develop a program that determines the type of angle based on its measure (acute, obtuse, or right). \n",
    "17. Write a Python program to calculate the roots of a quadratic equation. \n",
    "18. Implement a program to determine the day of the week based on a user-provided number (1 for Monday, 2  for Tuesday, etc.). \n",
    "19. Create a program that determines if a year is a leap year and also if it is evenly divisible by 400. \n",
    "20. Develop a program that checks if a given number is prime or not using nested if-else statements."
   ]
  },
  {
   "cell_type": "code",
   "execution_count": 13,
   "id": "5eebbbfe-95ba-4f5f-b5b2-c1a344511d77",
   "metadata": {},
   "outputs": [
    {
     "name": "stdin",
     "output_type": "stream",
     "text": [
      "Enter the 1st number: 10\n",
      "Enter the 2nd number: 28\n",
      "Enter the 3rd number: 3\n"
     ]
    },
    {
     "name": "stdout",
     "output_type": "stream",
     "text": [
      "Largest number is: 28\n"
     ]
    }
   ],
   "source": [
    "#11.Write a program to find the largest among three numbers using nested if-else statements. \n",
    "num1=int(input(\"Enter the 1st number:\"))\n",
    "num2=int(input(\"Enter the 2nd number:\"))\n",
    "num3=int(input(\"Enter the 3rd number:\"))\n",
    "if num1>num2 :\n",
    "    if num1>num3:\n",
    "        large_no=num1\n",
    "    else:\n",
    "        large_no=num3\n",
    "               \n",
    "else:\n",
    "    if num2>num3:\n",
    "        large_no=num2\n",
    "    else:\n",
    "        large_no=num3\n",
    "    \n",
    "               \n",
    "    print(\"Largest number is:\",large_no)\n",
    "    "
   ]
  },
  {
   "cell_type": "code",
   "execution_count": 15,
   "id": "71c44435-8288-49e7-ab47-dfd5b709b11b",
   "metadata": {},
   "outputs": [
    {
     "name": "stdin",
     "output_type": "stream",
     "text": [
      "Enter the 1st side of triangle: 45\n",
      "Enter the 2nd side of triangle: 85\n",
      "Enter the 3rd side of triangle: 21\n"
     ]
    },
    {
     "name": "stdout",
     "output_type": "stream",
     "text": [
      "This is a scalene triangle\n"
     ]
    }
   ],
   "source": [
    "#12.Implement a program to determine if a triangle is equilateral, isosceles, or scalene. \n",
    "## equilateral triangle --> is a triangle in which all three sides have the same length\n",
    "## isosceles  triangle--> is a triangle that has two sides of equal length.\n",
    "## scalene triangle ---> a triangle in which all three sides are in different lengths, and all three angles are of different measures.\n",
    "\n",
    "\n",
    "a=float(input(\"Enter the 1st side of triangle:\"))\n",
    "b=float(input(\"Enter the 2nd side of triangle:\"))     \n",
    "c=float(input(\"Enter the 3rd side of triangle:\"))\n",
    "\n",
    "if a==b or b==c or c==a:\n",
    "    if (b==c and c==a ) or (a==b and c==a) or (b==c and a==b):\n",
    "          print(\"This is a equilateral  triangle\")\n",
    "    else: \n",
    "          print(\"This is a isosceles  triangle\")\n",
    "else:\n",
    "      print(\"This is a scalene triangle\")"
   ]
  },
  {
   "cell_type": "code",
   "execution_count": 18,
   "id": "b0febf13-5dca-41eb-bdf0-c90635f854f7",
   "metadata": {},
   "outputs": [
    {
     "name": "stdin",
     "output_type": "stream",
     "text": [
      "Enter the year : 1900\n"
     ]
    },
    {
     "name": "stdout",
     "output_type": "stream",
     "text": [
      "the year is not a leap year\n",
      "The year is a century year\n"
     ]
    }
   ],
   "source": [
    "#13.Develop a program that checks if a year is a leap year and also if it is a century year. \n",
    "year=int(input(\"Enter the year :\"))\n",
    "if ((year%400==0) or ((year%4==0) and year%100!=0))::   #((year%400==0) or ((year%4==0) and year%100!=0)):\n",
    "    print(\"the year is a leap year\")\n",
    "else:\n",
    "     print(\"the year is not a leap year\")\n",
    "        \n",
    "if year % 100 == 0:\n",
    "    print(\"The year is a century year\")\n",
    "else:\n",
    "    print(\"The year is not a century year\")"
   ]
  },
  {
   "cell_type": "code",
   "execution_count": 21,
   "id": "cd196eba-c957-4981-8236-3b97e380d5a0",
   "metadata": {},
   "outputs": [
    {
     "name": "stdin",
     "output_type": "stream",
     "text": [
      "Enter the number: -96\n"
     ]
    },
    {
     "name": "stdout",
     "output_type": "stream",
     "text": [
      "Number is negative -96\n"
     ]
    }
   ],
   "source": [
    "#14. Write a Python script to determine if a number is positive, negative, or zero. \n",
    "number=int(input(\"Enter the number:\"))\n",
    "     \n",
    "if num==0:\n",
    "    print(\"Number is zero\",number)\n",
    "               \n",
    "if number>=0:\n",
    "    print(\"Number is positive\",number)\n",
    "else:\n",
    "    print(\"Number is negative\",number)\n",
    "\n",
    "           "
   ]
  },
  {
   "cell_type": "code",
   "execution_count": 23,
   "id": "81248dbc-c263-47b0-b40d-201891136fec",
   "metadata": {},
   "outputs": [
    {
     "name": "stdin",
     "output_type": "stream",
     "text": [
      "The age of a person 20\n"
     ]
    },
    {
     "name": "stdout",
     "output_type": "stream",
     "text": [
      "Person is teenager\n",
      "None\n"
     ]
    }
   ],
   "source": [
    "#15. Create a program to check if a person is a teenager (between 13 and 19 years old).\n",
    "def teenager(num):\n",
    "    num=age\n",
    "    if 13<=age>=19:\n",
    "        print(\"Person is teenager\")\n",
    "    else:\n",
    "        print(\"the person is not a teenager\")\n",
    "        \n",
    "number=int(input(\"The age of a person\"))\n",
    "res=teenager(number)\n",
    "print(res)"
   ]
  },
  {
   "cell_type": "code",
   "execution_count": 37,
   "id": "a63cc437-6b31-4f64-8db8-1026d9debdb9",
   "metadata": {},
   "outputs": [
    {
     "name": "stdin",
     "output_type": "stream",
     "text": [
      "Enter value to determine the type of angle based on its measure: 10\n"
     ]
    },
    {
     "name": "stdout",
     "output_type": "stream",
     "text": [
      "the angle is acute.\n"
     ]
    }
   ],
   "source": [
    "#16. Develop a program that determines the type of angle based on its measure (acute, obtuse, or right). \n",
    "## right angle --> 90 degrees\n",
    "## acute angle ---> less than 90 degrees\n",
    "## obtuseangle --> more than 90 degrees\n",
    "angle=float(input(\"Enter value to determine the type of angle based on its measure:\"))\n",
    "if angle < 90:\n",
    "          print(\"the angle is acute.\")\n",
    "else:\n",
    "    if angle == 90:\n",
    "        print(\"the angle is right. \")\n",
    "    if angle > 90 and angle < 180:\n",
    "        print(\"This is an obtuse angle.\")\n",
    "    else:\n",
    "        print(\"It may be a straight angle or a reflex angle.\") "
   ]
  },
  {
   "cell_type": "code",
   "execution_count": 38,
   "id": "6485c8a5-bc3b-420e-8118-4470bbd3967d",
   "metadata": {},
   "outputs": [
    {
     "name": "stdin",
     "output_type": "stream",
     "text": [
      "Enter the values of a: -4\n",
      "Enter the values of b: 12\n",
      "Enter the values of c: 9\n"
     ]
    },
    {
     "name": "stdout",
     "output_type": "stream",
     "text": [
      "root1 real and didtinct is: -14.121320343559642\n",
      "root2 is -9.878679656440358\n"
     ]
    }
   ],
   "source": [
    "#17. Write a Python program to calculate the roots of a quadratic equation. \n",
    "#quadratic eq:x^2-4x+4;-4x^2+12x-9\n",
    "#coefficient of qe:\n",
    "a= float(input(\"Enter the values of a:\"))\n",
    "b= float(input(\"Enter the values of b:\"))\n",
    "c= float(input(\"Enter the values of c:\"))\n",
    "#discriminant (b^2 - 4ac) to be calculate\n",
    "dis=b**2-4*a*c \n",
    "\n",
    "##If discriminant (b^2 - 4ac)> 0,root 1=-b+v(b2-4ac)/2a,root2=+b-v(b2-4ac)/2a\n",
    "if dis > 0:\n",
    "    root1=(-b+((dis)**0.5)/(2*a))\n",
    "    print(\"root1 real and didtinct is:\",root1)\n",
    "\n",
    "    root2=(-b-((dis)**0.5 )/(2*a))\n",
    "    print(\"root2 is\",root2)\n",
    "##If discriminant (b^2 - 4ac) =0,root1=root2=-b/2a\n",
    "elif dis==0:\n",
    "    root=-b/(2*a)\n",
    "    print(\"the roots of quaratic eq is real and repeated\",root)\n",
    "    \n",
    "##If discriminant <0,root 1=(-b /2a)+ i(√ -(b2-4ac)/2a), root2 = (-b /2a)-i(√ -(b2-4ac)/2a)\n",
    "elif det<0:\n",
    "\n",
    "    real_part = -b / (2*a)\n",
    "    imaginary_part = ((-dis)**0.5) / (2*a)\n",
    "    print(f\"The roots are complex: {real_part} + {imaginary_part}i and {real_part} - {imaginary_part}i\")\n",
    "        "
   ]
  },
  {
   "cell_type": "code",
   "execution_count": 40,
   "id": "7e64404c-659a-4dc7-9413-2eea734c5351",
   "metadata": {},
   "outputs": [
    {
     "name": "stdin",
     "output_type": "stream",
     "text": [
      "Enter a number (1-7) for the day of the week:  5\n"
     ]
    },
    {
     "name": "stdout",
     "output_type": "stream",
     "text": [
      "The day of the week to 5 is Friday.\n"
     ]
    }
   ],
   "source": [
    "#18. Implement a program to determine the day of the week based on a user-provided number (1 for Monday, 2  for Tuesday, etc.). \n",
    "# Create a dictionary to map numbers to days of the week\n",
    "days_of_week = {\n",
    "    1: \"Monday\",\n",
    "    2: \"Tuesday\",\n",
    "    3: \"Wednesday\",\n",
    "    4: \"Thursday\",\n",
    "    5: \"Friday\",\n",
    "    6: \"Saturday\",\n",
    "    7: \"Sunday\"\n",
    "}\n",
    "\n",
    "# Get the user-provided number for the day\n",
    "dayNumber = int(input(\"Enter a number (1-7) for the day of the week: \"))\n",
    "\n",
    "# Check if is within the range\n",
    "if dayNumber in days_of_week:\n",
    "    dayName = days_of_week[dayNumber]\n",
    "    print(f\"The day of the week to {dayNumber} is {dayName}.\")\n",
    "else:\n",
    "    print(\"Invalid input. Please enter a number between (1 and 7 )\")\n"
   ]
  },
  {
   "cell_type": "code",
   "execution_count": 42,
   "id": "efa23e1a-3085-4ca6-9612-89f90248dbdf",
   "metadata": {},
   "outputs": [
    {
     "name": "stdin",
     "output_type": "stream",
     "text": [
      "Enter a year:  2000\n"
     ]
    },
    {
     "name": "stdout",
     "output_type": "stream",
     "text": [
      "The year is a leap year.\n"
     ]
    }
   ],
   "source": [
    "#19. Create a program that determines if a year is a leap year and also if it is evenly divisible by 400. \n",
    "year = int(input(\"Enter a year: \"))\n",
    "\n",
    "if year % 4 == 0:\n",
    "    if year % 100 != 0 or year % 400 == 0:\n",
    "        print(\"The year is a leap year.\")\n",
    "    else:\n",
    "        print(\"The year is not a leap year.\")\n",
    "else:\n",
    "    print(\"The year is not a leap year.\")"
   ]
  },
  {
   "cell_type": "code",
   "execution_count": 43,
   "id": "d349ab51-4caa-44f1-a5fb-f01f8600f1f6",
   "metadata": {},
   "outputs": [
    {
     "name": "stdin",
     "output_type": "stream",
     "text": [
      "Enter the number: 17\n"
     ]
    },
    {
     "name": "stdout",
     "output_type": "stream",
     "text": [
      "The number is a prime number.\n"
     ]
    }
   ],
   "source": [
    "#20. Develop a program that checks if a given number is prime or not using nested if-else statements.\n",
    "num=int(input(\"Enter the number:\"))\n",
    "if num<2:\n",
    "    print(\"enter the postive number starting with 2 \")\n",
    "else:   \n",
    "    is_prime = True\n",
    "    for i in range(2, num):\n",
    "         if num % i == 0:\n",
    "                is_prime = False\n",
    "                break\n",
    "    \n",
    "    if is_prime:\n",
    "        print(\"The number is a prime number.\")\n",
    "    else:\n",
    "        print(\"The number is not a prime number.\")\n"
   ]
  },
  {
   "cell_type": "raw",
   "id": "c1f7d7d7-b157-4cf7-82ed-ed34bf426e0e",
   "metadata": {},
   "source": [
    "Elif Statements: \n",
    "  \n",
    "21. Write a Python program to assign grades based on different ranges of scores using elif statements. \n",
    "22. Implement a program to determine the type of a triangle based on its angles. \n",
    "23. Develop a program to categorize a given person's BMI into underweight, normal, overweight, or obese using  elif statements. \n",
    "24. Create a program that determines whether a given number is positive, negative, or zero using elif  statements. \n",
    "25. Write a Python script to determine the type of a character (uppercase, lowercase, or special) using elif  statements. \n",
    "26. Implement a program to calculate the discounted price based on different purchase amounts using elif  statements. \n",
    "27. Develop a program to calculate the electricity bill based on different consumption slabs using elif  statements. \n",
    "28. Create a program to determine the type of quadrilateral based on its angles and sides using elif  statements. \n",
    "29. Write a Python script to determine the season based on a user-provided month using elif statements. \n",
    "30. Implement a program to determine the type of a year (leap or common) and month (30 or 31 days) using  elif statements. \n"
   ]
  },
  {
   "cell_type": "code",
   "execution_count": 44,
   "id": "2dc35984-c53f-4974-a50b-f2b6d8ae707a",
   "metadata": {},
   "outputs": [
    {
     "name": "stdin",
     "output_type": "stream",
     "text": [
      "Enter the exam score of student  90\n"
     ]
    },
    {
     "name": "stdout",
     "output_type": "stream",
     "text": [
      "The GRADE of student is A\n"
     ]
    }
   ],
   "source": [
    "#21. Write a Python program to assign grades based on different ranges of scores using elif statements. \n",
    "examScore=int(input(\"Enter the exam score of student \"))\n",
    "if examScore>= 91 and examScore<= 100:\n",
    "    print(\"The GRADE of student is A+\")\n",
    "elif examScore>=81 and examScore<= 90:\n",
    "    print(\"The GRADE of student is A\")\n",
    "elif examScore>=71  and examScore<=80:\n",
    "    print(\"The GRADE of student is B\")\n",
    "elif examScore>=61 and examScore<= 70:\n",
    "    print(\"The GRADE of student is C\")\n",
    "elif examScore>=51 and examScore<= 60:\n",
    "    print(\"The GRADE of student is D\")\n",
    "elif examScore>=44 and examScore<= 50:\n",
    "    print(\"The GRADE of student is E\")\n",
    "elif examScore>=0 and examScore<= 43:\n",
    "    print(\"FAIL\")\n",
    "else:\n",
    "    print(\"INVALID\")"
   ]
  },
  {
   "cell_type": "code",
   "execution_count": 45,
   "id": "a6cc5eb5-6af3-4570-8061-64e906019a52",
   "metadata": {},
   "outputs": [
    {
     "name": "stdin",
     "output_type": "stream",
     "text": [
      "Enter value to determine the type of angle based on its measure: 122\n"
     ]
    },
    {
     "name": "stdout",
     "output_type": "stream",
     "text": [
      "This is an obtuse angle.\n"
     ]
    }
   ],
   "source": [
    "#22. Implement a program to determine the type of a triangle based on its angles. \n",
    "angle=float(input(\"Enter value to determine the type of angle based on its measure:\"))\n",
    "if angle < 90:\n",
    "          print(\"the angle is acute.\")\n",
    "        \n",
    "elif angle == 90:\n",
    "          print(\"the angle is right. \")\n",
    "        \n",
    "elif angle > 90 and angle < 180:\n",
    "    print(\"This is an obtuse angle.\")\n",
    "    \n",
    "else:\n",
    "    print(\"It may be a straight angle or a reflex angle.\")"
   ]
  },
  {
   "cell_type": "code",
   "execution_count": 46,
   "id": "9326eb4e-6335-4c22-939c-1e12cc069479",
   "metadata": {},
   "outputs": [
    {
     "name": "stdin",
     "output_type": "stream",
     "text": [
      "Enter the WEIGHT: 45\n",
      "Enter the HEIGHT: 5\n"
     ]
    },
    {
     "name": "stdout",
     "output_type": "stream",
     "text": [
      "You are underweight.\n"
     ]
    }
   ],
   "source": [
    "#23. Develop a program to categorize a given person's BMI into underweight, normal, overweight, or obese using  elif statements. \n",
    "#bmi=weight and height 62 and 180\n",
    "\n",
    "weight=float(input(\"Enter the WEIGHT:\"))\n",
    "height=float(input(\"Enter the HEIGHT:\"))\n",
    "                   \n",
    "bmi=round((weight / height**2),2)\n",
    "                   \n",
    "if bmi <= 18.5: \n",
    "    print(\"You are underweight.\") \n",
    "     \n",
    "elif 18.5 < bmi <= 24.9: \n",
    "     print(\"Your weight is normal.\") \n",
    "     \n",
    "elif 25 < bmi <= 29.29: \n",
    "     print(\"You are overweight.\")\n",
    "     \n",
    "else: \n",
    "     print(\"You are obese.\")"
   ]
  },
  {
   "cell_type": "code",
   "execution_count": 47,
   "id": "fb4fedac-a932-4880-a3f4-7fdb6d400923",
   "metadata": {},
   "outputs": [
    {
     "name": "stdin",
     "output_type": "stream",
     "text": [
      "Enter the number : 96\n"
     ]
    },
    {
     "name": "stdout",
     "output_type": "stream",
     "text": [
      "the given number is negative\n"
     ]
    }
   ],
   "source": [
    "#24. Create a program that determines whether a given number is positive, negative, or zero using elif  statements.\n",
    "number=int(input (\"Enter the number :\"))\n",
    "if num ==0 :\n",
    "    print(\"the given number is zero\")\n",
    "elif num<0:\n",
    "    print(\"the given number is positive\")\n",
    "else:\n",
    "    print(\"the given number is negative\")"
   ]
  },
  {
   "cell_type": "code",
   "execution_count": 48,
   "id": "a73d4c85-0cff-4762-b99b-c09bb12e5589",
   "metadata": {},
   "outputs": [
    {
     "name": "stdin",
     "output_type": "stream",
     "text": [
      "Enter the character: kite\n"
     ]
    },
    {
     "name": "stdout",
     "output_type": "stream",
     "text": [
      "The type of a character kite is  lowercase\n"
     ]
    }
   ],
   "source": [
    "#25. Write a Python script to determine the type of a character (uppercase, lowercase, or special) using elif  statements\n",
    "character=input(\"Enter the character:\")\n",
    "if character.isalpha():\n",
    "    if character.isupper():\n",
    "        print(f\"The type of a character {character} is  uppercase\")\n",
    "    else:\n",
    "        print(f\"The type of a character {character} is  lowercase\")\n",
    "else:\n",
    "    print(f\"The type of a character {character} is  special\")"
   ]
  },
  {
   "cell_type": "code",
   "execution_count": 1,
   "id": "d71f995b-023c-4c1d-bafc-14143da8c9cd",
   "metadata": {},
   "outputs": [
    {
     "name": "stdin",
     "output_type": "stream",
     "text": [
      "The purchase amount is : 12000\n"
     ]
    },
    {
     "name": "stdout",
     "output_type": "stream",
     "text": [
      "The purchase amount is 10800.00\n"
     ]
    }
   ],
   "source": [
    "#26. Implement a program to calculate the discounted price based on different purchase amounts using elif  statements.\n",
    "purchase_amounts=float(input(\"The purchase amount is :\"))\n",
    "if purchase_amounts>=1000:\n",
    "    discount=0.1 #10% discount\n",
    "elif purchase_amounts>=500:\n",
    "    discount=0.05 #5% discount\n",
    "else:\n",
    "    discount=0\n",
    "    \n",
    "cal_discountPrice= purchase_amounts -(purchase_amounts * discount)\n",
    "print(f\"The purchase amount is {cal_discountPrice:.2f}\")\n"
   ]
  },
  {
   "cell_type": "code",
   "execution_count": 53,
   "id": "79ae6419-eb33-4276-84e9-20d26e46342c",
   "metadata": {},
   "outputs": [
    {
     "name": "stdin",
     "output_type": "stream",
     "text": [
      "The electricity consumption unit: 339\n"
     ]
    },
    {
     "name": "stdout",
     "output_type": "stream",
     "text": [
      "TotalElectricityBill: 10975\n"
     ]
    }
   ],
   "source": [
    "#27. Develop a program to calculate the electricity bill based on different consumption slabs using elif  statements. \n",
    "#1 to 100 units – Rs. 10/unit\n",
    "#100 to 200 units – Rs. 15/unit\n",
    "#200 to 300 units – Rs. 20/unit\n",
    "#above 300 units – Rs. 25/unit\n",
    "\n",
    "units=int(input(\"The electricity consumption unit:\"))\n",
    "\n",
    "TotalElectricityBill = 0\n",
    "\n",
    "if units<=100:\n",
    "    TotalElectricityBill = (units* 10)\n",
    "    print(\"TotalElectricityBill:\",TotalElectricityBill)\n",
    "if units<=200:   \n",
    "    TotalElectricityBill = (100*10) + ((units-100) * 15) \n",
    "    print(\"TotalElectricityBill:\",TotalElectricityBill)\n",
    "elif units<=300:\n",
    "    TotalElectricityBill = (100*10) + (200*15) + ((units-200) * 20)\n",
    "    print(\"TotalElectricityBill:\",TotalElectricityBill)\n",
    "elif units<=400 :\n",
    "    TotalElectricityBill = (100*10) + (200*15) + (300*20) + ((units-300) * 25)\n",
    "    print(\"TotalElectricityBill:\",TotalElectricityBill)\n",
    "else:\n",
    "    print(\"Invalid units\")\n"
   ]
  },
  {
   "cell_type": "code",
   "execution_count": 56,
   "id": "ab468bee-6544-4db1-b637-9a577f7fe752",
   "metadata": {},
   "outputs": [
    {
     "name": "stdin",
     "output_type": "stream",
     "text": [
      "Enter the length of side a: 12\n",
      "Enter the length of side b: 12\n",
      "Enter the length of side c: 12\n",
      "Enter the length of side d: 12\n",
      "Enter the first angle in degree: 90\n",
      "Enter the second angle in degree: 90\n",
      "Enter the third angle in degree: 90\n",
      "Enter the fourth angle in degree: 90\n"
     ]
    },
    {
     "name": "stdout",
     "output_type": "stream",
     "text": [
      "The quadrilateral is a square.\n"
     ]
    }
   ],
   "source": [
    "#28. Create a program to determine the type of quadrilateral based on its angles and sides using elif  statements. \n",
    "a=float(input(\"Enter the length of side a:\"))\n",
    "b=float(input(\"Enter the length of side b:\"))\n",
    "c=float(input(\"Enter the length of side c:\"))\n",
    "d=float(input(\"Enter the length of side d:\"))\n",
    "\n",
    "angle1=float(input(\"Enter the first angle in degree:\"))\n",
    "angle2=float(input(\"Enter the second angle in degree:\"))\n",
    "angle3=float(input(\"Enter the third angle in degree:\"))\n",
    "angle4=float(input(\"Enter the fourth angle in degree:\"))\n",
    "\n",
    "if a == b == c == d:\n",
    "    if angle1 == angle2 == angle3 == angle4 == 90:\n",
    "        print(\"The quadrilateral is a square.\")\n",
    "    else:\n",
    "        print(\"The quadrilateral is a rectangle.\")\n",
    "        \n",
    "elif a==c and b==d:\n",
    "    if angle1 == angle2 == angle3 == angle4 == 90:\n",
    "        print(\"The quadrilateral is a rectangle.\")\n",
    "    else:\n",
    "        print(\"The quadrilateral is a parallelogram.\")\n",
    "        \n",
    "elif a == b == c == d:\n",
    "    if angle1 == angle2 == angle3 == angle4:\n",
    "        print(\"The quadrilateral is a rhombus.\")\n",
    "    else:\n",
    "        print(\"The quadrilateral is a parallelogram.\")\n",
    "else:\n",
    "     print(\"The quadrilateral is a general quadrilateral.\")\n",
    "        \n",
    "    "
   ]
  },
  {
   "cell_type": "code",
   "execution_count": 57,
   "id": "41b01690-d350-435f-a79f-a1bdbfc90cc6",
   "metadata": {},
   "outputs": [
    {
     "name": "stdin",
     "output_type": "stream",
     "text": [
      "Input the month (e.g. January, February etc.):  may\n"
     ]
    },
    {
     "name": "stdout",
     "output_type": "stream",
     "text": [
      "The season for May is Spring.\n"
     ]
    }
   ],
   "source": [
    "#29. Write a Python script to determine the season based on a user-provided month using elif statements.\n",
    "              \n",
    "month_season= input(\"Input the month (e.g. January, February etc.): \")\n",
    "month=month_season.title()\n",
    "if month in ('January', 'February', 'December'):\n",
    "\tseason = 'Winter'\n",
    "elif month in ('March' ,'April', 'May'):\n",
    "\tseason = 'Spring'\n",
    "elif month in ('June' ,'July' ,'August'):\n",
    "\tseason = 'Summer'\n",
    "else:\n",
    "\tseason = 'Autumn'\n",
    "    \n",
    "if season !=\"none\":\n",
    "    print(f\"The season for {month} is {season}.\")\n",
    "    "
   ]
  },
  {
   "cell_type": "code",
   "execution_count": 2,
   "id": "f9765faf-4774-4e8a-a1ee-3a6f79a55ba8",
   "metadata": {},
   "outputs": [
    {
     "name": "stdin",
     "output_type": "stream",
     "text": [
      "Enter the year : 2003\n",
      "Enter the month (e.g. January, February etc.):  february\n"
     ]
    },
    {
     "name": "stdout",
     "output_type": "stream",
     "text": [
      "The year is a :  common year\n",
      "February has 30 days.\n"
     ]
    }
   ],
   "source": [
    "#30. Implement a program to determine the type of a year (leap or common) and month (30 or 31 days) using  elif statements. \n",
    "year=int(input(\"Enter the year :\"))\n",
    "if ((year%4==0) and year%100!=0 or (year%400==0)):\n",
    "    leap_year=year\n",
    "    yeartype = \"leap year\"\n",
    "else:\n",
    "     yeartype = \" common year\"\n",
    "        \n",
    "Month=input(\"Enter the month (e.g. January, February etc.): \")\n",
    "month=Month.title()\n",
    "\n",
    "if month in ['January','March','May','July','August','October','December']:\n",
    "    days = 31\n",
    "    \n",
    "elif month == \"february\":\n",
    "    if yeartype == \"leap year\":\n",
    "        days = 29\n",
    "    else:\n",
    "        days = 28\n",
    "        \n",
    "else:\n",
    "    days = 30\n",
    "    \n",
    "if days is not None:\n",
    "    print(\"The year is a :\",yeartype)\n",
    "    print(f\"{month} has {days} days.\")\n"
   ]
  },
  {
   "cell_type": "raw",
   "id": "cfa773b4-01a8-4214-9dca-6aeaff362662",
   "metadata": {},
   "source": [
    " Full Stack Data Science Pro \n",
    "\n",
    "Assignment Questions \n",
    "Basic Level: \n",
    "  \n",
    "1. Write a Python program that checks if a given number is positive, negative, or zero.\n",
    "2. Create a program to determine if a person is eligible to vote based on their age. \n",
    "3. Write a program to find the maximum of two given numbers using conditional statements.\n",
    "4. Develop a program that calculates the grade of a student based on their exam score. \n",
    "5. Create a program that checks if a year is a leap year or not. \n",
    "6. Write a program to classify a triangle based on its sides' lengths. \n",
    "7. Build a program that determines the largest of three given numbers. \n",
    "8. Develop a program that checks whether a character is a vowel or a consonant. \n",
    "9. Create a program to calculate the total cost of a shopping cart based on discounts. \n",
    "10. Write a program that checks if a given number is even or odd. \n",
    "  \n"
   ]
  },
  {
   "cell_type": "code",
   "execution_count": 4,
   "id": "400add38-ecc6-4b49-97af-89289870ac22",
   "metadata": {},
   "outputs": [
    {
     "name": "stdin",
     "output_type": "stream",
     "text": [
      "Enter the given number 253\n"
     ]
    },
    {
     "name": "stdout",
     "output_type": "stream",
     "text": [
      "Number is positive 253\n"
     ]
    }
   ],
   "source": [
    "#1. Write a Python program that checks if a given number is positive, negative, or zero.\n",
    "num=int(input(\"Enter the given number\"))\n",
    "if num>=0:\n",
    "    print(\"Number is positive\",num)\n",
    "if num<0:\n",
    "    print(\"Number is negative\",num)\n",
    "else:\n",
    "    (\"Number is zero\",num)"
   ]
  },
  {
   "cell_type": "code",
   "execution_count": 5,
   "id": "0231afa7-a079-4914-aa6c-d854ceb5e0d5",
   "metadata": {},
   "outputs": [
    {
     "name": "stdin",
     "output_type": "stream",
     "text": [
      "Enter the age of person 12\n"
     ]
    },
    {
     "name": "stdout",
     "output_type": "stream",
     "text": [
      "Person is not eligible to vote\n"
     ]
    }
   ],
   "source": [
    "#2. Create a program to determine if a person is eligible to vote based on their age. \n",
    "age=int(input(\"Enter the age of person\"))\n",
    "if age>=18:\n",
    "    print(\"Person is eligible to vote\")\n",
    "else:\n",
    "    print(\"Person is not eligible to vote\")"
   ]
  },
  {
   "cell_type": "code",
   "execution_count": 6,
   "id": "a98c5740-47d0-4370-89f4-239b5bbb8080",
   "metadata": {},
   "outputs": [
    {
     "name": "stdin",
     "output_type": "stream",
     "text": [
      "Enter the 1st element: 45\n",
      "Enter the 2nd element: 12\n"
     ]
    },
    {
     "name": "stdout",
     "output_type": "stream",
     "text": [
      "The maximum of two given numbers is 45\n"
     ]
    }
   ],
   "source": [
    "#3. Write a program to find the maximum of two given numbers using conditional statements.\n",
    "num1=int(input(\"Enter the 1st element:\"))\n",
    "num2=int(input(\"Enter the 2nd element:\"))\n",
    "if num1>num2:\n",
    "         print(\"The maximum of two given numbers is\",num1)\n",
    "else:\n",
    "         print(\"The maximum of two given numbers is\",num2)"
   ]
  },
  {
   "cell_type": "code",
   "execution_count": 7,
   "id": "b658aa16-eec8-4e89-9674-ae298aef0bb3",
   "metadata": {},
   "outputs": [
    {
     "name": "stdin",
     "output_type": "stream",
     "text": [
      "Enter the exam score of student  95\n"
     ]
    },
    {
     "name": "stdout",
     "output_type": "stream",
     "text": [
      "The GRADE of student is A+\n"
     ]
    }
   ],
   "source": [
    "#4. Develop a program that calculates the grade of a student based on their exam score. \n",
    "examScore=int(input(\"Enter the exam score of student \"))\n",
    "if examScore>= 91 and examScore<= 100:\n",
    "    print(\"The GRADE of student is A+\")\n",
    "elif examScore>=81 and examScore<= 90:\n",
    "    print(\"The GRADE of student is A\")\n",
    "elif examScore>=71  and examScore<=80:\n",
    "    print(\"The GRADE of student is B\")\n",
    "elif examScore>=61 and examScore<= 70:\n",
    "    print(\"The GRADE of student is C\")\n",
    "elif examScore>=51 and examScore<= 60:\n",
    "    print(\"The GRADE of student is D\")\n",
    "elif examScore>=40 and examScore<= 50:\n",
    "    print(\"The GRADE of student is E\")\n",
    "elif examScore>=0 and examScore<= 42:\n",
    "    print(\"FAIL\")\n",
    "else:\n",
    "    print(\"INVALID\")\n",
    "\n",
    "    "
   ]
  },
  {
   "cell_type": "code",
   "execution_count": 8,
   "id": "155f57f1-c1d6-4a6e-9bff-5368b12856be",
   "metadata": {},
   "outputs": [
    {
     "name": "stdin",
     "output_type": "stream",
     "text": [
      "Enter the year 1695\n"
     ]
    },
    {
     "name": "stdout",
     "output_type": "stream",
     "text": [
      "THE YEAR IS A NOT LEAP YEAR\n"
     ]
    }
   ],
   "source": [
    "#5.Write a Python script to classify a given year as a leap year or not. \n",
    "year=int(input(\"Enter the year\"))\n",
    "if ((year%4==0) or( year%100==0  and year%400==0)):\n",
    "    print(\"THE YEAR IS A LEAP YEAR\")\n",
    "else:\n",
    "    print(\"THE YEAR IS A NOT LEAP YEAR\")\n",
    "        "
   ]
  },
  {
   "cell_type": "code",
   "execution_count": 9,
   "id": "387de565-da64-45e5-9788-b80c9aef9870",
   "metadata": {},
   "outputs": [
    {
     "name": "stdin",
     "output_type": "stream",
     "text": [
      "The triangle based on its side length 45\n",
      "The triangle based on its side length 6\n",
      "The triangle based on its side length 6\n"
     ]
    },
    {
     "name": "stdout",
     "output_type": "stream",
     "text": [
      "This is a isosceles  triangle\n"
     ]
    }
   ],
   "source": [
    "#6. Write a program to classify a triangle based on its sides' lengths. \n",
    "a=float(input(\"The triangle based on its side length\"))  \n",
    "b=float(input(\"The triangle based on its side length\"))\n",
    "c=float(input(\"The triangle based on its side length\"))\n",
    "    \n",
    "if a == b == c:\n",
    "    print(\"This is a equilateral  triangle\")\n",
    "    \n",
    "elif a==b or b==c or c==a:\n",
    "        print(\"This is a isosceles  triangle\")\n",
    "else:\n",
    "      print(\"This is a scalene triangle\")\n"
   ]
  },
  {
   "cell_type": "code",
   "execution_count": 35,
   "id": "f58ef8ac-8a9e-4968-a209-de8c424fd8d3",
   "metadata": {},
   "outputs": [
    {
     "name": "stdout",
     "output_type": "stream",
     "text": [
      "6\n"
     ]
    }
   ],
   "source": [
    "#7. Build a program that determines the largest of three given numbers. \n",
    "def max_of_two( x, y ): \n",
    "    if x > y: \n",
    "        return x  \n",
    "    return y \n",
    "def max_of_three( x, y, z ):\n",
    "    return max_of_two( x, max_of_two( y, z ) ) \n",
    "print(max_of_three(3, 6, -5))"
   ]
  },
  {
   "cell_type": "code",
   "execution_count": 82,
   "id": "d16734da-facc-4181-8bb1-c1cc967c8f86",
   "metadata": {},
   "outputs": [
    {
     "name": "stdin",
     "output_type": "stream",
     "text": [
      "Enter the charcter: people\n"
     ]
    },
    {
     "name": "stdout",
     "output_type": "stream",
     "text": [
      "Character is a vowel.\n"
     ]
    }
   ],
   "source": [
    "#8. Develop a program that checks whether a character is a vowel or a consonant. \n",
    "character=input(\"Enter the charcter:\")\n",
    "\n",
    "is_vowel=False\n",
    "for i in character.lower():\n",
    "    if i=='a' or i =='e' or i =='i' or i =='o' or i =='u':\n",
    "        is_vowel=True\n",
    "\n",
    "if is_vowel:\n",
    "    print(\"Character is a vowel.\")\n",
    "else:\n",
    "    print(\"Character is not a vowel.\")\n",
    "    \n",
    "    "
   ]
  },
  {
   "cell_type": "code",
   "execution_count": 95,
   "id": "dd1ca0de-86e4-41d7-94da-68e252b9eb91",
   "metadata": {},
   "outputs": [
    {
     "name": "stdout",
     "output_type": "stream",
     "text": [
      "Total cost of the shopping cart: 2335.00 rupess\n"
     ]
    }
   ],
   "source": [
    "#9. Create a program to calculate the total cost of a shopping cart based on discounts. \n",
    "itemCost={\n",
    "    \"item1\":15.0,\n",
    "    \"item2\":25.0,\n",
    "    \"item3\":150.0,\n",
    "    \"item4\":5.0}\n",
    "itemQuantity={\n",
    "    \"item1\":2,\n",
    "    \"item2\":4,\n",
    "    \"item3\":1,\n",
    "    \"item4\":5}\n",
    "\n",
    "#totalcost\n",
    "totalcost=0\n",
    "for item,cost in itemCost.items():\n",
    "    for item in itemQuantity:\n",
    "        totalcost+=cost * itemQuantity[item]\n",
    "\n",
    "#discount\n",
    "if totalcost<=70:\n",
    "    totalcost-=10\n",
    "elif totalcost>=40:\n",
    "     totalcost-=5\n",
    "else:\n",
    "    totalcost==totalcost\n",
    "print(f\"Total cost of the shopping cart: {totalcost:.2f} rupess\")"
   ]
  },
  {
   "cell_type": "code",
   "execution_count": 84,
   "id": "8bc4456f-d331-408d-8b2e-1bed839d05f5",
   "metadata": {},
   "outputs": [
    {
     "name": "stdin",
     "output_type": "stream",
     "text": [
      "Enter the number 19\n"
     ]
    },
    {
     "name": "stdout",
     "output_type": "stream",
     "text": [
      "The number 19 is odd number\n"
     ]
    }
   ],
   "source": [
    "#10. Write a program that checks if a given number is even or odd. \n",
    "n=int(input(\"Enter the number\"))\n",
    "if n%2==0:\n",
    "    print(f\"he number {n} is even number\")\n",
    "else:\n",
    "    print(f\"The number {n} is odd number\")"
   ]
  },
  {
   "cell_type": "raw",
   "id": "39ff3c15-9038-4a91-833c-3569e05cc1c2",
   "metadata": {},
   "source": [
    "Intermediate Level: \n",
    "  \n",
    "11. Write a program that calculates the roots of a quadratic equation . \n",
    "12. Create a program that determines the day of the week based on the day number (1-7). \n",
    "13. Develop a program that calculates the factorial of a given number using recursion. \n",
    "14. Write a program to find the largest among three numbers without using the `max()` function. \n",
    "15. Create a program that simulates a basic ATM transaction menu. \n",
    "16. Build a program that checks if a given string is a palindrome or not. \n",
    "17. Write a program that calculates the average of a list of numbers, excluding the smallest and largest values. \n",
    "18. Develop a program that converts a given temperature from Celsius to Fahrenheit. \n",
    "19. Create a program that simulates a basic calculator for addition, subtraction, multiplication, and division. \n",
    "20. Write a program that determines the roots of a cubic equation using the Cardano formula.   "
   ]
  },
  {
   "cell_type": "code",
   "execution_count": 14,
   "id": "6cbc25e1-797f-48c8-af12-85afffcee16a",
   "metadata": {},
   "outputs": [
    {
     "name": "stdin",
     "output_type": "stream",
     "text": [
      "Enter the coefficient of x^2: 9\n",
      "Enter the coefficient of x: 6\n",
      "Enter the coefficient of constant: 4\n"
     ]
    },
    {
     "name": "stdout",
     "output_type": "stream",
     "text": [
      "The roots are complex: -0.3333333333333333 + 0.6382847385042254i and -0.3333333333333333 - 0.6382847385042254i\n"
     ]
    }
   ],
   "source": [
    "#11. Write a program that calculates the roots of a quadratic equation . \n",
    " ## quadratic equation ax^2+bx+c\n",
    "a=float(input(\"Enter the coefficient of x^2:\"))\n",
    "b=float(input(\"Enter the coefficient of x:\"))\n",
    "c=float(input(\"Enter the coefficient of constant:\"))\n",
    "              \n",
    "#discriment=b2-4ac\n",
    "dis=b*2-4*a*c\n",
    "\n",
    "if dis>0:\n",
    "              root1=-b +(dis)**0.5/(2*a)\n",
    "              root2=-b -(dis)**0.5/(2*a)\n",
    "              print(f\"The roots are real and distint:{root1} and {root2}\")\n",
    "              \n",
    "elif dis==0:\n",
    "              root=-b/(2*a)\n",
    "              print(f\"The roots are equal:{root}\")\n",
    "\n",
    "else:\n",
    "       realPart=-b/(2*a)\n",
    "       imaginaryPart=((-dis)**0.5) / (2*a)\n",
    "       print(f\"The roots are complex: {realPart} + {imaginaryPart}i and {realPart} - {imaginaryPart}i\")\n",
    "     "
   ]
  },
  {
   "cell_type": "code",
   "execution_count": 25,
   "id": "0d0d3b73-068d-4599-8c6d-70a9f7d98f36",
   "metadata": {},
   "outputs": [
    {
     "name": "stdin",
     "output_type": "stream",
     "text": [
      "Enter the day number(1-7) to get the day of week: 7\n"
     ]
    },
    {
     "name": "stdout",
     "output_type": "stream",
     "text": [
      "The day of weak in the day number7 Sunday \n"
     ]
    }
   ],
   "source": [
    "#12. Create a program that determines the day of the week based on the day number (1-7). \n",
    "dayWeak={\n",
    "    1:\"Monday\",\n",
    "    2:\"Tuesday\",\n",
    "    3:\"Wednesday\",\n",
    "    4:\"Thursday\",\n",
    "    5:\"Friday\",\n",
    "    6:\"Saturday\",\n",
    "    7:\"Sunday\"}\n",
    "dayNumber=int(input(\"Enter the day number(1-7) to get the day of week:\"))\n",
    " \n",
    "if dayNumber in dayWeak:\n",
    "    dayname=dayWeak[dayNumber]\n",
    "    print(f\"The day of weak in the day number{dayNumber} {dayname} \")\n",
    "else:\n",
    "    print(f\"Invalid input.\"\"Please Enter the day in between(1-7)\")\n",
    "         "
   ]
  },
  {
   "cell_type": "code",
   "execution_count": 32,
   "id": "a9d1f485-ba70-42fb-b943-6429bc2261ea",
   "metadata": {},
   "outputs": [
    {
     "name": "stdin",
     "output_type": "stream",
     "text": [
      "Enter the number to calculate factorial 5\n"
     ]
    },
    {
     "name": "stdout",
     "output_type": "stream",
     "text": [
      "The Factorial of 5 is 120\n"
     ]
    }
   ],
   "source": [
    "#13. Develop a program that calculates the factorial of a given number using recursion. \n",
    "def factorial(n):\n",
    "    if n == 0:\n",
    "        return 1\n",
    "    else :\n",
    "        return(n*factorial(n-1))\n",
    "    \n",
    "#driver code:\n",
    "number=int(input(\"Enter the number to calculate factorial\"))\n",
    "fact=factorial(number)\n",
    "print(f\"The Factorial of {number} is {fact}\")"
   ]
  },
  {
   "cell_type": "code",
   "execution_count": null,
   "id": "3f5854f6-ee58-4ed8-8447-c277e777fbce",
   "metadata": {},
   "outputs": [],
   "source": [
    "#14. Write a program to find the largest among three numbers without using the `max()` function. \n",
    "n1=float(input(\"Enter the 1st input number\"))\n",
    "n2=float(input(\"Enter the 2nd input number\"))\n",
    "n3=float(input(\"Enter the 3rd input number\"))\n",
    "if n1>n2 and n1>n3:\n",
    "    print(\"The largest of thre numbers is:\",n1)\n",
    "elif n2>n1 and n2>n3:\n",
    "    print(\"The largest of thre numbers is:\",n2)\n",
    "else:\n",
    "    print(\"The largest of thre numbers is:\",n3)\n",
    "    "
   ]
  },
  {
   "cell_type": "code",
   "execution_count": 67,
   "id": "734cdc92-5a1d-479f-93bf-8cc034a1686c",
   "metadata": {},
   "outputs": [
    {
     "name": "stdout",
     "output_type": "stream",
     "text": [
      "Welcome to State bank of India\n"
     ]
    },
    {
     "name": "stdin",
     "output_type": "stream",
     "text": [
      "Enter your 4 digit pin number:  2578\n"
     ]
    },
    {
     "name": "stdout",
     "output_type": "stream",
     "text": [
      "1 - Withdraw\n",
      "2 - Balance Enquiry\n",
      "3 - Fast Cash\n",
      "4 - Exit\n"
     ]
    },
    {
     "name": "stdin",
     "output_type": "stream",
     "text": [
      "Please choose transactions:  3\n"
     ]
    },
    {
     "name": "stdout",
     "output_type": "stream",
     "text": [
      "1->5,000\n",
      "2->10,000\n",
      "3->15,000\n",
      "4->20,000\n"
     ]
    },
    {
     "name": "stdin",
     "output_type": "stream",
     "text": [
      "Enter fast cash option:  1\n"
     ]
    },
    {
     "name": "stdout",
     "output_type": "stream",
     "text": [
      "Please take cash: 5000\n",
      "1 - Withdraw\n",
      "2 - Balance Enquiry\n",
      "3 - Fast Cash\n",
      "4 - Exit\n"
     ]
    },
    {
     "name": "stdin",
     "output_type": "stream",
     "text": [
      "Please choose transactions:  2\n"
     ]
    },
    {
     "name": "stdout",
     "output_type": "stream",
     "text": [
      "Your available amount :  20000\n",
      "1 - Withdraw\n",
      "2 - Balance Enquiry\n",
      "3 - Fast Cash\n",
      "4 - Exit\n"
     ]
    },
    {
     "name": "stdin",
     "output_type": "stream",
     "text": [
      "Please choose transactions:  1\n",
      "Enter withdraw amount:  300\n"
     ]
    },
    {
     "name": "stdout",
     "output_type": "stream",
     "text": [
      "Please take your amount: 300\n",
      "1 - Withdraw\n",
      "2 - Balance Enquiry\n",
      "3 - Fast Cash\n",
      "4 - Exit\n"
     ]
    },
    {
     "name": "stdin",
     "output_type": "stream",
     "text": [
      "Please choose transactions:  2\n"
     ]
    },
    {
     "name": "stdout",
     "output_type": "stream",
     "text": [
      "Your available amount :  19700\n",
      "1 - Withdraw\n",
      "2 - Balance Enquiry\n",
      "3 - Fast Cash\n",
      "4 - Exit\n"
     ]
    },
    {
     "name": "stdin",
     "output_type": "stream",
     "text": [
      "Please choose transactions:  4\n"
     ]
    },
    {
     "name": "stdout",
     "output_type": "stream",
     "text": [
      "Thank you for using State Bank of India.\n"
     ]
    }
   ],
   "source": [
    "#15. Create a program that simulates a basic ATM transaction menu. \n",
    "print(\"Welcome to State bank of India\")\n",
    "pin=int(input(\"Enter your 4 digit pin number: \"))\n",
    "amount = 25000\n",
    "#pin checking\n",
    "if pin == 2578:\n",
    "    while True:\n",
    "        print(\"1 - Withdraw\")\n",
    "        print(\"2 - Balance Enquiry\")\n",
    "        print(\"3 - Fast Cash\")\n",
    "        print(\"4 - Exit\")\n",
    "    \n",
    "        \n",
    "        c = int(input(\"Please choose transactions: \"))\n",
    "        \n",
    "        if (c == 1):\n",
    "            w=int(input(\"Enter withdraw amount: \"))\n",
    "            if (w < amount and w%100 == 0):\n",
    "                amount -= w\n",
    "                print(\"Please take your amount:\", w)\n",
    "            else:\n",
    "                print(\"Invalid cash\")\n",
    "\n",
    "        elif (c==2):\n",
    "            print(\"Your available amount : \",amount)\n",
    "\n",
    "        elif (c == 3):\n",
    "            print(\"1->5,000\")\n",
    "            print(\"2->10,000\")\n",
    "            print(\"3->15,000\")\n",
    "            print(\"4->20,000\")\n",
    "    \n",
    "            f = int(input(\"Enter fast cash option: \"))\n",
    "\n",
    "            if f in [1, 2, 3, 4]:\n",
    "                fastamount = f * 5000\n",
    "                if fastamount <= amount:\n",
    "                    amount -= fastamount\n",
    "                    print(f\"Please take cash: {fastamount}\")\n",
    "                else:\n",
    "                    print(\"Insufficient balance for fast cash option.\")\n",
    "    \n",
    "        elif (c==4):\n",
    "            print(\"Thank you for using State Bank of India.\")\n",
    "            break\n",
    "        else:\n",
    "        \n",
    "            print(\"Please choose transactions:1-4\")\n",
    "else:\n",
    "    print(\"Incorrect PIN. Please try again.\")"
   ]
  },
  {
   "cell_type": "code",
   "execution_count": 69,
   "id": "d6d1ecce-a2f3-4f6d-a9cc-2e160d0c7b63",
   "metadata": {},
   "outputs": [
    {
     "name": "stdin",
     "output_type": "stream",
     "text": [
      "Enter the string to check it is a palindrome: momom\n"
     ]
    },
    {
     "name": "stdout",
     "output_type": "stream",
     "text": [
      "the string is palindrome\n"
     ]
    }
   ],
   "source": [
    "# 16. Build a program that checks if a given string is a palindrome or not. \n",
    "string=input(\"Enter the string to check it is a palindrome:\")\n",
    "is_palindrome = False\n",
    "str=string.replace(\" \", \"\").lower()\n",
    "if str==string[: :-1]:\n",
    "        is_palindrome = True\n",
    "  \n",
    "if is_palindrome:\n",
    "    print(\"the string is palindrome\")\n",
    "else:\n",
    "    print(\"the string is not palindrome\")\n",
    "                   \n"
   ]
  },
  {
   "cell_type": "code",
   "execution_count": 72,
   "id": "e3b15475-6fee-444f-a541-e5ef4917d1a8",
   "metadata": {},
   "outputs": [
    {
     "name": "stdin",
     "output_type": "stream",
     "text": [
      "Enter a list of numbers separated by spaces:  1 2 3 4 5\n"
     ]
    },
    {
     "name": "stdout",
     "output_type": "stream",
     "text": [
      "The average (excluding the smallest and largest) is: 3.00\n"
     ]
    }
   ],
   "source": [
    "#17. Write a program that calculates the average of a list of numbers, excluding the smallest and largest values. \n",
    "num_list = input(\"Enter a list of numbers separated by spaces: \").split()\n",
    "numbers = [float(num) for num in num_list]\n",
    "\n",
    "   \n",
    "if len(numbers) < 3:\n",
    "    print(\"You need to enter at least 3 numbers for calculation.\")\n",
    "else:              \n",
    "    numbers.remove(min(numbers))\n",
    "    numbers.remove(max(numbers))\n",
    "    \n",
    "    average = sum(numbers) / len(numbers)\n",
    "\n",
    "    print(f\"The average (excluding the smallest and largest) is: {average:.2f}\")      \n",
    "               "
   ]
  },
  {
   "cell_type": "code",
   "execution_count": 1,
   "id": "5cc05f4c-5558-440b-940f-3fddf9a06331",
   "metadata": {},
   "outputs": [
    {
     "name": "stdin",
     "output_type": "stream",
     "text": [
      "Enter the temperature in Celsius:  56\n"
     ]
    },
    {
     "name": "stdout",
     "output_type": "stream",
     "text": [
      "56.0 degrees Celsius is equal to 132.8 degrees Fahrenheit.\n"
     ]
    }
   ],
   "source": [
    "#18. Develop a program that converts a given temperature from Celsius to Fahrenheit.\n",
    "# Get the temperature in Celsius from the user\n",
    "celsius = float(input(\"Enter the temperature in Celsius: \"))\n",
    "\n",
    "# Convert Celsius to Fahrenheit\n",
    "fahrenheit = (celsius * 9/5) + 32\n",
    "\n",
    "# Display the result\n",
    "print(f\"{celsius} degrees Celsius is equal to {fahrenheit} degrees Fahrenheit.\")\n"
   ]
  },
  {
   "cell_type": "code",
   "execution_count": 80,
   "id": "0425e37e-66e4-4007-8301-dddec1c84602",
   "metadata": {},
   "outputs": [
    {
     "name": "stdin",
     "output_type": "stream",
     "text": [
      "Enter the First number: 6\n",
      "Enter the operation (ex:+,-,*,/) /\n",
      "Enter the Second number: 10\n"
     ]
    },
    {
     "name": "stdout",
     "output_type": "stream",
     "text": [
      "The calcualted value for 6.0 / 10.0 is : 0.60\n"
     ]
    }
   ],
   "source": [
    "#19. Create a program that simulates a basic calculator for addition, subtraction, multiplication, and division.\n",
    "a=float(input(\"Enter the First number:\"))\n",
    "op=input(\"Enter the operation (ex:+,-,*,/)\")\n",
    "b=float(input(\"Enter the Second number:\"))\n",
    "if op == \"+\":\n",
    "    c = a+b\n",
    "elif op ==\"-\":\n",
    "    c = a-b\n",
    "elif op ==\"*\":\n",
    "    c = a*b\n",
    "else:\n",
    "    c = a/b\n",
    "    \n",
    "print(f\"The calcualted value for {a} {op} {b} is : {c:.2f}\")\n",
    "            "
   ]
  },
  {
   "cell_type": "code",
   "execution_count": null,
   "id": "adb5af0a-c943-4dcc-9eaf-1696869bac5e",
   "metadata": {},
   "outputs": [],
   "source": [
    "#20. Write a program that determines the roots of a cubic equation using the Cardano formula.   \n",
    "# Get the coefficients of the cubic equation from the user\n",
    "a = float(input(\"Enter the coefficient a: \"))\n",
    "b = float(input(\"Enter the coefficient b: \"))\n",
    "c = float(input(\"Enter the coefficient c: \"))\n",
    "d = float(input(\"Enter the coefficient d: \"))\n",
    "\n",
    "# Calculate some intermediate values\n",
    "p = c / a - (b**2) / (3 * a**2)\n",
    "q = (2 * (b**3)) / (27 * a**3) - (b * c) / (3 * a**2) + d / a\n",
    "\n",
    "# Calculate the discriminant\n",
    "discriminant = (q**2) / 4 + (p**3) / 27\n",
    "\n",
    "# Check the discriminant for different cases\n",
    "if discriminant > 0:\n",
    "    # One real root and two complex roots\n",
    "    u = (-q / 2 + (q**2 / 4 + p**3 / 27)**0.5)**(1/3)\n",
    "    v = (-q / 2 - (q**2 / 4 + p**3 / 27)**0.5)**(1/3)\n",
    "    real_root = u + v - b / (3 * a)\n",
    "    complex_root1 = f\"({u + v - b / (3 * a)}, {(u - v) * 3**0.5 / 2}i)\"\n",
    "    complex_root2 = f\"({u + v - b / (3 * a)}, -{(u - v) * 3**0.5 / 2}i)\"\n",
    "    roots = [real_root, complex_root1, complex_root2]\n",
    "elif discriminant == 0:\n",
    "    # Three real roots, with at least two of them being equal\n",
    "    u = (-q / 2)**(1/3)\n",
    "    real_root1 = 2 * u - b / (3 * a)\n",
    "    real_root2 = -u - b / (3 * a)\n",
    "    real_root3 = -u - b / (3 * a)\n",
    "    roots = [real_root1, real_root2, real_root3]\n",
    "else:\n",
    "    # Three distinct real roots\n",
    "    phi = (abs(-q / 2) / (p**3 / 27)**0.5).real\n",
    "    u = (p / 3)**0.5 * (abs(-q / 2) / -q / 2).real**(1/3)\n",
    "    v = (p / 3)**0.5 * (abs(-q / 2) / -q / 2).real**(1/3) * \\\n",
    "        complex(-3**0.5 / 2, 1.5**0.5 / 2)\n",
    "    w = (p / 3)**0.5 * (abs(-q / 2) / -q / 2).real**(1/3) * \\\n",
    "        complex(-3**0.5 / 2, -1.5**0.5 / 2)\n",
    "    real_root1 = u + v + w - b / (3 * a)\n",
    "    real_root2 = complex_root1 = u * complex(0, 1) + v * complex(0, 1) + w * complex(0, 1) - b / (3 * a)\n",
    "    real_root3 = complex_root2 = u * complex(0, -1) + v * complex(0, -1) + w * complex(0, -1) - b / (3 * a)\n",
    "    roots = [real_root1, complex_root1, complex_root2]\n",
    "\n",
    "# Display the roots\n",
    "for i, root in enumerate(roots):\n",
    "    print(f\"Root {i + 1}: {root}\")\n"
   ]
  },
  {
   "cell_type": "raw",
   "id": "db157c88-7c6c-4259-8139-c5023019c85f",
   "metadata": {},
   "source": [
    "Elif Statements:\n",
    "\n",
    "Advanced Level: \n",
    "  \n",
    "21. Create a program that calculates the income tax based on the user's income and tax brackets. \n",
    "22. Write a program that simulates a rock-paper-scissors game against the computer. \n",
    "23. Develop a program that generates a random password based on user preferences (length, complexity). \n",
    "24. Create a program that implements a simple text-based adventure game with branching scenarios.\n",
    "25. Build a program that solves a linear equation  for x, considering different cases. \n",
    "26. Write a program that simulates a basic quiz game with multiple-choice questions and scoring. \n",
    "27. Develop a program that determines whether a given year is a prime number or not. \n",
    "28. Create a program that sorts three numbers in ascending order using conditional statements. \n",
    "29. Build a program that determines the roots of a quartic equation using numerical methods. \n",
    "30. Write a program that calculates the BMI (Body Mass Index) and provides health recommendations based  on the user's input. \n",
    "  \n",
    "\n",
    "\n"
   ]
  },
  {
   "cell_type": "code",
   "execution_count": 2,
   "id": "62b1c114-79a4-43dd-be82-74064b2fbcef",
   "metadata": {},
   "outputs": [
    {
     "name": "stdin",
     "output_type": "stream",
     "text": [
      "Enter your income: 40000\n"
     ]
    },
    {
     "name": "stdout",
     "output_type": "stream",
     "text": [
      "Your income tax is: 9000.00\n"
     ]
    }
   ],
   "source": [
    "#21. Create a program that calculates the income tax based on the user's income and tax brackets.\n",
    "income=float(input(\"Enter your income:\"))\n",
    "brackets =[10000,20000,30000,50000,100000]\n",
    "                   \n",
    "rates=[0.1,0.2,0.3,0.5,0.6]\n",
    "tax = 0\n",
    "for i in range(len(brackets)):\n",
    "    if income > brackets[i]:\n",
    "        if i == len(brackets) - 1:\n",
    "            tax += (income - brackets[i]) * rates[i]\n",
    "        else:\n",
    "            tax += (brackets[i+1] - brackets[i]) * rates[i]\n",
    "\n",
    "print(f\"Your income tax is: {tax:.2f}\")                   \n"
   ]
  },
  {
   "cell_type": "code",
   "execution_count": 4,
   "id": "86a2e4d8-587a-4d5b-9042-27800b2ccc93",
   "metadata": {},
   "outputs": [
    {
     "name": "stdin",
     "output_type": "stream",
     "text": [
      "Enter your choice(rock,paper,scissors): rock\n"
     ]
    },
    {
     "name": "stdout",
     "output_type": "stream",
     "text": [
      "Computer choice:paper\n",
      " you win\n"
     ]
    }
   ],
   "source": [
    "#22. Write a program that simulates a rock-paper-scissors game against the computer. \n",
    "userchoice =input(\"Enter your choice(rock,paper,scissors):\").lower()\n",
    "computer_choices=[\"rock\",\"paper\",\"scissors\"]\n",
    "# user  and computer choice\n",
    "if userchoice == \"rock\":\n",
    "    computer_choice = \"paper\"\n",
    "elif userchoice == \"paper\":\n",
    "    computer_choice = \"scissors\"\n",
    "elif userchoice ==\"scissors\":\n",
    "    computer_choice =\"rock\"\n",
    "else:\n",
    "    print(\"invalid choices enter the correct choices.\")\n",
    "    computer_choice=None\n",
    "    \n",
    "if computer_choice is not None:\n",
    "    print(f\"Computer choice:{computer_choice}\")\n",
    "    \n",
    "    if userchoice == computer_choice:\n",
    "        print(\"It's a tie\")\n",
    "    elif ((userchoice == \"rock\" and computer_choice == \"paper\") or (userchoice == \"paper\" and computer_choice ==\"scissors\") or(userchoice == \"scissors\"and computer_choice == \"rock\")):\n",
    "        print(\" you win\")\n",
    "    else:\n",
    "        print(\"computer win\")\n",
    "        "
   ]
  },
  {
   "cell_type": "code",
   "execution_count": 11,
   "id": "2748ddb7-657c-4698-9725-85071df3b26a",
   "metadata": {},
   "outputs": [
    {
     "name": "stdin",
     "output_type": "stream",
     "text": [
      "Enter the password length:  5\n",
      "Enter password complexity (low, medium, high):  low\n"
     ]
    },
    {
     "name": "stdout",
     "output_type": "stream",
     "text": [
      "Your random password: aIfSi\n"
     ]
    }
   ],
   "source": [
    "#23. Develop a program that generates a random password based on user preferences (length, complexity).\n",
    "import random\n",
    "import string\n",
    "\n",
    "# Get user preferences\n",
    "length = int(input(\"Enter the password length: \"))\n",
    "complexity = input(\"Enter password complexity (low, medium, high): \").lower()\n",
    "\n",
    "# Define character sets based on complexity\n",
    "if complexity == \"low\":\n",
    "    characters = string.ascii_letters\n",
    "    \n",
    "elif complexity == \"medium\":\n",
    "characters = string.ascii_letters + string.digits\n",
    "    \n",
    "elif complexity == \"high\":\n",
    "    characters = string.ascii_letters + string.digits + string.punctuation\n",
    "\n",
    "# Generate the random password\n",
    "password = ''.join(random.choice(characters) for _ in range(length))\n",
    "\n",
    "print(f\"Your random password: {password}\")\n"
   ]
  },
  {
   "cell_type": "code",
   "execution_count": 18,
   "id": "ac811fa4-b51e-4a5e-bd71-2d153b30acc7",
   "metadata": {},
   "outputs": [
    {
     "name": "stdout",
     "output_type": "stream",
     "text": [
      "Welcome to the Text-Based Adventure Game!\n",
      "You find yourself in a mysterious forest. You have three paths to choose from.\n",
      "\n",
      "Choose a path:\n",
      "1. Go left into the dark cave.\n",
      "2. Go straight through the dense forest.\n",
      "3. Go right towards the sparkling river.\n"
     ]
    },
    {
     "name": "stdin",
     "output_type": "stream",
     "text": [
      "Enter the number of your choice (1/2/3):  2\n"
     ]
    },
    {
     "name": "stdout",
     "output_type": "stream",
     "text": [
      "You keep walking through the forest, but you get lost.\n",
      "You find your way back to the starting point.\n",
      "\n",
      "Choose a path:\n",
      "1. Go left into the dark cave.\n",
      "2. Go straight through the dense forest.\n",
      "3. Go right towards the sparkling river.\n"
     ]
    },
    {
     "name": "stdin",
     "output_type": "stream",
     "text": [
      "Enter the number of your choice (1/2/3):  3\n"
     ]
    },
    {
     "name": "stdout",
     "output_type": "stream",
     "text": [
      "You follow the riverbank and discover a beautiful waterfall.\n",
      "Congratulations, you've completed the adventure!\n"
     ]
    }
   ],
   "source": [
    "#24. Create a program that implements a simple text-based adventure game with branching scenarios.\n",
    "print(\"Welcome to the Text-Based Adventure Game!\")\n",
    "print(\"You find yourself in a mysterious forest. You have three paths to choose from.\")\n",
    "\n",
    "while True:\n",
    "    print(\"\\nChoose a path:\")\n",
    "    print(\"1. Go left into the dark cave.\")\n",
    "    print(\"2. Go straight through the dense forest.\")\n",
    "    print(\"3. Go right towards the sparkling river.\")\n",
    "    choice = input(\"Enter the number of your choice (1/2/3): \")\n",
    "\n",
    "    if choice == \"1\":\n",
    "        print(\"You enter the dark cave and discover a hidden treasure chest!\")\n",
    "        break\n",
    "    elif choice == \"2\":\n",
    "        print(\"You keep walking through the forest, but you get lost.\")\n",
    "        print(\"You find your way back to the starting point.\")\n",
    "    elif choice == \"3\":\n",
    "        print(\"You follow the riverbank and discover a beautiful waterfall.\")\n",
    "        break\n",
    "    else:\n",
    "        print(\"Invalid choice. Please enter 1, 2, or 3.\")\n",
    "\n",
    "print(\"Congratulations, you've completed the adventure!\")\n"
   ]
  },
  {
   "cell_type": "code",
   "execution_count": 3,
   "id": "72f3914e-a07c-4022-90a8-af7be8db8840",
   "metadata": {},
   "outputs": [
    {
     "name": "stdin",
     "output_type": "stream",
     "text": [
      "Enter the coefficent of x: 3\n",
      "Enter the constant: 4\n"
     ]
    },
    {
     "name": "stdout",
     "output_type": "stream",
     "text": [
      "The solution is x= -1.3333333333333333\n"
     ]
    }
   ],
   "source": [
    "#25. Build a program that solves a linear equation  for x, considering different cases.\n",
    "a=float(input(\"Enter the coefficent of x:\"))\n",
    "b=float(input(\"Enter the constant:\"))\n",
    "\n",
    "if a==0:\n",
    "    if b==0:\n",
    "        print(\"The infinite solution :0x=0\")\n",
    "    else:\n",
    "        print(\"No solution: 0x =\", b)\n",
    "else:\n",
    "    x=-b/a\n",
    "    print(f\"The solution is x= {x}\")"
   ]
  },
  {
   "cell_type": "code",
   "execution_count": 4,
   "id": "4003fac4-3ee5-4480-af33-07009dca1219",
   "metadata": {},
   "outputs": [
    {
     "name": "stdout",
     "output_type": "stream",
     "text": [
      "Which planet is known as the Red Planet?\n",
      "1. Earth\n",
      "2. Mars\n",
      "3. Venus\n",
      "4. Jupiter\n"
     ]
    },
    {
     "name": "stdin",
     "output_type": "stream",
     "text": [
      "Enter the number of your answer:  5\n"
     ]
    },
    {
     "name": "stdout",
     "output_type": "stream",
     "text": [
      "Invalid choice. Skipping the question.\n",
      "\n",
      "Which bird cannot fly?\n",
      "1. Chicken\n",
      "2. Ostrich\n",
      "3. Duck\n",
      "4. Parrot\n"
     ]
    },
    {
     "name": "stdin",
     "output_type": "stream",
     "text": [
      "Enter the number of your answer:  3\n"
     ]
    },
    {
     "name": "stdout",
     "output_type": "stream",
     "text": [
      "Wrong. The correct answer is Ostrich\n",
      "\n",
      "Your score: 0 out of 2\n"
     ]
    }
   ],
   "source": [
    "#26. Write a program that simulates a basic quiz game with multiple-choice questions and scoring.\n",
    "questions=[\n",
    "    {\n",
    "      'question':\"Which planet is known as the Red Planet?\", \n",
    "      'options':[\"Earth\",\"Mars\",\"Venus\",\"Jupiter\"],\n",
    "      'answer':\"Mars\"\n",
    "    },\n",
    "    {\n",
    "      'question':\"Which bird cannot fly?\", \n",
    "      'options':[\"Chicken\",\"Ostrich\",\"Duck\",\"Parrot\"],\n",
    "      'answer':\"Ostrich\" \n",
    "    }, \n",
    "    { \n",
    "      'question':\"Who is the 'Father of the Nation'?\", \n",
    "      'options':[\"Mohandas Karamchand Gandhi\",\"Abdul kalam Azad\",\"Jawaharlal Nehru\",\"Dr. Rajendra Prasad\"],\n",
    "      'answer':\"Mohandas Karamchand Gandhi\" \n",
    "    }]\n",
    "\n",
    "score = 0\n",
    "for question in questions:\n",
    "    print(question['question'])\n",
    "    for i, option in enumerate(question['options'], start=1):\n",
    "        print(f\"{i}. {option}\")\n",
    "        \n",
    "\n",
    "    user_answer = input(\"Enter the number of your answer: \")\n",
    "\n",
    "    if user_answer.isdigit():\n",
    "        user_answer = int(user_answer)\n",
    "        if 1 <= user_answer <= len(question['options']):\n",
    "            user_choice = question['options'][user_answer - 1]\n",
    "            if user_choice == question['answer']:\n",
    "                print(\"Correct!\\n\")\n",
    "                score += 1\n",
    "            else:\n",
    "                print(f\"Wrong. The correct answer is {question['answer']}\\n\")\n",
    "        else:\n",
    "            print(\"Invalid choice. Skipping the question.\\n\")\n",
    "    else:\n",
    "        print(\"Invalid input. Skipping the question.\\n\")\n",
    "\n",
    "# Display the final score\n",
    "print(f\"Your score: {score} out of {len(questions)}\")"
   ]
  },
  {
   "cell_type": "code",
   "execution_count": 8,
   "id": "175298cb-406b-40bb-a041-26ee37251300",
   "metadata": {},
   "outputs": [
    {
     "name": "stdin",
     "output_type": "stream",
     "text": [
      "Enter the year to check it is a prime number or not 2004\n"
     ]
    },
    {
     "name": "stdout",
     "output_type": "stream",
     "text": [
      "year is a leap year\n",
      "The given 2004 is prime number\n"
     ]
    }
   ],
   "source": [
    "#27. Develop a program that determines whether a given year is a prime number or not. \n",
    "def primenumber(year):\n",
    "    if ((year %4 == 0) or (year % 100 == 0 and year % 400 != 0)):\n",
    "        print(\"year is a leap year\")\n",
    "        if year == 1:\n",
    "            print(f\"The given {year} is not prime number:\")   \n",
    "        for i in range(2,year):\n",
    "            if year % i == 0:\n",
    "                break\n",
    "        print(f\"The given {year} is prime number\")\n",
    "        \n",
    "    else:\n",
    "        print(\"The year is not a leap year\")\n",
    "        for i in range(2, year):\n",
    "            if (year % i) == 0:\n",
    "                break\n",
    "        print(f\"The given {year} is prime number:\")\n",
    "    \n",
    "    \n",
    "year=int(input(\"Enter the year to check it is a prime number or not\"))  \n",
    "primenumber(year)\n"
   ]
  },
  {
   "cell_type": "code",
   "execution_count": 16,
   "id": "c905324d-0264-4f8e-8cd4-665ed4f92e21",
   "metadata": {},
   "outputs": [
    {
     "name": "stdin",
     "output_type": "stream",
     "text": [
      "Enter the first number:  8032\n",
      "Enter the second number:  15.23\n",
      "Enter the third number:  0.11\n"
     ]
    },
    {
     "name": "stdout",
     "output_type": "stream",
     "text": [
      "Sorted numbers in ascending order:  0.11 15.23 8032.0\n"
     ]
    }
   ],
   "source": [
    "#28. Create a program that sorts three numbers in ascending order using conditional statements. \n",
    "# Input three numbers\n",
    "num1 = float(input(\"Enter the first number: \"))\n",
    "num2 = float(input(\"Enter the second number: \"))\n",
    "num3 = float(input(\"Enter the third number: \"))\n",
    "\n",
    "# Sort the numbers in ascending order\n",
    "if num1 <= num2 and num1 <= num3:\n",
    "    smallest = num1\n",
    "    if num2 <= num3:\n",
    "        middle = num2\n",
    "        largest = num3\n",
    "    else:\n",
    "        middle = num3\n",
    "        largest = num2\n",
    "elif num2 <= num1 and num2 <= num3:\n",
    "    smallest=num2\n",
    "    if num1 <= num3:\n",
    "        middle = num1\n",
    "        largest = num3\n",
    "    else:\n",
    "        middle = num3\n",
    "        largest = num1\n",
    "    \n",
    "    \n",
    "else:\n",
    "    smallest = num3\n",
    "    if num1 <= num2:\n",
    "        middle = num1\n",
    "        largest = num2\n",
    "    else:\n",
    "        middle = num2\n",
    "        largest = num1\n",
    "\n",
    "# Display the sorted numbers\n",
    "print(\"Sorted numbers in ascending order: \", smallest, middle, largest)\n"
   ]
  },
  {
   "cell_type": "code",
   "execution_count": 13,
   "id": "f914f71d-8da3-4748-88cf-b88e6e50af37",
   "metadata": {},
   "outputs": [
    {
     "name": "stdin",
     "output_type": "stream",
     "text": [
      "Enter the coefficient of x^2: 5\n",
      "Enter the coefficient of x: 0\n",
      "Enter the coefficient of constant: -25\n"
     ]
    },
    {
     "name": "stdout",
     "output_type": "stream",
     "text": [
      "The roots are real and distint:2.23606797749979 and -2.23606797749979\n"
     ]
    }
   ],
   "source": [
    "#29. Build a program that determines the roots of a quartic equation using numerical methods. \n",
    "a=float(input(\"Enter the coefficient of x^2:\"))\n",
    "b=float(input(\"Enter the coefficient of x:\"))\n",
    "c=float(input(\"Enter the coefficient of constant:\"))\n",
    "              \n",
    "#discriment=b2-4ac\n",
    "dis=b*2-4*a*c\n",
    "\n",
    "if dis>0:\n",
    "              root1=-b +(dis)**0.5/(2*a)\n",
    "              root2=-b -(dis)**0.5/(2*a)\n",
    "              print(f\"The roots are real and distint:{root1} and {root2}\")\n",
    "              \n",
    "elif dis==0:\n",
    "              root=-b/(2*a)\n",
    "              print(f\"The roots are equal:{root}\")\n",
    "\n",
    "else:\n",
    "       realPart=-b/(2*a)\n",
    "       imaginaryPart=((-dis)**0.5) / (2*a)\n",
    "       print(f\"The roots are complex: {realPart} + {imaginaryPart}i and {realPart} - {imaginaryPart}i\")\n",
    "     "
   ]
  },
  {
   "cell_type": "code",
   "execution_count": 14,
   "id": "6ed0bc07-37fc-499a-8e70-9aa3f8820eef",
   "metadata": {},
   "outputs": [
    {
     "name": "stdin",
     "output_type": "stream",
     "text": [
      "Enter your weight in kilograms:  64\n",
      "Enter your height in meters:  1.5748 \n"
     ]
    },
    {
     "name": "stdout",
     "output_type": "stream",
     "text": [
      "Your BMI is: 25.81\n",
      "You are overweight. Consider making dietary and exercise changes.\n"
     ]
    }
   ],
   "source": [
    "#30. Write a program that calculates the BMI (Body Mass Index) and provides health recommendations based  on the user's input. \n",
    "weight = float(input(\"Enter your weight in kilograms: \"))\n",
    "height = float(input(\"Enter your height in meters: \"))\n",
    "# Calculate BMI\n",
    "bmi = weight / (height ** 2)\n",
    "print(f\"Your BMI is: {bmi:.2f}\")\n",
    "if bmi < 18.5:\n",
    "    print(\"You are underweight. You may need to gain some weight.\")\n",
    "elif 18.5 <= bmi < 24.9:\n",
    "    print(\"Your weight is normal. Keep maintaining a healthy lifestyle.\")\n",
    "elif 25 <= bmi < 29.9:\n",
    "    print(\"You are overweight. Consider making dietary and exercise changes.\")\n",
    "else:\n",
    "    print(\"You are obese. Consult a healthcare professional for guidance.\")\n"
   ]
  },
  {
   "cell_type": "code",
   "execution_count": null,
   "id": "de7fb169-89b6-490a-9c88-4ca4b4a4ee14",
   "metadata": {},
   "outputs": [],
   "source": [
    "Challenge Level: \n",
    "  \n",
    "31. Create a program that validates a password based on complexity rules (length, characters, etc.).\n",
    "32. Develop a program that performs matrix addition and subtraction based on user input. \n",
    "33. Write a program that calculates the greatest common divisor (GCD) of two numbers using the Euclidean  algorithm. \n",
    "34. Build a program that performs matrix multiplication using nested loops and conditional statements. \n",
    "35. Create a program that simulates a basic text-based tic-tac-toe game against the computer.\n",
    "36. Write a program that generates Fibonacci numbers up to a specified term using iterative methods. \n",
    "37. Develop a program that calculates the nth term of the Fibonacci sequence using memoization. \n",
    "38. Create a program that generates a calendar for a given month and year using conditional statements. \n",
    "39. Build a program that simulates a basic text-based blackjack game against the computer. \n",
    "40. Write a program that generates the prime factors of a given number using trial division. "
   ]
  },
  {
   "cell_type": "code",
   "execution_count": null,
   "id": "456cd8c8-41ac-47da-882e-66f7a86dfc42",
   "metadata": {},
   "outputs": [],
   "source": [
    "31. Create a program that validates a password based on complexity rules (length, characters, etc.).\n",
    "import random\n",
    "import string\n",
    "\n",
    "# Get user preferences\n",
    "length = int(input(\"Enter the password length: \"))\n",
    "complexity = input(\"Enter password complexity (low, medium, high): \").lower()\n",
    "\n",
    "# Define character sets based on complexity\n",
    "if complexity == \"low\":\n",
    "    characters = string.ascii_letters\n",
    "    \n",
    "elif complexity == \"medium\":\n",
    "characters = string.ascii_letters + string.digits\n",
    "    \n",
    "elif complexity == \"high\":\n",
    "    characters = string.ascii_letters + string.digits + string.punctuation\n",
    "\n",
    "# Generate the random password\n",
    "password = ''.join(random.choice(characters) for _ in range(length))\n",
    "\n",
    "print(f\"Your random password: {password}\")"
   ]
  },
  {
   "cell_type": "code",
   "execution_count": 12,
   "id": "0e0d6f75-de62-444a-bd66-41450d9292ab",
   "metadata": {},
   "outputs": [
    {
     "name": "stdin",
     "output_type": "stream",
     "text": [
      "Enter the number of rows:  2\n",
      "Enter the number of columns:  2\n"
     ]
    },
    {
     "name": "stdout",
     "output_type": "stream",
     "text": [
      "Enter the 2x2 matrix:\n"
     ]
    },
    {
     "name": "stdin",
     "output_type": "stream",
     "text": [
      "Enter element at row 1, column 1:  2\n",
      "Enter element at row 1, column 2:  3\n",
      "Enter element at row 2, column 1:  4\n",
      "Enter element at row 2, column 2:  5\n"
     ]
    },
    {
     "name": "stdout",
     "output_type": "stream",
     "text": [
      "Enter the 2x2 matrix:\n"
     ]
    },
    {
     "name": "stdin",
     "output_type": "stream",
     "text": [
      "Enter element at row 1, column 1:  2\n",
      "Enter element at row 1, column 2:  3\n",
      "Enter element at row 2, column 1:  4\n",
      "Enter element at row 2, column 2:  5\n"
     ]
    },
    {
     "name": "stdout",
     "output_type": "stream",
     "text": [
      "\n",
      "Matrix Addition Result:\n",
      "4.0 6.0\n",
      "8.0 10.0\n",
      "\n",
      "Matrix Subtraction Result:\n",
      "0.0 0.0\n",
      "0.0 0.0\n"
     ]
    }
   ],
   "source": [
    "## 32. Develop a program that performs matrix addition and subtraction based on user input. \n",
    "def input_matrix(rows, cols):\n",
    "    matrix = []\n",
    "    print(f\"Enter the {rows}x{cols} matrix:\")\n",
    "    for i in range(rows):\n",
    "        row = []\n",
    "        for j in range(cols):\n",
    "            value = float(input(f\"Enter element at row {i + 1}, column {j + 1}: \"))\n",
    "            row.append(value)\n",
    "        matrix.append(row)\n",
    "    return matrix\n",
    "\n",
    "def add_matrices(matrix1, matrix2):\n",
    "    if len(matrix1) != len(matrix2) or len(matrix1[0]) != len(matrix2[0]):\n",
    "        print(\"Matrix dimensions must match for addition.\")\n",
    "        return None\n",
    "\n",
    "    result = []\n",
    "    for i in range(len(matrix1)):\n",
    "        row = []\n",
    "        for j in range(len(matrix1[0])):\n",
    "            row.append(matrix1[i][j] + matrix2[i][j])\n",
    "        result.append(row)\n",
    "    return result\n",
    "\n",
    "def subtract_matrices(matrix1, matrix2):\n",
    "    if len(matrix1) != len(matrix2) or len(matrix1[0]) != len(matrix2[0]):\n",
    "        print(\"Matrix dimensions must match for subtraction.\")\n",
    "        return None\n",
    "\n",
    "    result = []\n",
    "    for i in range(len(matrix1)):\n",
    "        row = []\n",
    "        for j in range(len(matrix1[0])):\n",
    "            row.append(matrix1[i][j] - matrix2[i][j])\n",
    "        result.append(row)\n",
    "    return result\n",
    "\n",
    "def print_matrix(matrix):\n",
    "    for row in matrix:\n",
    "        print(\" \".join(map(str, row)))\n",
    "\n",
    "# Get user input for matrix dimensions\n",
    "rows = int(input(\"Enter the number of rows: \"))\n",
    "cols = int(input(\"Enter the number of columns: \"))\n",
    "\n",
    "# Input the first matrix\n",
    "matrix1 = input_matrix(rows, cols)\n",
    "\n",
    "# Input the second matrix\n",
    "matrix2 = input_matrix(rows, cols)\n",
    "\n",
    "# Perform matrix addition\n",
    "result_addition = add_matrices(matrix1, matrix2)\n",
    "if result_addition:\n",
    "    print(\"\\nMatrix Addition Result:\")\n",
    "    print_matrix(result_addition)\n",
    "\n",
    "# Perform matrix subtraction\n",
    "result_subtraction = subtract_matrices(matrix1, matrix2)\n",
    "if result_subtraction:\n",
    "    print(\"\\nMatrix Subtraction Result:\")\n",
    "    print_matrix(result_subtraction)\n"
   ]
  },
  {
   "cell_type": "code",
   "execution_count": 10,
   "id": "e0e86946-cafd-4863-8b51-7653b73602e6",
   "metadata": {},
   "outputs": [
    {
     "name": "stdin",
     "output_type": "stream",
     "text": [
      "Enter the first number:  2\n",
      "Enter the second number:  6\n"
     ]
    },
    {
     "name": "stdout",
     "output_type": "stream",
     "text": [
      "The GCD of 2 and 6 is: 2\n"
     ]
    }
   ],
   "source": [
    "#33. Write a program that calculates the greatest common divisor (GCD) of two numbers using the Euclidean  algorithm. \n",
    "def euclidean_gcd(a, b):\n",
    "    while b:\n",
    "        a, b = b, a % b\n",
    "    return a\n",
    "num1 = int(input(\"Enter the first number: \"))\n",
    "num2 = int(input(\"Enter the second number: \"))\n",
    "if num1 <= 0 or num2 <= 0:\n",
    "    print(\"Please enter positive integers for both numbers.\")\n",
    "else:\n",
    "    gcd = euclidean_gcd(num1, num2)\n",
    "    print(f\"The GCD of {num1} and {num2} is: {gcd}\")"
   ]
  },
  {
   "cell_type": "code",
   "execution_count": 27,
   "id": "fbc59526-9767-49d5-963b-e90d00473eda",
   "metadata": {},
   "outputs": [
    {
     "name": "stdin",
     "output_type": "stream",
     "text": [
      "Enter the number of rows:  2\n",
      "Enter the number of columns:  2\n"
     ]
    },
    {
     "name": "stdout",
     "output_type": "stream",
     "text": [
      "Enter the 2x2 matrix:\n"
     ]
    },
    {
     "name": "stdin",
     "output_type": "stream",
     "text": [
      "Enter element at row 1, column 1:  5\n",
      "Enter element at row 1, column 2:  4\n",
      "Enter element at row 2, column 1:  5\n",
      "Enter element at row 2, column 2:  4\n"
     ]
    },
    {
     "name": "stdout",
     "output_type": "stream",
     "text": [
      "[[5.0, 4.0], [5.0, 4.0]]\n",
      "Enter the 2x2 matrix:\n"
     ]
    },
    {
     "name": "stdin",
     "output_type": "stream",
     "text": [
      "Enter element at row 1, column 1:  2\n",
      "Enter element at row 1, column 2:  1\n",
      "Enter element at row 2, column 1:  6\n",
      "Enter element at row 2, column 2:  4\n"
     ]
    },
    {
     "name": "stdout",
     "output_type": "stream",
     "text": [
      "[[2.0, 1.0], [6.0, 4.0]]\n",
      "Matrix Multiplication Result:\n",
      "[34.0, 21.0]\n",
      "[34.0, 21.0]\n"
     ]
    }
   ],
   "source": [
    "#34. Build a program that performs matrix multiplication using nested loops and conditional statements.\n",
    "def input_matrix(rows, cols):\n",
    "    matrix = []\n",
    "    print(f\"Enter the {rows}x{cols} matrix:\")\n",
    "    for i in range(rows):\n",
    "        row = []\n",
    "        for j in range(cols):\n",
    "            value = float(input(f\"Enter element at row {i + 1}, column {j + 1}: \"))\n",
    "            row.append(value)\n",
    "        matrix.append(row)\n",
    "    return matrix\n",
    "\n",
    "def matrix_multiplication(matrix1, matrix2):\n",
    "    if len(matrix1[0]) != len(matrix2):\n",
    "        print(\"Matrix multiplication is not possible. Number of columns in the first matrix must be equal to the number of rows in the second matrix.\")\n",
    "        return None\n",
    "\n",
    "    result = []\n",
    "    rows1, cols1 = len(matrix1), len(matrix1[0])\n",
    "    rows2, cols2 = len(matrix2), len(matrix2[0])\n",
    "\n",
    "    for i in range(rows1):\n",
    "        row = []\n",
    "        for j in range(cols2):\n",
    "            sum_product = 0\n",
    "            for k in range(cols1):\n",
    "                sum_product += matrix1[i][k] * matrix2[k][j]\n",
    "            row.append(sum_product)\n",
    "        result.append(row)\n",
    "    return result\n",
    "    \n",
    "def print_matrix(matrix):\n",
    "    for row in matrix:\n",
    "        print(\" \".join(map(str, row)))\n",
    "\n",
    "# Get user input for matrix dimensions\n",
    "rows = int(input(\"Enter the number of rows: \"))\n",
    "cols = int(input(\"Enter the number of columns: \"))\n",
    "\n",
    "# Input the first matrix\n",
    "matrix1 = input_matrix(rows, cols)\n",
    "print(matrix1)\n",
    "# Input the second matrix\n",
    "matrix2 = input_matrix(rows, cols)\n",
    "print(matrix2)\n",
    "result = matrix_multiplication(matrix1, matrix2)\n",
    "if result:\n",
    "    print(\"Matrix Multiplication Result:\")\n",
    "    for row in result:\n",
    "        print(row)                                    "
   ]
  },
  {
   "cell_type": "code",
   "execution_count": 22,
   "id": "18ab91a5-79fe-4774-8856-afdd8bebfce4",
   "metadata": {},
   "outputs": [
    {
     "name": "stdout",
     "output_type": "stream",
     "text": [
      "Welcome to Tic-Tac-Toe!\n",
      "  |   |  \n",
      "---------\n",
      "  |   |  \n",
      "---------\n",
      "  |   |  \n",
      "---------\n"
     ]
    },
    {
     "name": "stdin",
     "output_type": "stream",
     "text": [
      "Enter your move (row and column):  1 1\n"
     ]
    },
    {
     "name": "stdout",
     "output_type": "stream",
     "text": [
      "  |   |  \n",
      "---------\n",
      "  | X |  \n",
      "---------\n",
      "  |   |  \n",
      "---------\n",
      "Computer's turn:\n",
      "  | O |  \n",
      "---------\n",
      "  | X |  \n",
      "---------\n",
      "  |   |  \n",
      "---------\n"
     ]
    },
    {
     "name": "stdin",
     "output_type": "stream",
     "text": [
      "Enter your move (row and column):   0 0 \n"
     ]
    },
    {
     "name": "stdout",
     "output_type": "stream",
     "text": [
      "X | O |  \n",
      "---------\n",
      "  | X |  \n",
      "---------\n",
      "  |   |  \n",
      "---------\n",
      "Computer's turn:\n",
      "X | O |  \n",
      "---------\n",
      "  | X |  \n",
      "---------\n",
      "  |   | O\n",
      "---------\n"
     ]
    },
    {
     "name": "stdin",
     "output_type": "stream",
     "text": [
      "Enter your move (row and column):  2 0 \n"
     ]
    },
    {
     "name": "stdout",
     "output_type": "stream",
     "text": [
      "X | O |  \n",
      "---------\n",
      "  | X |  \n",
      "---------\n",
      "X |   | O\n",
      "---------\n",
      "Computer's turn:\n",
      "X | O | O\n",
      "---------\n",
      "  | X |  \n",
      "---------\n",
      "X |   | O\n",
      "---------\n"
     ]
    },
    {
     "name": "stdin",
     "output_type": "stream",
     "text": [
      "Enter your move (row and column):  1 0\n"
     ]
    },
    {
     "name": "stdout",
     "output_type": "stream",
     "text": [
      "X | O | O\n",
      "---------\n",
      "X | X |  \n",
      "---------\n",
      "X |   | O\n",
      "---------\n",
      "X wins! Congratulations!\n"
     ]
    }
   ],
   "source": [
    "#35. Create a program that simulates a basic text-based tic-tac-toe game against the computer.\n",
    "import random\n",
    "\n",
    "def print_board(board):\n",
    "    for row in board:\n",
    "        print(\" | \".join(row))\n",
    "        print(\"-\" * 9)\n",
    "\n",
    "def check_win(board, player):\n",
    "    for row in board:\n",
    "        if all(cell == player for cell in row):\n",
    "            return True\n",
    "\n",
    "    for col in range(3):\n",
    "        if all(board[row][col] == player for row in range(3)):\n",
    "            return True\n",
    "\n",
    "    if all(board[i][i] == player for i in range(3)) or all(board[i][2 - i] == player for i in range(3)):\n",
    "        return True\n",
    "\n",
    "    return False\n",
    "\n",
    "def is_board_full(board):\n",
    "    return all(cell != \" \" for row in board for cell in row)\n",
    "\n",
    "def get_computer_move(board):\n",
    "    available_moves = [(row, col) for row in range(3) for col in range(3) if board[row][col] == \" \"]\n",
    "    return random.choice(available_moves)\n",
    "\n",
    "def main():\n",
    "    board = [[\" \" for _ in range(3)] for _ in range(3)]\n",
    "    player = \"X\"\n",
    "    computer = \"O\"\n",
    "\n",
    "    print(\"Welcome to Tic-Tac-Toe!\")\n",
    "    print_board(board)\n",
    "\n",
    "    while True:\n",
    "        if player == \"X\":\n",
    "            row, col = map(int, input(\"Enter your move (row and column): \").split())\n",
    "        else:\n",
    "            print(\"Computer's turn:\")\n",
    "            row, col = get_computer_move(board)\n",
    "            \n",
    "        if board[row][col] == \" \":\n",
    "            board[row][col] = player\n",
    "        else:\n",
    "            print(\"Invalid move. Try again.\")\n",
    "            continue\n",
    "\n",
    "        print_board(board)\n",
    "\n",
    "        if check_win(board, player):\n",
    "            print(f\"{player} wins! Congratulations!\")\n",
    "            break\n",
    "        if is_board_full(board):\n",
    "            print(\"It's a draw!\")\n",
    "            break\n",
    "\n",
    "        player, computer = computer, player\n",
    "\n",
    "if __name__ == \"__main__\":\n",
    "    main()"
   ]
  },
  {
   "cell_type": "code",
   "execution_count": 21,
   "id": "afefdcad-3d35-47a7-9cf3-dde860c2071d",
   "metadata": {},
   "outputs": [
    {
     "name": "stdout",
     "output_type": "stream",
     "text": [
      "21\n"
     ]
    }
   ],
   "source": [
    "#36. Write a program that generates Fibonacci numbers up to a specified term using iterative methods. \n",
    "def fibonacci(num):\n",
    "    a,b=0,1\n",
    "    for i in range(num):\n",
    "        a,b=b,a+b\n",
    "    return a\n",
    "num=8\n",
    "print(fibonacci(num))"
   ]
  },
  {
   "cell_type": "code",
   "execution_count": 23,
   "id": "712ba512-5bcd-4bc1-a952-4ffb4345a04a",
   "metadata": {},
   "outputs": [
    {
     "name": "stdout",
     "output_type": "stream",
     "text": [
      "21\n"
     ]
    }
   ],
   "source": [
    "#37. Develop a program that calculates the nth term of the Fibonacci sequence using memoization. \n",
    "def fibonacci(num):\n",
    "    #base code condition\n",
    "    if num <= 1:\n",
    "        return num\n",
    "    return fibonacci(num-1) + fibonacci(num-2)\n",
    "#drivercode\n",
    "num=8\n",
    "print(fibonacci(num))"
   ]
  },
  {
   "cell_type": "code",
   "execution_count": 19,
   "id": "20f7ef07-d848-468a-a545-8dae9a1a5708",
   "metadata": {},
   "outputs": [
    {
     "name": "stdin",
     "output_type": "stream",
     "text": [
      "Enter the year:  2023\n",
      "Enter the month (1-12):  11\n"
     ]
    },
    {
     "name": "stdout",
     "output_type": "stream",
     "text": [
      "Calendar for November 2023\n",
      "Sun  Mon  Tue  Wed  Thu  Fri  Sat\n",
      "           1    2    3    4    5   \n",
      " 6    7    8    9   10   11   12   \n",
      "13   14   15   16   17   18   19   \n",
      "20   21   22   23   24   25   26   \n",
      "27   28   29   30   \n"
     ]
    }
   ],
   "source": [
    "#38. Create a program that generates a calendar for a given month and year using conddef generate_calendar(year, month):\n",
    "\n",
    "def generate_calendar(year, month):\n",
    "    # Days in each month\n",
    "    days_in_month = [0, 31, 28, 31, 30, 31, 30, 31, 31, 30, 31, 30, 31]\n",
    "\n",
    "    # Month names\n",
    "    month_names = [\"\", \"January\", \"February\", \"March\", \"April\", \"May\", \"June\",\n",
    "                   \"July\", \"August\", \"September\", \"October\", \"November\", \"December\"]\n",
    "\n",
    "    # Check for leap year (February has 29 days)\n",
    "    if (year % 4 == 0 and year % 100 != 0) or (year % 400 == 0):\n",
    "        days_in_month[2] = 29\n",
    "\n",
    "    # Determine the day of the week on which the month starts (0 = Sunday, 1 = Monday, ..., 6 = Saturday)\n",
    "    day_of_week = 0  # January 1, year 1 was a Monday\n",
    "\n",
    "    for y in range(1, year):\n",
    "        day_of_week += 365\n",
    "        if y % 4 == 0 and (y % 100 != 0 or y % 400 == 0):\n",
    "            day_of_week += 1\n",
    "\n",
    "    for m in range(1, month):\n",
    "        day_of_week += days_in_month[m]\n",
    "\n",
    "    day_of_week %= 7\n",
    "\n",
    "    # Print the calendar\n",
    "    print(f\"Calendar for {month_names[month]} {year}\")\n",
    "    print(\"Sun  Mon  Tue  Wed  Thu  Fri  Sat\")\n",
    "\n",
    "    for _ in range(day_of_week):\n",
    "        print(\"    \", end=\" \")\n",
    "\n",
    "    for day in range(1, days_in_month[month] + 1):\n",
    "        print(f\"{day:2d}  \", end=\" \")\n",
    "        day_of_week = (day_of_week + 1) % 7\n",
    "        if day_of_week == 0:\n",
    "            print()\n",
    "\n",
    "    print()\n",
    "\n",
    "year = int(input(\"Enter the year: \"))\n",
    "month = int(input(\"Enter the month (1-12): \"))\n",
    "\n",
    "if 1 <= month <= 12:\n",
    "    generate_calendar(year, month)\n",
    "else:\n",
    "    print(\"Invalid month. Please enter a number between 1 and 12 for the month.\")\n"
   ]
  },
  {
   "cell_type": "code",
   "execution_count": 20,
   "id": "98a41ed5-02b0-4f94-9778-8d939128a3d5",
   "metadata": {},
   "outputs": [
    {
     "name": "stdin",
     "output_type": "stream",
     "text": [
      "Enter the year:  2023\n",
      "Enter the month (1-12):  11\n"
     ]
    },
    {
     "name": "stdout",
     "output_type": "stream",
     "text": [
      "\n",
      "Calendar:\n",
      "   November 2023\n",
      "Mo Tu We Th Fr Sa Su\n",
      "       1  2  3  4  5\n",
      " 6  7  8  9 10 11 12\n",
      "13 14 15 16 17 18 19\n",
      "20 21 22 23 24 25 26\n",
      "27 28 29 30\n",
      "\n"
     ]
    }
   ],
   "source": [
    "import calendar\n",
    "\n",
    "def generate_calendar(year, month):\n",
    "    cal = calendar.month(year, month)\n",
    "    return cal\n",
    "\n",
    "year = int(input(\"Enter the year: \"))\n",
    "month = int(input(\"Enter the month (1-12): \"))\n",
    "\n",
    "if 1 <= month <= 12:\n",
    "    cal = generate_calendar(year, month)\n",
    "    print(\"\\nCalendar:\")\n",
    "    print(cal)\n",
    "else:\n",
    "    print(\"Invalid month. Please enter a number between 1 and 12 for the month.\")\n"
   ]
  },
  {
   "cell_type": "code",
   "execution_count": 24,
   "id": "328aeb86-72b6-4d81-b960-441b984b5e00",
   "metadata": {},
   "outputs": [
    {
     "name": "stdout",
     "output_type": "stream",
     "text": [
      "Welcome to Blackjack!\n",
      "Player's Hand: ['5', 'Q'] ( 15 )\n",
      "Dealer's Hand: 9  ?\n"
     ]
    },
    {
     "name": "stdin",
     "output_type": "stream",
     "text": [
      "Do you want to 'hit' or 'stand'?  stand\n"
     ]
    },
    {
     "name": "stdout",
     "output_type": "stream",
     "text": [
      "Player's Hand: ['5', 'Q'] ( 15 )\n",
      "Dealer's Hand: 9  ?\n",
      "Dealer wins!\n"
     ]
    }
   ],
   "source": [
    "#39. Build a program that simulates a basic text-based blackjack game against the computer. \n",
    "import random\n",
    "\n",
    "# Function to calculate the total value of a hand\n",
    "def calculate_hand_value(hand):\n",
    "    value = sum(card_value(card) for card in hand)\n",
    "    num_aces = hand.count('A')\n",
    "    \n",
    "    while value > 21 and num_aces:\n",
    "        value -= 10\n",
    "        num_aces -= 1\n",
    "    \n",
    "    return value\n",
    "\n",
    "# Function to convert card ranks to values\n",
    "def card_value(card):\n",
    "    if card in 'KQJ':\n",
    "        return 10\n",
    "    elif card == 'A':\n",
    "        return 11\n",
    "    else:\n",
    "        return int(card)\n",
    "\n",
    "# Function to display the player's and dealer's hands\n",
    "def display_hands(player_hand, dealer_hand):\n",
    "    print(\"Player's Hand:\", player_hand, \"(\", calculate_hand_value(player_hand), \")\")\n",
    "    print(\"Dealer's Hand:\", dealer_hand[0], \" ?\")\n",
    "\n",
    "# Function to deal a new card from the deck\n",
    "def deal_card(deck):\n",
    "    card = random.choice(deck)\n",
    "    deck.remove(card)\n",
    "    return card\n",
    "\n",
    "# Initialize the deck and deal the initial hands\n",
    "deck = ['2', '3', '4', '5', '6', '7', '8', '9', '10', 'J', 'Q', 'K', 'A'] * 4\n",
    "random.shuffle(deck)\n",
    "\n",
    "player_hand = [deal_card(deck), deal_card(deck)]\n",
    "dealer_hand = [deal_card(deck), deal_card(deck)]\n",
    "\n",
    "print(\"Welcome to Blackjack!\")\n",
    "\n",
    "while True:\n",
    "    display_hands(player_hand, dealer_hand)\n",
    "    \n",
    "    if calculate_hand_value(player_hand) == 21:\n",
    "        print(\"Blackjack! You win!\")\n",
    "        break\n",
    "\n",
    "    if calculate_hand_value(player_hand) > 21:\n",
    "        print(\"Bust! You lose!\")\n",
    "        break\n",
    "\n",
    "    action = input(\"Do you want to 'hit' or 'stand'? \").lower()\n",
    "\n",
    "    if action == 'hit':\n",
    "        player_hand.append(deal_card(deck))\n",
    "    elif action == 'stand':\n",
    "        while calculate_hand_value(dealer_hand) < 17:\n",
    "            dealer_hand.append(deal_card(deck))\n",
    "\n",
    "        display_hands(player_hand, dealer_hand)\n",
    "\n",
    "        if calculate_hand_value(dealer_hand) > 21:\n",
    "            print(\"Dealer busts! You win!\")\n",
    "        elif calculate_hand_value(dealer_hand) >= calculate_hand_value(player_hand):\n",
    "            print(\"Dealer wins!\")\n",
    "        else:\n",
    "            print(\"You win!\")\n",
    "\n",
    "        break\n",
    "    else:\n",
    "        print(\"Please enter 'hit' or 'stand'.\")\n"
   ]
  },
  {
   "cell_type": "code",
   "execution_count": 26,
   "id": "a849bec0-b43a-494a-bf19-718f24b2afdd",
   "metadata": {},
   "outputs": [
    {
     "name": "stdin",
     "output_type": "stream",
     "text": [
      "Enter the number 7\n"
     ]
    },
    {
     "name": "stdout",
     "output_type": "stream",
     "text": [
      "7 is a prime number, and its only prime factor is itself.\n"
     ]
    }
   ],
   "source": [
    "#40. Write a program that generates the prime factors of a given number using trial division. \n",
    "def prime_factors(n):\n",
    "    factors = []\n",
    "    div = 2  # Start with the smallest prime factor, 2\n",
    "\n",
    "    while n > 1:\n",
    "        while n % div == 0:\n",
    "            factors.append(div)\n",
    "            n = n // div\n",
    "        div += 1\n",
    "\n",
    "    return factors\n",
    "\n",
    "\n",
    "#driver code\n",
    "num = int(input(f\"Enter the number\"))\n",
    "\n",
    "if num <= 0:\n",
    "    print(\"Enter the positive number\")\n",
    "else:\n",
    "    factors = prime_factors(num)\n",
    "    if len(factors) == 1 and factors[0] == num:\n",
    "        print(f\"{num} is a prime number, and its only prime factor is itself.\")\n",
    "    else:\n",
    "        print(f\"The prime factors of {num} are: {factors}\")\n"
   ]
  }
 ],
 "metadata": {
  "kernelspec": {
   "display_name": "Python 3 (ipykernel)",
   "language": "python",
   "name": "python3"
  },
  "language_info": {
   "codemirror_mode": {
    "name": "ipython",
    "version": 3
   },
   "file_extension": ".py",
   "mimetype": "text/x-python",
   "name": "python",
   "nbconvert_exporter": "python",
   "pygments_lexer": "ipython3",
   "version": "3.10.8"
  }
 },
 "nbformat": 4,
 "nbformat_minor": 5
}
