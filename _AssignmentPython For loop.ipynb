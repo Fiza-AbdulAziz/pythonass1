{
 "cells": [
  {
   "cell_type": "markdown",
   "id": "ddc95264-5328-4e8b-b6fa-28ff5ac90fcb",
   "metadata": {},
   "source": [
    "\n",
    "Assignment : Python - For loop\n",
    "Basic Level:\n",
    "1. Write a Python program to print the numbers from 1 to 10 using a `for` loop.\n",
    "2. Create a program that calculates the sum of all numbers in a list using a `for` loop.\n",
    "3. Write a program to print the characters of a string in reverse order using a `for` loop.\n",
    "4. Develop a program that finds the factorial of a given number using a `for` loop.\n",
    "5. Create a program to print the multiplication table of a given number using a `for` loop.\n",
    "6. Write a program that counts the number of even and odd numbers in a list using a `for` loop.\n",
    "7. Develop a program that prints the squares of numbers from 1 to 5 using a `for` loop.\n",
    "8. Create a program to find the length of a string without using the `len()` function.\n",
    "9. Write a program that calculates the average of a list of numbers using a `for` loop.\n",
    "10. Develop a program that prints the first `n` Fibonacci numbers using a `for` loop.\n"
   ]
  },
  {
   "cell_type": "code",
   "execution_count": 1,
   "id": "b3008143-681c-4831-a32e-6128fed58d4d",
   "metadata": {},
   "outputs": [
    {
     "name": "stdout",
     "output_type": "stream",
     "text": [
      "1\n",
      "2\n",
      "3\n",
      "4\n",
      "5\n",
      "6\n",
      "7\n",
      "8\n",
      "9\n",
      "10\n"
     ]
    }
   ],
   "source": [
    "#1. Write a Python program to print the numbers from 1 to 10 using a `for` loop.\n",
    "for i in range(1,11):\n",
    "    print(i)"
   ]
  },
  {
   "cell_type": "code",
   "execution_count": 3,
   "id": "93f41ecd-f3a8-4516-b2f7-1d00d75483ac",
   "metadata": {},
   "outputs": [
    {
     "name": "stdin",
     "output_type": "stream",
     "text": [
      "enter how many element: 5\n",
      "Enter number  4\n",
      "Enter number  2\n",
      "Enter number  3\n",
      "Enter number  5\n",
      "Enter number  6\n"
     ]
    },
    {
     "name": "stdout",
     "output_type": "stream",
     "text": [
      "Sum of elements in given list is : 20\n"
     ]
    }
   ],
   "source": [
    "#2. Create a program that calculates the sum of all numbers in a list using a `for` loop.\n",
    "l1=[]\n",
    "number=int(input(\"enter how many element:\"))\n",
    "for i in range(number):\n",
    "           numbers = int(input('Enter number '))\n",
    "           l1.append(numbers)\n",
    "print(\"Sum of elements in given list is :\", sum(l1))\n",
    "        "
   ]
  },
  {
   "cell_type": "code",
   "execution_count": 5,
   "id": "3538bd59-4565-4d8e-94df-dbc24a1bb487",
   "metadata": {},
   "outputs": [
    {
     "name": "stdin",
     "output_type": "stream",
     "text": [
      "Enter the string: \"hi\" \"hello\"\n"
     ]
    },
    {
     "name": "stdout",
     "output_type": "stream",
     "text": [
      "\"olleh\" \"ih\"\n"
     ]
    }
   ],
   "source": [
    "#3. Write a program to print the characters of a string in reverse order using a `for` loop.\n",
    "string=input(\"Enter the string:\")\n",
    "s1=[]\n",
    "for i in string:\n",
    "    s1=string[::-1]\n",
    "print(s1)\n",
    "    "
   ]
  },
  {
   "cell_type": "code",
   "execution_count": 4,
   "id": "2ce50d59-3567-4e62-82cc-3e7cdef33621",
   "metadata": {},
   "outputs": [
    {
     "name": "stdin",
     "output_type": "stream",
     "text": [
      "Enter the number: 5\n"
     ]
    },
    {
     "name": "stdout",
     "output_type": "stream",
     "text": [
      "120\n"
     ]
    }
   ],
   "source": [
    "#4.Develop a program that finds the factorial of a given number using a for loop.\n",
    "num=int(input(\"Enter the number:\"))\n",
    "nums=1\n",
    "if num==0:\n",
    "    print(1)\n",
    "else:\n",
    "    for i in range(1,num+1):\n",
    "        nums=i*nums\n",
    "        res=nums\n",
    "    print(res)\n",
    "        "
   ]
  },
  {
   "cell_type": "code",
   "execution_count": 1,
   "id": "414ee724-ee07-449e-bc06-2c9bfcf5d8e8",
   "metadata": {},
   "outputs": [
    {
     "name": "stdin",
     "output_type": "stream",
     "text": [
      "Enter the number: 13\n"
     ]
    },
    {
     "name": "stdout",
     "output_type": "stream",
     "text": [
      "the multiplication table of 13 * 1 is: 13\n",
      "the multiplication table of 13 * 2 is: 26\n",
      "the multiplication table of 13 * 3 is: 39\n",
      "the multiplication table of 13 * 4 is: 52\n",
      "the multiplication table of 13 * 5 is: 65\n",
      "the multiplication table of 13 * 6 is: 78\n",
      "the multiplication table of 13 * 7 is: 91\n",
      "the multiplication table of 13 * 8 is: 104\n",
      "the multiplication table of 13 * 9 is: 117\n",
      "the multiplication table of 13 * 10 is: 130\n"
     ]
    }
   ],
   "source": [
    "#5.Create a program to print the multiplication table of a given number using a for loop.\n",
    "num=int(input(\"Enter the number:\"))\n",
    "for j in range(1,11):\n",
    "    res=num*j\n",
    "    print(f\"the multiplication table of {num} * {j} is:\",res)"
   ]
  },
  {
   "cell_type": "code",
   "execution_count": 10,
   "id": "569e0aca-3212-4c42-9716-e14d43ae4839",
   "metadata": {},
   "outputs": [
    {
     "name": "stdin",
     "output_type": "stream",
     "text": [
      "Enter number of elements :  6\n",
      " 4\n",
      " 3\n",
      " 6\n",
      " 9\n",
      " 1\n",
      " 2\n"
     ]
    },
    {
     "name": "stdout",
     "output_type": "stream",
     "text": [
      "[4, 3, 6, 9, 1, 2]\n",
      "the count of even number in list is: 1\n",
      "the count of odd number in list is: 1\n",
      "the count of even number in list is: 2\n",
      "the count of odd number in list is: 2\n",
      "the count of odd number in list is: 3\n",
      "the count of even number in list is: 3\n",
      "the count  of even and oddd numbers in list is:3 and 3\n"
     ]
    }
   ],
   "source": [
    "#6.Write a program that counts the number of even and odd numbers in a list using a for loop.\n",
    "list=[]\n",
    "# creating an empty list\n",
    "# number of elements as input\n",
    "n = int(input(\"Enter number of elements : \"))\n",
    " \n",
    "# iterating till the range\n",
    "for i in range(0, n):\n",
    "    elements = int(input())\n",
    "    # adding the element\n",
    "    list.append(elements)  \n",
    "print(list)\n",
    "count=0\n",
    "# intalize to values as zero \n",
    "counts=0\n",
    "\n",
    "for i in list:\n",
    "    if i%2==0: #check for even number\n",
    "        count +=1 #if number is even then count is incresed\n",
    "        res=count #res will store the count updated value\n",
    "        print(\"the count of even number in list is:\",count )\n",
    "    else:\n",
    "        counts +=1 #if number is even then count is incresed\n",
    "        res1=counts\n",
    "        print(\"the count of odd number in list is:\",counts )\n",
    "print(f\"the count  of even and odd numbers in list is:{count} and {counts}\")"
   ]
  },
  {
   "cell_type": "code",
   "execution_count": 3,
   "id": "d20f8d4a-b22e-4b9d-8ba6-4679eba5c4a0",
   "metadata": {},
   "outputs": [
    {
     "name": "stdout",
     "output_type": "stream",
     "text": [
      "the squares of numbers from 1 to 5- 1 is: 1\n",
      "the squares of numbers from 1 to 5- 2 is: 4\n",
      "the squares of numbers from 1 to 5- 3 is: 6\n",
      "the squares of numbers from 1 to 5- 4 is: 8\n",
      "the squares of numbers from 1 to 5- 5 is: 10\n"
     ]
    }
   ],
   "source": [
    "#7.Develop a program that prints the squares of numbers from 1 to 5 using a for loop.\n",
    "for i in range(1,6):\n",
    "    if i==1:\n",
    "        print(f\"the squares of numbers from 1 to 5- {i} is:\",1)\n",
    "    else:\n",
    "        square=i*2\n",
    "        print(f\"the squares of numbers from 1 to 5- {i} is:\",square)"
   ]
  },
  {
   "cell_type": "code",
   "execution_count": 7,
   "id": "ddc0163f-4fc9-4ad8-b3e6-07f9c4f22222",
   "metadata": {},
   "outputs": [
    {
     "name": "stdin",
     "output_type": "stream",
     "text": [
      "Enter the input string \"hello,world\"\n"
     ]
    },
    {
     "name": "stdout",
     "output_type": "stream",
     "text": [
      "13\n"
     ]
    }
   ],
   "source": [
    "#8.Create a program to find the length of a string without using the len() function.\n",
    "def len_string(s):\n",
    "    count=0\n",
    "    for i in s:\n",
    "        count=count+1\n",
    "    return count\n",
    "\n",
    "s=input((\"Enter the input string\"))\n",
    "len_str=len_string(s)\n",
    "print(len_str)"
   ]
  },
  {
   "cell_type": "code",
   "execution_count": 2,
   "id": "cc67fd9b-58d4-4893-b36c-3c12534430cf",
   "metadata": {},
   "outputs": [
    {
     "name": "stdin",
     "output_type": "stream",
     "text": [
      "Enter the no of elemnts in list: 9\n",
      "Enter the number of elements: 56\n",
      "Enter the number of elements: 45\n",
      "Enter the number of elements: 65\n",
      "Enter the number of elements: 78\n",
      "Enter the number of elements: 12\n",
      "Enter the number of elements: 54\n",
      "Enter the number of elements: 36\n",
      "Enter the number of elements: 5\n",
      "Enter the number of elements: 1\n",
      "Enter the number of elements: 23\n"
     ]
    },
    {
     "name": "stdout",
     "output_type": "stream",
     "text": [
      "the average of a list of numbers: 41.666666666666664\n",
      "the average of a list of numbers after round off: 41.67\n"
     ]
    }
   ],
   "source": [
    "#9.Write a program that calculates the average of a list of numbers using a for loop.\n",
    "num=int(input(\"Enter the no of elemnts in list:\"))\n",
    "l=[]\n",
    "for i in range(0,num+1):\n",
    "    element=int(input(\"Enter the number of elements:\"))\n",
    "    l.append(element)\n",
    "    average=sum(l)/num\n",
    "print(\"the average of a list of numbers:\",average)  \n",
    "print(\"the average of a list of numbers after round off:\",round(average,2))"
   ]
  },
  {
   "cell_type": "code",
   "execution_count": 4,
   "id": "be11325b-eb52-4c6e-ba7c-62aac02d8b23",
   "metadata": {},
   "outputs": [
    {
     "name": "stdin",
     "output_type": "stream",
     "text": [
      "Enter the number : 12\n"
     ]
    },
    {
     "name": "stdout",
     "output_type": "stream",
     "text": [
      "the first n  Fibonacci numbers: 0\n",
      "the first n  Fibonacci numbers: 1\n",
      "the first n  Fibonacci numbers: 1\n",
      "the first n  Fibonacci numbers: 2\n",
      "the first n  Fibonacci numbers: 3\n",
      "the first n  Fibonacci numbers: 5\n",
      "the first n  Fibonacci numbers: 8\n",
      "the first n  Fibonacci numbers: 13\n",
      "the first n  Fibonacci numbers: 21\n",
      "the first n  Fibonacci numbers: 34\n",
      "the first n  Fibonacci numbers: 55\n"
     ]
    }
   ],
   "source": [
    "#10.Develop a program that prints the first n Fibonacci numbers using a for loop.\n",
    "# fibonacci series:1st elemt=0;second element=1\n",
    "\n",
    "num=int(input(\"Enter the number :\"))\n",
    "if num==0:\n",
    "    print(0)\n",
    "elif num<0:\n",
    "    print(\"give the positive number\")\n",
    "else:\n",
    "    n1,n2=0,1\n",
    "    print(f\"the first n  Fibonacci numbers:\",n1)\n",
    "    for i in range(2,num):\n",
    "                n3=n1+n2\n",
    "                print(f\"the first n  Fibonacci numbers:\",n2)\n",
    "                n1=n2\n",
    "                n2=n3"
   ]
  },
  {
   "cell_type": "raw",
   "id": "7b88bd43-5682-438e-b4e7-4df18ceb2b86",
   "metadata": {},
   "source": [
    "Intermediate Level:\n",
    "11. Write a program to check if a given list contains any duplicates using a `for` loop.\n",
    "12. Create a program that prints the prime numbers in a given range using a `for` loop.\n",
    "13. Develop a program that counts the number of vowels in a string using a `for` loop.\n",
    "14. Write a program to find the maximum element in a 2D list using a nested `for` loop.\n",
    "15. Create a program that removes all occurrences of a specific element from a list using a `for` loop.\n",
    "16. Develop a program that generates a multiplication table for numbers from 1 to 5 using a nested `for` loop.\n",
    "17. Write a program that converts a list of Fahrenheit temperatures to Celsius using a `for` loop.\n",
    "18. Create a program to print the common elements from two lists using a `for` loop.\n",
    "19. Develop a program that prints the pattern of right-angled triangles using a `for` loop. Use ‘*’ to draw the pattern\n",
    "20. Write a program to find the greatest common divisor (GCD) of two numbers using a `for` loop."
   ]
  },
  {
   "cell_type": "code",
   "execution_count": 10,
   "id": "aa040779-42da-4f27-897a-09d431c7cd5c",
   "metadata": {},
   "outputs": [
    {
     "name": "stdin",
     "output_type": "stream",
     "text": [
      "Enter the no of elemnts in list: 6\n",
      "Enter the number of elements: 1\n",
      "Enter the number of elements: 5\n",
      "Enter the number of elements: 6\n",
      "Enter the number of elements: 5\n",
      "Enter the number of elements: 6\n",
      "Enter the number of elements: 4\n",
      "Enter the number of elements: 1\n"
     ]
    },
    {
     "name": "stdout",
     "output_type": "stream",
     "text": [
      "5 is the duplicate element\n",
      "6 is the duplicate element\n",
      "1 is the duplicate element\n"
     ]
    }
   ],
   "source": [
    "#11. Write a program to check if a given list contains any duplicates using a `for` loop.\n",
    "num=int(input(\"Enter the no of elemnts in list:\"))\n",
    "l=[]\n",
    "for i in range(0,num+1):\n",
    "    element=int(input(\"Enter the number of elements:\"))\n",
    "    l.append(element)\n",
    "l1=[]\n",
    "for i in l:\n",
    "    if i not in l1:\n",
    "        l1.append(i)\n",
    "    else:\n",
    "        print(i,end=' is ')\n",
    "        print(\"the duplicate element\")"
   ]
  },
  {
   "cell_type": "code",
   "execution_count": 17,
   "id": "d9ced457-28f9-4bea-90bf-b68bdbd68ae9",
   "metadata": {},
   "outputs": [
    {
     "name": "stdin",
     "output_type": "stream",
     "text": [
      "Enter the number: 8\n"
     ]
    },
    {
     "name": "stdout",
     "output_type": "stream",
     "text": [
      "8 is not a prime number\n"
     ]
    }
   ],
   "source": [
    "#12.Create a program that prints the prime numbers in a given range using a `for` loop.\n",
    "#a number that can be divided exactly only by itself and 1, for example 7, 17 and 41\n",
    "num=int(input(\"Enter the number:\"))\n",
    "if num==1:\n",
    "    print(num,\"is not a prime number\")\n",
    "elif num>1:\n",
    "    for i in range(2,num):\n",
    "        if num%i==0:\n",
    "            print(num,\"is not a prime number\")\n",
    "            break\n",
    "    else:\n",
    "        print(\"is a prime number\")\n",
    "else:\n",
    "    print(num,\"is not a prime number\")"
   ]
  },
  {
   "cell_type": "code",
   "execution_count": 23,
   "id": "d75ae448-ef9c-411d-adaf-3b955a9ebb06",
   "metadata": {},
   "outputs": [
    {
     "name": "stdin",
     "output_type": "stream",
     "text": [
      "Enter the string like\n"
     ]
    },
    {
     "name": "stdout",
     "output_type": "stream",
     "text": [
      "the number of vowels in string 2\n"
     ]
    }
   ],
   "source": [
    "#13. Develop a program that counts the number of vowels in a string using a `for` loop.\n",
    "str=input(\"Enter the string\")\n",
    "vowels=0\n",
    "for i in str:\n",
    "    if(i =='a' or i =='e'or i =='i' or i =='o' or i =='u' or i =='A'or i =='E' or i =='I' or i =='O' or i =='U'):\n",
    "        vowels +=1\n",
    "print(\"the number of vowels in string\",vowels)"
   ]
  },
  {
   "cell_type": "code",
   "execution_count": 9,
   "id": "aa6db040-554f-42a6-9e0a-45f6f34d59f2",
   "metadata": {},
   "outputs": [
    {
     "name": "stdout",
     "output_type": "stream",
     "text": [
      "[4, 6, 9]\n",
      "the maximum element in a 2D list: 9\n"
     ]
    }
   ],
   "source": [
    "#14.Write a program to find the maximum element in a 2D list using a nested `for` loop\n",
    "a = [[1, 2, 3, 4], [5, 6], [7, 8, 9]]\n",
    "list=[]\n",
    "max_ele=[]\n",
    "for i in a:\n",
    "    for j in i:\n",
    "        list.append(j)\n",
    "    for q in list:\n",
    "        if q == max(list):\n",
    "            max_ele.append(q)\n",
    "        \n",
    "print((max_ele))\n",
    "print(\"the maximum element in a 2D list:\",max(max_ele))"
   ]
  },
  {
   "cell_type": "code",
   "execution_count": 39,
   "id": "55b61271-9c3a-4146-a759-db96641f03d3",
   "metadata": {},
   "outputs": [
    {
     "name": "stdin",
     "output_type": "stream",
     "text": [
      "Enter the no of element: 4\n",
      "Enter the element in list: 12\n",
      "Enter the element in list: 3\n",
      "Enter the element in list: 6\n",
      "Enter the element in list: 9\n"
     ]
    },
    {
     "name": "stdout",
     "output_type": "stream",
     "text": [
      "the element in list are: [3, 6, 9]\n"
     ]
    }
   ],
   "source": [
    "#15. Create a program that removes all occurrences of a specific element from a list using a `for` loop.\n",
    "num=int(input(\"Enter the no of element:\"))\n",
    "l=[]\n",
    "specific_ele=12\n",
    "for i in range(0,num):\n",
    "    element=int(input(\"Enter the element in list:\"))\n",
    "    l.append(element)\n",
    "    if specific_ele in l:\n",
    "        l.remove(specific_ele)\n",
    "print(\"the element in list are:\",l)"
   ]
  },
  {
   "cell_type": "code",
   "execution_count": 42,
   "id": "feaf8920-30a5-4210-bb44-87ab2465e1a4",
   "metadata": {},
   "outputs": [
    {
     "name": "stdout",
     "output_type": "stream",
     "text": [
      "the muliplication table from 1 to 5: 1 X 1=1\n",
      "the muliplication table from 1 to 5: 1 X 2=2\n",
      "the muliplication table from 1 to 5: 1 X 3=3\n",
      "the muliplication table from 1 to 5: 1 X 4=4\n",
      "the muliplication table from 1 to 5: 1 X 5=5\n",
      "the muliplication table from 1 to 5: 1 X 6=6\n",
      "the muliplication table from 1 to 5: 1 X 7=7\n",
      "the muliplication table from 1 to 5: 1 X 8=8\n",
      "the muliplication table from 1 to 5: 1 X 9=9\n",
      "the muliplication table from 1 to 5: 1 X 10=10\n",
      "the muliplication table from 1 to 5: 2 X 1=2\n",
      "the muliplication table from 1 to 5: 2 X 2=4\n",
      "the muliplication table from 1 to 5: 2 X 3=6\n",
      "the muliplication table from 1 to 5: 2 X 4=8\n",
      "the muliplication table from 1 to 5: 2 X 5=10\n",
      "the muliplication table from 1 to 5: 2 X 6=12\n",
      "the muliplication table from 1 to 5: 2 X 7=14\n",
      "the muliplication table from 1 to 5: 2 X 8=16\n",
      "the muliplication table from 1 to 5: 2 X 9=18\n",
      "the muliplication table from 1 to 5: 2 X 10=20\n",
      "the muliplication table from 1 to 5: 3 X 1=3\n",
      "the muliplication table from 1 to 5: 3 X 2=6\n",
      "the muliplication table from 1 to 5: 3 X 3=9\n",
      "the muliplication table from 1 to 5: 3 X 4=12\n",
      "the muliplication table from 1 to 5: 3 X 5=15\n",
      "the muliplication table from 1 to 5: 3 X 6=18\n",
      "the muliplication table from 1 to 5: 3 X 7=21\n",
      "the muliplication table from 1 to 5: 3 X 8=24\n",
      "the muliplication table from 1 to 5: 3 X 9=27\n",
      "the muliplication table from 1 to 5: 3 X 10=30\n",
      "the muliplication table from 1 to 5: 4 X 1=4\n",
      "the muliplication table from 1 to 5: 4 X 2=8\n",
      "the muliplication table from 1 to 5: 4 X 3=12\n",
      "the muliplication table from 1 to 5: 4 X 4=16\n",
      "the muliplication table from 1 to 5: 4 X 5=20\n",
      "the muliplication table from 1 to 5: 4 X 6=24\n",
      "the muliplication table from 1 to 5: 4 X 7=28\n",
      "the muliplication table from 1 to 5: 4 X 8=32\n",
      "the muliplication table from 1 to 5: 4 X 9=36\n",
      "the muliplication table from 1 to 5: 4 X 10=40\n",
      "the muliplication table from 1 to 5: 5 X 1=5\n",
      "the muliplication table from 1 to 5: 5 X 2=10\n",
      "the muliplication table from 1 to 5: 5 X 3=15\n",
      "the muliplication table from 1 to 5: 5 X 4=20\n",
      "the muliplication table from 1 to 5: 5 X 5=25\n",
      "the muliplication table from 1 to 5: 5 X 6=30\n",
      "the muliplication table from 1 to 5: 5 X 7=35\n",
      "the muliplication table from 1 to 5: 5 X 8=40\n",
      "the muliplication table from 1 to 5: 5 X 9=45\n",
      "the muliplication table from 1 to 5: 5 X 10=50\n"
     ]
    }
   ],
   "source": [
    "#16.Develop a program that generates a multiplication table for numbers from 1 to 5 using a nested `for` loop\n",
    "start=1\n",
    "end=5\n",
    "for i in range(start,end+1):\n",
    "    for j in range(1,11):\n",
    "        product=i*j\n",
    "        print(f\"the muliplication table from 1 to 5: {i} X {j}={product}\" )"
   ]
  },
  {
   "cell_type": "code",
   "execution_count": 13,
   "id": "0f11f9c4-caf2-4f29-bd0f-17d4854b6397",
   "metadata": {},
   "outputs": [
    {
     "name": "stdin",
     "output_type": "stream",
     "text": [
      "Enter the number of element: 4\n",
      "Enter thr element: 212\n",
      "Enter thr element: 32\n",
      "Enter thr element: 45\n",
      "Enter thr element: 80\n"
     ]
    },
    {
     "name": "stdout",
     "output_type": "stream",
     "text": [
      "[212, 32, 45, 80] in Fahrenheit is equal to [100.0, 0.0, 7.222222222222222, 26.666666666666668] in Celsius\n"
     ]
    }
   ],
   "source": [
    "# 17. Write a program that converts a list of Fahrenheit temperatures to Celsius using a `for` loop.\n",
    "num=int(input(\"Enter the number of element:\"))\n",
    "l=[]\n",
    "l2=[]\n",
    "for i in range(0,num):\n",
    "    element=int(input(\"Enter thr element:\"))\n",
    "    l.append(element)\n",
    "    for q in l:\n",
    "        celsius = (q- 32) * 5/9 \n",
    "    l2.append(celsius)\n",
    "        \n",
    "        \n",
    "print(f\"{l} in Fahrenheit is equal to {l2} in Celsius\")\n",
    "    "
   ]
  },
  {
   "cell_type": "code",
   "execution_count": 15,
   "id": "813ba43c-370f-47a3-a1c5-a7819fcc9b40",
   "metadata": {},
   "outputs": [
    {
     "name": "stdout",
     "output_type": "stream",
     "text": [
      "common element from  two list are [2, 5, 7]\n"
     ]
    }
   ],
   "source": [
    "#18. Create a program to print the common elements from two lists using a `for` loop.\n",
    "l1=[1,2,5,6,7]\n",
    "l2=[2,4,5,7,9]\n",
    "common_elem=[]\n",
    "for element in l1:\n",
    "    if element in l2:\n",
    "        common_elem.append(element)\n",
    "            \n",
    "print(\"common element from  two list are\",common_elem)    "
   ]
  },
  {
   "cell_type": "code",
   "execution_count": 18,
   "id": "2c4b48dc-d065-4b98-8e03-191cd3458d79",
   "metadata": {},
   "outputs": [
    {
     "name": "stdout",
     "output_type": "stream",
     "text": [
      "\n",
      "* \n",
      "* * \n",
      "* * * \n",
      "* * * * \n",
      "* * * * * \n"
     ]
    }
   ],
   "source": [
    "#19. Develop a program that prints the pattern of right-angled triangles using a `for` loop. Use ‘*’ to draw the pattern\n",
    "for i in range(6):\n",
    "    for j in range(i):\n",
    "        print(\"*\",end=\" \")\n",
    "    print()"
   ]
  },
  {
   "cell_type": "code",
   "execution_count": 21,
   "id": "db750b8f-a8bd-4fdb-95a2-9f217ad359cb",
   "metadata": {},
   "outputs": [
    {
     "name": "stdin",
     "output_type": "stream",
     "text": [
      "Enter the 1st number: 8\n",
      "Enter the 2nd number: 4\n"
     ]
    },
    {
     "name": "stdout",
     "output_type": "stream",
     "text": [
      "GCD of 8 and 4 is 2\n"
     ]
    }
   ],
   "source": [
    "#20.Write a program to find the greatest common divisor (GCD) of two numbers using a `for` loop.\n",
    "num1=int(input(\"Enter the 1st number:\"))\n",
    "num2=int(input(\"Enter the 2nd number:\"))\n",
    "gcd=1               \n",
    "for i in range(1, min(num1, num2)):\n",
    "    if num1 % i == 0 and num2 % i == 0:\n",
    "        gcd = i\n",
    "print(f\"GCD of {num1} and {num2} is\", gcd)            \n"
   ]
  },
  {
   "cell_type": "raw",
   "id": "5d04ac76-2792-425c-8db0-bec35185b281",
   "metadata": {},
   "source": [
    "Advanced Level:\n",
    "21. Create a program that calculates the sum of the digits of numbers in a list using a list comprehension.\n",
    "22. Write a program to find the prime factors of a given number using a `for` loop and list comprehension.\n",
    "23. Develop a program that extracts unique elements from a list and stores them in a new list using a list comprehension.\n",
    "24. Create a program that generates a list of all palindromic numbers up to a specified limit using a list comprehension.\n",
    "25. Write a program to flatten a nested list using list comprehension.\n",
    "26. Develop a program that computes the sum of even and odd numbers in a list separately using list comprehension.\n",
    "27. Create a program that generates a list of squares of odd numbers between 1 and 10 using list comprehension.\n",
    "28. Write a program that combines two lists into a dictionary using list comprehension.\n",
    "29. Develop a program that extracts the vowels from a string and stores them in a list using list comprehension.\n",
    "30. Create a program that removes all non-numeric characters from a list of strings using list comprehension."
   ]
  },
  {
   "cell_type": "raw",
   "id": "4ab86595-30ef-46ef-baca-c9bcb7c3c950",
   "metadata": {},
   "source": [
    "List comprehension: offers a shorter syntax when you want to create a new list based on the values of an existing list.\n",
    "syntax:[expression for item in iterable if condition==True]\n",
    "ex without list comprehension:\n",
    "    \n",
    "fruits = [\"apple\", \"banana\", \"cherry\", \"kiwi\", \"mango\"]\n",
    "newlist = []\n",
    "\n",
    "for x in fruits:\n",
    "  if \"a\" in x:\n",
    "    newlist.append(x)\n",
    "\n",
    "print(newlist)\n",
    "\n",
    "with list comprehension:\n",
    "    \n",
    "fruits = [\"apple\", \"banana\", \"cherry\", \"kiwi\", \"mango\"]\n",
    "\n",
    "newlist = [x for x in fruits if \"a\" in x]\n",
    "\n",
    "print(newlist)\n",
    "\n",
    "op:\n",
    "    ['apple', 'banana', 'mango']\n",
    "    "
   ]
  },
  {
   "cell_type": "code",
   "execution_count": 23,
   "id": "87ecb720-14f8-45bb-875d-6b89454f37ad",
   "metadata": {},
   "outputs": [
    {
     "name": "stdin",
     "output_type": "stream",
     "text": [
      "Enter the number of elements: 5\n",
      "enter the element: 12\n",
      "enter the element: 13\n",
      "enter the element: 15\n",
      "enter the element: 1\n",
      "enter the element: 9\n"
     ]
    },
    {
     "name": "stdout",
     "output_type": "stream",
     "text": [
      "[12, 13, 15, 1, 9]\n",
      "Sum of digits for each number: [3, 4, 6, 1, 9]\n"
     ]
    }
   ],
   "source": [
    "#21.Create a program that calculates the sum of the digits of numbers in a list using a list comprehension.\n",
    "num=int(input(\"Enter the number of elements:\"))\n",
    "l=[]\n",
    "\n",
    "for i in range(0,num):\n",
    "    element=int(input(\"enter the element:\"))\n",
    "    l.append(element)\n",
    "print(l)\n",
    "sum_of_digits_list = [sum(int(digit) for digit in str(number)) for number in l]\n",
    "# Print the list of sums\n",
    "print(\"Sum of digits for each number:\", sum_of_digits_list)"
   ]
  },
  {
   "cell_type": "code",
   "execution_count": 53,
   "id": "4869ed25-59e0-4fff-896a-9ea092e29a60",
   "metadata": {},
   "outputs": [
    {
     "name": "stdin",
     "output_type": "stream",
     "text": [
      "Enter the number of elements: 8\n"
     ]
    },
    {
     "name": "stdout",
     "output_type": "stream",
     "text": [
      "The prime factors of a given number [2, 4, 8]\n"
     ]
    }
   ],
   "source": [
    "#22.Write a program to find the prime factors of a given number using a `for` loop and list comprehension.\n",
    "num=int(input(\"Enter the number of elements:\"))\n",
    "prime_factors= [x for x in range(2,num+1)  if num % x == 0]\n",
    "print(\"The prime factors of a given number\",prime_factors)"
   ]
  },
  {
   "cell_type": "code",
   "execution_count": 54,
   "id": "5c2c294e-59b0-41cf-a568-42c7e43635ed",
   "metadata": {},
   "outputs": [
    {
     "name": "stdout",
     "output_type": "stream",
     "text": [
      "unique elements from a list and stores them in a new list : [2, 4, 6, 4, 8, 20, 24]\n"
     ]
    }
   ],
   "source": [
    "#23. Develop a program that extracts unique elements from a list and stores them in a new list using a list comprehension.\n",
    "list=[2,4,3,6,7,4,8,9,20,24]\n",
    "new_list=[i for i in list if i%2==0]\n",
    "print(\"unique elements from a list and stores them in a new list :\",new_list)"
   ]
  },
  {
   "cell_type": "code",
   "execution_count": 56,
   "id": "dfd21cfb-9c9c-4f28-928f-f033d91f01cc",
   "metadata": {},
   "outputs": [
    {
     "name": "stdin",
     "output_type": "stream",
     "text": [
      "Enter the upper limit:  121\n"
     ]
    },
    {
     "name": "stdout",
     "output_type": "stream",
     "text": [
      "Palindromic numbers up to 121 are: [1, 2, 3, 4, 5, 6, 7, 8, 9, 11, 22, 33, 44, 55, 66, 77, 88, 99, 101, 111, 121]\n"
     ]
    }
   ],
   "source": [
    "#24. Create a program that generates a list of all palindromic numbers up to a specified limit using a list comprehension.\n",
    "\n",
    "limit = int(input(\"Enter the upper limit: \"))\n",
    "palindromic_numbers = [num for num in range(1, limit + 1) if str(num) == str(num)[::-1]]\n",
    "print(\"Palindromic numbers up to\", limit, \"are:\", palindromic_numbers)"
   ]
  },
  {
   "cell_type": "code",
   "execution_count": 77,
   "id": "ebb7e3e6-b26e-4460-893e-d1bf28f7cecc",
   "metadata": {},
   "outputs": [
    {
     "name": "stdout",
     "output_type": "stream",
     "text": [
      "Flattened list: [1, 2, 3, 4, 5, 6, 7, 8, 9, 'a', 'o', 'v', '!0']\n"
     ]
    }
   ],
   "source": [
    "#25.Write a program to flatten a nested list using list comprehension.\n",
    "nested_list = [[1, 2, 3], [4, 5, 6], [7, 8, 9],['a','o','v'],['!0']]\n",
    "\n",
    "flattened_list = [element for sublist in nested_list for element in sublist]\n",
    "\n",
    "print(\"Flattened list:\", flattened_list)\n"
   ]
  },
  {
   "cell_type": "code",
   "execution_count": 63,
   "id": "9cef9dff-983e-4f6f-83f6-6403c78932c7",
   "metadata": {},
   "outputs": [
    {
     "name": "stdout",
     "output_type": "stream",
     "text": [
      "the sum of even is 68 and odd numbers in a list separately is 19\n"
     ]
    }
   ],
   "source": [
    "#26.Develop a program that computes the sum of even and odd numbers in a list separately using list comprehension.\n",
    "list=[2,4,3,6,7,4,8,9,20,24]\n",
    "even=[x for x in list if x%2==0]\n",
    "odd=[y for y in list if y%2!=0]\n",
    "sum_even = sum(even)\n",
    "sum_odd = sum(odd)\n",
    "print(f\"the sum of even is {sum_even} and odd numbers in a list separately is {sum_odd}\")"
   ]
  },
  {
   "cell_type": "code",
   "execution_count": null,
   "id": "f9dc0fc9-b360-4c89-9192-d34a0fa923ad",
   "metadata": {},
   "outputs": [],
   "source": [
    "#27. Create a program that generates a list of squares of odd numbers between 1 and 10 using list comprehension.\n",
    "square_odd_num=[x**2 for x in range(1,11) if x%2!=0]\n",
    "print(\"squares of odd numbers between 1 and 10 :\",square_odd_num)"
   ]
  },
  {
   "cell_type": "code",
   "execution_count": 69,
   "id": "4937692a-1fff-44b2-8686-64d8548898e3",
   "metadata": {},
   "outputs": [
    {
     "name": "stdout",
     "output_type": "stream",
     "text": [
      "[{1: 'apple', 3: 'cat', 4: 'lion', 2: 'pink'}]\n"
     ]
    }
   ],
   "source": [
    "#28. Write a program that combines two lists into a dictionary using list comprehension.\n",
    "list1=[\"apple\",\"cat\",\"lion\",\"pink\"]\n",
    "list2=[1,3,4,2]\n",
    "combine_list=[{list2[i]:list1[i] for i in range(len(list1))}]\n",
    "print(combine_list)"
   ]
  },
  {
   "cell_type": "code",
   "execution_count": 71,
   "id": "9dd0fef1-973c-4a99-9441-18a4931d8756",
   "metadata": {},
   "outputs": [
    {
     "name": "stdout",
     "output_type": "stream",
     "text": [
      "['e', 'i', 'o']\n"
     ]
    }
   ],
   "source": [
    "#29. Develop a program that extracts the vowels from a string and stores them in a list using list comprehension.\n",
    "string=\"the is my world\"\n",
    "vowels_extract=[i for i in string if (i =='a' or i =='e'or i =='i' or i =='o' or i =='u' or i =='A'or i =='E' or i =='I' or i =='O' or i =='U')]\n",
    "print(vowels_extract)"
   ]
  },
  {
   "cell_type": "code",
   "execution_count": 76,
   "id": "60e113ce-6aab-4d8c-a7f0-8e78e3132ff6",
   "metadata": {},
   "outputs": [
    {
     "name": "stdout",
     "output_type": "stream",
     "text": [
      "numeric_characters ['1 2 3', '0 9 8', '1 2 6 7', '', '1 2 4']\n"
     ]
    }
   ],
   "source": [
    "#30. Create a program that removes all non-numeric characters from a list of strings using list comprehension.\n",
    "list=[\"male123\",\"ageof098\",\"l126%7\",\"plum!@\",\"124\"]\n",
    "numeric_characters=[' '.join(i for i in char if i.isdigit())for char in list]\n",
    "print(\"numeric_characters\",numeric_characters)"
   ]
  },
  {
   "cell_type": "code",
   "execution_count": null,
   "id": "1e321139-fb1e-4730-972a-519dabdf449e",
   "metadata": {},
   "outputs": [],
   "source": [
    "Challenge Level:\n",
    "\n",
    "31. Write a program to generate a list of prime numbers using the Sieve of Eratosthenes algorithm and list comprehension.\n",
    "32. Create a program that generates a list of all Pythagorean triplets up to a specified limit using list comprehension.\n",
    "33. Develop a program that generates a list of all possible combinations of two lists using list comprehension.\n",
    "34. Write a program that calculates the mean, median, and mode of a list of numbers using list comprehension.\n",
    "35. Create a program that generates Pascal's triangle up to a specified number of rows using list comprehension.\n",
    "36. Develop a program that calculates the sum of the digits of a factorial of numbers from 1 to 5 using list comprehension.\n",
    "37. Write a program that finds the longest word in a sentence using list comprehension.\n",
    "38. Create a program that filters a list of strings to include only those with more than three vowels using list comprehension.\n",
    "39. Develop a program that calculates the sum of the digits of numbers from 1 to 1000 using list comprehension.\n",
    "40."
   ]
  },
  {
   "cell_type": "code",
   "execution_count": 79,
   "id": "7a813f98-3e3f-46b9-b5a5-e4550e7702a7",
   "metadata": {},
   "outputs": [
    {
     "name": "stdin",
     "output_type": "stream",
     "text": [
      "Enter the upper limit for prime numbers:  8\n"
     ]
    },
    {
     "name": "stdout",
     "output_type": "stream",
     "text": [
      "Prime numbers up to 8 are: [2, 3, 5, 7]\n"
     ]
    }
   ],
   "source": [
    "#31. Write a program to generate a list of prime numbers using the Sieve of Eratosthenes algorithm and list comprehension.\n",
    "limit = int(input(\"Enter the upper limit for prime numbers: \"))\n",
    "\n",
    "sieve = [True] * (limit + 1)\n",
    "sieve[0] = sieve[1] = False\n",
    "\n",
    "for num in range(2, int(limit**0.5) + 1):\n",
    "    if sieve[num]:\n",
    "        for multiple in range(num**2, limit + 1, num):\n",
    "            sieve[multiple] = False\n",
    "\n",
    "prime_num = [num for num in range(2, limit + 1) if sieve[num]]\n",
    "\n",
    "print(f\"Prime numbers up to {limit} are:\", prime_num)"
   ]
  },
  {
   "cell_type": "code",
   "execution_count": 5,
   "id": "9b357998-eec1-4a76-987b-f85a37853d5f",
   "metadata": {},
   "outputs": [
    {
     "name": "stdin",
     "output_type": "stream",
     "text": [
      "Enter the nummber: 20\n"
     ]
    },
    {
     "name": "stdout",
     "output_type": "stream",
     "text": [
      "[(3, 4, 5), (5, 12, 13), (6, 8, 10), (8, 15, 17), (9, 12, 15)]\n"
     ]
    }
   ],
   "source": [
    "#32. Create a program that generates a list of all Pythagorean triplets up to a specified limit using list comprehension.\n",
    "num=int(input(\"Enter the nummber:\"))\n",
    "pythagorean_triplets = [(a, b, c) for a in range(1, num) for b in range(a, num) for c in range(b, num) if a**2 + b**2 == c**2]\n",
    "\n",
    "print(pythagorean_triplets)"
   ]
  },
  {
   "cell_type": "code",
   "execution_count": 82,
   "id": "81c4309b-f164-4d29-aaab-301bbf2218e0",
   "metadata": {},
   "outputs": [
    {
     "name": "stdout",
     "output_type": "stream",
     "text": [
      "all possible combinations of two lists: [('apple', 1), ('apple', 3), ('apple', 4), ('apple', 2), ('cat', 1), ('cat', 3), ('cat', 4), ('cat', 2), ('lion', 1), ('lion', 3), ('lion', 4), ('lion', 2), ('pink', 1), ('pink', 3), ('pink', 4), ('pink', 2)]\n"
     ]
    }
   ],
   "source": [
    "#33. Develop a program that generates a list of all possible combinations of two lists using list comprehension.\n",
    "ist1=[\"apple\",\"cat\",\"lion\",\"pink\"]\n",
    "list2=[1,3,4,2]\n",
    "combine_list=[(x,y) for x in list1 for y in list2]\n",
    "print(\"all possible combinations of two lists:\",combine_list)"
   ]
  },
  {
   "cell_type": "code",
   "execution_count": 4,
   "id": "0c707999-1025-4223-b978-3af479ad61dc",
   "metadata": {},
   "outputs": [
    {
     "name": "stdout",
     "output_type": "stream",
     "text": [
      "[1, 10, 20, 2, 50, 5, 50]\n",
      "19.714285714285715\n",
      "10.0\n",
      "[50]\n"
     ]
    }
   ],
   "source": [
    "#34. Write a program that calculates the mean, median, and mode of a list of numbers using list comprehension.\n",
    "list=[1,10,20,2,50,5,50]\n",
    "original_list=list\n",
    "#mean\n",
    "mean_cal=[x for x in list ]\n",
    "print(mean_cal)\n",
    "mean=sum(mean_cal)/len(mean_cal)\n",
    "print(mean)\n",
    "#median\n",
    "sorted_numbers = sorted(list)\n",
    "n = len(sorted_numbers)\n",
    "median = (sorted_numbers[n // 2] + sorted_numbers[(n - 1) // 2]) / 2\n",
    "print(median)\n",
    "#mode\n",
    "number_counts = {num: sorted_numbers.count(num) for num in sorted_numbers}\n",
    "max_count = max(number_counts.values())\n",
    "mode = [num for num, count in number_counts.items() if count == max_count]\n",
    "print(mode)"
   ]
  },
  {
   "cell_type": "code",
   "execution_count": 29,
   "id": "b25fdcb1-ba6e-42b0-8cde-2099632882cd",
   "metadata": {},
   "outputs": [
    {
     "name": "stdout",
     "output_type": "stream",
     "text": [
      "[1]\n",
      "[1, 1]\n",
      "[1, 2, 1]\n",
      "[1, 3, 3, 1]\n",
      "[1, 4, 6, 4, 1]\n"
     ]
    }
   ],
   "source": [
    "#35. Create a program that generates Pascal's triangle up to a specified number of rows using list comprehension.\n",
    "num_rows = 5  # Adjust this number as needed\n",
    "\n",
    "pascals_triangle = []\n",
    "for i in range(num_rows):\n",
    "    row = [1]  # First element in each row is always 1\n",
    "    if pascals_triangle:\n",
    "        last_row = pascals_triangle[-1]\n",
    "        for j in range(1, i):\n",
    "            row.append(last_row[j - 1] + last_row[j])\n",
    "        row.append(1)  # Last element in each row is always 1\n",
    "    pascals_triangle.append(row)\n",
    "    \n",
    "\n",
    "# Print the generated Pascal's triangle\n",
    "for row in pascals_triangle:\n",
    "    print(row)"
   ]
  },
  {
   "cell_type": "code",
   "execution_count": 27,
   "id": "03cb759e-9ec7-4e10-863a-dfeb3c77c474",
   "metadata": {},
   "outputs": [
    {
     "name": "stdout",
     "output_type": "stream",
     "text": [
      "Factorial of 1 = 1, Sum of its digits = 1\n",
      "Factorial of 2 = 2, Sum of its digits = 2\n",
      "Factorial of 3 = 6, Sum of its digits = 6\n",
      "Factorial of 4 = 24, Sum of its digits = 6\n",
      "Factorial of 5 = 120, Sum of its digits = 3\n"
     ]
    }
   ],
   "source": [
    "#36. Develop a program that calculates the sum of the digits of a factorial of numbers from 1 to 5 using list comprehension.\n",
    "def factorial(n):\n",
    "    if n == 0:\n",
    "        return 1\n",
    "    else:\n",
    "        return n * factorial(n - 1)\n",
    "\n",
    "# Calculate factorials and sum of digits using list comprehension\n",
    "factorials = [factorial(i) for i in range(1, 6)]\n",
    "sum_of_digits = [sum(map(int, str(factorial_num))) for factorial_num in factorials]\n",
    "\n",
    "# Print the factorials and the sum of digits\n",
    "for i in range(1, 6):\n",
    "    print(f\"Factorial of {i} = {factorials[i-1]}, Sum of its digits = {sum_of_digits[i-1]}\")"
   ]
  },
  {
   "cell_type": "code",
   "execution_count": 19,
   "id": "2623a80d-7ae7-4050-9051-b621e424c4d7",
   "metadata": {},
   "outputs": [
    {
     "name": "stdout",
     "output_type": "stream",
     "text": [
      "['programming']\n"
     ]
    }
   ],
   "source": [
    "#37. Write a program that finds the longest word in a sentence using list comprehension.\n",
    "sentence=\"this is a python programming\"\n",
    "words=sentence.split( ) \n",
    "long_word=[max(words,key=len)]\n",
    "print(long_word)"
   ]
  },
  {
   "cell_type": "code",
   "execution_count": 22,
   "id": "104ed65b-4ec1-498d-8f1f-4a9f233acd8c",
   "metadata": {},
   "outputs": [
    {
     "name": "stdout",
     "output_type": "stream",
     "text": [
      "Words with more than three vowels: ['yellow-green']\n"
     ]
    }
   ],
   "source": [
    "#38. Create a program that filters a list of strings to include only those with more than three vowels using list comprehension.\n",
    "strings = \"The yellow-green fruit of an olive tree\".split()  # Split the string into a list of words\n",
    "\n",
    "# Define a function to count vowels in a word\n",
    "def count_vowels(word):\n",
    "    return sum(1 for letter in word if letter in 'aeiouAEIOU')\n",
    "\n",
    "# Use list comprehension to filter words with more than three vowels\n",
    "filter_strings = [word for word in strings if count_vowels(word) > 3]\n",
    "\n",
    "print(\"Words with more than three vowels:\", filter_strings)"
   ]
  },
  {
   "cell_type": "code",
   "execution_count": 78,
   "id": "a0c34eac-467e-4b83-97ac-29c0891e0301",
   "metadata": {},
   "outputs": [
    {
     "name": "stdout",
     "output_type": "stream",
     "text": [
      "Sum of digits for each number: [1, 2, 3, 4, 5, 6, 7, 8, 9, 1, 2, 3, 4, 5, 6, 7, 8, 9, 10, 2, 3, 4, 5, 6, 7, 8, 9, 10, 11, 3, 4, 5, 6, 7, 8, 9, 10, 11, 12, 4, 5, 6, 7, 8, 9, 10, 11, 12, 13, 5, 6, 7, 8, 9, 10, 11, 12, 13, 14, 6, 7, 8, 9, 10, 11, 12, 13, 14, 15, 7, 8, 9, 10, 11, 12, 13, 14, 15, 16, 8, 9, 10, 11, 12, 13, 14, 15, 16, 17, 9, 10, 11, 12, 13, 14, 15, 16, 17, 18, 1, 2, 3, 4, 5, 6, 7, 8, 9, 10, 2, 3, 4, 5, 6, 7, 8, 9, 10, 11, 3, 4, 5, 6, 7, 8, 9, 10, 11, 12, 4, 5, 6, 7, 8, 9, 10, 11, 12, 13, 5, 6, 7, 8, 9, 10, 11, 12, 13, 14, 6, 7, 8, 9, 10, 11, 12, 13, 14, 15, 7, 8, 9, 10, 11, 12, 13, 14, 15, 16, 8, 9, 10, 11, 12, 13, 14, 15, 16, 17, 9, 10, 11, 12, 13, 14, 15, 16, 17, 18, 10, 11, 12, 13, 14, 15, 16, 17, 18, 19, 2, 3, 4, 5, 6, 7, 8, 9, 10, 11, 3, 4, 5, 6, 7, 8, 9, 10, 11, 12, 4, 5, 6, 7, 8, 9, 10, 11, 12, 13, 5, 6, 7, 8, 9, 10, 11, 12, 13, 14, 6, 7, 8, 9, 10, 11, 12, 13, 14, 15, 7, 8, 9, 10, 11, 12, 13, 14, 15, 16, 8, 9, 10, 11, 12, 13, 14, 15, 16, 17, 9, 10, 11, 12, 13, 14, 15, 16, 17, 18, 10, 11, 12, 13, 14, 15, 16, 17, 18, 19, 11, 12, 13, 14, 15, 16, 17, 18, 19, 20, 3, 4, 5, 6, 7, 8, 9, 10, 11, 12, 4, 5, 6, 7, 8, 9, 10, 11, 12, 13, 5, 6, 7, 8, 9, 10, 11, 12, 13, 14, 6, 7, 8, 9, 10, 11, 12, 13, 14, 15, 7, 8, 9, 10, 11, 12, 13, 14, 15, 16, 8, 9, 10, 11, 12, 13, 14, 15, 16, 17, 9, 10, 11, 12, 13, 14, 15, 16, 17, 18, 10, 11, 12, 13, 14, 15, 16, 17, 18, 19, 11, 12, 13, 14, 15, 16, 17, 18, 19, 20, 12, 13, 14, 15, 16, 17, 18, 19, 20, 21, 4, 5, 6, 7, 8, 9, 10, 11, 12, 13, 5, 6, 7, 8, 9, 10, 11, 12, 13, 14, 6, 7, 8, 9, 10, 11, 12, 13, 14, 15, 7, 8, 9, 10, 11, 12, 13, 14, 15, 16, 8, 9, 10, 11, 12, 13, 14, 15, 16, 17, 9, 10, 11, 12, 13, 14, 15, 16, 17, 18, 10, 11, 12, 13, 14, 15, 16, 17, 18, 19, 11, 12, 13, 14, 15, 16, 17, 18, 19, 20, 12, 13, 14, 15, 16, 17, 18, 19, 20, 21, 13, 14, 15, 16, 17, 18, 19, 20, 21, 22, 5, 6, 7, 8, 9, 10, 11, 12, 13, 14, 6, 7, 8, 9, 10, 11, 12, 13, 14, 15, 7, 8, 9, 10, 11, 12, 13, 14, 15, 16, 8, 9, 10, 11, 12, 13, 14, 15, 16, 17, 9, 10, 11, 12, 13, 14, 15, 16, 17, 18, 10, 11, 12, 13, 14, 15, 16, 17, 18, 19, 11, 12, 13, 14, 15, 16, 17, 18, 19, 20, 12, 13, 14, 15, 16, 17, 18, 19, 20, 21, 13, 14, 15, 16, 17, 18, 19, 20, 21, 22, 14, 15, 16, 17, 18, 19, 20, 21, 22, 23, 6, 7, 8, 9, 10, 11, 12, 13, 14, 15, 7, 8, 9, 10, 11, 12, 13, 14, 15, 16, 8, 9, 10, 11, 12, 13, 14, 15, 16, 17, 9, 10, 11, 12, 13, 14, 15, 16, 17, 18, 10, 11, 12, 13, 14, 15, 16, 17, 18, 19, 11, 12, 13, 14, 15, 16, 17, 18, 19, 20, 12, 13, 14, 15, 16, 17, 18, 19, 20, 21, 13, 14, 15, 16, 17, 18, 19, 20, 21, 22, 14, 15, 16, 17, 18, 19, 20, 21, 22, 23, 15, 16, 17, 18, 19, 20, 21, 22, 23, 24, 7, 8, 9, 10, 11, 12, 13, 14, 15, 16, 8, 9, 10, 11, 12, 13, 14, 15, 16, 17, 9, 10, 11, 12, 13, 14, 15, 16, 17, 18, 10, 11, 12, 13, 14, 15, 16, 17, 18, 19, 11, 12, 13, 14, 15, 16, 17, 18, 19, 20, 12, 13, 14, 15, 16, 17, 18, 19, 20, 21, 13, 14, 15, 16, 17, 18, 19, 20, 21, 22, 14, 15, 16, 17, 18, 19, 20, 21, 22, 23, 15, 16, 17, 18, 19, 20, 21, 22, 23, 24, 16, 17, 18, 19, 20, 21, 22, 23, 24, 25, 8, 9, 10, 11, 12, 13, 14, 15, 16, 17, 9, 10, 11, 12, 13, 14, 15, 16, 17, 18, 10, 11, 12, 13, 14, 15, 16, 17, 18, 19, 11, 12, 13, 14, 15, 16, 17, 18, 19, 20, 12, 13, 14, 15, 16, 17, 18, 19, 20, 21, 13, 14, 15, 16, 17, 18, 19, 20, 21, 22, 14, 15, 16, 17, 18, 19, 20, 21, 22, 23, 15, 16, 17, 18, 19, 20, 21, 22, 23, 24, 16, 17, 18, 19, 20, 21, 22, 23, 24, 25, 17, 18, 19, 20, 21, 22, 23, 24, 25, 26, 9, 10, 11, 12, 13, 14, 15, 16, 17, 18, 10, 11, 12, 13, 14, 15, 16, 17, 18, 19, 11, 12, 13, 14, 15, 16, 17, 18, 19, 20, 12, 13, 14, 15, 16, 17, 18, 19, 20, 21, 13, 14, 15, 16, 17, 18, 19, 20, 21, 22, 14, 15, 16, 17, 18, 19, 20, 21, 22, 23, 15, 16, 17, 18, 19, 20, 21, 22, 23, 24, 16, 17, 18, 19, 20, 21, 22, 23, 24, 25, 17, 18, 19, 20, 21, 22, 23, 24, 25, 26, 18, 19, 20, 21, 22, 23, 24, 25, 26, 27]\n"
     ]
    }
   ],
   "source": [
    "#39. Develop a program that calculates the sum of the digits of numbers from 1 to 1000 using list comprehension.\n",
    "sum_of_digits= [sum(int(digit) for digit in str(number)) for number in range(1,1001)]\n",
    "# Print the list of sums\n",
    "print(\"Sum of digits for each number:\", sum_of_digits)"
   ]
  },
  {
   "cell_type": "code",
   "execution_count": 28,
   "id": "9aed0c4c-247f-4a6e-968c-42980f62399c",
   "metadata": {},
   "outputs": [
    {
     "name": "stdout",
     "output_type": "stream",
     "text": [
      "Prime Palindromic Numbers: [2, 3, 5, 7]\n"
     ]
    }
   ],
   "source": [
    "#40. Write a program that generates a list of prime palindromic numbers using list comprehension.\n",
    "def is_prime(n):\n",
    "    if n < 2:\n",
    "        return False\n",
    "    for i in range(2, int(n**0.5) + 1):\n",
    "        if n % i == 0:\n",
    "            return False\n",
    "    return True\n",
    "\n",
    "def is_palindromic(n):\n",
    "    return str(n) == str(n)[::-1]\n",
    "\n",
    "prime_palindromic_numbers = [n for n in range(0,10) if is_prime(n) and is_palindromic(n)]\n",
    "\n",
    "print(\"Prime Palindromic Numbers:\", prime_palindromic_numbers)\n"
   ]
  },
  {
   "cell_type": "code",
   "execution_count": null,
   "id": "b5931a31-a44c-432d-a85a-bb4584f2412e",
   "metadata": {},
   "outputs": [],
   "source": []
  }
 ],
 "metadata": {
  "kernelspec": {
   "display_name": "Python 3 (ipykernel)",
   "language": "python",
   "name": "python3"
  },
  "language_info": {
   "codemirror_mode": {
    "name": "ipython",
    "version": 3
   },
   "file_extension": ".py",
   "mimetype": "text/x-python",
   "name": "python",
   "nbconvert_exporter": "python",
   "pygments_lexer": "ipython3",
   "version": "3.10.8"
  }
 },
 "nbformat": 4,
 "nbformat_minor": 5
}
