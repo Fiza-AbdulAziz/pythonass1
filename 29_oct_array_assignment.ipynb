{
 "cells": [
  {
   "cell_type": "markdown",
   "id": "56d16c0c-70c5-4efe-8f0a-58c49eee210d",
   "metadata": {},
   "source": [
    "                                           Arrays  \n",
    "                                      Assignment Questions\n",
    "                                      \"date_m:Hth_t:pic.ipyHb\"=== 29-10-Array"
   ]
  },
  {
   "cell_type": "raw",
   "id": "3f154e59-9b77-47a0-8fc9-360edba28d03",
   "metadata": {},
   "source": [
    "\n",
    "Assignment Questions \n",
    "1. Given an array, check if it contains any duplicates or not.  \n",
    "arr = [1, 2, 4, 2, 5, 9]  \n",
    "Output = True \n",
    "2. Given an array and an integer k, rotate the array to the right by k steps.  \n",
    "arr = [1, 2, 3, 4, 5, 6, 7] k = 3  \n",
    "Output = [5, 6, 7, 1, 2, 3, 4] \n",
    "3. Reverse the given array in-place, means without using any extra data structure.  \n",
    "arr = [2, 4, 5, 7, 9, 12]  \n",
    "Output = [12, 9, 7, 5, 4, 2] \n",
    "4. Given an array of integers, find the maximum element in an array \n",
    " arr = [10, 5, 20, 8, 15] \n",
    " Output = 20 \n",
    "5. Given a sorted array, remove the duplicate element without using any extra data structure.  \n",
    "arr = [1, 1, 2, 2, 2, 3, 3, 4, 4, 4, 5, 5]  \n",
    "Output = [1, 2, 3, 4, 5]\n"
   ]
  },
  {
   "cell_type": "code",
   "execution_count": 71,
   "id": "fd622b29-5cf5-4e00-a997-0ec6d8ebdd74",
   "metadata": {},
   "outputs": [
    {
     "name": "stdout",
     "output_type": "stream",
     "text": [
      "Output = True\n"
     ]
    }
   ],
   "source": [
    "#1. Given an array, check if it contains any duplicates or not.  \n",
    "#arr = [1, 2, 4, 2, 5, 9]  \n",
    "##Output = True \n",
    "def duplicates(arr):\n",
    "    seen = set()\n",
    "    for item in arr:\n",
    "        if item in seen:\n",
    "            return True\n",
    "        seen.add(item)\n",
    "    return False\n",
    "\n",
    "#driver code\n",
    "arr = [1, 2, 4, 2, 5, 9]\n",
    "result = duplicates(arr)\n",
    "\n",
    "\n",
    "if result:\n",
    "    print(f\"Output = {result}\")#Output = True (Array contains duplicates\n",
    "else:\n",
    "    print(\"Output =\",result) #Output = False (Array does not contain duplicates)\n"
   ]
  },
  {
   "cell_type": "code",
   "execution_count": 68,
   "id": "9a29dfe2-a0d5-4caf-8fd0-430cb0ba6ca9",
   "metadata": {},
   "outputs": [
    {
     "name": "stdout",
     "output_type": "stream",
     "text": [
      "Output = [5, 6, 7, 1, 2, 3, 4]\n"
     ]
    }
   ],
   "source": [
    "#2. Given an array and an integer k, rotate the array to the right by k steps.  \n",
    "#arr = [1, 2, 3, 4, 5, 6, 7] k = 3  \n",
    "#Output = [5, 6, 7, 1, 2, 3, 4]\n",
    "\n",
    "\n",
    "\n",
    "def rotate_array(arr, k):\n",
    "    n = len(arr)\n",
    "    k = k % n  # Handle cases where k is greater than the array length\n",
    "\n",
    "    # Create a new array with the rotated elements\n",
    "    rotated = arr[-k:] + arr[:-k]\n",
    "\n",
    "    return rotated\n",
    "\n",
    "arr = [1, 2, 3, 4, 5, 6, 7]\n",
    "k = 3\n",
    "result = rotate_array(arr, k)\n",
    "\n",
    "print(\"Output =\", result)\n",
    "    "
   ]
  },
  {
   "cell_type": "code",
   "execution_count": 72,
   "id": "7dbdcb28-327b-442d-a846-845026f878ac",
   "metadata": {},
   "outputs": [
    {
     "name": "stdout",
     "output_type": "stream",
     "text": [
      "Output = [12, 9, 7, 5, 4, 2]\n"
     ]
    }
   ],
   "source": [
    "## 3.Reverse the given array in-place, means without using any extra data structure.  \n",
    "##arr = [2, 4, 5, 7, 9, 12]  \n",
    "##Output = [12, 9, 7, 5, 4, 2] \n",
    "\n",
    "#create a reverse function #method defination of reverse\n",
    "def reverse(arr):\n",
    "    a=arr[::-1]  #store the reverse array in a\n",
    "    return a     #return  the value of a\n",
    "#driver code\n",
    "arr =  [2, 4, 5, 7, 9, 12] \n",
    "print(\"Output =\",reverse(arr))\n",
    "\n"
   ]
  },
  {
   "cell_type": "code",
   "execution_count": 73,
   "id": "6c921b48-abd5-4155-adf1-f820de6efc8d",
   "metadata": {},
   "outputs": [
    {
     "name": "stdout",
     "output_type": "stream",
     "text": [
      "Output = 20\n"
     ]
    }
   ],
   "source": [
    "## 4.Given an array of integers, find the maximum element in an array \n",
    " #arr = [10, 5, 20, 8, 15] \n",
    " #Output = 20 \n",
    "#method defination of maximumElement\n",
    "def maximumElement(arr1):\n",
    "    a=arr1.sort()       # optional to sort array\n",
    "# maximum =max(arr1)    ##used bulitin max() function to get maximum in array\n",
    "    return max(arr1)\n",
    "\n",
    "#drivercode:\n",
    "\n",
    "arr =  [10, 5, 20, 8, 15]\n",
    "result=maximumElement(arr)\n",
    "print(\"Output =\",result)\n"
   ]
  },
  {
   "cell_type": "code",
   "execution_count": 32,
   "id": "dc6142bc-b978-4bb2-8859-c73b55cbfe46",
   "metadata": {},
   "outputs": [
    {
     "name": "stdout",
     "output_type": "stream",
     "text": [
      "[1, 2, 3, 4, 5]\n"
     ]
    }
   ],
   "source": [
    "## 5. Given a sorted array, remove the duplicate element without using any extra data structure.  \n",
    "#arr = [1, 1, 2, 2, 2, 3, 3, 4, 4, 4, 5, 5]  \n",
    "#Output = [1, 2, 3, 4, 5]\n",
    "\n",
    "def removeduplicates(arr):\n",
    "    return list(set(arr))\n",
    "\n",
    "    \n",
    "#driver code\n",
    "arr = [1, 1, 2, 2, 2, 3, 3, 4, 4, 4, 5, 5]  \n",
    "result = removeduplicates(arr)\n",
    "print(\"Output =\",result)"
   ]
  },
  {
   "cell_type": "code",
   "execution_count": 75,
   "id": "6ac877cf-163c-49a4-af72-14164274e2ec",
   "metadata": {},
   "outputs": [
    {
     "name": "stdout",
     "output_type": "stream",
     "text": [
      "1 2 3 4 5 "
     ]
    }
   ],
   "source": [
    "def remove_duplicates(arr):\n",
    "\tn = len(arr)\n",
    "\tif n == 0 or n == 1:\n",
    "\t\treturn n\n",
    "\n",
    "\t# To store index of next unique element\n",
    "\tj = 0\n",
    "    \n",
    "\t# Just maintaining another updated index i.e. j\n",
    "\tfor i in range(n - 1):\n",
    "\t\tif arr[i] != arr[i + 1]:  #check 1st is not equal to 2nd element -->no duplicate\n",
    "\t\t\tarr[j] = arr[i]       #assign that unique value of 1st element to  array of j\n",
    "\t\t\tj += 1\n",
    "\n",
    "\tarr[j] = arr[n - 1]\n",
    "\n",
    "\treturn j + 1\n",
    "\n",
    "\n",
    "# Driver code\n",
    "arr = [1, 2, 2, 3, 4, 4, 4, 5, 5]\n",
    "n = len(arr)\n",
    "\n",
    "\t\n",
    "# remove_duplicates() returns new size of array.\n",
    "nsize = remove_duplicates(arr)\n",
    "#print(nsize) only 5 is return \n",
    "    \n",
    "\t# Print updated array\n",
    "\n",
    "for i in range(nsize):\n",
    "    \n",
    "    print(arr[i], end=\" \")\n"
   ]
  },
  {
   "cell_type": "code",
   "execution_count": null,
   "id": "8145a984-49fb-4856-91c5-db92f85b07ae",
   "metadata": {},
   "outputs": [],
   "source": []
  }
 ],
 "metadata": {
  "kernelspec": {
   "display_name": "Python 3 (ipykernel)",
   "language": "python",
   "name": "python3"
  },
  "language_info": {
   "codemirror_mode": {
    "name": "ipython",
    "version": 3
   },
   "file_extension": ".py",
   "mimetype": "text/x-python",
   "name": "python",
   "nbconvert_exporter": "python",
   "pygments_lexer": "ipython3",
   "version": "3.10.8"
  }
 },
 "nbformat": 4,
 "nbformat_minor": 5
}
